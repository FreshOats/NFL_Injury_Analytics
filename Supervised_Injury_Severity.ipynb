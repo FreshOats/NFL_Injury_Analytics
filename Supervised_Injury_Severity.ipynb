{
 "cells": [
  {
   "cell_type": "code",
   "execution_count": 1,
   "metadata": {},
   "outputs": [],
   "source": [
    "import pandas as pd\n",
    "import numpy as np\n",
    "from sklearn.model_selection import train_test_split\n",
    "from imblearn.ensemble import BalancedRandomForestClassifier\n",
    "from sklearn.metrics import balanced_accuracy_score\n",
    "from sklearn.metrics import confusion_matrix, plot_confusion_matrix\n",
    "from imblearn.metrics import classification_report_imbalanced\n",
    "import matplotlib.pyplot as plt\n",
    "\n",
    "from sklearn.preprocessing import StandardScaler, OneHotEncoder\n",
    "import tensorflow as tf\n",
    "import keras_tuner as kt\n"
   ]
  },
  {
   "cell_type": "markdown",
   "metadata": {},
   "source": [
    "# Import the Data - ml_injury_tracking\n",
    "\n",
    "This dataset merged the three tables from the Injury set, combining the game and play information, the injury type and its severity, as well as the tracking positions of the injury data. This dataset only includes the injury data, as all \"NoInjury\" rows were excluded. Therefore, the analyses that will be performed will be the prediction of severity of the injury or the type of the injury. "
   ]
  },
  {
   "cell_type": "code",
   "execution_count": 2,
   "metadata": {},
   "outputs": [
    {
     "data": {
      "text/html": [
       "<div>\n",
       "<style scoped>\n",
       "    .dataframe tbody tr th:only-of-type {\n",
       "        vertical-align: middle;\n",
       "    }\n",
       "\n",
       "    .dataframe tbody tr th {\n",
       "        vertical-align: top;\n",
       "    }\n",
       "\n",
       "    .dataframe thead th {\n",
       "        text-align: right;\n",
       "    }\n",
       "</style>\n",
       "<table border=\"1\" class=\"dataframe\">\n",
       "  <thead>\n",
       "    <tr style=\"text-align: right;\">\n",
       "      <th></th>\n",
       "      <th>PlayKey</th>\n",
       "      <th>time</th>\n",
       "      <th>x</th>\n",
       "      <th>y</th>\n",
       "      <th>dir</th>\n",
       "      <th>dis</th>\n",
       "      <th>o</th>\n",
       "      <th>s</th>\n",
       "      <th>RosterPosition</th>\n",
       "      <th>Temperature</th>\n",
       "      <th>PlayerGamePlay</th>\n",
       "      <th>Position</th>\n",
       "      <th>SyntheticField</th>\n",
       "      <th>Outdoor</th>\n",
       "      <th>Precipitation</th>\n",
       "      <th>DaysPlayed</th>\n",
       "      <th>PlayCode</th>\n",
       "      <th>InjuryType</th>\n",
       "      <th>InjuryDuration</th>\n",
       "      <th>SevereInjury</th>\n",
       "    </tr>\n",
       "  </thead>\n",
       "  <tbody>\n",
       "    <tr>\n",
       "      <th>0</th>\n",
       "      <td>31070-3-7</td>\n",
       "      <td>0.0</td>\n",
       "      <td>44.07</td>\n",
       "      <td>32.14</td>\n",
       "      <td>23.31</td>\n",
       "      <td>0.0</td>\n",
       "      <td>174.83</td>\n",
       "      <td>0.03</td>\n",
       "      <td>1</td>\n",
       "      <td>89</td>\n",
       "      <td>7</td>\n",
       "      <td>1</td>\n",
       "      <td>0</td>\n",
       "      <td>1</td>\n",
       "      <td>0</td>\n",
       "      <td>78</td>\n",
       "      <td>1.0</td>\n",
       "      <td>48.0</td>\n",
       "      <td>42.0</td>\n",
       "      <td>1.0</td>\n",
       "    </tr>\n",
       "    <tr>\n",
       "      <th>1</th>\n",
       "      <td>31070-3-7</td>\n",
       "      <td>0.1</td>\n",
       "      <td>44.08</td>\n",
       "      <td>32.14</td>\n",
       "      <td>20.18</td>\n",
       "      <td>0.0</td>\n",
       "      <td>175.09</td>\n",
       "      <td>0.03</td>\n",
       "      <td>1</td>\n",
       "      <td>89</td>\n",
       "      <td>7</td>\n",
       "      <td>1</td>\n",
       "      <td>0</td>\n",
       "      <td>1</td>\n",
       "      <td>0</td>\n",
       "      <td>78</td>\n",
       "      <td>1.0</td>\n",
       "      <td>48.0</td>\n",
       "      <td>42.0</td>\n",
       "      <td>1.0</td>\n",
       "    </tr>\n",
       "    <tr>\n",
       "      <th>2</th>\n",
       "      <td>31070-3-7</td>\n",
       "      <td>0.2</td>\n",
       "      <td>44.08</td>\n",
       "      <td>32.14</td>\n",
       "      <td>16.53</td>\n",
       "      <td>0.0</td>\n",
       "      <td>175.35</td>\n",
       "      <td>0.03</td>\n",
       "      <td>1</td>\n",
       "      <td>89</td>\n",
       "      <td>7</td>\n",
       "      <td>1</td>\n",
       "      <td>0</td>\n",
       "      <td>1</td>\n",
       "      <td>0</td>\n",
       "      <td>78</td>\n",
       "      <td>1.0</td>\n",
       "      <td>48.0</td>\n",
       "      <td>42.0</td>\n",
       "      <td>1.0</td>\n",
       "    </tr>\n",
       "    <tr>\n",
       "      <th>3</th>\n",
       "      <td>31070-3-7</td>\n",
       "      <td>0.3</td>\n",
       "      <td>44.08</td>\n",
       "      <td>32.14</td>\n",
       "      <td>13.23</td>\n",
       "      <td>0.0</td>\n",
       "      <td>175.60</td>\n",
       "      <td>0.02</td>\n",
       "      <td>1</td>\n",
       "      <td>89</td>\n",
       "      <td>7</td>\n",
       "      <td>1</td>\n",
       "      <td>0</td>\n",
       "      <td>1</td>\n",
       "      <td>0</td>\n",
       "      <td>78</td>\n",
       "      <td>1.0</td>\n",
       "      <td>48.0</td>\n",
       "      <td>42.0</td>\n",
       "      <td>1.0</td>\n",
       "    </tr>\n",
       "    <tr>\n",
       "      <th>4</th>\n",
       "      <td>31070-3-7</td>\n",
       "      <td>0.4</td>\n",
       "      <td>44.08</td>\n",
       "      <td>32.14</td>\n",
       "      <td>9.78</td>\n",
       "      <td>0.0</td>\n",
       "      <td>175.82</td>\n",
       "      <td>0.02</td>\n",
       "      <td>1</td>\n",
       "      <td>89</td>\n",
       "      <td>7</td>\n",
       "      <td>1</td>\n",
       "      <td>0</td>\n",
       "      <td>1</td>\n",
       "      <td>0</td>\n",
       "      <td>78</td>\n",
       "      <td>1.0</td>\n",
       "      <td>48.0</td>\n",
       "      <td>42.0</td>\n",
       "      <td>1.0</td>\n",
       "    </tr>\n",
       "  </tbody>\n",
       "</table>\n",
       "</div>"
      ],
      "text/plain": [
       "     PlayKey  time      x      y    dir  dis       o     s  RosterPosition  \\\n",
       "0  31070-3-7   0.0  44.07  32.14  23.31  0.0  174.83  0.03               1   \n",
       "1  31070-3-7   0.1  44.08  32.14  20.18  0.0  175.09  0.03               1   \n",
       "2  31070-3-7   0.2  44.08  32.14  16.53  0.0  175.35  0.03               1   \n",
       "3  31070-3-7   0.3  44.08  32.14  13.23  0.0  175.60  0.02               1   \n",
       "4  31070-3-7   0.4  44.08  32.14   9.78  0.0  175.82  0.02               1   \n",
       "\n",
       "   Temperature  PlayerGamePlay  Position  SyntheticField  Outdoor  \\\n",
       "0           89               7         1               0        1   \n",
       "1           89               7         1               0        1   \n",
       "2           89               7         1               0        1   \n",
       "3           89               7         1               0        1   \n",
       "4           89               7         1               0        1   \n",
       "\n",
       "   Precipitation  DaysPlayed  PlayCode  InjuryType  InjuryDuration  \\\n",
       "0              0          78       1.0        48.0            42.0   \n",
       "1              0          78       1.0        48.0            42.0   \n",
       "2              0          78       1.0        48.0            42.0   \n",
       "3              0          78       1.0        48.0            42.0   \n",
       "4              0          78       1.0        48.0            42.0   \n",
       "\n",
       "   SevereInjury  \n",
       "0           1.0  \n",
       "1           1.0  \n",
       "2           1.0  \n",
       "3           1.0  \n",
       "4           1.0  "
      ]
     },
     "execution_count": 2,
     "metadata": {},
     "output_type": "execute_result"
    }
   ],
   "source": [
    "ml_injuries = pd.read_csv(\"Shared_Tables/ml_injury_tracking.csv\")\n",
    "seed = 42\n",
    "\n",
    "ml_injuries.head()"
   ]
  },
  {
   "cell_type": "markdown",
   "metadata": {},
   "source": [
    "# Prepare the Training and Testing sets\n",
    "\n",
    "Columns that need to be removed or separated:\n",
    "- PlayKey is non-informative and object-type\n",
    "- SevereInjury and InjuryDuration cannot be part of the same training set, as they are not independent \n",
    "- For one of the analyses, InjuryType will be the prediction, so we want to exclude the InjuryDuration and SevereInjury, as we're trying to determine the other factors leading to such injuries\n",
    "- In predicting the severity and/or duration of injury, a few sub-analyses can be performed\n",
    "    - Looking only at factors that lead to severe injury without respect to injury type\n",
    "    - Looking at the factors including injury type that predict the duration of injury\n",
    "    - Looking at the factors that predict BOTH injury type and Severity (or perhaps duration)\n",
    "\n",
    "\n",
    "---\n",
    "\n",
    "## Severity Prediction\n",
    "\n",
    "This does keep into account the known injury type"
   ]
  },
  {
   "cell_type": "code",
   "execution_count": 15,
   "metadata": {},
   "outputs": [],
   "source": [
    "ml_type = ml_injuries.copy(deep=True)\n",
    "\n",
    "# Prepare the InjuryType Prediction Dataset\n",
    "y = ml_type.InjuryDuration\n",
    "X = ml_type.drop(columns=['PlayKey', 'RosterPosition', 'dis', 'time', 'SevereInjury', 'InjuryDuration'])"
   ]
  },
  {
   "cell_type": "code",
   "execution_count": 39,
   "metadata": {},
   "outputs": [
    {
     "data": {
      "text/plain": [
       "7.0     8949\n",
       "42.0    7102\n",
       "1.0     4837\n",
       "28.0    1887\n",
       "Name: InjuryDuration, dtype: int64"
      ]
     },
     "execution_count": 39,
     "metadata": {},
     "output_type": "execute_result"
    }
   ],
   "source": [
    "y.value_counts()"
   ]
  },
  {
   "cell_type": "code",
   "execution_count": 16,
   "metadata": {},
   "outputs": [
    {
     "data": {
      "text/plain": [
       "0.0    13786\n",
       "1.0     8989\n",
       "Name: SevereInjury, dtype: int64"
      ]
     },
     "execution_count": 16,
     "metadata": {},
     "output_type": "execute_result"
    }
   ],
   "source": [
    "y.value_counts()"
   ]
  },
  {
   "cell_type": "markdown",
   "metadata": {},
   "source": [
    "Split the training data using train_test_split from scikit learn"
   ]
  },
  {
   "cell_type": "code",
   "execution_count": 24,
   "metadata": {},
   "outputs": [],
   "source": [
    "X_train, X_test, y_train, y_test = train_test_split(X, y, random_state=seed)"
   ]
  },
  {
   "cell_type": "code",
   "execution_count": 25,
   "metadata": {},
   "outputs": [
    {
     "data": {
      "text/plain": [
       "x                 float64\n",
       "y                 float64\n",
       "dir               float64\n",
       "o                 float64\n",
       "s                 float64\n",
       "Temperature         int64\n",
       "PlayerGamePlay      int64\n",
       "Position            int64\n",
       "SyntheticField      int64\n",
       "Outdoor             int64\n",
       "Precipitation       int64\n",
       "DaysPlayed          int64\n",
       "PlayCode          float64\n",
       "InjuryType        float64\n",
       "dtype: object"
      ]
     },
     "execution_count": 25,
     "metadata": {},
     "output_type": "execute_result"
    }
   ],
   "source": [
    "X_train.dtypes"
   ]
  },
  {
   "cell_type": "markdown",
   "metadata": {},
   "source": [
    "## Random Forest\n"
   ]
  },
  {
   "cell_type": "code",
   "execution_count": 28,
   "metadata": {},
   "outputs": [
    {
     "data": {
      "text/plain": [
       "1.0"
      ]
     },
     "execution_count": 28,
     "metadata": {},
     "output_type": "execute_result"
    }
   ],
   "source": [
    "# Create the Classifier\n",
    "barf = BalancedRandomForestClassifier(n_estimators=10, random_state=seed)\n",
    "\n",
    "# Fit the model\n",
    "barf.fit(X_train, y_train)\n",
    "\n",
    "# Calculate predicted accuracy score\n",
    "y_pred = barf.predict(X_test)\n",
    "balanced_accuracy_score(y_test, y_pred)"
   ]
  },
  {
   "cell_type": "code",
   "execution_count": 27,
   "metadata": {},
   "outputs": [
    {
     "name": "stderr",
     "output_type": "stream",
     "text": [
      "c:\\Users\\justi\\anaconda3\\envs\\mlenv\\lib\\site-packages\\sklearn\\utils\\deprecation.py:87: FutureWarning: Function plot_confusion_matrix is deprecated; Function `plot_confusion_matrix` is deprecated in 1.0 and will be removed in 1.2. Use one of the class methods: ConfusionMatrixDisplay.from_predictions or ConfusionMatrixDisplay.from_estimator.\n",
      "  warnings.warn(msg, category=FutureWarning)\n"
     ]
    },
    {
     "data": {
      "image/png": "[encoded data removed]",
      "text/plain": [
       "<Figure size 720x576 with 2 Axes>"
      ]
     },
     "metadata": {
      "needs_background": "light"
     },
     "output_type": "display_data"
    }
   ],
   "source": [
    "# Display confusion matrix\n",
    "fig, ax = plt.subplots(figsize=(10, 8))\n",
    "plot_confusion_matrix(barf, X_test, y_test, display_labels=[\n",
    "                      \"Not Severe\", \"Severe\"], cmap='Blues', values_format='d', ax=ax)\n",
    "plt.title('Random Forest Confusion Matrix')\n",
    "plt.show()"
   ]
  },
  {
   "cell_type": "markdown",
   "metadata": {},
   "source": [
    "Results: \n",
    "- The Random Forest Classifier with 10 estimators yielded a 100% accuracy\n",
    "\n",
    "To further assess which features influenced the model the most, we will perform a feature analysis"
   ]
  },
  {
   "cell_type": "code",
   "execution_count": 21,
   "metadata": {},
   "outputs": [
    {
     "data": {
      "text/plain": [
       "[(0.19484427911492144, 'PlayerGamePlay'),\n",
       " (0.15852608982242652, 'Temperature'),\n",
       " (0.14602359016627933, 'DaysPlayed'),\n",
       " (0.10648703543627283, 'x'),\n",
       " (0.0985993448097951, 'Position'),\n",
       " (0.08212395050173628, 'InjuryType'),\n",
       " (0.06087433041348522, 'y'),\n",
       " (0.04332693599578434, 'Outdoor'),\n",
       " (0.03215162778478546, 'PlayCode'),\n",
       " (0.022291721862438864, 'SyntheticField'),\n",
       " (0.019572717576371523, 'o'),\n",
       " (0.01923536275176555, 'Precipitation'),\n",
       " (0.007986902045985834, 's'),\n",
       " (0.007956111717951792, 'dir')]"
      ]
     },
     "execution_count": 21,
     "metadata": {},
     "output_type": "execute_result"
    }
   ],
   "source": [
    "sorted(zip(barf.feature_importances_, X.columns), reverse=True)"
   ]
  },
  {
   "cell_type": "markdown",
   "metadata": {},
   "source": [
    "## Severity Prediction without Known Injury"
   ]
  },
  {
   "cell_type": "code",
   "execution_count": 41,
   "metadata": {},
   "outputs": [],
   "source": [
    "ml_type = ml_injuries.copy(deep=True)\n",
    "\n",
    "# Prepare the InjuryType Prediction Dataset\n",
    "y = ml_type.SevereInjury\n",
    "X = ml_type.drop(columns=['PlayKey', 'RosterPosition',\n",
    "                 'dis', 'time', 'SevereInjury', 'InjuryType', 'InjuryDuration'])\n"
   ]
  },
  {
   "cell_type": "code",
   "execution_count": 42,
   "metadata": {},
   "outputs": [],
   "source": [
    "X_train, X_test, y_train, y_test = train_test_split(X, y, random_state=seed)\n"
   ]
  },
  {
   "cell_type": "code",
   "execution_count": 43,
   "metadata": {},
   "outputs": [
    {
     "data": {
      "text/plain": [
       "1.0"
      ]
     },
     "execution_count": 43,
     "metadata": {},
     "output_type": "execute_result"
    }
   ],
   "source": [
    "# Create the Classifier\n",
    "barf = BalancedRandomForestClassifier(n_estimators=10, random_state=seed)\n",
    "\n",
    "# Fit the model\n",
    "barf.fit(X_train, y_train)\n",
    "\n",
    "# Calculate predicted accuracy score\n",
    "y_pred = barf.predict(X_test)\n",
    "balanced_accuracy_score(y_test, y_pred)\n"
   ]
  },
  {
   "cell_type": "code",
   "execution_count": 44,
   "metadata": {},
   "outputs": [
    {
     "name": "stderr",
     "output_type": "stream",
     "text": [
      "c:\\Users\\justi\\anaconda3\\envs\\mlenv\\lib\\site-packages\\sklearn\\utils\\deprecation.py:87: FutureWarning: Function plot_confusion_matrix is deprecated; Function `plot_confusion_matrix` is deprecated in 1.0 and will be removed in 1.2. Use one of the class methods: ConfusionMatrixDisplay.from_predictions or ConfusionMatrixDisplay.from_estimator.\n",
      "  warnings.warn(msg, category=FutureWarning)\n"
     ]
    },
    {
     "data": {
      "image/png": "[encoded data removed]",
      "text/plain": [
       "<Figure size 720x576 with 2 Axes>"
      ]
     },
     "metadata": {
      "needs_background": "light"
     },
     "output_type": "display_data"
    }
   ],
   "source": [
    "# Display confusion matrix\n",
    "fig, ax = plt.subplots(figsize=(10, 8))\n",
    "plot_confusion_matrix(barf, X_test, y_test, display_labels=[\n",
    "                      \"Not Severe\", \"Severe\"], cmap='Blues', values_format='d', ax=ax)\n",
    "plt.title('Random Forest Confusion Matrix')\n",
    "plt.show()\n"
   ]
  },
  {
   "cell_type": "code",
   "execution_count": 45,
   "metadata": {},
   "outputs": [
    {
     "data": {
      "text/plain": [
       "[(0.2981566545244429, 'PlayerGamePlay'),\n",
       " (0.16271991127526583, 'Temperature'),\n",
       " (0.13341762257405443, 'DaysPlayed'),\n",
       " (0.1127713174611793, 'x'),\n",
       " (0.10298578697463365, 'Position'),\n",
       " (0.05716693868262773, 'y'),\n",
       " (0.03623399944929984, 'PlayCode'),\n",
       " (0.03442946838787704, 'Outdoor'),\n",
       " (0.028403848132933125, 'SyntheticField'),\n",
       " (0.01673675032309794, 'Precipitation'),\n",
       " (0.006975742433696658, 'o'),\n",
       " (0.0061277303252308835, 's'),\n",
       " (0.003874229455660545, 'dir')]"
      ]
     },
     "execution_count": 45,
     "metadata": {},
     "output_type": "execute_result"
    }
   ],
   "source": [
    "sorted(zip(barf.feature_importances_, X.columns), reverse=True)\n"
   ]
  },
  {
   "cell_type": "markdown",
   "metadata": {},
   "source": [
    "Even without knowing the injury type, there is a 100% accuracy in predicting the severity of the injury\n",
    "\n",
    "\n",
    "## Duration Prediction"
   ]
  },
  {
   "cell_type": "code",
   "execution_count": 36,
   "metadata": {},
   "outputs": [],
   "source": [
    "ml_type = ml_injuries.copy(deep=True)\n",
    "\n",
    "# Prepare the InjuryType Prediction Dataset\n",
    "y = ml_type.InjuryDuration\n",
    "X = ml_type.drop(columns=['PlayKey', 'RosterPosition',\n",
    "                 'dis', 'time', 'SevereInjury', 'InjuryType', 'InjuryDuration'])\n",
    "\n",
    "X_train, X_test, y_train, y_test = train_test_split(X, y, random_state=seed)"
   ]
  },
  {
   "cell_type": "code",
   "execution_count": 37,
   "metadata": {},
   "outputs": [
    {
     "data": {
      "text/plain": [
       "1.0"
      ]
     },
     "execution_count": 37,
     "metadata": {},
     "output_type": "execute_result"
    }
   ],
   "source": [
    "# Create the Classifier\n",
    "barf = BalancedRandomForestClassifier(n_estimators=10, random_state=seed)\n",
    "\n",
    "# Fit the model\n",
    "barf.fit(X_train, y_train)\n",
    "\n",
    "# Calculate predicted accuracy score\n",
    "y_pred = barf.predict(X_test)\n",
    "balanced_accuracy_score(y_test, y_pred)\n"
   ]
  },
  {
   "cell_type": "code",
   "execution_count": 38,
   "metadata": {},
   "outputs": [
    {
     "name": "stderr",
     "output_type": "stream",
     "text": [
      "c:\\Users\\justi\\anaconda3\\envs\\mlenv\\lib\\site-packages\\sklearn\\utils\\deprecation.py:87: FutureWarning: Function plot_confusion_matrix is deprecated; Function `plot_confusion_matrix` is deprecated in 1.0 and will be removed in 1.2. Use one of the class methods: ConfusionMatrixDisplay.from_predictions or ConfusionMatrixDisplay.from_estimator.\n",
      "  warnings.warn(msg, category=FutureWarning)\n"
     ]
    },
    {
     "data": {
      "image/png": "[encoded data removed]",
      "text/plain": [
       "<Figure size 720x576 with 2 Axes>"
      ]
     },
     "metadata": {
      "needs_background": "light"
     },
     "output_type": "display_data"
    }
   ],
   "source": [
    "# Display confusion matrix\n",
    "fig, ax = plt.subplots(figsize=(10, 8))\n",
    "plot_confusion_matrix(barf, X_test, y_test, display_labels=[\n",
    "                      \"1\", \"7\", \"28\", \"42\"], cmap='Blues', values_format='d', ax=ax)\n",
    "plt.title('Random Forest Confusion Matrix')\n",
    "plt.show()\n"
   ]
  },
  {
   "cell_type": "code",
   "execution_count": 40,
   "metadata": {},
   "outputs": [
    {
     "data": {
      "text/plain": [
       "[(0.15621887689435573, 'Temperature'),\n",
       " (0.15385473678053657, 'DaysPlayed'),\n",
       " (0.14939431583710822, 'PlayerGamePlay'),\n",
       " (0.14233384605169144, 'Position'),\n",
       " (0.12277556472596293, 'x'),\n",
       " (0.07062523447037619, 'y'),\n",
       " (0.06363843566138806, 'SyntheticField'),\n",
       " (0.056657908293511736, 'PlayCode'),\n",
       " (0.03960724074609909, 'Outdoor'),\n",
       " (0.015818593815927692, 'Precipitation'),\n",
       " (0.01493389977753749, 'o'),\n",
       " (0.009160415923272703, 's'),\n",
       " (0.004980931022232111, 'dir')]"
      ]
     },
     "execution_count": 40,
     "metadata": {},
     "output_type": "execute_result"
    }
   ],
   "source": [
    "sorted(zip(barf.feature_importances_, X.columns), reverse=True)\n"
   ]
  },
  {
   "cell_type": "code",
   "execution_count": 46,
   "metadata": {},
   "outputs": [],
   "source": [
    "ml_type = ml_injuries.copy(deep=True)\n",
    "\n",
    "# Prepare the InjuryType Prediction Dataset\n",
    "y = ml_type.loc[:, ['InjuryType', 'InjuryDuration']]\n",
    "X = ml_type.drop(columns=['PlayKey', 'RosterPosition',\n",
    "                 'dis', 'time', 'SevereInjury', 'InjuryType', 'InjuryDuration'])\n",
    "\n",
    "X_train, X_test, y_train, y_test = train_test_split(X, y, random_state=seed)"
   ]
  },
  {
   "cell_type": "markdown",
   "metadata": {},
   "source": [
    "---\n",
    "\n",
    "# Deep Learning with Neural Networks\n",
    "## Predict Both Injury and Severity\n",
    "\n",
    "This isn't working at the moment - need to focus on the Training_All model - try SMOTE"
   ]
  },
  {
   "cell_type": "code",
   "execution_count": 54,
   "metadata": {},
   "outputs": [],
   "source": [
    "ml_injuries = pd.read_csv(\"Shared_Tables/ml_injury_tracking.csv\")\n",
    "nn = ml_injuries.copy(deep=True)\n",
    "nn.drop(columns=['PlayKey', 'SevereInjury', 'RosterPosition', 'dis', 'time'], inplace=True)"
   ]
  },
  {
   "cell_type": "code",
   "execution_count": 55,
   "metadata": {},
   "outputs": [
    {
     "data": {
      "text/html": [
       "<div>\n",
       "<style scoped>\n",
       "    .dataframe tbody tr th:only-of-type {\n",
       "        vertical-align: middle;\n",
       "    }\n",
       "\n",
       "    .dataframe tbody tr th {\n",
       "        vertical-align: top;\n",
       "    }\n",
       "\n",
       "    .dataframe thead th {\n",
       "        text-align: right;\n",
       "    }\n",
       "</style>\n",
       "<table border=\"1\" class=\"dataframe\">\n",
       "  <thead>\n",
       "    <tr style=\"text-align: right;\">\n",
       "      <th></th>\n",
       "      <th>x</th>\n",
       "      <th>y</th>\n",
       "      <th>dir</th>\n",
       "      <th>o</th>\n",
       "      <th>s</th>\n",
       "      <th>Temperature</th>\n",
       "      <th>PlayerGamePlay</th>\n",
       "      <th>Position</th>\n",
       "      <th>SyntheticField</th>\n",
       "      <th>Outdoor</th>\n",
       "      <th>Precipitation</th>\n",
       "      <th>DaysPlayed</th>\n",
       "      <th>PlayCode</th>\n",
       "      <th>InjuryType</th>\n",
       "      <th>InjuryDuration</th>\n",
       "    </tr>\n",
       "  </thead>\n",
       "  <tbody>\n",
       "    <tr>\n",
       "      <th>0</th>\n",
       "      <td>44.07</td>\n",
       "      <td>32.14</td>\n",
       "      <td>23.31</td>\n",
       "      <td>174.83</td>\n",
       "      <td>0.03</td>\n",
       "      <td>89</td>\n",
       "      <td>7</td>\n",
       "      <td>1</td>\n",
       "      <td>0</td>\n",
       "      <td>1</td>\n",
       "      <td>0</td>\n",
       "      <td>78</td>\n",
       "      <td>1.0</td>\n",
       "      <td>48.0</td>\n",
       "      <td>42.0</td>\n",
       "    </tr>\n",
       "    <tr>\n",
       "      <th>1</th>\n",
       "      <td>44.08</td>\n",
       "      <td>32.14</td>\n",
       "      <td>20.18</td>\n",
       "      <td>175.09</td>\n",
       "      <td>0.03</td>\n",
       "      <td>89</td>\n",
       "      <td>7</td>\n",
       "      <td>1</td>\n",
       "      <td>0</td>\n",
       "      <td>1</td>\n",
       "      <td>0</td>\n",
       "      <td>78</td>\n",
       "      <td>1.0</td>\n",
       "      <td>48.0</td>\n",
       "      <td>42.0</td>\n",
       "    </tr>\n",
       "    <tr>\n",
       "      <th>2</th>\n",
       "      <td>44.08</td>\n",
       "      <td>32.14</td>\n",
       "      <td>16.53</td>\n",
       "      <td>175.35</td>\n",
       "      <td>0.03</td>\n",
       "      <td>89</td>\n",
       "      <td>7</td>\n",
       "      <td>1</td>\n",
       "      <td>0</td>\n",
       "      <td>1</td>\n",
       "      <td>0</td>\n",
       "      <td>78</td>\n",
       "      <td>1.0</td>\n",
       "      <td>48.0</td>\n",
       "      <td>42.0</td>\n",
       "    </tr>\n",
       "    <tr>\n",
       "      <th>3</th>\n",
       "      <td>44.08</td>\n",
       "      <td>32.14</td>\n",
       "      <td>13.23</td>\n",
       "      <td>175.60</td>\n",
       "      <td>0.02</td>\n",
       "      <td>89</td>\n",
       "      <td>7</td>\n",
       "      <td>1</td>\n",
       "      <td>0</td>\n",
       "      <td>1</td>\n",
       "      <td>0</td>\n",
       "      <td>78</td>\n",
       "      <td>1.0</td>\n",
       "      <td>48.0</td>\n",
       "      <td>42.0</td>\n",
       "    </tr>\n",
       "    <tr>\n",
       "      <th>4</th>\n",
       "      <td>44.08</td>\n",
       "      <td>32.14</td>\n",
       "      <td>9.78</td>\n",
       "      <td>175.82</td>\n",
       "      <td>0.02</td>\n",
       "      <td>89</td>\n",
       "      <td>7</td>\n",
       "      <td>1</td>\n",
       "      <td>0</td>\n",
       "      <td>1</td>\n",
       "      <td>0</td>\n",
       "      <td>78</td>\n",
       "      <td>1.0</td>\n",
       "      <td>48.0</td>\n",
       "      <td>42.0</td>\n",
       "    </tr>\n",
       "  </tbody>\n",
       "</table>\n",
       "</div>"
      ],
      "text/plain": [
       "       x      y    dir       o     s  Temperature  PlayerGamePlay  Position  \\\n",
       "0  44.07  32.14  23.31  174.83  0.03           89               7         1   \n",
       "1  44.08  32.14  20.18  175.09  0.03           89               7         1   \n",
       "2  44.08  32.14  16.53  175.35  0.03           89               7         1   \n",
       "3  44.08  32.14  13.23  175.60  0.02           89               7         1   \n",
       "4  44.08  32.14   9.78  175.82  0.02           89               7         1   \n",
       "\n",
       "   SyntheticField  Outdoor  Precipitation  DaysPlayed  PlayCode  InjuryType  \\\n",
       "0               0        1              0          78       1.0        48.0   \n",
       "1               0        1              0          78       1.0        48.0   \n",
       "2               0        1              0          78       1.0        48.0   \n",
       "3               0        1              0          78       1.0        48.0   \n",
       "4               0        1              0          78       1.0        48.0   \n",
       "\n",
       "   InjuryDuration  \n",
       "0            42.0  \n",
       "1            42.0  \n",
       "2            42.0  \n",
       "3            42.0  \n",
       "4            42.0  "
      ]
     },
     "execution_count": 55,
     "metadata": {},
     "output_type": "execute_result"
    }
   ],
   "source": [
    "nn.head()"
   ]
  },
  {
   "cell_type": "code",
   "execution_count": null,
   "metadata": {},
   "outputs": [],
   "source": [
    "# Grab all categorical variables and create a list for encoding\n",
    "cat = ml_type.dtypes[ml_type.dtypes=='object'].index.tolist()"
   ]
  },
  {
   "cell_type": "markdown",
   "metadata": {},
   "source": [
    "For the Neural Network Analysis, we will need to have each outcome as a binary classification, thus encoding the Injury types differently with OneHotEncoder"
   ]
  },
  {
   "cell_type": "code",
   "execution_count": 51,
   "metadata": {},
   "outputs": [
    {
     "data": {
      "text/html": [
       "<div>\n",
       "<style scoped>\n",
       "    .dataframe tbody tr th:only-of-type {\n",
       "        vertical-align: middle;\n",
       "    }\n",
       "\n",
       "    .dataframe tbody tr th {\n",
       "        vertical-align: top;\n",
       "    }\n",
       "\n",
       "    .dataframe thead th {\n",
       "        text-align: right;\n",
       "    }\n",
       "</style>\n",
       "<table border=\"1\" class=\"dataframe\">\n",
       "  <thead>\n",
       "    <tr style=\"text-align: right;\">\n",
       "      <th></th>\n",
       "      <th>Duration_1-6 Days</th>\n",
       "      <th>Duration_28-41 Days</th>\n",
       "      <th>Duration_7-27 Days</th>\n",
       "      <th>Duration_Over 42 days</th>\n",
       "      <th>BodyPart_Ankle</th>\n",
       "      <th>BodyPart_Foot</th>\n",
       "      <th>BodyPart_Knee</th>\n",
       "    </tr>\n",
       "  </thead>\n",
       "  <tbody>\n",
       "    <tr>\n",
       "      <th>0</th>\n",
       "      <td>0.0</td>\n",
       "      <td>0.0</td>\n",
       "      <td>0.0</td>\n",
       "      <td>1.0</td>\n",
       "      <td>0.0</td>\n",
       "      <td>0.0</td>\n",
       "      <td>1.0</td>\n",
       "    </tr>\n",
       "    <tr>\n",
       "      <th>1</th>\n",
       "      <td>0.0</td>\n",
       "      <td>0.0</td>\n",
       "      <td>0.0</td>\n",
       "      <td>1.0</td>\n",
       "      <td>0.0</td>\n",
       "      <td>0.0</td>\n",
       "      <td>1.0</td>\n",
       "    </tr>\n",
       "    <tr>\n",
       "      <th>2</th>\n",
       "      <td>0.0</td>\n",
       "      <td>0.0</td>\n",
       "      <td>0.0</td>\n",
       "      <td>1.0</td>\n",
       "      <td>0.0</td>\n",
       "      <td>0.0</td>\n",
       "      <td>1.0</td>\n",
       "    </tr>\n",
       "    <tr>\n",
       "      <th>3</th>\n",
       "      <td>0.0</td>\n",
       "      <td>0.0</td>\n",
       "      <td>0.0</td>\n",
       "      <td>1.0</td>\n",
       "      <td>0.0</td>\n",
       "      <td>0.0</td>\n",
       "      <td>1.0</td>\n",
       "    </tr>\n",
       "    <tr>\n",
       "      <th>4</th>\n",
       "      <td>0.0</td>\n",
       "      <td>0.0</td>\n",
       "      <td>0.0</td>\n",
       "      <td>1.0</td>\n",
       "      <td>0.0</td>\n",
       "      <td>0.0</td>\n",
       "      <td>1.0</td>\n",
       "    </tr>\n",
       "  </tbody>\n",
       "</table>\n",
       "</div>"
      ],
      "text/plain": [
       "   Duration_1-6 Days  Duration_28-41 Days  Duration_7-27 Days  \\\n",
       "0                0.0                  0.0                 0.0   \n",
       "1                0.0                  0.0                 0.0   \n",
       "2                0.0                  0.0                 0.0   \n",
       "3                0.0                  0.0                 0.0   \n",
       "4                0.0                  0.0                 0.0   \n",
       "\n",
       "   Duration_Over 42 days  BodyPart_Ankle  BodyPart_Foot  BodyPart_Knee  \n",
       "0                    1.0             0.0            0.0            1.0  \n",
       "1                    1.0             0.0            0.0            1.0  \n",
       "2                    1.0             0.0            0.0            1.0  \n",
       "3                    1.0             0.0            0.0            1.0  \n",
       "4                    1.0             0.0            0.0            1.0  "
      ]
     },
     "execution_count": 51,
     "metadata": {},
     "output_type": "execute_result"
    }
   ],
   "source": [
    "# Create the instance\n",
    "enc = OneHotEncoder(sparse=False)\n",
    "\n",
    "# Fit and transform the OHE to the columns necessary\n",
    "encode_df = pd.DataFrame(enc.fit_transform(ml_type[cat]))\n",
    "\n",
    "# Add the original variable names to the df\n",
    "encode_df.columns = enc.get_feature_names_out(cat)\n",
    "encode_df.head()\n"
   ]
  },
  {
   "cell_type": "code",
   "execution_count": 105,
   "metadata": {},
   "outputs": [],
   "source": [
    "# Merge the OHE features and drop the variables\n",
    "ml_encoded = ml_type.merge(encode_df, left_index=True, right_index=True)\n",
    "ml_encoded.drop(columns=cat, inplace=True)"
   ]
  },
  {
   "cell_type": "code",
   "execution_count": 106,
   "metadata": {},
   "outputs": [
    {
     "data": {
      "text/html": [
       "<div>\n",
       "<style scoped>\n",
       "    .dataframe tbody tr th:only-of-type {\n",
       "        vertical-align: middle;\n",
       "    }\n",
       "\n",
       "    .dataframe tbody tr th {\n",
       "        vertical-align: top;\n",
       "    }\n",
       "\n",
       "    .dataframe thead th {\n",
       "        text-align: right;\n",
       "    }\n",
       "</style>\n",
       "<table border=\"1\" class=\"dataframe\">\n",
       "  <thead>\n",
       "    <tr style=\"text-align: right;\">\n",
       "      <th></th>\n",
       "      <th>x</th>\n",
       "      <th>y</th>\n",
       "      <th>dir</th>\n",
       "      <th>o</th>\n",
       "      <th>s</th>\n",
       "      <th>Temperature</th>\n",
       "      <th>PlayerGamePlay</th>\n",
       "      <th>Position</th>\n",
       "      <th>SyntheticField</th>\n",
       "      <th>Outdoor</th>\n",
       "      <th>Precipitation</th>\n",
       "      <th>DaysPlayed</th>\n",
       "      <th>PlayCode</th>\n",
       "      <th>BodyPart_Ankle</th>\n",
       "      <th>BodyPart_Foot</th>\n",
       "      <th>BodyPart_Knee</th>\n",
       "    </tr>\n",
       "  </thead>\n",
       "  <tbody>\n",
       "    <tr>\n",
       "      <th>0</th>\n",
       "      <td>44.07</td>\n",
       "      <td>32.14</td>\n",
       "      <td>23.31</td>\n",
       "      <td>174.83</td>\n",
       "      <td>0.03</td>\n",
       "      <td>89</td>\n",
       "      <td>7</td>\n",
       "      <td>1</td>\n",
       "      <td>0</td>\n",
       "      <td>1</td>\n",
       "      <td>0</td>\n",
       "      <td>78</td>\n",
       "      <td>1.0</td>\n",
       "      <td>0.0</td>\n",
       "      <td>0.0</td>\n",
       "      <td>1.0</td>\n",
       "    </tr>\n",
       "    <tr>\n",
       "      <th>1</th>\n",
       "      <td>44.08</td>\n",
       "      <td>32.14</td>\n",
       "      <td>20.18</td>\n",
       "      <td>175.09</td>\n",
       "      <td>0.03</td>\n",
       "      <td>89</td>\n",
       "      <td>7</td>\n",
       "      <td>1</td>\n",
       "      <td>0</td>\n",
       "      <td>1</td>\n",
       "      <td>0</td>\n",
       "      <td>78</td>\n",
       "      <td>1.0</td>\n",
       "      <td>0.0</td>\n",
       "      <td>0.0</td>\n",
       "      <td>1.0</td>\n",
       "    </tr>\n",
       "    <tr>\n",
       "      <th>2</th>\n",
       "      <td>44.08</td>\n",
       "      <td>32.14</td>\n",
       "      <td>16.53</td>\n",
       "      <td>175.35</td>\n",
       "      <td>0.03</td>\n",
       "      <td>89</td>\n",
       "      <td>7</td>\n",
       "      <td>1</td>\n",
       "      <td>0</td>\n",
       "      <td>1</td>\n",
       "      <td>0</td>\n",
       "      <td>78</td>\n",
       "      <td>1.0</td>\n",
       "      <td>0.0</td>\n",
       "      <td>0.0</td>\n",
       "      <td>1.0</td>\n",
       "    </tr>\n",
       "    <tr>\n",
       "      <th>3</th>\n",
       "      <td>44.08</td>\n",
       "      <td>32.14</td>\n",
       "      <td>13.23</td>\n",
       "      <td>175.60</td>\n",
       "      <td>0.02</td>\n",
       "      <td>89</td>\n",
       "      <td>7</td>\n",
       "      <td>1</td>\n",
       "      <td>0</td>\n",
       "      <td>1</td>\n",
       "      <td>0</td>\n",
       "      <td>78</td>\n",
       "      <td>1.0</td>\n",
       "      <td>0.0</td>\n",
       "      <td>0.0</td>\n",
       "      <td>1.0</td>\n",
       "    </tr>\n",
       "    <tr>\n",
       "      <th>4</th>\n",
       "      <td>44.08</td>\n",
       "      <td>32.14</td>\n",
       "      <td>9.78</td>\n",
       "      <td>175.82</td>\n",
       "      <td>0.02</td>\n",
       "      <td>89</td>\n",
       "      <td>7</td>\n",
       "      <td>1</td>\n",
       "      <td>0</td>\n",
       "      <td>1</td>\n",
       "      <td>0</td>\n",
       "      <td>78</td>\n",
       "      <td>1.0</td>\n",
       "      <td>0.0</td>\n",
       "      <td>0.0</td>\n",
       "      <td>1.0</td>\n",
       "    </tr>\n",
       "  </tbody>\n",
       "</table>\n",
       "</div>"
      ],
      "text/plain": [
       "       x      y    dir       o     s  Temperature  PlayerGamePlay  Position  \\\n",
       "0  44.07  32.14  23.31  174.83  0.03           89               7         1   \n",
       "1  44.08  32.14  20.18  175.09  0.03           89               7         1   \n",
       "2  44.08  32.14  16.53  175.35  0.03           89               7         1   \n",
       "3  44.08  32.14  13.23  175.60  0.02           89               7         1   \n",
       "4  44.08  32.14   9.78  175.82  0.02           89               7         1   \n",
       "\n",
       "   SyntheticField  Outdoor  Precipitation  DaysPlayed  PlayCode  \\\n",
       "0               0        1              0          78       1.0   \n",
       "1               0        1              0          78       1.0   \n",
       "2               0        1              0          78       1.0   \n",
       "3               0        1              0          78       1.0   \n",
       "4               0        1              0          78       1.0   \n",
       "\n",
       "   BodyPart_Ankle  BodyPart_Foot  BodyPart_Knee  \n",
       "0             0.0            0.0            1.0  \n",
       "1             0.0            0.0            1.0  \n",
       "2             0.0            0.0            1.0  \n",
       "3             0.0            0.0            1.0  \n",
       "4             0.0            0.0            1.0  "
      ]
     },
     "execution_count": 106,
     "metadata": {},
     "output_type": "execute_result"
    }
   ],
   "source": [
    "ml_encoded.head"
   ]
  },
  {
   "cell_type": "code",
   "execution_count": 116,
   "metadata": {},
   "outputs": [],
   "source": [
    "# Prepare the InjuryType Prediction Dataset\n",
    "y = ml_encoded.loc[:, 'BodyPart_Ankle':]\n",
    "X = ml_encoded.drop(columns=['BodyPart_Ankle','BodyPart_Foot', 'BodyPart_Knee'])\n",
    "\n",
    "X_train, X_test, y_train, y_test = train_test_split(X, y, random_state=seed)\n"
   ]
  },
  {
   "cell_type": "code",
   "execution_count": 118,
   "metadata": {},
   "outputs": [],
   "source": [
    "scaler = StandardScaler()\n",
    "X_scaled = scaler.fit(X_train)\n",
    "X_train_scaled = X_scaled.transform(X_train)\n",
    "X_test_scaled = X_scaled.transform(X_test)"
   ]
  },
  {
   "cell_type": "code",
   "execution_count": 148,
   "metadata": {},
   "outputs": [
    {
     "name": "stdout",
     "output_type": "stream",
     "text": [
      "Model: \"sequential_13\"\n",
      "_________________________________________________________________\n",
      " Layer (type)                Output Shape              Param #   \n",
      "=================================================================\n",
      " dense_35 (Dense)            (None, 120)               1680      \n",
      "                                                                 \n",
      " dense_36 (Dense)            (None, 3)                 363       \n",
      "                                                                 \n",
      "=================================================================\n",
      "Total params: 2,043\n",
      "Trainable params: 2,043\n",
      "Non-trainable params: 0\n",
      "_________________________________________________________________\n"
     ]
    }
   ],
   "source": [
    "number_input_features = len(X_train_scaled[0])\n",
    "hidden_layer1 = 120\n",
    "hidden_layer2 = 250\n",
    "\n",
    "nn = tf.keras.models.Sequential()\n",
    "\n",
    "# Layers\n",
    "nn.add(tf.keras.layers.Dense(units=hidden_layer1, input_dim=number_input_features, activation='relu'))\n",
    "# nn.add(tf.keras.layers.Dense(units=hidden_layer2, activation='relu'))\n",
    "nn.add(tf.keras.layers.Dense(units=3, activation='sigmoid'))\n",
    "\n",
    "nn.summary()\n"
   ]
  },
  {
   "cell_type": "code",
   "execution_count": 149,
   "metadata": {},
   "outputs": [],
   "source": [
    "# Compile the model\n",
    "nn.compile(loss='binary_crossentropy', optimizer='adam', metrics=['accuracy'])\n"
   ]
  },
  {
   "cell_type": "code",
   "execution_count": 150,
   "metadata": {},
   "outputs": [
    {
     "name": "stdout",
     "output_type": "stream",
     "text": [
      "Epoch 1/50\n",
      "534/534 [==============================] - 1s 820us/step - loss: 0.3804 - accuracy: 0.7519\n",
      "Epoch 2/50\n",
      "534/534 [==============================] - 0s 835us/step - loss: 0.1865 - accuracy: 0.9107\n",
      "Epoch 3/50\n",
      "534/534 [==============================] - 0s 788us/step - loss: 0.1171 - accuracy: 0.9522\n",
      "Epoch 4/50\n",
      "534/534 [==============================] - 0s 833us/step - loss: 0.0810 - accuracy: 0.9669\n",
      "Epoch 5/50\n",
      "534/534 [==============================] - 0s 794us/step - loss: 0.0611 - accuracy: 0.9727\n",
      "Epoch 6/50\n",
      "534/534 [==============================] - 0s 829us/step - loss: 0.0496 - accuracy: 0.9750\n",
      "Epoch 7/50\n",
      "534/534 [==============================] - 0s 818us/step - loss: 0.0425 - accuracy: 0.9742\n",
      "Epoch 8/50\n",
      "534/534 [==============================] - 0s 794us/step - loss: 0.0384 - accuracy: 0.9732\n",
      "Epoch 9/50\n",
      "534/534 [==============================] - 0s 803us/step - loss: 0.0342 - accuracy: 0.9756\n",
      "Epoch 10/50\n",
      "534/534 [==============================] - 1s 1ms/step - loss: 0.0322 - accuracy: 0.9754\n",
      "Epoch 11/50\n",
      "534/534 [==============================] - 1s 1ms/step - loss: 0.0308 - accuracy: 0.9745\n",
      "Epoch 12/50\n",
      "534/534 [==============================] - 0s 861us/step - loss: 0.0294 - accuracy: 0.9744\n",
      "Epoch 13/50\n",
      "534/534 [==============================] - 1s 976us/step - loss: 0.0283 - accuracy: 0.9750\n",
      "Epoch 14/50\n",
      "534/534 [==============================] - 1s 1ms/step - loss: 0.0274 - accuracy: 0.9760\n",
      "Epoch 15/50\n",
      "534/534 [==============================] - 0s 933us/step - loss: 0.0271 - accuracy: 0.9752\n",
      "Epoch 16/50\n",
      "534/534 [==============================] - 0s 932us/step - loss: 0.0267 - accuracy: 0.9760\n",
      "Epoch 17/50\n",
      "534/534 [==============================] - 1s 1ms/step - loss: 0.0263 - accuracy: 0.9745\n",
      "Epoch 18/50\n",
      "534/534 [==============================] - 1s 1ms/step - loss: 0.0258 - accuracy: 0.9757\n",
      "Epoch 19/50\n",
      "534/534 [==============================] - 1s 1ms/step - loss: 0.0249 - accuracy: 0.9762\n",
      "Epoch 20/50\n",
      "534/534 [==============================] - 1s 1ms/step - loss: 0.0256 - accuracy: 0.9770\n",
      "Epoch 21/50\n",
      "534/534 [==============================] - 0s 920us/step - loss: 0.0258 - accuracy: 0.9741\n",
      "Epoch 22/50\n",
      "534/534 [==============================] - 0s 886us/step - loss: 0.0253 - accuracy: 0.9749\n",
      "Epoch 23/50\n",
      "534/534 [==============================] - 0s 898us/step - loss: 0.0255 - accuracy: 0.9768\n",
      "Epoch 24/50\n",
      "534/534 [==============================] - 1s 972us/step - loss: 0.0254 - accuracy: 0.9738\n",
      "Epoch 25/50\n",
      "534/534 [==============================] - 1s 1ms/step - loss: 0.0247 - accuracy: 0.9744\n",
      "Epoch 26/50\n",
      "534/534 [==============================] - 1s 957us/step - loss: 0.0249 - accuracy: 0.9742\n",
      "Epoch 27/50\n",
      "534/534 [==============================] - 0s 909us/step - loss: 0.0243 - accuracy: 0.9758\n",
      "Epoch 28/50\n",
      "534/534 [==============================] - 1s 968us/step - loss: 0.0244 - accuracy: 0.9749\n",
      "Epoch 29/50\n",
      "534/534 [==============================] - 0s 931us/step - loss: 0.0250 - accuracy: 0.9748\n",
      "Epoch 30/50\n",
      "534/534 [==============================] - 0s 917us/step - loss: 0.0247 - accuracy: 0.9738\n",
      "Epoch 31/50\n",
      "534/534 [==============================] - 0s 909us/step - loss: 0.0247 - accuracy: 0.9752\n",
      "Epoch 32/50\n",
      "534/534 [==============================] - 0s 927us/step - loss: 0.0243 - accuracy: 0.9758\n",
      "Epoch 33/50\n",
      "534/534 [==============================] - 0s 883us/step - loss: 0.0246 - accuracy: 0.9728\n",
      "Epoch 34/50\n",
      "534/534 [==============================] - 0s 885us/step - loss: 0.0246 - accuracy: 0.9739\n",
      "Epoch 35/50\n",
      "534/534 [==============================] - 0s 863us/step - loss: 0.0246 - accuracy: 0.9745\n",
      "Epoch 36/50\n",
      "534/534 [==============================] - 0s 867us/step - loss: 0.0247 - accuracy: 0.9741\n",
      "Epoch 37/50\n",
      "534/534 [==============================] - 0s 863us/step - loss: 0.0242 - accuracy: 0.9747\n",
      "Epoch 38/50\n",
      "534/534 [==============================] - 1s 987us/step - loss: 0.0245 - accuracy: 0.9751\n",
      "Epoch 39/50\n",
      "534/534 [==============================] - 1s 998us/step - loss: 0.0241 - accuracy: 0.9759\n",
      "Epoch 40/50\n",
      "534/534 [==============================] - 0s 883us/step - loss: 0.0246 - accuracy: 0.9758\n",
      "Epoch 41/50\n",
      "534/534 [==============================] - 0s 892us/step - loss: 0.0246 - accuracy: 0.9745\n",
      "Epoch 42/50\n",
      "534/534 [==============================] - 0s 921us/step - loss: 0.0244 - accuracy: 0.9757\n",
      "Epoch 43/50\n",
      "534/534 [==============================] - 0s 860us/step - loss: 0.0239 - accuracy: 0.9749\n",
      "Epoch 44/50\n",
      "534/534 [==============================] - 0s 827us/step - loss: 0.0241 - accuracy: 0.9765\n",
      "Epoch 45/50\n",
      "534/534 [==============================] - 0s 756us/step - loss: 0.0245 - accuracy: 0.9729\n",
      "Epoch 46/50\n",
      "534/534 [==============================] - 0s 811us/step - loss: 0.0241 - accuracy: 0.9752\n",
      "Epoch 47/50\n",
      "534/534 [==============================] - 0s 792us/step - loss: 0.0248 - accuracy: 0.9741\n",
      "Epoch 48/50\n",
      "534/534 [==============================] - 0s 799us/step - loss: 0.0243 - accuracy: 0.9745\n",
      "Epoch 49/50\n",
      "534/534 [==============================] - 0s 803us/step - loss: 0.0241 - accuracy: 0.9756\n",
      "Epoch 50/50\n",
      "534/534 [==============================] - 0s 826us/step - loss: 0.0245 - accuracy: 0.9745\n"
     ]
    }
   ],
   "source": [
    "# Train the model\n",
    "fit_model = nn.fit(X_train_scaled, y_train, epochs=50)\n"
   ]
  },
  {
   "cell_type": "code",
   "execution_count": 151,
   "metadata": {},
   "outputs": [
    {
     "name": "stdout",
     "output_type": "stream",
     "text": [
      "178/178 - 0s - loss: 0.0264 - accuracy: 0.9735 - 187ms/epoch - 1ms/step\n",
      "Loss: 0.026397626847028732, Accuracy: 0.9734808802604675\n"
     ]
    }
   ],
   "source": [
    "# Evaluate the model using the test data\n",
    "model_loss, model_accuracy = nn.evaluate(X_test_scaled, y_test, verbose=2)\n",
    "print(f\"Loss: {model_loss}, Accuracy: {model_accuracy}\")\n"
   ]
  }
 ],
 "metadata": {
  "kernelspec": {
   "display_name": "Python 3.7.13 ('mlenv')",
   "language": "python",
   "name": "python3"
  },
  "language_info": {
   "codemirror_mode": {
    "name": "ipython",
    "version": 3
   },
   "file_extension": ".py",
   "mimetype": "text/x-python",
   "name": "python",
   "nbconvert_exporter": "python",
   "pygments_lexer": "ipython3",
   "version": "3.7.13"
  },
  "orig_nbformat": 4,
  "vscode": {
   "interpreter": {
    "hash": "55a128abeef29120eb7bd22a6a2e883184ae9f9178564f0df9c7c7d3d676105f"
   }
  }
 },
 "nbformat": 4,
 "nbformat_minor": 2
}
