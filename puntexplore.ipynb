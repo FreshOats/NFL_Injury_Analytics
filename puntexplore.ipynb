{
 "cells": [
  {
   "cell_type": "code",
   "execution_count": 3,
   "id": "d5945f59-f599-4058-ac80-7a06a29c5c87",
   "metadata": {},
   "outputs": [],
   "source": [
    "import pandas as pd"
   ]
  },
  {
   "cell_type": "code",
   "execution_count": 11,
   "id": "972d5c84-fce2-4845-8299-ee35c4b537d0",
   "metadata": {},
   "outputs": [],
   "source": [
    "#files to lowad\n",
    "game_dtl=\"folder_to_ignore/punt_data/game_data.csv\"\n",
    "play_dtl=\"folder_to_ignore/punt_data/play_information.csv\"\n",
    "player_role_dtl=\"folder_to_ignore/punt_data/play_player_role_data.csv\"\n",
    "play_punt_dtl=\"folder_to_ignore/punt_data/player_punt_data.csv\"\n",
    "ngs_pt1_dtl=\"folder_to_ignore/punt_data/NGS-2016-reg-wk1-6.csv\""
   ]
  },
  {
   "cell_type": "code",
   "execution_count": 13,
   "id": "4245ca07-672d-4772-a32c-8c5f38a7290f",
   "metadata": {},
   "outputs": [
    {
     "data": {
      "text/plain": [
       "GameKey             int64\n",
       "Season_Year         int64\n",
       "Season_Type        object\n",
       "Week                int64\n",
       "Game_Date          object\n",
       "Game_Day           object\n",
       "Game_Site          object\n",
       "Start_Time         object\n",
       "Home_Team          object\n",
       "HomeTeamCode       object\n",
       "Visit_Team         object\n",
       "VisitTeamCode      object\n",
       "Stadium            object\n",
       "StadiumType        object\n",
       "Turf               object\n",
       "GameWeather        object\n",
       "Temperature       float64\n",
       "OutdoorWeather     object\n",
       "dtype: object"
      ]
     },
     "execution_count": 13,
     "metadata": {},
     "output_type": "execute_result"
    }
   ],
   "source": [
    "game_df=pd.read_csv(game_dtl)\n",
    "game_df.count()\n",
    "game_df.dtypes"
   ]
  },
  {
   "cell_type": "code",
   "execution_count": 15,
   "id": "fc1fa736-a741-45d8-8429-0a70e695759d",
   "metadata": {},
   "outputs": [
    {
     "data": {
      "text/plain": [
       "Season_Year              int64\n",
       "Season_Type             object\n",
       "GameKey                  int64\n",
       "Game_Date               object\n",
       "Week                     int64\n",
       "PlayID                   int64\n",
       "Game_Clock              object\n",
       "YardLine                object\n",
       "Quarter                  int64\n",
       "Play_Type               object\n",
       "Poss_Team               object\n",
       "Home_Team_Visit_Team    object\n",
       "Score_Home_Visiting     object\n",
       "PlayDescription         object\n",
       "dtype: object"
      ]
     },
     "execution_count": 15,
     "metadata": {},
     "output_type": "execute_result"
    }
   ],
   "source": [
    "play_df=pd.read_csv(play_dtl)\n",
    "play_df.count()\n",
    "play_df.dtypes"
   ]
  },
  {
   "cell_type": "code",
   "execution_count": 16,
   "id": "8a7d3b00-714e-4e33-9f51-dec5885ea5da",
   "metadata": {},
   "outputs": [
    {
     "data": {
      "text/plain": [
       "Season_Year     int64\n",
       "GameKey         int64\n",
       "PlayID          int64\n",
       "GSISID          int64\n",
       "Role           object\n",
       "dtype: object"
      ]
     },
     "execution_count": 16,
     "metadata": {},
     "output_type": "execute_result"
    }
   ],
   "source": [
    "pr_df=pd.read_csv(player_role_dtl)\n",
    "pr_df.count()\n",
    "pr_df.dtypes"
   ]
  },
  {
   "cell_type": "code",
   "execution_count": 17,
   "id": "e4cc4138-b977-40f9-aed2-bca935ea4bef",
   "metadata": {},
   "outputs": [
    {
     "data": {
      "text/plain": [
       "GSISID       int64\n",
       "Number      object\n",
       "Position    object\n",
       "dtype: object"
      ]
     },
     "execution_count": 17,
     "metadata": {},
     "output_type": "execute_result"
    }
   ],
   "source": [
    "pp_df=pd.read_csv(play_punt_dtl)\n",
    "pp_df.count()\n",
    "pp_df.dtypes"
   ]
  },
  {
   "cell_type": "code",
   "execution_count": 18,
   "id": "7f7cfbd7-fa5c-4904-b1bc-348fef70950a",
   "metadata": {},
   "outputs": [
    {
     "data": {
      "text/plain": [
       "Season_Year      int64\n",
       "GameKey          int64\n",
       "PlayID           int64\n",
       "GSISID           int64\n",
       "Time            object\n",
       "x              float64\n",
       "y              float64\n",
       "dis            float64\n",
       "o              float64\n",
       "dir            float64\n",
       "Event           object\n",
       "dtype: object"
      ]
     },
     "execution_count": 18,
     "metadata": {},
     "output_type": "execute_result"
    }
   ],
   "source": [
    "ngs_df=pd.read_csv(ngs_pt1_dtl)\n",
    "ngs_df.count()\n",
    "ngs_df.dtypes"
   ]
  },
  {
   "cell_type": "code",
   "execution_count": null,
   "id": "9f6c66b5-67c8-4197-b703-64146c233031",
   "metadata": {},
   "outputs": [],
   "source": []
  }
 ],
 "metadata": {
  "kernelspec": {
   "display_name": "PythonData",
   "language": "python",
   "name": "pythondata"
  },
  "language_info": {
   "codemirror_mode": {
    "name": "ipython",
    "version": 3
   },
   "file_extension": ".py",
   "mimetype": "text/x-python",
   "name": "python",
   "nbconvert_exporter": "python",
   "pygments_lexer": "ipython3",
   "version": "3.9.12"
  }
 },
 "nbformat": 4,
 "nbformat_minor": 5
}
