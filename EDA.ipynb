{
 "cells": [
  {
   "cell_type": "code",
   "execution_count": 195,
   "metadata": {},
   "outputs": [],
   "source": [
    "import pandas as pd\n"
   ]
  },
  {
   "cell_type": "markdown",
   "metadata": {},
   "source": [
    "# Exploratory Data Analysis - Turf Datasets"
   ]
  },
  {
   "cell_type": "code",
   "execution_count": 196,
   "metadata": {},
   "outputs": [
    {
     "data": {
      "text/html": [
       "<div>\n",
       "<style scoped>\n",
       "    .dataframe tbody tr th:only-of-type {\n",
       "        vertical-align: middle;\n",
       "    }\n",
       "\n",
       "    .dataframe tbody tr th {\n",
       "        vertical-align: top;\n",
       "    }\n",
       "\n",
       "    .dataframe thead th {\n",
       "        text-align: right;\n",
       "    }\n",
       "</style>\n",
       "<table border=\"1\" class=\"dataframe\">\n",
       "  <thead>\n",
       "    <tr style=\"text-align: right;\">\n",
       "      <th></th>\n",
       "      <th>PlayerKey</th>\n",
       "      <th>GameID</th>\n",
       "      <th>PlayKey</th>\n",
       "      <th>BodyPart</th>\n",
       "      <th>Surface</th>\n",
       "      <th>DM_M1</th>\n",
       "      <th>DM_M7</th>\n",
       "      <th>DM_M28</th>\n",
       "      <th>DM_M42</th>\n",
       "    </tr>\n",
       "  </thead>\n",
       "  <tbody>\n",
       "    <tr>\n",
       "      <th>0</th>\n",
       "      <td>39873</td>\n",
       "      <td>39873-4</td>\n",
       "      <td>39873-4-32</td>\n",
       "      <td>Knee</td>\n",
       "      <td>Synthetic</td>\n",
       "      <td>1</td>\n",
       "      <td>1</td>\n",
       "      <td>1</td>\n",
       "      <td>1</td>\n",
       "    </tr>\n",
       "    <tr>\n",
       "      <th>1</th>\n",
       "      <td>46074</td>\n",
       "      <td>46074-7</td>\n",
       "      <td>46074-7-26</td>\n",
       "      <td>Knee</td>\n",
       "      <td>Natural</td>\n",
       "      <td>1</td>\n",
       "      <td>1</td>\n",
       "      <td>0</td>\n",
       "      <td>0</td>\n",
       "    </tr>\n",
       "    <tr>\n",
       "      <th>2</th>\n",
       "      <td>36557</td>\n",
       "      <td>36557-1</td>\n",
       "      <td>36557-1-70</td>\n",
       "      <td>Ankle</td>\n",
       "      <td>Synthetic</td>\n",
       "      <td>1</td>\n",
       "      <td>1</td>\n",
       "      <td>1</td>\n",
       "      <td>1</td>\n",
       "    </tr>\n",
       "    <tr>\n",
       "      <th>3</th>\n",
       "      <td>46646</td>\n",
       "      <td>46646-3</td>\n",
       "      <td>46646-3-30</td>\n",
       "      <td>Ankle</td>\n",
       "      <td>Natural</td>\n",
       "      <td>1</td>\n",
       "      <td>0</td>\n",
       "      <td>0</td>\n",
       "      <td>0</td>\n",
       "    </tr>\n",
       "    <tr>\n",
       "      <th>4</th>\n",
       "      <td>43532</td>\n",
       "      <td>43532-5</td>\n",
       "      <td>43532-5-69</td>\n",
       "      <td>Ankle</td>\n",
       "      <td>Synthetic</td>\n",
       "      <td>1</td>\n",
       "      <td>1</td>\n",
       "      <td>1</td>\n",
       "      <td>1</td>\n",
       "    </tr>\n",
       "  </tbody>\n",
       "</table>\n",
       "</div>"
      ],
      "text/plain": [
       "   PlayerKey   GameID     PlayKey BodyPart    Surface  DM_M1  DM_M7  DM_M28  \\\n",
       "0      39873  39873-4  39873-4-32     Knee  Synthetic      1      1       1   \n",
       "1      46074  46074-7  46074-7-26     Knee    Natural      1      1       0   \n",
       "2      36557  36557-1  36557-1-70    Ankle  Synthetic      1      1       1   \n",
       "3      46646  46646-3  46646-3-30    Ankle    Natural      1      0       0   \n",
       "4      43532  43532-5  43532-5-69    Ankle  Synthetic      1      1       1   \n",
       "\n",
       "   DM_M42  \n",
       "0       1  \n",
       "1       0  \n",
       "2       1  \n",
       "3       0  \n",
       "4       1  "
      ]
     },
     "execution_count": 196,
     "metadata": {},
     "output_type": "execute_result"
    }
   ],
   "source": [
    "injuries = pd.read_csv(\"NFL_Turf/InjuryRecord.csv\")  # 105 rows\n",
    "injuries.head()\n"
   ]
  },
  {
   "cell_type": "code",
   "execution_count": 197,
   "metadata": {},
   "outputs": [
    {
     "data": {
      "text/plain": [
       "28"
      ]
     },
     "execution_count": 197,
     "metadata": {},
     "output_type": "execute_result"
    }
   ],
   "source": [
    "# The PlayKey column is the only one that has NaN values\n",
    "injuries['PlayKey'].isna().sum()"
   ]
  },
  {
   "cell_type": "code",
   "execution_count": 198,
   "metadata": {},
   "outputs": [],
   "source": [
    "# Drop the NaN values, since we won't be able to correlate these with the other tables\n",
    "injuries = injuries.dropna(subset = ['PlayKey'])"
   ]
  },
  {
   "cell_type": "code",
   "execution_count": 199,
   "metadata": {},
   "outputs": [
    {
     "data": {
      "text/plain": [
       "PlayerKey    74\n",
       "GameID       76\n",
       "PlayKey      76\n",
       "BodyPart      3\n",
       "Surface       2\n",
       "DM_M1         1\n",
       "DM_M7         2\n",
       "DM_M28        2\n",
       "DM_M42        2\n",
       "dtype: int64"
      ]
     },
     "execution_count": 199,
     "metadata": {},
     "output_type": "execute_result"
    }
   ],
   "source": [
    "injuries.nunique()"
   ]
  },
  {
   "cell_type": "markdown",
   "metadata": {},
   "source": [
    "Note: there is only 1 unique value for DM_M1 - which means that every player on this list was injured for at least 1 day"
   ]
  },
  {
   "cell_type": "code",
   "execution_count": 200,
   "metadata": {},
   "outputs": [
    {
     "data": {
      "text/plain": [
       "PlayerKey     int64\n",
       "GameID       object\n",
       "PlayKey      object\n",
       "BodyPart     object\n",
       "Surface      object\n",
       "DM_M1         int64\n",
       "DM_M7         int64\n",
       "DM_M28        int64\n",
       "DM_M42        int64\n",
       "dtype: object"
      ]
     },
     "execution_count": 200,
     "metadata": {},
     "output_type": "execute_result"
    }
   ],
   "source": [
    "injuries.dtypes"
   ]
  },
  {
   "cell_type": "code",
   "execution_count": 201,
   "metadata": {},
   "outputs": [
    {
     "data": {
      "text/plain": [
       "array(['Synthetic', 'Natural'], dtype=object)"
      ]
     },
     "execution_count": 201,
     "metadata": {},
     "output_type": "execute_result"
    }
   ],
   "source": [
    "injuries.Surface.unique()"
   ]
  },
  {
   "cell_type": "markdown",
   "metadata": {},
   "source": [
    "Changing the object values of Natural and Synthetic to 0 and 1, respectively"
   ]
  },
  {
   "cell_type": "code",
   "execution_count": 202,
   "metadata": {},
   "outputs": [
    {
     "data": {
      "text/html": [
       "<div>\n",
       "<style scoped>\n",
       "    .dataframe tbody tr th:only-of-type {\n",
       "        vertical-align: middle;\n",
       "    }\n",
       "\n",
       "    .dataframe tbody tr th {\n",
       "        vertical-align: top;\n",
       "    }\n",
       "\n",
       "    .dataframe thead th {\n",
       "        text-align: right;\n",
       "    }\n",
       "</style>\n",
       "<table border=\"1\" class=\"dataframe\">\n",
       "  <thead>\n",
       "    <tr style=\"text-align: right;\">\n",
       "      <th></th>\n",
       "      <th>PlayerKey</th>\n",
       "      <th>GameID</th>\n",
       "      <th>PlayKey</th>\n",
       "      <th>BodyPart</th>\n",
       "      <th>Surface</th>\n",
       "      <th>DM_M1</th>\n",
       "      <th>DM_M7</th>\n",
       "      <th>DM_M28</th>\n",
       "      <th>DM_M42</th>\n",
       "      <th>Coded_Surface</th>\n",
       "    </tr>\n",
       "  </thead>\n",
       "  <tbody>\n",
       "    <tr>\n",
       "      <th>0</th>\n",
       "      <td>39873</td>\n",
       "      <td>39873-4</td>\n",
       "      <td>39873-4-32</td>\n",
       "      <td>Knee</td>\n",
       "      <td>Synthetic</td>\n",
       "      <td>1</td>\n",
       "      <td>1</td>\n",
       "      <td>1</td>\n",
       "      <td>1</td>\n",
       "      <td>1</td>\n",
       "    </tr>\n",
       "    <tr>\n",
       "      <th>1</th>\n",
       "      <td>46074</td>\n",
       "      <td>46074-7</td>\n",
       "      <td>46074-7-26</td>\n",
       "      <td>Knee</td>\n",
       "      <td>Natural</td>\n",
       "      <td>1</td>\n",
       "      <td>1</td>\n",
       "      <td>0</td>\n",
       "      <td>0</td>\n",
       "      <td>0</td>\n",
       "    </tr>\n",
       "    <tr>\n",
       "      <th>2</th>\n",
       "      <td>36557</td>\n",
       "      <td>36557-1</td>\n",
       "      <td>36557-1-70</td>\n",
       "      <td>Ankle</td>\n",
       "      <td>Synthetic</td>\n",
       "      <td>1</td>\n",
       "      <td>1</td>\n",
       "      <td>1</td>\n",
       "      <td>1</td>\n",
       "      <td>1</td>\n",
       "    </tr>\n",
       "    <tr>\n",
       "      <th>3</th>\n",
       "      <td>46646</td>\n",
       "      <td>46646-3</td>\n",
       "      <td>46646-3-30</td>\n",
       "      <td>Ankle</td>\n",
       "      <td>Natural</td>\n",
       "      <td>1</td>\n",
       "      <td>0</td>\n",
       "      <td>0</td>\n",
       "      <td>0</td>\n",
       "      <td>0</td>\n",
       "    </tr>\n",
       "    <tr>\n",
       "      <th>4</th>\n",
       "      <td>43532</td>\n",
       "      <td>43532-5</td>\n",
       "      <td>43532-5-69</td>\n",
       "      <td>Ankle</td>\n",
       "      <td>Synthetic</td>\n",
       "      <td>1</td>\n",
       "      <td>1</td>\n",
       "      <td>1</td>\n",
       "      <td>1</td>\n",
       "      <td>1</td>\n",
       "    </tr>\n",
       "  </tbody>\n",
       "</table>\n",
       "</div>"
      ],
      "text/plain": [
       "   PlayerKey   GameID     PlayKey BodyPart    Surface  DM_M1  DM_M7  DM_M28  \\\n",
       "0      39873  39873-4  39873-4-32     Knee  Synthetic      1      1       1   \n",
       "1      46074  46074-7  46074-7-26     Knee    Natural      1      1       0   \n",
       "2      36557  36557-1  36557-1-70    Ankle  Synthetic      1      1       1   \n",
       "3      46646  46646-3  46646-3-30    Ankle    Natural      1      0       0   \n",
       "4      43532  43532-5  43532-5-69    Ankle  Synthetic      1      1       1   \n",
       "\n",
       "   DM_M42  Coded_Surface  \n",
       "0       1              1  \n",
       "1       0              0  \n",
       "2       1              1  \n",
       "3       0              0  \n",
       "4       1              1  "
      ]
     },
     "execution_count": 202,
     "metadata": {},
     "output_type": "execute_result"
    }
   ],
   "source": [
    "# Creates a function to change the surface values\n",
    "def surface_code(row):\n",
    "    surface = row['Surface']\n",
    "    coded_surface = 0\n",
    "    if surface == 'Natural':\n",
    "        coded_surface = 0\n",
    "    elif surface == 'Synthetic': \n",
    "        coded_surface = 1\n",
    "    \n",
    "    return coded_surface \n",
    "\n",
    "injuries['Coded_Surface'] = injuries.apply(surface_code, axis = 1)\n",
    "injuries.head()"
   ]
  },
  {
   "cell_type": "code",
   "execution_count": 203,
   "metadata": {},
   "outputs": [
    {
     "data": {
      "text/html": [
       "<div>\n",
       "<style scoped>\n",
       "    .dataframe tbody tr th:only-of-type {\n",
       "        vertical-align: middle;\n",
       "    }\n",
       "\n",
       "    .dataframe tbody tr th {\n",
       "        vertical-align: top;\n",
       "    }\n",
       "\n",
       "    .dataframe thead th {\n",
       "        text-align: right;\n",
       "    }\n",
       "</style>\n",
       "<table border=\"1\" class=\"dataframe\">\n",
       "  <thead>\n",
       "    <tr style=\"text-align: right;\">\n",
       "      <th></th>\n",
       "      <th>PlayerKey</th>\n",
       "      <th>GameID</th>\n",
       "      <th>PlayKey</th>\n",
       "      <th>BodyPart</th>\n",
       "      <th>Surface</th>\n",
       "      <th>DM_M1</th>\n",
       "      <th>DM_M7</th>\n",
       "      <th>DM_M28</th>\n",
       "      <th>DM_M42</th>\n",
       "    </tr>\n",
       "  </thead>\n",
       "  <tbody>\n",
       "    <tr>\n",
       "      <th>0</th>\n",
       "      <td>39873</td>\n",
       "      <td>39873-4</td>\n",
       "      <td>39873-4-32</td>\n",
       "      <td>Knee</td>\n",
       "      <td>1</td>\n",
       "      <td>1</td>\n",
       "      <td>1</td>\n",
       "      <td>1</td>\n",
       "      <td>1</td>\n",
       "    </tr>\n",
       "    <tr>\n",
       "      <th>1</th>\n",
       "      <td>46074</td>\n",
       "      <td>46074-7</td>\n",
       "      <td>46074-7-26</td>\n",
       "      <td>Knee</td>\n",
       "      <td>0</td>\n",
       "      <td>1</td>\n",
       "      <td>1</td>\n",
       "      <td>0</td>\n",
       "      <td>0</td>\n",
       "    </tr>\n",
       "    <tr>\n",
       "      <th>2</th>\n",
       "      <td>36557</td>\n",
       "      <td>36557-1</td>\n",
       "      <td>36557-1-70</td>\n",
       "      <td>Ankle</td>\n",
       "      <td>1</td>\n",
       "      <td>1</td>\n",
       "      <td>1</td>\n",
       "      <td>1</td>\n",
       "      <td>1</td>\n",
       "    </tr>\n",
       "    <tr>\n",
       "      <th>3</th>\n",
       "      <td>46646</td>\n",
       "      <td>46646-3</td>\n",
       "      <td>46646-3-30</td>\n",
       "      <td>Ankle</td>\n",
       "      <td>0</td>\n",
       "      <td>1</td>\n",
       "      <td>0</td>\n",
       "      <td>0</td>\n",
       "      <td>0</td>\n",
       "    </tr>\n",
       "    <tr>\n",
       "      <th>4</th>\n",
       "      <td>43532</td>\n",
       "      <td>43532-5</td>\n",
       "      <td>43532-5-69</td>\n",
       "      <td>Ankle</td>\n",
       "      <td>1</td>\n",
       "      <td>1</td>\n",
       "      <td>1</td>\n",
       "      <td>1</td>\n",
       "      <td>1</td>\n",
       "    </tr>\n",
       "  </tbody>\n",
       "</table>\n",
       "</div>"
      ],
      "text/plain": [
       "   PlayerKey   GameID     PlayKey BodyPart  Surface  DM_M1  DM_M7  DM_M28  \\\n",
       "0      39873  39873-4  39873-4-32     Knee        1      1      1       1   \n",
       "1      46074  46074-7  46074-7-26     Knee        0      1      1       0   \n",
       "2      36557  36557-1  36557-1-70    Ankle        1      1      1       1   \n",
       "3      46646  46646-3  46646-3-30    Ankle        0      1      0       0   \n",
       "4      43532  43532-5  43532-5-69    Ankle        1      1      1       1   \n",
       "\n",
       "   DM_M42  \n",
       "0       1  \n",
       "1       0  \n",
       "2       1  \n",
       "3       0  \n",
       "4       1  "
      ]
     },
     "execution_count": 203,
     "metadata": {},
     "output_type": "execute_result"
    }
   ],
   "source": [
    "# Verify that the Coded_Surface worked correctly, then change the Surface Values to the Coded and drop the Coded_Surface column\n",
    "injuries['Surface'] = injuries['Coded_Surface']\n",
    "injuries.drop(columns='Coded_Surface', inplace=True)\n",
    "injuries.head()"
   ]
  },
  {
   "cell_type": "markdown",
   "metadata": {},
   "source": [
    "Note: Anyone whose injury is in the DM_M42 list is also in all of the prior lists, so there will be more of the lower values due the the encoding. Going to change this to a single column with values of 1, 7, 28, and 42"
   ]
  },
  {
   "cell_type": "code",
   "execution_count": 204,
   "metadata": {},
   "outputs": [
    {
     "data": {
      "text/html": [
       "<div>\n",
       "<style scoped>\n",
       "    .dataframe tbody tr th:only-of-type {\n",
       "        vertical-align: middle;\n",
       "    }\n",
       "\n",
       "    .dataframe tbody tr th {\n",
       "        vertical-align: top;\n",
       "    }\n",
       "\n",
       "    .dataframe thead th {\n",
       "        text-align: right;\n",
       "    }\n",
       "</style>\n",
       "<table border=\"1\" class=\"dataframe\">\n",
       "  <thead>\n",
       "    <tr style=\"text-align: right;\">\n",
       "      <th></th>\n",
       "      <th>PlayerKey</th>\n",
       "      <th>GameID</th>\n",
       "      <th>PlayKey</th>\n",
       "      <th>BodyPart</th>\n",
       "      <th>Surface</th>\n",
       "      <th>DM_M1</th>\n",
       "      <th>DM_M7</th>\n",
       "      <th>DM_M28</th>\n",
       "      <th>DM_M42</th>\n",
       "      <th>Injury_Duration</th>\n",
       "    </tr>\n",
       "  </thead>\n",
       "  <tbody>\n",
       "    <tr>\n",
       "      <th>0</th>\n",
       "      <td>39873</td>\n",
       "      <td>39873-4</td>\n",
       "      <td>39873-4-32</td>\n",
       "      <td>Knee</td>\n",
       "      <td>1</td>\n",
       "      <td>1</td>\n",
       "      <td>1</td>\n",
       "      <td>1</td>\n",
       "      <td>1</td>\n",
       "      <td>42</td>\n",
       "    </tr>\n",
       "    <tr>\n",
       "      <th>1</th>\n",
       "      <td>46074</td>\n",
       "      <td>46074-7</td>\n",
       "      <td>46074-7-26</td>\n",
       "      <td>Knee</td>\n",
       "      <td>0</td>\n",
       "      <td>1</td>\n",
       "      <td>1</td>\n",
       "      <td>0</td>\n",
       "      <td>0</td>\n",
       "      <td>7</td>\n",
       "    </tr>\n",
       "    <tr>\n",
       "      <th>2</th>\n",
       "      <td>36557</td>\n",
       "      <td>36557-1</td>\n",
       "      <td>36557-1-70</td>\n",
       "      <td>Ankle</td>\n",
       "      <td>1</td>\n",
       "      <td>1</td>\n",
       "      <td>1</td>\n",
       "      <td>1</td>\n",
       "      <td>1</td>\n",
       "      <td>42</td>\n",
       "    </tr>\n",
       "    <tr>\n",
       "      <th>3</th>\n",
       "      <td>46646</td>\n",
       "      <td>46646-3</td>\n",
       "      <td>46646-3-30</td>\n",
       "      <td>Ankle</td>\n",
       "      <td>0</td>\n",
       "      <td>1</td>\n",
       "      <td>0</td>\n",
       "      <td>0</td>\n",
       "      <td>0</td>\n",
       "      <td>1</td>\n",
       "    </tr>\n",
       "    <tr>\n",
       "      <th>4</th>\n",
       "      <td>43532</td>\n",
       "      <td>43532-5</td>\n",
       "      <td>43532-5-69</td>\n",
       "      <td>Ankle</td>\n",
       "      <td>1</td>\n",
       "      <td>1</td>\n",
       "      <td>1</td>\n",
       "      <td>1</td>\n",
       "      <td>1</td>\n",
       "      <td>42</td>\n",
       "    </tr>\n",
       "  </tbody>\n",
       "</table>\n",
       "</div>"
      ],
      "text/plain": [
       "   PlayerKey   GameID     PlayKey BodyPart  Surface  DM_M1  DM_M7  DM_M28  \\\n",
       "0      39873  39873-4  39873-4-32     Knee        1      1      1       1   \n",
       "1      46074  46074-7  46074-7-26     Knee        0      1      1       0   \n",
       "2      36557  36557-1  36557-1-70    Ankle        1      1      1       1   \n",
       "3      46646  46646-3  46646-3-30    Ankle        0      1      0       0   \n",
       "4      43532  43532-5  43532-5-69    Ankle        1      1      1       1   \n",
       "\n",
       "   DM_M42  Injury_Duration  \n",
       "0       1               42  \n",
       "1       0                7  \n",
       "2       1               42  \n",
       "3       0                1  \n",
       "4       1               42  "
      ]
     },
     "execution_count": 204,
     "metadata": {},
     "output_type": "execute_result"
    }
   ],
   "source": [
    "def injury_duration(row):\n",
    "    injury_duration = 0\n",
    "    if row[\"DM_M42\"] == 1:\n",
    "        injury_duration = 42\n",
    "    else:\n",
    "        if row[\"DM_M28\"] == 1:\n",
    "            injury_duration = 28\n",
    "        else:\n",
    "            if row[\"DM_M7\"] == 1:\n",
    "                injury_duration = 7\n",
    "            else: \n",
    "                injury_duration = 1\n",
    "    \n",
    "    return injury_duration\n",
    "\n",
    "# Apply the function to all rows\n",
    "injuries['Injury_Duration'] = injuries.apply(injury_duration, axis=1)\n",
    "injuries.head()\n"
   ]
  },
  {
   "cell_type": "code",
   "execution_count": 205,
   "metadata": {},
   "outputs": [
    {
     "data": {
      "text/html": [
       "<div>\n",
       "<style scoped>\n",
       "    .dataframe tbody tr th:only-of-type {\n",
       "        vertical-align: middle;\n",
       "    }\n",
       "\n",
       "    .dataframe tbody tr th {\n",
       "        vertical-align: top;\n",
       "    }\n",
       "\n",
       "    .dataframe thead th {\n",
       "        text-align: right;\n",
       "    }\n",
       "</style>\n",
       "<table border=\"1\" class=\"dataframe\">\n",
       "  <thead>\n",
       "    <tr style=\"text-align: right;\">\n",
       "      <th></th>\n",
       "      <th>PlayerKey</th>\n",
       "      <th>GameID</th>\n",
       "      <th>PlayKey</th>\n",
       "      <th>BodyPart</th>\n",
       "      <th>Surface</th>\n",
       "      <th>Injury_Duration</th>\n",
       "    </tr>\n",
       "  </thead>\n",
       "  <tbody>\n",
       "    <tr>\n",
       "      <th>0</th>\n",
       "      <td>39873</td>\n",
       "      <td>39873-4</td>\n",
       "      <td>39873-4-32</td>\n",
       "      <td>Knee</td>\n",
       "      <td>1</td>\n",
       "      <td>42</td>\n",
       "    </tr>\n",
       "    <tr>\n",
       "      <th>1</th>\n",
       "      <td>46074</td>\n",
       "      <td>46074-7</td>\n",
       "      <td>46074-7-26</td>\n",
       "      <td>Knee</td>\n",
       "      <td>0</td>\n",
       "      <td>7</td>\n",
       "    </tr>\n",
       "    <tr>\n",
       "      <th>2</th>\n",
       "      <td>36557</td>\n",
       "      <td>36557-1</td>\n",
       "      <td>36557-1-70</td>\n",
       "      <td>Ankle</td>\n",
       "      <td>1</td>\n",
       "      <td>42</td>\n",
       "    </tr>\n",
       "    <tr>\n",
       "      <th>3</th>\n",
       "      <td>46646</td>\n",
       "      <td>46646-3</td>\n",
       "      <td>46646-3-30</td>\n",
       "      <td>Ankle</td>\n",
       "      <td>0</td>\n",
       "      <td>1</td>\n",
       "    </tr>\n",
       "    <tr>\n",
       "      <th>4</th>\n",
       "      <td>43532</td>\n",
       "      <td>43532-5</td>\n",
       "      <td>43532-5-69</td>\n",
       "      <td>Ankle</td>\n",
       "      <td>1</td>\n",
       "      <td>42</td>\n",
       "    </tr>\n",
       "  </tbody>\n",
       "</table>\n",
       "</div>"
      ],
      "text/plain": [
       "   PlayerKey   GameID     PlayKey BodyPart  Surface  Injury_Duration\n",
       "0      39873  39873-4  39873-4-32     Knee        1               42\n",
       "1      46074  46074-7  46074-7-26     Knee        0                7\n",
       "2      36557  36557-1  36557-1-70    Ankle        1               42\n",
       "3      46646  46646-3  46646-3-30    Ankle        0                1\n",
       "4      43532  43532-5  43532-5-69    Ankle        1               42"
      ]
     },
     "execution_count": 205,
     "metadata": {},
     "output_type": "execute_result"
    }
   ],
   "source": [
    "# Remove the rows for DMs\n",
    "injuries.drop(columns=['DM_M1', 'DM_M7', 'DM_M28', 'DM_M42'], inplace=True)\n",
    "injuries.head()"
   ]
  },
  {
   "cell_type": "code",
   "execution_count": 206,
   "metadata": {},
   "outputs": [
    {
     "data": {
      "text/plain": [
       "array(['Knee', 'Ankle', 'Foot'], dtype=object)"
      ]
     },
     "execution_count": 206,
     "metadata": {},
     "output_type": "execute_result"
    }
   ],
   "source": [
    "# The body parts are categorical and will be better using OneHotEncoder - apparently all of the toes injuries fell into the PlayKey = NaN values\n",
    "injuries.BodyPart.unique()"
   ]
  },
  {
   "cell_type": "code",
   "execution_count": 207,
   "metadata": {},
   "outputs": [
    {
     "data": {
      "text/plain": [
       "74"
      ]
     },
     "execution_count": 207,
     "metadata": {},
     "output_type": "execute_result"
    }
   ],
   "source": [
    "# There are 100 individual players that have been injured for at least 1 day \n",
    "# Since there are 105 rows, does this mean there were 5 reinjuries?\n",
    "injuries.PlayerKey.nunique()\n"
   ]
  },
  {
   "cell_type": "code",
   "execution_count": 208,
   "metadata": {},
   "outputs": [
    {
     "data": {
      "text/plain": [
       "array([39873, 46074, 36557, 46646, 43532, 41145, 46014, 44860, 44806,\n",
       "       45962, 46331, 36621, 44492, 43505, 41094, 40474, 39656, 46587,\n",
       "       46119, 38364, 45966, 35611, 44434, 44489, 44511, 43826, 43518,\n",
       "       34347, 41943, 41209, 44900, 31070, 38228, 39956, 45950, 43540,\n",
       "       44440, 44449, 42406, 42637, 46430, 38192, 39678, 39850, 42600,\n",
       "       42456, 46038, 41113, 47235, 47382, 44421, 42348, 42398, 36559,\n",
       "       47220, 47813, 35570, 44482, 38876, 46098, 36607, 44542, 45983,\n",
       "       33474, 47287, 33337, 47307, 43672, 46316, 42418, 46394, 45187,\n",
       "       42448, 47334], dtype=int64)"
      ]
     },
     "execution_count": 208,
     "metadata": {},
     "output_type": "execute_result"
    }
   ],
   "source": [
    "injuries.PlayerKey.unique()"
   ]
  },
  {
   "cell_type": "code",
   "execution_count": 209,
   "metadata": {},
   "outputs": [
    {
     "data": {
      "text/plain": [
       "76"
      ]
     },
     "execution_count": 209,
     "metadata": {},
     "output_type": "execute_result"
    }
   ],
   "source": [
    "# This output only 76 unique plays with only 74 players, so only 2 players were reinjured at different times of the season\n",
    "injuries.PlayKey.nunique() "
   ]
  },
  {
   "cell_type": "code",
   "execution_count": 210,
   "metadata": {},
   "outputs": [
    {
     "data": {
      "text/plain": [
       "76"
      ]
     },
     "execution_count": 210,
     "metadata": {},
     "output_type": "execute_result"
    }
   ],
   "source": [
    "# Every GameID and PlayID are unique, meaning that once that\n",
    "#  particular player was injured during a specific game at a specific play,\n",
    "#  they didn't return to the field. Since the GameID numbers are not in any \n",
    "# chronological order and offer no information other than the PlayKey can, this column can be dropped\n",
    "injuries.GameID.nunique()"
   ]
  },
  {
   "cell_type": "markdown",
   "metadata": {},
   "source": [
    "Since the PlayerID, GamerID, and PlayKey number are all contained within the PlayKey, the GameID and PlayerID can be dropped. "
   ]
  },
  {
   "cell_type": "code",
   "execution_count": 211,
   "metadata": {},
   "outputs": [
    {
     "data": {
      "text/html": [
       "<div>\n",
       "<style scoped>\n",
       "    .dataframe tbody tr th:only-of-type {\n",
       "        vertical-align: middle;\n",
       "    }\n",
       "\n",
       "    .dataframe tbody tr th {\n",
       "        vertical-align: top;\n",
       "    }\n",
       "\n",
       "    .dataframe thead th {\n",
       "        text-align: right;\n",
       "    }\n",
       "</style>\n",
       "<table border=\"1\" class=\"dataframe\">\n",
       "  <thead>\n",
       "    <tr style=\"text-align: right;\">\n",
       "      <th></th>\n",
       "      <th>PlayKey</th>\n",
       "      <th>BodyPart</th>\n",
       "      <th>Surface</th>\n",
       "      <th>Injury_Duration</th>\n",
       "    </tr>\n",
       "  </thead>\n",
       "  <tbody>\n",
       "    <tr>\n",
       "      <th>0</th>\n",
       "      <td>39873-4-32</td>\n",
       "      <td>Knee</td>\n",
       "      <td>1</td>\n",
       "      <td>42</td>\n",
       "    </tr>\n",
       "    <tr>\n",
       "      <th>1</th>\n",
       "      <td>46074-7-26</td>\n",
       "      <td>Knee</td>\n",
       "      <td>0</td>\n",
       "      <td>7</td>\n",
       "    </tr>\n",
       "    <tr>\n",
       "      <th>2</th>\n",
       "      <td>36557-1-70</td>\n",
       "      <td>Ankle</td>\n",
       "      <td>1</td>\n",
       "      <td>42</td>\n",
       "    </tr>\n",
       "    <tr>\n",
       "      <th>3</th>\n",
       "      <td>46646-3-30</td>\n",
       "      <td>Ankle</td>\n",
       "      <td>0</td>\n",
       "      <td>1</td>\n",
       "    </tr>\n",
       "    <tr>\n",
       "      <th>4</th>\n",
       "      <td>43532-5-69</td>\n",
       "      <td>Ankle</td>\n",
       "      <td>1</td>\n",
       "      <td>42</td>\n",
       "    </tr>\n",
       "  </tbody>\n",
       "</table>\n",
       "</div>"
      ],
      "text/plain": [
       "      PlayKey BodyPart  Surface  Injury_Duration\n",
       "0  39873-4-32     Knee        1               42\n",
       "1  46074-7-26     Knee        0                7\n",
       "2  36557-1-70    Ankle        1               42\n",
       "3  46646-3-30    Ankle        0                1\n",
       "4  43532-5-69    Ankle        1               42"
      ]
     },
     "execution_count": 211,
     "metadata": {},
     "output_type": "execute_result"
    }
   ],
   "source": [
    "injuries.drop(columns=['GameID', 'PlayerKey'], inplace=True)\n",
    "injuries.head()"
   ]
  },
  {
   "cell_type": "markdown",
   "metadata": {},
   "source": [
    "Going to look at the PlayerKey rom the PlayList file"
   ]
  },
  {
   "cell_type": "code",
   "execution_count": 212,
   "metadata": {},
   "outputs": [
    {
     "data": {
      "text/html": [
       "<div>\n",
       "<style scoped>\n",
       "    .dataframe tbody tr th:only-of-type {\n",
       "        vertical-align: middle;\n",
       "    }\n",
       "\n",
       "    .dataframe tbody tr th {\n",
       "        vertical-align: top;\n",
       "    }\n",
       "\n",
       "    .dataframe thead th {\n",
       "        text-align: right;\n",
       "    }\n",
       "</style>\n",
       "<table border=\"1\" class=\"dataframe\">\n",
       "  <thead>\n",
       "    <tr style=\"text-align: right;\">\n",
       "      <th></th>\n",
       "      <th>PlayerKey</th>\n",
       "      <th>GameID</th>\n",
       "      <th>PlayKey</th>\n",
       "      <th>RosterPosition</th>\n",
       "      <th>PlayerDay</th>\n",
       "      <th>PlayerGame</th>\n",
       "      <th>StadiumType</th>\n",
       "      <th>FieldType</th>\n",
       "      <th>Temperature</th>\n",
       "      <th>Weather</th>\n",
       "      <th>PlayType</th>\n",
       "      <th>PlayerGamePlay</th>\n",
       "      <th>Position</th>\n",
       "      <th>PositionGroup</th>\n",
       "    </tr>\n",
       "  </thead>\n",
       "  <tbody>\n",
       "    <tr>\n",
       "      <th>0</th>\n",
       "      <td>26624</td>\n",
       "      <td>26624-1</td>\n",
       "      <td>26624-1-1</td>\n",
       "      <td>Quarterback</td>\n",
       "      <td>1</td>\n",
       "      <td>1</td>\n",
       "      <td>Outdoor</td>\n",
       "      <td>Synthetic</td>\n",
       "      <td>63</td>\n",
       "      <td>Clear and warm</td>\n",
       "      <td>Pass</td>\n",
       "      <td>1</td>\n",
       "      <td>QB</td>\n",
       "      <td>QB</td>\n",
       "    </tr>\n",
       "    <tr>\n",
       "      <th>1</th>\n",
       "      <td>26624</td>\n",
       "      <td>26624-1</td>\n",
       "      <td>26624-1-2</td>\n",
       "      <td>Quarterback</td>\n",
       "      <td>1</td>\n",
       "      <td>1</td>\n",
       "      <td>Outdoor</td>\n",
       "      <td>Synthetic</td>\n",
       "      <td>63</td>\n",
       "      <td>Clear and warm</td>\n",
       "      <td>Pass</td>\n",
       "      <td>2</td>\n",
       "      <td>QB</td>\n",
       "      <td>QB</td>\n",
       "    </tr>\n",
       "    <tr>\n",
       "      <th>2</th>\n",
       "      <td>26624</td>\n",
       "      <td>26624-1</td>\n",
       "      <td>26624-1-3</td>\n",
       "      <td>Quarterback</td>\n",
       "      <td>1</td>\n",
       "      <td>1</td>\n",
       "      <td>Outdoor</td>\n",
       "      <td>Synthetic</td>\n",
       "      <td>63</td>\n",
       "      <td>Clear and warm</td>\n",
       "      <td>Rush</td>\n",
       "      <td>3</td>\n",
       "      <td>QB</td>\n",
       "      <td>QB</td>\n",
       "    </tr>\n",
       "    <tr>\n",
       "      <th>3</th>\n",
       "      <td>26624</td>\n",
       "      <td>26624-1</td>\n",
       "      <td>26624-1-4</td>\n",
       "      <td>Quarterback</td>\n",
       "      <td>1</td>\n",
       "      <td>1</td>\n",
       "      <td>Outdoor</td>\n",
       "      <td>Synthetic</td>\n",
       "      <td>63</td>\n",
       "      <td>Clear and warm</td>\n",
       "      <td>Rush</td>\n",
       "      <td>4</td>\n",
       "      <td>QB</td>\n",
       "      <td>QB</td>\n",
       "    </tr>\n",
       "    <tr>\n",
       "      <th>4</th>\n",
       "      <td>26624</td>\n",
       "      <td>26624-1</td>\n",
       "      <td>26624-1-5</td>\n",
       "      <td>Quarterback</td>\n",
       "      <td>1</td>\n",
       "      <td>1</td>\n",
       "      <td>Outdoor</td>\n",
       "      <td>Synthetic</td>\n",
       "      <td>63</td>\n",
       "      <td>Clear and warm</td>\n",
       "      <td>Pass</td>\n",
       "      <td>5</td>\n",
       "      <td>QB</td>\n",
       "      <td>QB</td>\n",
       "    </tr>\n",
       "  </tbody>\n",
       "</table>\n",
       "</div>"
      ],
      "text/plain": [
       "   PlayerKey   GameID    PlayKey RosterPosition  PlayerDay  PlayerGame  \\\n",
       "0      26624  26624-1  26624-1-1    Quarterback          1           1   \n",
       "1      26624  26624-1  26624-1-2    Quarterback          1           1   \n",
       "2      26624  26624-1  26624-1-3    Quarterback          1           1   \n",
       "3      26624  26624-1  26624-1-4    Quarterback          1           1   \n",
       "4      26624  26624-1  26624-1-5    Quarterback          1           1   \n",
       "\n",
       "  StadiumType  FieldType  Temperature         Weather PlayType  \\\n",
       "0     Outdoor  Synthetic           63  Clear and warm     Pass   \n",
       "1     Outdoor  Synthetic           63  Clear and warm     Pass   \n",
       "2     Outdoor  Synthetic           63  Clear and warm     Rush   \n",
       "3     Outdoor  Synthetic           63  Clear and warm     Rush   \n",
       "4     Outdoor  Synthetic           63  Clear and warm     Pass   \n",
       "\n",
       "   PlayerGamePlay Position PositionGroup  \n",
       "0               1       QB            QB  \n",
       "1               2       QB            QB  \n",
       "2               3       QB            QB  \n",
       "3               4       QB            QB  \n",
       "4               5       QB            QB  "
      ]
     },
     "execution_count": 212,
     "metadata": {},
     "output_type": "execute_result"
    }
   ],
   "source": [
    "plays = pd.read_csv('NFL_Turf/PlayList.csv')  # 267,000 rows\n",
    "plays.head()\n"
   ]
  },
  {
   "cell_type": "markdown",
   "metadata": {},
   "source": [
    "PlayKey will be used as the Key to merge the datasets, so PlayerKey and GameID can once again be removed. Similarly, we already have the FieldType information in the surface column of the other table. "
   ]
  },
  {
   "cell_type": "code",
   "execution_count": 213,
   "metadata": {},
   "outputs": [
    {
     "data": {
      "text/html": [
       "<div>\n",
       "<style scoped>\n",
       "    .dataframe tbody tr th:only-of-type {\n",
       "        vertical-align: middle;\n",
       "    }\n",
       "\n",
       "    .dataframe tbody tr th {\n",
       "        vertical-align: top;\n",
       "    }\n",
       "\n",
       "    .dataframe thead th {\n",
       "        text-align: right;\n",
       "    }\n",
       "</style>\n",
       "<table border=\"1\" class=\"dataframe\">\n",
       "  <thead>\n",
       "    <tr style=\"text-align: right;\">\n",
       "      <th></th>\n",
       "      <th>PlayKey</th>\n",
       "      <th>RosterPosition</th>\n",
       "      <th>PlayerDay</th>\n",
       "      <th>PlayerGame</th>\n",
       "      <th>StadiumType</th>\n",
       "      <th>Temperature</th>\n",
       "      <th>Weather</th>\n",
       "      <th>PlayType</th>\n",
       "      <th>PlayerGamePlay</th>\n",
       "      <th>Position</th>\n",
       "      <th>PositionGroup</th>\n",
       "    </tr>\n",
       "  </thead>\n",
       "  <tbody>\n",
       "    <tr>\n",
       "      <th>0</th>\n",
       "      <td>26624-1-1</td>\n",
       "      <td>Quarterback</td>\n",
       "      <td>1</td>\n",
       "      <td>1</td>\n",
       "      <td>Outdoor</td>\n",
       "      <td>63</td>\n",
       "      <td>Clear and warm</td>\n",
       "      <td>Pass</td>\n",
       "      <td>1</td>\n",
       "      <td>QB</td>\n",
       "      <td>QB</td>\n",
       "    </tr>\n",
       "    <tr>\n",
       "      <th>1</th>\n",
       "      <td>26624-1-2</td>\n",
       "      <td>Quarterback</td>\n",
       "      <td>1</td>\n",
       "      <td>1</td>\n",
       "      <td>Outdoor</td>\n",
       "      <td>63</td>\n",
       "      <td>Clear and warm</td>\n",
       "      <td>Pass</td>\n",
       "      <td>2</td>\n",
       "      <td>QB</td>\n",
       "      <td>QB</td>\n",
       "    </tr>\n",
       "    <tr>\n",
       "      <th>2</th>\n",
       "      <td>26624-1-3</td>\n",
       "      <td>Quarterback</td>\n",
       "      <td>1</td>\n",
       "      <td>1</td>\n",
       "      <td>Outdoor</td>\n",
       "      <td>63</td>\n",
       "      <td>Clear and warm</td>\n",
       "      <td>Rush</td>\n",
       "      <td>3</td>\n",
       "      <td>QB</td>\n",
       "      <td>QB</td>\n",
       "    </tr>\n",
       "    <tr>\n",
       "      <th>3</th>\n",
       "      <td>26624-1-4</td>\n",
       "      <td>Quarterback</td>\n",
       "      <td>1</td>\n",
       "      <td>1</td>\n",
       "      <td>Outdoor</td>\n",
       "      <td>63</td>\n",
       "      <td>Clear and warm</td>\n",
       "      <td>Rush</td>\n",
       "      <td>4</td>\n",
       "      <td>QB</td>\n",
       "      <td>QB</td>\n",
       "    </tr>\n",
       "    <tr>\n",
       "      <th>4</th>\n",
       "      <td>26624-1-5</td>\n",
       "      <td>Quarterback</td>\n",
       "      <td>1</td>\n",
       "      <td>1</td>\n",
       "      <td>Outdoor</td>\n",
       "      <td>63</td>\n",
       "      <td>Clear and warm</td>\n",
       "      <td>Pass</td>\n",
       "      <td>5</td>\n",
       "      <td>QB</td>\n",
       "      <td>QB</td>\n",
       "    </tr>\n",
       "  </tbody>\n",
       "</table>\n",
       "</div>"
      ],
      "text/plain": [
       "     PlayKey RosterPosition  PlayerDay  PlayerGame StadiumType  Temperature  \\\n",
       "0  26624-1-1    Quarterback          1           1     Outdoor           63   \n",
       "1  26624-1-2    Quarterback          1           1     Outdoor           63   \n",
       "2  26624-1-3    Quarterback          1           1     Outdoor           63   \n",
       "3  26624-1-4    Quarterback          1           1     Outdoor           63   \n",
       "4  26624-1-5    Quarterback          1           1     Outdoor           63   \n",
       "\n",
       "          Weather PlayType  PlayerGamePlay Position PositionGroup  \n",
       "0  Clear and warm     Pass               1       QB            QB  \n",
       "1  Clear and warm     Pass               2       QB            QB  \n",
       "2  Clear and warm     Rush               3       QB            QB  \n",
       "3  Clear and warm     Rush               4       QB            QB  \n",
       "4  Clear and warm     Pass               5       QB            QB  "
      ]
     },
     "execution_count": 213,
     "metadata": {},
     "output_type": "execute_result"
    }
   ],
   "source": [
    "plays.drop(columns=['PlayerKey', 'GameID', 'FieldType'], inplace=True)\n",
    "plays.head()"
   ]
  },
  {
   "cell_type": "code",
   "execution_count": 214,
   "metadata": {},
   "outputs": [
    {
     "data": {
      "text/plain": [
       "PlayKey           267005\n",
       "RosterPosition        10\n",
       "PlayerDay            215\n",
       "PlayerGame            32\n",
       "StadiumType           29\n",
       "Temperature           79\n",
       "Weather               63\n",
       "PlayType              11\n",
       "PlayerGamePlay       102\n",
       "Position              23\n",
       "PositionGroup         10\n",
       "dtype: int64"
      ]
     },
     "execution_count": 214,
     "metadata": {},
     "output_type": "execute_result"
    }
   ],
   "source": [
    "plays.nunique()"
   ]
  },
  {
   "cell_type": "code",
   "execution_count": 215,
   "metadata": {},
   "outputs": [
    {
     "data": {
      "text/plain": [
       "['PlayKey',\n",
       " 'RosterPosition',\n",
       " 'StadiumType',\n",
       " 'Weather',\n",
       " 'PlayType',\n",
       " 'Position',\n",
       " 'PositionGroup']"
      ]
     },
     "execution_count": 215,
     "metadata": {},
     "output_type": "execute_result"
    }
   ],
   "source": [
    "objects = plays.dtypes[plays.dtypes == 'object'].index.tolist()\n",
    "objects"
   ]
  },
  {
   "cell_type": "markdown",
   "metadata": {},
   "source": [
    "- PlayKeys now represent all plays, not only those where injuries occurred - these will function to merge the tables\n",
    "- RosterPosition, Position, and Position Group are all similar and need to be investigated\n",
    "- Weather - there are 63 unique types of weather.... this is odd. \n",
    "- PlayTypes should be encoded, as they are categorical such as pass, rush, kick, ... \n",
    "- Stadium Type is also strange with 29 unique types of stadiums. These can likely be grouped in smaller categories."
   ]
  },
  {
   "cell_type": "code",
   "execution_count": 216,
   "metadata": {},
   "outputs": [
    {
     "data": {
      "text/plain": [
       "array(['Quarterback', 'Wide Receiver', 'Linebacker', 'Running Back',\n",
       "       'Defensive Lineman', 'Tight End', 'Safety', 'Cornerback',\n",
       "       'Offensive Lineman', 'Kicker'], dtype=object)"
      ]
     },
     "execution_count": 216,
     "metadata": {},
     "output_type": "execute_result"
    }
   ],
   "source": [
    "# No Missing values from this column\n",
    "plays.RosterPosition.unique()"
   ]
  },
  {
   "cell_type": "code",
   "execution_count": 217,
   "metadata": {},
   "outputs": [
    {
     "data": {
      "text/plain": [
       "array(['QB', 'Missing Data', 'WR', 'ILB', 'RB', 'DE', 'TE', 'FS', 'CB',\n",
       "       'G', 'T', 'OLB', 'DT', 'SS', 'MLB', 'C', 'NT', 'DB', 'K', 'LB',\n",
       "       'S', 'HB', 'P'], dtype=object)"
      ]
     },
     "execution_count": 217,
     "metadata": {},
     "output_type": "execute_result"
    }
   ],
   "source": [
    "plays.Position.unique()"
   ]
  },
  {
   "cell_type": "code",
   "execution_count": 218,
   "metadata": {},
   "outputs": [
    {
     "data": {
      "text/plain": [
       "Missing Data    45\n",
       "Name: Position, dtype: int64"
      ]
     },
     "execution_count": 218,
     "metadata": {},
     "output_type": "execute_result"
    }
   ],
   "source": [
    "plays.Position[plays.Position == \"Missing Data\"].value_counts()\n"
   ]
  },
  {
   "cell_type": "markdown",
   "metadata": {},
   "source": [
    "- There are 45 Missing values from the Actual position played, which can be set = the Roster Position. \n",
    "- Can change the Roster positions to [QB, WR, LB, RB, DL, TE, S, CB, OL, P]\n",
    "- I'm thinking to fill the missing data in Position to the roster position and then dropping the position group. It will be interesting to see how the roster position differs from the actual position played.  "
   ]
  },
  {
   "cell_type": "code",
   "execution_count": 219,
   "metadata": {},
   "outputs": [
    {
     "data": {
      "text/plain": [
       "array(['QB', 'Missing Data', 'WR', 'LB', 'RB', 'DL', 'TE', 'DB', 'OL',\n",
       "       'SPEC'], dtype=object)"
      ]
     },
     "execution_count": 219,
     "metadata": {},
     "output_type": "execute_result"
    }
   ],
   "source": [
    "plays.PositionGroup.unique()"
   ]
  },
  {
   "cell_type": "code",
   "execution_count": 220,
   "metadata": {},
   "outputs": [
    {
     "data": {
      "text/plain": [
       "Missing Data    45\n",
       "Name: PositionGroup, dtype: int64"
      ]
     },
     "execution_count": 220,
     "metadata": {},
     "output_type": "execute_result"
    }
   ],
   "source": [
    "plays.PositionGroup[plays.PositionGroup == \"Missing Data\"].value_counts()"
   ]
  },
  {
   "cell_type": "code",
   "execution_count": 221,
   "metadata": {},
   "outputs": [
    {
     "data": {
      "text/plain": [
       "['Outdoor',\n",
       " 'Indoors',\n",
       " 'Oudoor',\n",
       " 'Outdoors',\n",
       " 'Open',\n",
       " 'Closed Dome',\n",
       " 'Domed, closed',\n",
       " nan,\n",
       " 'Dome',\n",
       " 'Indoor',\n",
       " 'Domed',\n",
       " 'Retr. Roof-Closed',\n",
       " 'Outdoor Retr Roof-Open',\n",
       " 'Retractable Roof',\n",
       " 'Ourdoor',\n",
       " 'Indoor, Roof Closed',\n",
       " 'Retr. Roof - Closed',\n",
       " 'Bowl',\n",
       " 'Outddors',\n",
       " 'Retr. Roof-Open',\n",
       " 'Dome, closed',\n",
       " 'Indoor, Open Roof',\n",
       " 'Domed, Open',\n",
       " 'Domed, open',\n",
       " 'Heinz Field',\n",
       " 'Cloudy',\n",
       " 'Retr. Roof - Open',\n",
       " 'Retr. Roof Closed',\n",
       " 'Outdor',\n",
       " 'Outside']"
      ]
     },
     "execution_count": 221,
     "metadata": {},
     "output_type": "execute_result"
    }
   ],
   "source": [
    "stadiums = plays.StadiumType.unique().tolist()\n",
    "stadiums"
   ]
  },
  {
   "cell_type": "markdown",
   "metadata": {},
   "source": [
    "Most of the values in the stadium types are just spelled wrong. There are at least 7 spellings of outdoor."
   ]
  },
  {
   "cell_type": "code",
   "execution_count": 222,
   "metadata": {},
   "outputs": [
    {
     "data": {
      "text/plain": [
       "16910"
      ]
     },
     "execution_count": 222,
     "metadata": {},
     "output_type": "execute_result"
    }
   ],
   "source": [
    "plays.StadiumType.isna().sum()"
   ]
  },
  {
   "cell_type": "code",
   "execution_count": 223,
   "metadata": {},
   "outputs": [
    {
     "data": {
      "text/plain": [
       "0"
      ]
     },
     "execution_count": 223,
     "metadata": {},
     "output_type": "execute_result"
    }
   ],
   "source": [
    "plays.StadiumType.fillna('Outdoor', inplace=True)\n",
    "plays.StadiumType.isna().sum()\n"
   ]
  },
  {
   "cell_type": "code",
   "execution_count": 224,
   "metadata": {},
   "outputs": [
    {
     "data": {
      "text/html": [
       "<div>\n",
       "<style scoped>\n",
       "    .dataframe tbody tr th:only-of-type {\n",
       "        vertical-align: middle;\n",
       "    }\n",
       "\n",
       "    .dataframe tbody tr th {\n",
       "        vertical-align: top;\n",
       "    }\n",
       "\n",
       "    .dataframe thead th {\n",
       "        text-align: right;\n",
       "    }\n",
       "</style>\n",
       "<table border=\"1\" class=\"dataframe\">\n",
       "  <thead>\n",
       "    <tr style=\"text-align: right;\">\n",
       "      <th></th>\n",
       "      <th>PlayKey</th>\n",
       "      <th>RosterPosition</th>\n",
       "      <th>PlayerDay</th>\n",
       "      <th>PlayerGame</th>\n",
       "      <th>StadiumType</th>\n",
       "      <th>Temperature</th>\n",
       "      <th>Weather</th>\n",
       "      <th>PlayType</th>\n",
       "      <th>PlayerGamePlay</th>\n",
       "      <th>Position</th>\n",
       "      <th>PositionGroup</th>\n",
       "    </tr>\n",
       "  </thead>\n",
       "  <tbody>\n",
       "    <tr>\n",
       "      <th>0</th>\n",
       "      <td>26624-1-1</td>\n",
       "      <td>Quarterback</td>\n",
       "      <td>1</td>\n",
       "      <td>1</td>\n",
       "      <td>Outdoor</td>\n",
       "      <td>63</td>\n",
       "      <td>Clear and warm</td>\n",
       "      <td>Pass</td>\n",
       "      <td>1</td>\n",
       "      <td>QB</td>\n",
       "      <td>QB</td>\n",
       "    </tr>\n",
       "    <tr>\n",
       "      <th>1</th>\n",
       "      <td>26624-1-2</td>\n",
       "      <td>Quarterback</td>\n",
       "      <td>1</td>\n",
       "      <td>1</td>\n",
       "      <td>Outdoor</td>\n",
       "      <td>63</td>\n",
       "      <td>Clear and warm</td>\n",
       "      <td>Pass</td>\n",
       "      <td>2</td>\n",
       "      <td>QB</td>\n",
       "      <td>QB</td>\n",
       "    </tr>\n",
       "    <tr>\n",
       "      <th>2</th>\n",
       "      <td>26624-1-3</td>\n",
       "      <td>Quarterback</td>\n",
       "      <td>1</td>\n",
       "      <td>1</td>\n",
       "      <td>Outdoor</td>\n",
       "      <td>63</td>\n",
       "      <td>Clear and warm</td>\n",
       "      <td>Rush</td>\n",
       "      <td>3</td>\n",
       "      <td>QB</td>\n",
       "      <td>QB</td>\n",
       "    </tr>\n",
       "    <tr>\n",
       "      <th>3</th>\n",
       "      <td>26624-1-4</td>\n",
       "      <td>Quarterback</td>\n",
       "      <td>1</td>\n",
       "      <td>1</td>\n",
       "      <td>Outdoor</td>\n",
       "      <td>63</td>\n",
       "      <td>Clear and warm</td>\n",
       "      <td>Rush</td>\n",
       "      <td>4</td>\n",
       "      <td>QB</td>\n",
       "      <td>QB</td>\n",
       "    </tr>\n",
       "    <tr>\n",
       "      <th>4</th>\n",
       "      <td>26624-1-5</td>\n",
       "      <td>Quarterback</td>\n",
       "      <td>1</td>\n",
       "      <td>1</td>\n",
       "      <td>Outdoor</td>\n",
       "      <td>63</td>\n",
       "      <td>Clear and warm</td>\n",
       "      <td>Pass</td>\n",
       "      <td>5</td>\n",
       "      <td>QB</td>\n",
       "      <td>QB</td>\n",
       "    </tr>\n",
       "  </tbody>\n",
       "</table>\n",
       "</div>"
      ],
      "text/plain": [
       "     PlayKey RosterPosition  PlayerDay  PlayerGame StadiumType  Temperature  \\\n",
       "0  26624-1-1    Quarterback          1           1     Outdoor           63   \n",
       "1  26624-1-2    Quarterback          1           1     Outdoor           63   \n",
       "2  26624-1-3    Quarterback          1           1     Outdoor           63   \n",
       "3  26624-1-4    Quarterback          1           1     Outdoor           63   \n",
       "4  26624-1-5    Quarterback          1           1     Outdoor           63   \n",
       "\n",
       "          Weather PlayType  PlayerGamePlay Position PositionGroup  \n",
       "0  Clear and warm     Pass               1       QB            QB  \n",
       "1  Clear and warm     Pass               2       QB            QB  \n",
       "2  Clear and warm     Rush               3       QB            QB  \n",
       "3  Clear and warm     Rush               4       QB            QB  \n",
       "4  Clear and warm     Pass               5       QB            QB  "
      ]
     },
     "execution_count": 224,
     "metadata": {},
     "output_type": "execute_result"
    }
   ],
   "source": [
    "\n",
    "dict = {'Outdoor': 'Outdoor',\n",
    "         'Indoors': 'Indoor',\n",
    "         'Oudoor': 'Outdoor',\n",
    "         'Outdoors': 'Outdoor',\n",
    "         'Open': 'Open Dome',\n",
    "         'Closed Dome': 'Closed Dome',\n",
    "         'Domed, closed': 'Closed Dome',\n",
    "         'Dome': 'Closed Dome',\n",
    "         'Indoor': 'Indoor',\n",
    "         'Domed': 'Closed Dome',\n",
    "         'Retr. Roof-Closed': 'Closed Dome',\n",
    "         'Outdoor Retr Roof-Open': 'Open Dome',\n",
    "         'Retractable Roof': 'Open Dome',\n",
    "         'Ourdoor': 'Outdoor',\n",
    "         'Indoor, Roof Closed': 'Closed Dome',\n",
    "         'Retr. Roof - Closed': 'Closed Dome',\n",
    "         'Bowl': 'Outdoor',\n",
    "         'Outddors': 'Outdoor',\n",
    "         'Retr. Roof-Open': 'Open Dome',\n",
    "         'Dome, closed': 'Closed Dome',\n",
    "         'Indoor, Open Roof': 'Open Dome',\n",
    "         'Domed, Open': 'Open Dome',\n",
    "         'Domed, open': 'Open Dome',\n",
    "         'Heinz Field': 'Outdoor',\n",
    "         'Cloudy': 'Outdoor',\n",
    "         'Retr. Roof - Open': 'Open Dome',\n",
    "         'Retr. Roof Closed': 'Closed Dome',\n",
    "         'Outdor': 'Outdoor',\n",
    "         'Outside': 'Outdoor'}\n",
    "\n",
    "\n",
    "plays.StadiumType.replace(dict, inplace=True)\n",
    "plays.head()"
   ]
  },
  {
   "cell_type": "code",
   "execution_count": 225,
   "metadata": {},
   "outputs": [
    {
     "data": {
      "text/plain": [
       "4"
      ]
     },
     "execution_count": 225,
     "metadata": {},
     "output_type": "execute_result"
    }
   ],
   "source": [
    "plays.StadiumType.nunique()"
   ]
  },
  {
   "cell_type": "code",
   "execution_count": 226,
   "metadata": {},
   "outputs": [
    {
     "data": {
      "text/plain": [
       "['Clear and warm',\n",
       " 'Mostly Cloudy',\n",
       " 'Sunny',\n",
       " 'Clear',\n",
       " 'Cloudy',\n",
       " 'Cloudy, fog started developing in 2nd quarter',\n",
       " 'Rain',\n",
       " 'Partly Cloudy',\n",
       " 'Mostly cloudy',\n",
       " 'Cloudy and cold',\n",
       " 'Cloudy and Cool',\n",
       " 'Rain Chance 40%',\n",
       " 'Controlled Climate',\n",
       " 'Sunny and warm',\n",
       " 'Partly cloudy',\n",
       " 'Clear and Cool',\n",
       " 'Clear and cold',\n",
       " 'Sunny and cold',\n",
       " 'Indoor',\n",
       " nan,\n",
       " 'Partly Sunny',\n",
       " 'N/A (Indoors)',\n",
       " 'Mostly Sunny',\n",
       " 'Indoors',\n",
       " 'Clear Skies',\n",
       " 'Partly sunny',\n",
       " 'Showers',\n",
       " 'N/A Indoor',\n",
       " 'Sunny and clear',\n",
       " 'Snow',\n",
       " 'Scattered Showers',\n",
       " 'Party Cloudy',\n",
       " 'Clear skies',\n",
       " 'Rain likely, temps in low 40s.',\n",
       " 'Hazy',\n",
       " 'Partly Clouidy',\n",
       " 'Sunny Skies',\n",
       " 'Overcast',\n",
       " 'Cloudy, 50% change of rain',\n",
       " 'Fair',\n",
       " 'Light Rain',\n",
       " 'Partly clear',\n",
       " 'Mostly Coudy',\n",
       " '10% Chance of Rain',\n",
       " 'Cloudy, chance of rain',\n",
       " 'Heat Index 95',\n",
       " 'Sunny, highs to upper 80s',\n",
       " 'Sun & clouds',\n",
       " 'Heavy lake effect snow',\n",
       " 'Mostly sunny',\n",
       " 'Cloudy, Rain',\n",
       " 'Sunny, Windy',\n",
       " 'Mostly Sunny Skies',\n",
       " 'Rainy',\n",
       " '30% Chance of Rain',\n",
       " 'Cloudy, light snow accumulating 1-3\"',\n",
       " 'cloudy',\n",
       " 'Clear and Sunny',\n",
       " 'Coudy',\n",
       " 'Clear and sunny',\n",
       " 'Clear to Partly Cloudy',\n",
       " 'Cloudy with periods of rain, thunder possible. Winds shifting to WNW, 10-20 mph.',\n",
       " 'Rain shower',\n",
       " 'Cold']"
      ]
     },
     "execution_count": 226,
     "metadata": {},
     "output_type": "execute_result"
    }
   ],
   "source": [
    "weather_list = plays.Weather.unique().tolist()\n",
    "weather_list"
   ]
  },
  {
   "cell_type": "code",
   "execution_count": 227,
   "metadata": {},
   "outputs": [
    {
     "data": {
      "text/html": [
       "<div>\n",
       "<style scoped>\n",
       "    .dataframe tbody tr th:only-of-type {\n",
       "        vertical-align: middle;\n",
       "    }\n",
       "\n",
       "    .dataframe tbody tr th {\n",
       "        vertical-align: top;\n",
       "    }\n",
       "\n",
       "    .dataframe thead th {\n",
       "        text-align: right;\n",
       "    }\n",
       "</style>\n",
       "<table border=\"1\" class=\"dataframe\">\n",
       "  <thead>\n",
       "    <tr style=\"text-align: right;\">\n",
       "      <th></th>\n",
       "      <th>PlayKey</th>\n",
       "      <th>RosterPosition</th>\n",
       "      <th>PlayerDay</th>\n",
       "      <th>PlayerGame</th>\n",
       "      <th>StadiumType</th>\n",
       "      <th>Temperature</th>\n",
       "      <th>Weather</th>\n",
       "      <th>PlayType</th>\n",
       "      <th>PlayerGamePlay</th>\n",
       "      <th>Position</th>\n",
       "      <th>PositionGroup</th>\n",
       "    </tr>\n",
       "  </thead>\n",
       "  <tbody>\n",
       "    <tr>\n",
       "      <th>0</th>\n",
       "      <td>26624-1-1</td>\n",
       "      <td>Quarterback</td>\n",
       "      <td>1</td>\n",
       "      <td>1</td>\n",
       "      <td>Outdoor</td>\n",
       "      <td>63</td>\n",
       "      <td>Clear</td>\n",
       "      <td>Pass</td>\n",
       "      <td>1</td>\n",
       "      <td>QB</td>\n",
       "      <td>QB</td>\n",
       "    </tr>\n",
       "    <tr>\n",
       "      <th>1</th>\n",
       "      <td>26624-1-2</td>\n",
       "      <td>Quarterback</td>\n",
       "      <td>1</td>\n",
       "      <td>1</td>\n",
       "      <td>Outdoor</td>\n",
       "      <td>63</td>\n",
       "      <td>Clear</td>\n",
       "      <td>Pass</td>\n",
       "      <td>2</td>\n",
       "      <td>QB</td>\n",
       "      <td>QB</td>\n",
       "    </tr>\n",
       "    <tr>\n",
       "      <th>2</th>\n",
       "      <td>26624-1-3</td>\n",
       "      <td>Quarterback</td>\n",
       "      <td>1</td>\n",
       "      <td>1</td>\n",
       "      <td>Outdoor</td>\n",
       "      <td>63</td>\n",
       "      <td>Clear</td>\n",
       "      <td>Rush</td>\n",
       "      <td>3</td>\n",
       "      <td>QB</td>\n",
       "      <td>QB</td>\n",
       "    </tr>\n",
       "    <tr>\n",
       "      <th>3</th>\n",
       "      <td>26624-1-4</td>\n",
       "      <td>Quarterback</td>\n",
       "      <td>1</td>\n",
       "      <td>1</td>\n",
       "      <td>Outdoor</td>\n",
       "      <td>63</td>\n",
       "      <td>Clear</td>\n",
       "      <td>Rush</td>\n",
       "      <td>4</td>\n",
       "      <td>QB</td>\n",
       "      <td>QB</td>\n",
       "    </tr>\n",
       "    <tr>\n",
       "      <th>4</th>\n",
       "      <td>26624-1-5</td>\n",
       "      <td>Quarterback</td>\n",
       "      <td>1</td>\n",
       "      <td>1</td>\n",
       "      <td>Outdoor</td>\n",
       "      <td>63</td>\n",
       "      <td>Clear</td>\n",
       "      <td>Pass</td>\n",
       "      <td>5</td>\n",
       "      <td>QB</td>\n",
       "      <td>QB</td>\n",
       "    </tr>\n",
       "  </tbody>\n",
       "</table>\n",
       "</div>"
      ],
      "text/plain": [
       "     PlayKey RosterPosition  PlayerDay  PlayerGame StadiumType  Temperature  \\\n",
       "0  26624-1-1    Quarterback          1           1     Outdoor           63   \n",
       "1  26624-1-2    Quarterback          1           1     Outdoor           63   \n",
       "2  26624-1-3    Quarterback          1           1     Outdoor           63   \n",
       "3  26624-1-4    Quarterback          1           1     Outdoor           63   \n",
       "4  26624-1-5    Quarterback          1           1     Outdoor           63   \n",
       "\n",
       "  Weather PlayType  PlayerGamePlay Position PositionGroup  \n",
       "0   Clear     Pass               1       QB            QB  \n",
       "1   Clear     Pass               2       QB            QB  \n",
       "2   Clear     Rush               3       QB            QB  \n",
       "3   Clear     Rush               4       QB            QB  \n",
       "4   Clear     Pass               5       QB            QB  "
      ]
     },
     "execution_count": 227,
     "metadata": {},
     "output_type": "execute_result"
    }
   ],
   "source": [
    "weather_dict = {'Clear and warm': 'Clear',\n",
    " 'Mostly Cloudy': 'Cloudy',\n",
    " 'Sunny': 'Clear',\n",
    " 'Clear': 'Clear',\n",
    " 'Cloudy': 'Cloudy',\n",
    " 'Cloudy, fog started developing in 2nd quarter': 'Cloudy',\n",
    " 'Rain': 'Rain',\n",
    " 'Partly Cloudy': 'Cloudy',\n",
    " 'Mostly cloudy': 'Cloudy',\n",
    " 'Cloudy and cold': 'Cloudy',\n",
    " 'Cloudy and Cool': 'Cloudy',\n",
    " 'Rain Chance 40%': 'Rain',\n",
    " 'Controlled Climate': 'Indoor',\n",
    " 'Sunny and warm': 'Clear',\n",
    " 'Partly cloudy': 'Cloudy',\n",
    " 'Clear and Cool': 'Cloudy',\n",
    " 'Clear and cold': 'Cloudy',\n",
    " 'Sunny and cold': 'Clear',\n",
    " 'Indoor': 'Indoor',\n",
    " 'Partly Sunny': 'Clear',\n",
    " 'N/A (Indoors)': 'Indoor',\n",
    " 'Mostly Sunny': 'Clear',\n",
    " 'Indoors': 'Indoor',\n",
    " 'Clear Skies': 'Clear',\n",
    " 'Partly sunny': 'Clear',\n",
    " 'Showers': 'Rain',\n",
    " 'N/A Indoor': 'Indoor',\n",
    " 'Sunny and clear': 'Clear',\n",
    " 'Snow': 'Snow',\n",
    " 'Scattered Showers': 'Rain',\n",
    " 'Party Cloudy': 'Cloudy',\n",
    " 'Clear skies': 'Clear',\n",
    " 'Rain likely, temps in low 40s.': 'Rain',\n",
    " 'Hazy': 'Cloudy',\n",
    " 'Partly Clouidy': 'Cloudy',\n",
    " 'Sunny Skies': 'Clear',\n",
    " 'Overcast': 'Cloudy',\n",
    " 'Cloudy, 50% change of rain': 'Cloudy',\n",
    " 'Fair': 'Clear',\n",
    " 'Light Rain': 'Rain',\n",
    " 'Partly clear': 'Clear',\n",
    " 'Mostly Coudy': 'Cloudy',\n",
    " '10% Chance of Rain': 'Cloudy',\n",
    " 'Cloudy, chance of rain': 'Cloudy',\n",
    " 'Heat Index 95': 'Clear',\n",
    " 'Sunny, highs to upper 80s': 'Clear',\n",
    " 'Sun & clouds': 'Cloudy',\n",
    " 'Heavy lake effect snow': 'Snow',\n",
    " 'Mostly sunny': 'Clear',\n",
    " 'Cloudy, Rain': 'Rain',\n",
    " 'Sunny, Windy': 'Windy',\n",
    " 'Mostly Sunny Skies': 'Clear',\n",
    " 'Rainy': 'Rain',\n",
    " '30% Chance of Rain': 'Rain',\n",
    " 'Cloudy, light snow accumulating 1-3\"': 'Snow',\n",
    " 'cloudy': 'Cloudy',\n",
    " 'Clear and Sunny': 'Clear',\n",
    " 'Coudy': 'Cloudy',\n",
    " 'Clear and sunny': 'Clear',\n",
    " 'Clear to Partly Cloudy': 'Clear',\n",
    " 'Cloudy with periods of rain, thunder possible. Winds shifting to WNW, 10-20 mph.': 'Windy',\n",
    " 'Rain shower': 'Rain',\n",
    " 'Cold': 'Clear'}\n",
    "\n",
    "plays.Weather.replace(weather_dict, inplace=True)\n",
    "plays.head()"
   ]
  },
  {
   "cell_type": "markdown",
   "metadata": {},
   "source": [
    "Assess whether the nan rows are indoor statiums, in which case, change to Indoor, otherwise ???"
   ]
  },
  {
   "cell_type": "code",
   "execution_count": 228,
   "metadata": {},
   "outputs": [
    {
     "data": {
      "text/plain": [
       "array(['Clear', 'Cloudy', 'Rain', 'Indoor', nan, 'Snow', 'Windy'],\n",
       "      dtype=object)"
      ]
     },
     "execution_count": 228,
     "metadata": {},
     "output_type": "execute_result"
    }
   ],
   "source": [
    "plays['Weather'].unique()"
   ]
  },
  {
   "cell_type": "code",
   "execution_count": 229,
   "metadata": {},
   "outputs": [
    {
     "data": {
      "text/plain": [
       "Cloudy    114115\n",
       "Clear      96985\n",
       "Indoor     20276\n",
       "Rain       14280\n",
       "Snow        1945\n",
       "Windy        713\n",
       "Name: Weather, dtype: int64"
      ]
     },
     "execution_count": 229,
     "metadata": {},
     "output_type": "execute_result"
    }
   ],
   "source": [
    "plays.Weather.value_counts()"
   ]
  },
  {
   "cell_type": "code",
   "execution_count": 231,
   "metadata": {},
   "outputs": [
    {
     "data": {
      "text/plain": [
       "18691"
      ]
     },
     "execution_count": 231,
     "metadata": {},
     "output_type": "execute_result"
    }
   ],
   "source": [
    "plays.Weather.isna().sum()"
   ]
  },
  {
   "cell_type": "code",
   "execution_count": 232,
   "metadata": {},
   "outputs": [],
   "source": [
    "plays.loc[plays.StadiumType == 'Indoor', 'Weather'] = plays.loc[plays.StadiumType == 'Indoor', 'Weather'].fillna('Indoor')\n"
   ]
  },
  {
   "cell_type": "code",
   "execution_count": 233,
   "metadata": {},
   "outputs": [
    {
     "data": {
      "text/plain": [
       "Cloudy    114115\n",
       "Clear      96985\n",
       "Indoor     27113\n",
       "Rain       14280\n",
       "Snow        1945\n",
       "Windy        713\n",
       "Name: Weather, dtype: int64"
      ]
     },
     "execution_count": 233,
     "metadata": {},
     "output_type": "execute_result"
    }
   ],
   "source": [
    "plays.Weather.value_counts()"
   ]
  },
  {
   "cell_type": "code",
   "execution_count": 234,
   "metadata": {},
   "outputs": [
    {
     "data": {
      "text/plain": [
       "11854"
      ]
     },
     "execution_count": 234,
     "metadata": {},
     "output_type": "execute_result"
    }
   ],
   "source": [
    "plays.Weather.isna().sum()"
   ]
  },
  {
   "cell_type": "markdown",
   "metadata": {},
   "source": [
    "For now, drop the remaining columns where weather is unknown. "
   ]
  },
  {
   "cell_type": "code",
   "execution_count": 239,
   "metadata": {},
   "outputs": [
    {
     "data": {
      "text/plain": [
       "0"
      ]
     },
     "execution_count": 239,
     "metadata": {},
     "output_type": "execute_result"
    }
   ],
   "source": [
    "plays = plays.loc[plays.Weather.isna() == False]\n",
    "plays.Weather.isna().sum()"
   ]
  },
  {
   "cell_type": "markdown",
   "metadata": {},
   "source": [
    "So now the NaN values for outdoor games have been removed, and all non-outdoor games were set to indoor."
   ]
  },
  {
   "cell_type": "code",
   "execution_count": 243,
   "metadata": {},
   "outputs": [
    {
     "data": {
      "text/plain": [
       "6"
      ]
     },
     "execution_count": 243,
     "metadata": {},
     "output_type": "execute_result"
    }
   ],
   "source": [
    "plays.Weather.nunique()"
   ]
  },
  {
   "cell_type": "markdown",
   "metadata": {},
   "source": [
    "With 6 unique weather values, these data are ready to be encoded. "
   ]
  }
 ],
 "metadata": {
  "kernelspec": {
   "display_name": "Python 3.7.13 ('mlenv')",
   "language": "python",
   "name": "python3"
  },
  "language_info": {
   "codemirror_mode": {
    "name": "ipython",
    "version": 3
   },
   "file_extension": ".py",
   "mimetype": "text/x-python",
   "name": "python",
   "nbconvert_exporter": "python",
   "pygments_lexer": "ipython3",
   "version": "3.7.13"
  },
  "orig_nbformat": 4,
  "vscode": {
   "interpreter": {
    "hash": "55a128abeef29120eb7bd22a6a2e883184ae9f9178564f0df9c7c7d3d676105f"
   }
  }
 },
 "nbformat": 4,
 "nbformat_minor": 2
}
