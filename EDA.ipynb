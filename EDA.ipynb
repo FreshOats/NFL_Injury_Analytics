{
 "cells": [
  {
   "cell_type": "code",
   "execution_count": 290,
   "metadata": {},
   "outputs": [],
   "source": [
    "import pandas as pd\n",
    "import numpy as np\n"
   ]
  },
  {
   "cell_type": "markdown",
   "metadata": {},
   "source": [
    "# Exploratory Data Analysis - Turf Datasets"
   ]
  },
  {
   "cell_type": "markdown",
   "metadata": {},
   "source": [
    "## Analyzing the Plays from the PlayList file\n",
    "\n",
    "The first thing to note is that this list contains all of the plays, including the exact play that will match with the injury list, therefore anything that is on both with the exception of the PlayerKey should be maintained on THIS DF so that we don't lose data on the non-injury columns"
   ]
  },
  {
   "cell_type": "code",
   "execution_count": 291,
   "metadata": {},
   "outputs": [
    {
     "data": {
      "text/html": [
       "<div>\n",
       "<style scoped>\n",
       "    .dataframe tbody tr th:only-of-type {\n",
       "        vertical-align: middle;\n",
       "    }\n",
       "\n",
       "    .dataframe tbody tr th {\n",
       "        vertical-align: top;\n",
       "    }\n",
       "\n",
       "    .dataframe thead th {\n",
       "        text-align: right;\n",
       "    }\n",
       "</style>\n",
       "<table border=\"1\" class=\"dataframe\">\n",
       "  <thead>\n",
       "    <tr style=\"text-align: right;\">\n",
       "      <th></th>\n",
       "      <th>PlayerKey</th>\n",
       "      <th>GameID</th>\n",
       "      <th>PlayKey</th>\n",
       "      <th>RosterPosition</th>\n",
       "      <th>PlayerDay</th>\n",
       "      <th>PlayerGame</th>\n",
       "      <th>StadiumType</th>\n",
       "      <th>FieldType</th>\n",
       "      <th>Temperature</th>\n",
       "      <th>Weather</th>\n",
       "      <th>PlayType</th>\n",
       "      <th>PlayerGamePlay</th>\n",
       "      <th>Position</th>\n",
       "      <th>PositionGroup</th>\n",
       "    </tr>\n",
       "  </thead>\n",
       "  <tbody>\n",
       "    <tr>\n",
       "      <th>0</th>\n",
       "      <td>26624</td>\n",
       "      <td>26624-1</td>\n",
       "      <td>26624-1-1</td>\n",
       "      <td>Quarterback</td>\n",
       "      <td>1</td>\n",
       "      <td>1</td>\n",
       "      <td>Outdoor</td>\n",
       "      <td>Synthetic</td>\n",
       "      <td>63</td>\n",
       "      <td>Clear and warm</td>\n",
       "      <td>Pass</td>\n",
       "      <td>1</td>\n",
       "      <td>QB</td>\n",
       "      <td>QB</td>\n",
       "    </tr>\n",
       "    <tr>\n",
       "      <th>1</th>\n",
       "      <td>26624</td>\n",
       "      <td>26624-1</td>\n",
       "      <td>26624-1-2</td>\n",
       "      <td>Quarterback</td>\n",
       "      <td>1</td>\n",
       "      <td>1</td>\n",
       "      <td>Outdoor</td>\n",
       "      <td>Synthetic</td>\n",
       "      <td>63</td>\n",
       "      <td>Clear and warm</td>\n",
       "      <td>Pass</td>\n",
       "      <td>2</td>\n",
       "      <td>QB</td>\n",
       "      <td>QB</td>\n",
       "    </tr>\n",
       "    <tr>\n",
       "      <th>2</th>\n",
       "      <td>26624</td>\n",
       "      <td>26624-1</td>\n",
       "      <td>26624-1-3</td>\n",
       "      <td>Quarterback</td>\n",
       "      <td>1</td>\n",
       "      <td>1</td>\n",
       "      <td>Outdoor</td>\n",
       "      <td>Synthetic</td>\n",
       "      <td>63</td>\n",
       "      <td>Clear and warm</td>\n",
       "      <td>Rush</td>\n",
       "      <td>3</td>\n",
       "      <td>QB</td>\n",
       "      <td>QB</td>\n",
       "    </tr>\n",
       "    <tr>\n",
       "      <th>3</th>\n",
       "      <td>26624</td>\n",
       "      <td>26624-1</td>\n",
       "      <td>26624-1-4</td>\n",
       "      <td>Quarterback</td>\n",
       "      <td>1</td>\n",
       "      <td>1</td>\n",
       "      <td>Outdoor</td>\n",
       "      <td>Synthetic</td>\n",
       "      <td>63</td>\n",
       "      <td>Clear and warm</td>\n",
       "      <td>Rush</td>\n",
       "      <td>4</td>\n",
       "      <td>QB</td>\n",
       "      <td>QB</td>\n",
       "    </tr>\n",
       "    <tr>\n",
       "      <th>4</th>\n",
       "      <td>26624</td>\n",
       "      <td>26624-1</td>\n",
       "      <td>26624-1-5</td>\n",
       "      <td>Quarterback</td>\n",
       "      <td>1</td>\n",
       "      <td>1</td>\n",
       "      <td>Outdoor</td>\n",
       "      <td>Synthetic</td>\n",
       "      <td>63</td>\n",
       "      <td>Clear and warm</td>\n",
       "      <td>Pass</td>\n",
       "      <td>5</td>\n",
       "      <td>QB</td>\n",
       "      <td>QB</td>\n",
       "    </tr>\n",
       "  </tbody>\n",
       "</table>\n",
       "</div>"
      ],
      "text/plain": [
       "   PlayerKey   GameID    PlayKey RosterPosition  PlayerDay  PlayerGame  \\\n",
       "0      26624  26624-1  26624-1-1    Quarterback          1           1   \n",
       "1      26624  26624-1  26624-1-2    Quarterback          1           1   \n",
       "2      26624  26624-1  26624-1-3    Quarterback          1           1   \n",
       "3      26624  26624-1  26624-1-4    Quarterback          1           1   \n",
       "4      26624  26624-1  26624-1-5    Quarterback          1           1   \n",
       "\n",
       "  StadiumType  FieldType  Temperature         Weather PlayType  \\\n",
       "0     Outdoor  Synthetic           63  Clear and warm     Pass   \n",
       "1     Outdoor  Synthetic           63  Clear and warm     Pass   \n",
       "2     Outdoor  Synthetic           63  Clear and warm     Rush   \n",
       "3     Outdoor  Synthetic           63  Clear and warm     Rush   \n",
       "4     Outdoor  Synthetic           63  Clear and warm     Pass   \n",
       "\n",
       "   PlayerGamePlay Position PositionGroup  \n",
       "0               1       QB            QB  \n",
       "1               2       QB            QB  \n",
       "2               3       QB            QB  \n",
       "3               4       QB            QB  \n",
       "4               5       QB            QB  "
      ]
     },
     "execution_count": 291,
     "metadata": {},
     "output_type": "execute_result"
    }
   ],
   "source": [
    "plays = pd.read_csv('NFL_Turf/PlayList.csv')  # 267,000 rows\n",
    "plays.head()"
   ]
  },
  {
   "cell_type": "markdown",
   "metadata": {},
   "source": [
    "PlayKey will be used as the Key to merge the datasets, so PlayerKey and GameID can be removed. While FieldType information is also in the surface column of the injuries table, we need to maintain it here, so we don't lose the data from the columns not containing injuries. "
   ]
  },
  {
   "cell_type": "code",
   "execution_count": 292,
   "metadata": {},
   "outputs": [
    {
     "data": {
      "text/html": [
       "<div>\n",
       "<style scoped>\n",
       "    .dataframe tbody tr th:only-of-type {\n",
       "        vertical-align: middle;\n",
       "    }\n",
       "\n",
       "    .dataframe tbody tr th {\n",
       "        vertical-align: top;\n",
       "    }\n",
       "\n",
       "    .dataframe thead th {\n",
       "        text-align: right;\n",
       "    }\n",
       "</style>\n",
       "<table border=\"1\" class=\"dataframe\">\n",
       "  <thead>\n",
       "    <tr style=\"text-align: right;\">\n",
       "      <th></th>\n",
       "      <th>PlayKey</th>\n",
       "      <th>RosterPosition</th>\n",
       "      <th>PlayerDay</th>\n",
       "      <th>PlayerGame</th>\n",
       "      <th>StadiumType</th>\n",
       "      <th>FieldType</th>\n",
       "      <th>Temperature</th>\n",
       "      <th>Weather</th>\n",
       "      <th>PlayType</th>\n",
       "      <th>PlayerGamePlay</th>\n",
       "      <th>Position</th>\n",
       "      <th>PositionGroup</th>\n",
       "    </tr>\n",
       "  </thead>\n",
       "  <tbody>\n",
       "    <tr>\n",
       "      <th>0</th>\n",
       "      <td>26624-1-1</td>\n",
       "      <td>Quarterback</td>\n",
       "      <td>1</td>\n",
       "      <td>1</td>\n",
       "      <td>Outdoor</td>\n",
       "      <td>Synthetic</td>\n",
       "      <td>63</td>\n",
       "      <td>Clear and warm</td>\n",
       "      <td>Pass</td>\n",
       "      <td>1</td>\n",
       "      <td>QB</td>\n",
       "      <td>QB</td>\n",
       "    </tr>\n",
       "    <tr>\n",
       "      <th>1</th>\n",
       "      <td>26624-1-2</td>\n",
       "      <td>Quarterback</td>\n",
       "      <td>1</td>\n",
       "      <td>1</td>\n",
       "      <td>Outdoor</td>\n",
       "      <td>Synthetic</td>\n",
       "      <td>63</td>\n",
       "      <td>Clear and warm</td>\n",
       "      <td>Pass</td>\n",
       "      <td>2</td>\n",
       "      <td>QB</td>\n",
       "      <td>QB</td>\n",
       "    </tr>\n",
       "    <tr>\n",
       "      <th>2</th>\n",
       "      <td>26624-1-3</td>\n",
       "      <td>Quarterback</td>\n",
       "      <td>1</td>\n",
       "      <td>1</td>\n",
       "      <td>Outdoor</td>\n",
       "      <td>Synthetic</td>\n",
       "      <td>63</td>\n",
       "      <td>Clear and warm</td>\n",
       "      <td>Rush</td>\n",
       "      <td>3</td>\n",
       "      <td>QB</td>\n",
       "      <td>QB</td>\n",
       "    </tr>\n",
       "    <tr>\n",
       "      <th>3</th>\n",
       "      <td>26624-1-4</td>\n",
       "      <td>Quarterback</td>\n",
       "      <td>1</td>\n",
       "      <td>1</td>\n",
       "      <td>Outdoor</td>\n",
       "      <td>Synthetic</td>\n",
       "      <td>63</td>\n",
       "      <td>Clear and warm</td>\n",
       "      <td>Rush</td>\n",
       "      <td>4</td>\n",
       "      <td>QB</td>\n",
       "      <td>QB</td>\n",
       "    </tr>\n",
       "    <tr>\n",
       "      <th>4</th>\n",
       "      <td>26624-1-5</td>\n",
       "      <td>Quarterback</td>\n",
       "      <td>1</td>\n",
       "      <td>1</td>\n",
       "      <td>Outdoor</td>\n",
       "      <td>Synthetic</td>\n",
       "      <td>63</td>\n",
       "      <td>Clear and warm</td>\n",
       "      <td>Pass</td>\n",
       "      <td>5</td>\n",
       "      <td>QB</td>\n",
       "      <td>QB</td>\n",
       "    </tr>\n",
       "  </tbody>\n",
       "</table>\n",
       "</div>"
      ],
      "text/plain": [
       "     PlayKey RosterPosition  PlayerDay  PlayerGame StadiumType  FieldType  \\\n",
       "0  26624-1-1    Quarterback          1           1     Outdoor  Synthetic   \n",
       "1  26624-1-2    Quarterback          1           1     Outdoor  Synthetic   \n",
       "2  26624-1-3    Quarterback          1           1     Outdoor  Synthetic   \n",
       "3  26624-1-4    Quarterback          1           1     Outdoor  Synthetic   \n",
       "4  26624-1-5    Quarterback          1           1     Outdoor  Synthetic   \n",
       "\n",
       "   Temperature         Weather PlayType  PlayerGamePlay Position PositionGroup  \n",
       "0           63  Clear and warm     Pass               1       QB            QB  \n",
       "1           63  Clear and warm     Pass               2       QB            QB  \n",
       "2           63  Clear and warm     Rush               3       QB            QB  \n",
       "3           63  Clear and warm     Rush               4       QB            QB  \n",
       "4           63  Clear and warm     Pass               5       QB            QB  "
      ]
     },
     "execution_count": 292,
     "metadata": {},
     "output_type": "execute_result"
    }
   ],
   "source": [
    "plays.drop(columns=['PlayerKey', 'GameID'], inplace=True)\n",
    "plays.head()"
   ]
  },
  {
   "cell_type": "code",
   "execution_count": 293,
   "metadata": {},
   "outputs": [
    {
     "data": {
      "text/plain": [
       "PlayKey           267005\n",
       "RosterPosition        10\n",
       "PlayerDay            215\n",
       "PlayerGame            32\n",
       "StadiumType           29\n",
       "FieldType              2\n",
       "Temperature           79\n",
       "Weather               63\n",
       "PlayType              11\n",
       "PlayerGamePlay       102\n",
       "Position              23\n",
       "PositionGroup         10\n",
       "dtype: int64"
      ]
     },
     "execution_count": 293,
     "metadata": {},
     "output_type": "execute_result"
    }
   ],
   "source": [
    "plays.nunique()"
   ]
  },
  {
   "cell_type": "code",
   "execution_count": 294,
   "metadata": {},
   "outputs": [
    {
     "data": {
      "text/plain": [
       "['PlayKey',\n",
       " 'RosterPosition',\n",
       " 'StadiumType',\n",
       " 'FieldType',\n",
       " 'Weather',\n",
       " 'PlayType',\n",
       " 'Position',\n",
       " 'PositionGroup']"
      ]
     },
     "execution_count": 294,
     "metadata": {},
     "output_type": "execute_result"
    }
   ],
   "source": [
    "objects = plays.dtypes[plays.dtypes == 'object'].index.tolist()\n",
    "objects"
   ]
  },
  {
   "cell_type": "markdown",
   "metadata": {},
   "source": [
    "- PlayKeys represent all plays, not only those where injuries occurred - these will function to merge the tables\n",
    "- FieldType only has 2 values, Natural or Synthetic and can be easily changed to binary values \n",
    "- Stadium Type is also strange with 29 unique types of stadiums. These can likely be grouped in smaller categories.\n",
    "- Weather - there are 63 unique types of weather.... this is odd. \n",
    "- RosterPosition, Position, and Position Group are all similar and need to be investigated\n",
    "- PlayTypes should be encoded, as they are categorical such as pass, rush, kick, ... \n",
    "\n",
    "\n",
    "### Change the Field Types to Binary Values"
   ]
  },
  {
   "cell_type": "code",
   "execution_count": 295,
   "metadata": {},
   "outputs": [],
   "source": [
    "# Creates a function to change the surface values\n",
    "def surface_code(row):\n",
    "    surface = row['FieldType']\n",
    "    coded_surface = 0\n",
    "    if surface == 'Natural':\n",
    "        coded_surface = 0\n",
    "    elif surface == 'Synthetic':\n",
    "        coded_surface = 1\n",
    "\n",
    "    return coded_surface"
   ]
  },
  {
   "cell_type": "code",
   "execution_count": 296,
   "metadata": {},
   "outputs": [
    {
     "data": {
      "text/html": [
       "<div>\n",
       "<style scoped>\n",
       "    .dataframe tbody tr th:only-of-type {\n",
       "        vertical-align: middle;\n",
       "    }\n",
       "\n",
       "    .dataframe tbody tr th {\n",
       "        vertical-align: top;\n",
       "    }\n",
       "\n",
       "    .dataframe thead th {\n",
       "        text-align: right;\n",
       "    }\n",
       "</style>\n",
       "<table border=\"1\" class=\"dataframe\">\n",
       "  <thead>\n",
       "    <tr style=\"text-align: right;\">\n",
       "      <th></th>\n",
       "      <th>PlayKey</th>\n",
       "      <th>RosterPosition</th>\n",
       "      <th>PlayerDay</th>\n",
       "      <th>PlayerGame</th>\n",
       "      <th>StadiumType</th>\n",
       "      <th>FieldType</th>\n",
       "      <th>Temperature</th>\n",
       "      <th>Weather</th>\n",
       "      <th>PlayType</th>\n",
       "      <th>PlayerGamePlay</th>\n",
       "      <th>Position</th>\n",
       "      <th>PositionGroup</th>\n",
       "      <th>Coded_Surface</th>\n",
       "    </tr>\n",
       "  </thead>\n",
       "  <tbody>\n",
       "    <tr>\n",
       "      <th>0</th>\n",
       "      <td>26624-1-1</td>\n",
       "      <td>Quarterback</td>\n",
       "      <td>1</td>\n",
       "      <td>1</td>\n",
       "      <td>Outdoor</td>\n",
       "      <td>Synthetic</td>\n",
       "      <td>63</td>\n",
       "      <td>Clear and warm</td>\n",
       "      <td>Pass</td>\n",
       "      <td>1</td>\n",
       "      <td>QB</td>\n",
       "      <td>QB</td>\n",
       "      <td>1</td>\n",
       "    </tr>\n",
       "    <tr>\n",
       "      <th>1</th>\n",
       "      <td>26624-1-2</td>\n",
       "      <td>Quarterback</td>\n",
       "      <td>1</td>\n",
       "      <td>1</td>\n",
       "      <td>Outdoor</td>\n",
       "      <td>Synthetic</td>\n",
       "      <td>63</td>\n",
       "      <td>Clear and warm</td>\n",
       "      <td>Pass</td>\n",
       "      <td>2</td>\n",
       "      <td>QB</td>\n",
       "      <td>QB</td>\n",
       "      <td>1</td>\n",
       "    </tr>\n",
       "    <tr>\n",
       "      <th>2</th>\n",
       "      <td>26624-1-3</td>\n",
       "      <td>Quarterback</td>\n",
       "      <td>1</td>\n",
       "      <td>1</td>\n",
       "      <td>Outdoor</td>\n",
       "      <td>Synthetic</td>\n",
       "      <td>63</td>\n",
       "      <td>Clear and warm</td>\n",
       "      <td>Rush</td>\n",
       "      <td>3</td>\n",
       "      <td>QB</td>\n",
       "      <td>QB</td>\n",
       "      <td>1</td>\n",
       "    </tr>\n",
       "    <tr>\n",
       "      <th>3</th>\n",
       "      <td>26624-1-4</td>\n",
       "      <td>Quarterback</td>\n",
       "      <td>1</td>\n",
       "      <td>1</td>\n",
       "      <td>Outdoor</td>\n",
       "      <td>Synthetic</td>\n",
       "      <td>63</td>\n",
       "      <td>Clear and warm</td>\n",
       "      <td>Rush</td>\n",
       "      <td>4</td>\n",
       "      <td>QB</td>\n",
       "      <td>QB</td>\n",
       "      <td>1</td>\n",
       "    </tr>\n",
       "    <tr>\n",
       "      <th>4</th>\n",
       "      <td>26624-1-5</td>\n",
       "      <td>Quarterback</td>\n",
       "      <td>1</td>\n",
       "      <td>1</td>\n",
       "      <td>Outdoor</td>\n",
       "      <td>Synthetic</td>\n",
       "      <td>63</td>\n",
       "      <td>Clear and warm</td>\n",
       "      <td>Pass</td>\n",
       "      <td>5</td>\n",
       "      <td>QB</td>\n",
       "      <td>QB</td>\n",
       "      <td>1</td>\n",
       "    </tr>\n",
       "  </tbody>\n",
       "</table>\n",
       "</div>"
      ],
      "text/plain": [
       "     PlayKey RosterPosition  PlayerDay  PlayerGame StadiumType  FieldType  \\\n",
       "0  26624-1-1    Quarterback          1           1     Outdoor  Synthetic   \n",
       "1  26624-1-2    Quarterback          1           1     Outdoor  Synthetic   \n",
       "2  26624-1-3    Quarterback          1           1     Outdoor  Synthetic   \n",
       "3  26624-1-4    Quarterback          1           1     Outdoor  Synthetic   \n",
       "4  26624-1-5    Quarterback          1           1     Outdoor  Synthetic   \n",
       "\n",
       "   Temperature         Weather PlayType  PlayerGamePlay Position  \\\n",
       "0           63  Clear and warm     Pass               1       QB   \n",
       "1           63  Clear and warm     Pass               2       QB   \n",
       "2           63  Clear and warm     Rush               3       QB   \n",
       "3           63  Clear and warm     Rush               4       QB   \n",
       "4           63  Clear and warm     Pass               5       QB   \n",
       "\n",
       "  PositionGroup  Coded_Surface  \n",
       "0            QB              1  \n",
       "1            QB              1  \n",
       "2            QB              1  \n",
       "3            QB              1  \n",
       "4            QB              1  "
      ]
     },
     "execution_count": 296,
     "metadata": {},
     "output_type": "execute_result"
    }
   ],
   "source": [
    "# Create a new column called Coded_Surface that encodes 0 for a natural surface and 1 for a synthetic surface, then verify\n",
    "plays['Coded_Surface'] = plays.apply(surface_code, axis=1)\n",
    "plays.head()"
   ]
  },
  {
   "cell_type": "code",
   "execution_count": 297,
   "metadata": {},
   "outputs": [],
   "source": [
    "# The code above worked, now change the FieldType to the coded and remove the redundant column\n",
    "plays['FieldType'] = plays['Coded_Surface']\n",
    "plays.drop(columns='Coded_Surface', inplace=True)"
   ]
  },
  {
   "cell_type": "code",
   "execution_count": 298,
   "metadata": {},
   "outputs": [
    {
     "data": {
      "text/html": [
       "<div>\n",
       "<style scoped>\n",
       "    .dataframe tbody tr th:only-of-type {\n",
       "        vertical-align: middle;\n",
       "    }\n",
       "\n",
       "    .dataframe tbody tr th {\n",
       "        vertical-align: top;\n",
       "    }\n",
       "\n",
       "    .dataframe thead th {\n",
       "        text-align: right;\n",
       "    }\n",
       "</style>\n",
       "<table border=\"1\" class=\"dataframe\">\n",
       "  <thead>\n",
       "    <tr style=\"text-align: right;\">\n",
       "      <th></th>\n",
       "      <th>PlayKey</th>\n",
       "      <th>RosterPosition</th>\n",
       "      <th>PlayerDay</th>\n",
       "      <th>PlayerGame</th>\n",
       "      <th>StadiumType</th>\n",
       "      <th>FieldType</th>\n",
       "      <th>Temperature</th>\n",
       "      <th>Weather</th>\n",
       "      <th>PlayType</th>\n",
       "      <th>PlayerGamePlay</th>\n",
       "      <th>Position</th>\n",
       "      <th>PositionGroup</th>\n",
       "    </tr>\n",
       "  </thead>\n",
       "  <tbody>\n",
       "    <tr>\n",
       "      <th>0</th>\n",
       "      <td>26624-1-1</td>\n",
       "      <td>Quarterback</td>\n",
       "      <td>1</td>\n",
       "      <td>1</td>\n",
       "      <td>Outdoor</td>\n",
       "      <td>1</td>\n",
       "      <td>63</td>\n",
       "      <td>Clear and warm</td>\n",
       "      <td>Pass</td>\n",
       "      <td>1</td>\n",
       "      <td>QB</td>\n",
       "      <td>QB</td>\n",
       "    </tr>\n",
       "    <tr>\n",
       "      <th>1</th>\n",
       "      <td>26624-1-2</td>\n",
       "      <td>Quarterback</td>\n",
       "      <td>1</td>\n",
       "      <td>1</td>\n",
       "      <td>Outdoor</td>\n",
       "      <td>1</td>\n",
       "      <td>63</td>\n",
       "      <td>Clear and warm</td>\n",
       "      <td>Pass</td>\n",
       "      <td>2</td>\n",
       "      <td>QB</td>\n",
       "      <td>QB</td>\n",
       "    </tr>\n",
       "    <tr>\n",
       "      <th>2</th>\n",
       "      <td>26624-1-3</td>\n",
       "      <td>Quarterback</td>\n",
       "      <td>1</td>\n",
       "      <td>1</td>\n",
       "      <td>Outdoor</td>\n",
       "      <td>1</td>\n",
       "      <td>63</td>\n",
       "      <td>Clear and warm</td>\n",
       "      <td>Rush</td>\n",
       "      <td>3</td>\n",
       "      <td>QB</td>\n",
       "      <td>QB</td>\n",
       "    </tr>\n",
       "    <tr>\n",
       "      <th>3</th>\n",
       "      <td>26624-1-4</td>\n",
       "      <td>Quarterback</td>\n",
       "      <td>1</td>\n",
       "      <td>1</td>\n",
       "      <td>Outdoor</td>\n",
       "      <td>1</td>\n",
       "      <td>63</td>\n",
       "      <td>Clear and warm</td>\n",
       "      <td>Rush</td>\n",
       "      <td>4</td>\n",
       "      <td>QB</td>\n",
       "      <td>QB</td>\n",
       "    </tr>\n",
       "    <tr>\n",
       "      <th>4</th>\n",
       "      <td>26624-1-5</td>\n",
       "      <td>Quarterback</td>\n",
       "      <td>1</td>\n",
       "      <td>1</td>\n",
       "      <td>Outdoor</td>\n",
       "      <td>1</td>\n",
       "      <td>63</td>\n",
       "      <td>Clear and warm</td>\n",
       "      <td>Pass</td>\n",
       "      <td>5</td>\n",
       "      <td>QB</td>\n",
       "      <td>QB</td>\n",
       "    </tr>\n",
       "  </tbody>\n",
       "</table>\n",
       "</div>"
      ],
      "text/plain": [
       "     PlayKey RosterPosition  PlayerDay  PlayerGame StadiumType  FieldType  \\\n",
       "0  26624-1-1    Quarterback          1           1     Outdoor          1   \n",
       "1  26624-1-2    Quarterback          1           1     Outdoor          1   \n",
       "2  26624-1-3    Quarterback          1           1     Outdoor          1   \n",
       "3  26624-1-4    Quarterback          1           1     Outdoor          1   \n",
       "4  26624-1-5    Quarterback          1           1     Outdoor          1   \n",
       "\n",
       "   Temperature         Weather PlayType  PlayerGamePlay Position PositionGroup  \n",
       "0           63  Clear and warm     Pass               1       QB            QB  \n",
       "1           63  Clear and warm     Pass               2       QB            QB  \n",
       "2           63  Clear and warm     Rush               3       QB            QB  \n",
       "3           63  Clear and warm     Rush               4       QB            QB  \n",
       "4           63  Clear and warm     Pass               5       QB            QB  "
      ]
     },
     "execution_count": 298,
     "metadata": {},
     "output_type": "execute_result"
    }
   ],
   "source": [
    "plays.head()"
   ]
  },
  {
   "cell_type": "markdown",
   "metadata": {},
   "source": [
    "### Reduce the Number of Stadium Types to Something Meaningful\n",
    "\n",
    "It turns out that there are a lot of misspelled stadium types. There are 7 unique spellings of the word 'Outdoor' alone. Also, the people of Pittsburgh seemed pretty confused as to the meaning of Stadium Type, as there are MANY entries listing the stadium type as Heinz Field. "
   ]
  },
  {
   "cell_type": "code",
   "execution_count": 299,
   "metadata": {},
   "outputs": [
    {
     "data": {
      "text/plain": [
       "['Outdoor',\n",
       " 'Indoors',\n",
       " 'Oudoor',\n",
       " 'Outdoors',\n",
       " 'Open',\n",
       " 'Closed Dome',\n",
       " 'Domed, closed',\n",
       " nan,\n",
       " 'Dome',\n",
       " 'Indoor',\n",
       " 'Domed',\n",
       " 'Retr. Roof-Closed',\n",
       " 'Outdoor Retr Roof-Open',\n",
       " 'Retractable Roof',\n",
       " 'Ourdoor',\n",
       " 'Indoor, Roof Closed',\n",
       " 'Retr. Roof - Closed',\n",
       " 'Bowl',\n",
       " 'Outddors',\n",
       " 'Retr. Roof-Open',\n",
       " 'Dome, closed',\n",
       " 'Indoor, Open Roof',\n",
       " 'Domed, Open',\n",
       " 'Domed, open',\n",
       " 'Heinz Field',\n",
       " 'Cloudy',\n",
       " 'Retr. Roof - Open',\n",
       " 'Retr. Roof Closed',\n",
       " 'Outdor',\n",
       " 'Outside']"
      ]
     },
     "execution_count": 299,
     "metadata": {},
     "output_type": "execute_result"
    }
   ],
   "source": [
    "stadiums = plays.StadiumType.unique().tolist()\n",
    "stadiums"
   ]
  },
  {
   "cell_type": "code",
   "execution_count": 300,
   "metadata": {},
   "outputs": [
    {
     "data": {
      "text/plain": [
       "16910"
      ]
     },
     "execution_count": 300,
     "metadata": {},
     "output_type": "execute_result"
    }
   ],
   "source": [
    "# How many Stadium Types are missing? \n",
    "plays.StadiumType.isna().sum()"
   ]
  },
  {
   "cell_type": "code",
   "execution_count": 301,
   "metadata": {},
   "outputs": [
    {
     "data": {
      "text/plain": [
       "0"
      ]
     },
     "execution_count": 301,
     "metadata": {},
     "output_type": "execute_result"
    }
   ],
   "source": [
    "# Since most stadiums are outdoor stadiums, for now, just going to change any NaN stadiums to outdoor for now\n",
    "plays.StadiumType.fillna('Outdoor', inplace=True)\n",
    "plays.StadiumType.isna().sum()"
   ]
  },
  {
   "cell_type": "markdown",
   "metadata": {},
   "source": [
    "Grouping all stadiums into Outdoor, Indoor, Open Dome, or Closed Dome using a dictionary "
   ]
  },
  {
   "cell_type": "code",
   "execution_count": 302,
   "metadata": {},
   "outputs": [
    {
     "data": {
      "text/html": [
       "<div>\n",
       "<style scoped>\n",
       "    .dataframe tbody tr th:only-of-type {\n",
       "        vertical-align: middle;\n",
       "    }\n",
       "\n",
       "    .dataframe tbody tr th {\n",
       "        vertical-align: top;\n",
       "    }\n",
       "\n",
       "    .dataframe thead th {\n",
       "        text-align: right;\n",
       "    }\n",
       "</style>\n",
       "<table border=\"1\" class=\"dataframe\">\n",
       "  <thead>\n",
       "    <tr style=\"text-align: right;\">\n",
       "      <th></th>\n",
       "      <th>PlayKey</th>\n",
       "      <th>RosterPosition</th>\n",
       "      <th>PlayerDay</th>\n",
       "      <th>PlayerGame</th>\n",
       "      <th>StadiumType</th>\n",
       "      <th>FieldType</th>\n",
       "      <th>Temperature</th>\n",
       "      <th>Weather</th>\n",
       "      <th>PlayType</th>\n",
       "      <th>PlayerGamePlay</th>\n",
       "      <th>Position</th>\n",
       "      <th>PositionGroup</th>\n",
       "    </tr>\n",
       "  </thead>\n",
       "  <tbody>\n",
       "    <tr>\n",
       "      <th>0</th>\n",
       "      <td>26624-1-1</td>\n",
       "      <td>Quarterback</td>\n",
       "      <td>1</td>\n",
       "      <td>1</td>\n",
       "      <td>Outdoor</td>\n",
       "      <td>1</td>\n",
       "      <td>63</td>\n",
       "      <td>Clear and warm</td>\n",
       "      <td>Pass</td>\n",
       "      <td>1</td>\n",
       "      <td>QB</td>\n",
       "      <td>QB</td>\n",
       "    </tr>\n",
       "    <tr>\n",
       "      <th>1</th>\n",
       "      <td>26624-1-2</td>\n",
       "      <td>Quarterback</td>\n",
       "      <td>1</td>\n",
       "      <td>1</td>\n",
       "      <td>Outdoor</td>\n",
       "      <td>1</td>\n",
       "      <td>63</td>\n",
       "      <td>Clear and warm</td>\n",
       "      <td>Pass</td>\n",
       "      <td>2</td>\n",
       "      <td>QB</td>\n",
       "      <td>QB</td>\n",
       "    </tr>\n",
       "    <tr>\n",
       "      <th>2</th>\n",
       "      <td>26624-1-3</td>\n",
       "      <td>Quarterback</td>\n",
       "      <td>1</td>\n",
       "      <td>1</td>\n",
       "      <td>Outdoor</td>\n",
       "      <td>1</td>\n",
       "      <td>63</td>\n",
       "      <td>Clear and warm</td>\n",
       "      <td>Rush</td>\n",
       "      <td>3</td>\n",
       "      <td>QB</td>\n",
       "      <td>QB</td>\n",
       "    </tr>\n",
       "    <tr>\n",
       "      <th>3</th>\n",
       "      <td>26624-1-4</td>\n",
       "      <td>Quarterback</td>\n",
       "      <td>1</td>\n",
       "      <td>1</td>\n",
       "      <td>Outdoor</td>\n",
       "      <td>1</td>\n",
       "      <td>63</td>\n",
       "      <td>Clear and warm</td>\n",
       "      <td>Rush</td>\n",
       "      <td>4</td>\n",
       "      <td>QB</td>\n",
       "      <td>QB</td>\n",
       "    </tr>\n",
       "    <tr>\n",
       "      <th>4</th>\n",
       "      <td>26624-1-5</td>\n",
       "      <td>Quarterback</td>\n",
       "      <td>1</td>\n",
       "      <td>1</td>\n",
       "      <td>Outdoor</td>\n",
       "      <td>1</td>\n",
       "      <td>63</td>\n",
       "      <td>Clear and warm</td>\n",
       "      <td>Pass</td>\n",
       "      <td>5</td>\n",
       "      <td>QB</td>\n",
       "      <td>QB</td>\n",
       "    </tr>\n",
       "  </tbody>\n",
       "</table>\n",
       "</div>"
      ],
      "text/plain": [
       "     PlayKey RosterPosition  PlayerDay  PlayerGame StadiumType  FieldType  \\\n",
       "0  26624-1-1    Quarterback          1           1     Outdoor          1   \n",
       "1  26624-1-2    Quarterback          1           1     Outdoor          1   \n",
       "2  26624-1-3    Quarterback          1           1     Outdoor          1   \n",
       "3  26624-1-4    Quarterback          1           1     Outdoor          1   \n",
       "4  26624-1-5    Quarterback          1           1     Outdoor          1   \n",
       "\n",
       "   Temperature         Weather PlayType  PlayerGamePlay Position PositionGroup  \n",
       "0           63  Clear and warm     Pass               1       QB            QB  \n",
       "1           63  Clear and warm     Pass               2       QB            QB  \n",
       "2           63  Clear and warm     Rush               3       QB            QB  \n",
       "3           63  Clear and warm     Rush               4       QB            QB  \n",
       "4           63  Clear and warm     Pass               5       QB            QB  "
      ]
     },
     "execution_count": 302,
     "metadata": {},
     "output_type": "execute_result"
    }
   ],
   "source": [
    "dict = {'Outdoor': 'Outdoor',\n",
    "        'Indoors': 'Indoor',\n",
    "        'Oudoor': 'Outdoor',\n",
    "        'Outdoors': 'Outdoor',\n",
    "        'Open': 'Open Dome',\n",
    "        'Closed Dome': 'Closed Dome',\n",
    "        'Domed, closed': 'Closed Dome',\n",
    "        'Dome': 'Closed Dome',\n",
    "        'Indoor': 'Indoor',\n",
    "        'Domed': 'Closed Dome',\n",
    "        'Retr. Roof-Closed': 'Closed Dome',\n",
    "        'Outdoor Retr Roof-Open': 'Open Dome',\n",
    "        'Retractable Roof': 'Open Dome',\n",
    "        'Ourdoor': 'Outdoor',\n",
    "        'Indoor, Roof Closed': 'Closed Dome',\n",
    "        'Retr. Roof - Closed': 'Closed Dome',\n",
    "        'Bowl': 'Outdoor',\n",
    "        'Outddors': 'Outdoor',\n",
    "        'Retr. Roof-Open': 'Open Dome',\n",
    "        'Dome, closed': 'Closed Dome',\n",
    "        'Indoor, Open Roof': 'Open Dome',\n",
    "        'Domed, Open': 'Open Dome',\n",
    "        'Domed, open': 'Open Dome',\n",
    "        'Heinz Field': 'Outdoor',\n",
    "        'Cloudy': 'Outdoor',\n",
    "        'Retr. Roof - Open': 'Open Dome',\n",
    "        'Retr. Roof Closed': 'Closed Dome',\n",
    "        'Outdor': 'Outdoor',\n",
    "        'Outside': 'Outdoor'}\n",
    "\n",
    "\n",
    "plays.StadiumType.replace(dict, inplace=True)\n",
    "plays.head()"
   ]
  },
  {
   "cell_type": "markdown",
   "metadata": {},
   "source": [
    "### Dealing with the Weather Situation\n",
    "\n",
    "There were a lot of different entries meaning the same thing; these were grouped in a dictionary the same way the stadiums were, and can be adjusted if necessary "
   ]
  },
  {
   "cell_type": "code",
   "execution_count": 303,
   "metadata": {},
   "outputs": [
    {
     "data": {
      "text/html": [
       "<div>\n",
       "<style scoped>\n",
       "    .dataframe tbody tr th:only-of-type {\n",
       "        vertical-align: middle;\n",
       "    }\n",
       "\n",
       "    .dataframe tbody tr th {\n",
       "        vertical-align: top;\n",
       "    }\n",
       "\n",
       "    .dataframe thead th {\n",
       "        text-align: right;\n",
       "    }\n",
       "</style>\n",
       "<table border=\"1\" class=\"dataframe\">\n",
       "  <thead>\n",
       "    <tr style=\"text-align: right;\">\n",
       "      <th></th>\n",
       "      <th>PlayKey</th>\n",
       "      <th>RosterPosition</th>\n",
       "      <th>PlayerDay</th>\n",
       "      <th>PlayerGame</th>\n",
       "      <th>StadiumType</th>\n",
       "      <th>FieldType</th>\n",
       "      <th>Temperature</th>\n",
       "      <th>Weather</th>\n",
       "      <th>PlayType</th>\n",
       "      <th>PlayerGamePlay</th>\n",
       "      <th>Position</th>\n",
       "      <th>PositionGroup</th>\n",
       "    </tr>\n",
       "  </thead>\n",
       "  <tbody>\n",
       "    <tr>\n",
       "      <th>0</th>\n",
       "      <td>26624-1-1</td>\n",
       "      <td>Quarterback</td>\n",
       "      <td>1</td>\n",
       "      <td>1</td>\n",
       "      <td>Outdoor</td>\n",
       "      <td>1</td>\n",
       "      <td>63</td>\n",
       "      <td>Clear</td>\n",
       "      <td>Pass</td>\n",
       "      <td>1</td>\n",
       "      <td>QB</td>\n",
       "      <td>QB</td>\n",
       "    </tr>\n",
       "    <tr>\n",
       "      <th>1</th>\n",
       "      <td>26624-1-2</td>\n",
       "      <td>Quarterback</td>\n",
       "      <td>1</td>\n",
       "      <td>1</td>\n",
       "      <td>Outdoor</td>\n",
       "      <td>1</td>\n",
       "      <td>63</td>\n",
       "      <td>Clear</td>\n",
       "      <td>Pass</td>\n",
       "      <td>2</td>\n",
       "      <td>QB</td>\n",
       "      <td>QB</td>\n",
       "    </tr>\n",
       "    <tr>\n",
       "      <th>2</th>\n",
       "      <td>26624-1-3</td>\n",
       "      <td>Quarterback</td>\n",
       "      <td>1</td>\n",
       "      <td>1</td>\n",
       "      <td>Outdoor</td>\n",
       "      <td>1</td>\n",
       "      <td>63</td>\n",
       "      <td>Clear</td>\n",
       "      <td>Rush</td>\n",
       "      <td>3</td>\n",
       "      <td>QB</td>\n",
       "      <td>QB</td>\n",
       "    </tr>\n",
       "    <tr>\n",
       "      <th>3</th>\n",
       "      <td>26624-1-4</td>\n",
       "      <td>Quarterback</td>\n",
       "      <td>1</td>\n",
       "      <td>1</td>\n",
       "      <td>Outdoor</td>\n",
       "      <td>1</td>\n",
       "      <td>63</td>\n",
       "      <td>Clear</td>\n",
       "      <td>Rush</td>\n",
       "      <td>4</td>\n",
       "      <td>QB</td>\n",
       "      <td>QB</td>\n",
       "    </tr>\n",
       "    <tr>\n",
       "      <th>4</th>\n",
       "      <td>26624-1-5</td>\n",
       "      <td>Quarterback</td>\n",
       "      <td>1</td>\n",
       "      <td>1</td>\n",
       "      <td>Outdoor</td>\n",
       "      <td>1</td>\n",
       "      <td>63</td>\n",
       "      <td>Clear</td>\n",
       "      <td>Pass</td>\n",
       "      <td>5</td>\n",
       "      <td>QB</td>\n",
       "      <td>QB</td>\n",
       "    </tr>\n",
       "  </tbody>\n",
       "</table>\n",
       "</div>"
      ],
      "text/plain": [
       "     PlayKey RosterPosition  PlayerDay  PlayerGame StadiumType  FieldType  \\\n",
       "0  26624-1-1    Quarterback          1           1     Outdoor          1   \n",
       "1  26624-1-2    Quarterback          1           1     Outdoor          1   \n",
       "2  26624-1-3    Quarterback          1           1     Outdoor          1   \n",
       "3  26624-1-4    Quarterback          1           1     Outdoor          1   \n",
       "4  26624-1-5    Quarterback          1           1     Outdoor          1   \n",
       "\n",
       "   Temperature Weather PlayType  PlayerGamePlay Position PositionGroup  \n",
       "0           63   Clear     Pass               1       QB            QB  \n",
       "1           63   Clear     Pass               2       QB            QB  \n",
       "2           63   Clear     Rush               3       QB            QB  \n",
       "3           63   Clear     Rush               4       QB            QB  \n",
       "4           63   Clear     Pass               5       QB            QB  "
      ]
     },
     "execution_count": 303,
     "metadata": {},
     "output_type": "execute_result"
    }
   ],
   "source": [
    "weather_dict = {'Clear and warm': 'Clear',\n",
    "                'Mostly Cloudy': 'Cloudy',\n",
    "                'Sunny': 'Clear',\n",
    "                'Clear': 'Clear',\n",
    "                'Cloudy': 'Cloudy',\n",
    "                'Cloudy, fog started developing in 2nd quarter': 'Hazy/Fog',\n",
    "                'Rain': 'Rain',\n",
    "                'Partly Cloudy': 'Cloudy',\n",
    "                'Mostly cloudy': 'Cloudy',\n",
    "                'Cloudy and cold': 'Cloudy',\n",
    "                'Cloudy and Cool': 'Cloudy',\n",
    "                'Rain Chance 40%': 'Rain',\n",
    "                'Controlled Climate': 'Indoor',\n",
    "                'Sunny and warm': 'Clear',\n",
    "                'Partly cloudy': 'Cloudy',\n",
    "                'Clear and Cool': 'Cloudy',\n",
    "                'Clear and cold': 'Cloudy',\n",
    "                'Sunny and cold': 'Clear',\n",
    "                'Indoor': 'Indoor',\n",
    "                'Partly Sunny': 'Clear',\n",
    "                'N/A (Indoors)': 'Indoor',\n",
    "                'Mostly Sunny': 'Clear',\n",
    "                'Indoors': 'Indoor',\n",
    "                'Clear Skies': 'Clear',\n",
    "                'Partly sunny': 'Clear',\n",
    "                'Showers': 'Rain',\n",
    "                'N/A Indoor': 'Indoor',\n",
    "                'Sunny and clear': 'Clear',\n",
    "                'Snow': 'Snow',\n",
    "                'Scattered Showers': 'Rain',\n",
    "                'Party Cloudy': 'Cloudy',\n",
    "                'Clear skies': 'Clear',\n",
    "                'Rain likely, temps in low 40s.': 'Rain',\n",
    "                'Hazy': 'Hazy/Fog',\n",
    "                'Partly Clouidy': 'Cloudy',\n",
    "                'Sunny Skies': 'Clear',\n",
    "                'Overcast': 'Cloudy',\n",
    "                'Cloudy, 50% change of rain': 'Cloudy',\n",
    "                'Fair': 'Clear',\n",
    "                'Light Rain': 'Rain',\n",
    "                'Partly clear': 'Clear',\n",
    "                'Mostly Coudy': 'Cloudy',\n",
    "                '10% Chance of Rain': 'Cloudy',\n",
    "                'Cloudy, chance of rain': 'Cloudy',\n",
    "                'Heat Index 95': 'Clear',\n",
    "                'Sunny, highs to upper 80s': 'Clear',\n",
    "                'Sun & clouds': 'Cloudy',\n",
    "                'Heavy lake effect snow': 'Snow',\n",
    "                'Mostly sunny': 'Clear',\n",
    "                'Cloudy, Rain': 'Rain',\n",
    "                'Sunny, Windy': 'Windy',\n",
    "                'Mostly Sunny Skies': 'Clear',\n",
    "                'Rainy': 'Rain',\n",
    "                '30% Chance of Rain': 'Rain',\n",
    "                'Cloudy, light snow accumulating 1-3\"': 'Snow',\n",
    "                'cloudy': 'Cloudy',\n",
    "                'Clear and Sunny': 'Clear',\n",
    "                'Coudy': 'Cloudy',\n",
    "                'Clear and sunny': 'Clear',\n",
    "                'Clear to Partly Cloudy': 'Clear',\n",
    "                'Cloudy with periods of rain, thunder possible. Winds shifting to WNW, 10-20 mph.': 'Windy',\n",
    "                'Rain shower': 'Rain',\n",
    "                'Cold': 'Clear'}\n",
    "\n",
    "plays.Weather.replace(weather_dict, inplace=True)\n",
    "plays.head()"
   ]
  },
  {
   "cell_type": "markdown",
   "metadata": {},
   "source": [
    "Assess whether the nan rows are indoor statiums, in which case, change to Indoor, otherwise remove"
   ]
  },
  {
   "cell_type": "code",
   "execution_count": 304,
   "metadata": {},
   "outputs": [
    {
     "data": {
      "text/plain": [
       "array(['Clear', 'Cloudy', 'Hazy/Fog', 'Rain', 'Indoor', nan, 'Snow',\n",
       "       'Windy'], dtype=object)"
      ]
     },
     "execution_count": 304,
     "metadata": {},
     "output_type": "execute_result"
    }
   ],
   "source": [
    "plays['Weather'].unique()\n"
   ]
  },
  {
   "cell_type": "code",
   "execution_count": 305,
   "metadata": {},
   "outputs": [
    {
     "data": {
      "text/plain": [
       "Cloudy      112306\n",
       "Clear        96985\n",
       "Indoor       20276\n",
       "Rain         14280\n",
       "Snow          1945\n",
       "Hazy/Fog      1809\n",
       "Windy          713\n",
       "Name: Weather, dtype: int64"
      ]
     },
     "execution_count": 305,
     "metadata": {},
     "output_type": "execute_result"
    }
   ],
   "source": [
    "plays.Weather.value_counts()\n"
   ]
  },
  {
   "cell_type": "code",
   "execution_count": 306,
   "metadata": {},
   "outputs": [
    {
     "data": {
      "text/plain": [
       "18691"
      ]
     },
     "execution_count": 306,
     "metadata": {},
     "output_type": "execute_result"
    }
   ],
   "source": [
    "plays.Weather.isna().sum()"
   ]
  },
  {
   "cell_type": "code",
   "execution_count": 307,
   "metadata": {},
   "outputs": [],
   "source": [
    "# This line of code identifies from the plays table, where the stadium type is 'Indoor' and then fills NaN values in the 'Weather' column with 'Indoor'.\n",
    "plays.loc[plays.StadiumType == 'Indoor', 'Weather'] = plays.loc[plays.StadiumType == 'Indoor', 'Weather'].fillna('Indoor')\n"
   ]
  },
  {
   "cell_type": "code",
   "execution_count": 308,
   "metadata": {},
   "outputs": [
    {
     "data": {
      "text/plain": [
       "Cloudy      112306\n",
       "Clear        96985\n",
       "Indoor       27113\n",
       "Rain         14280\n",
       "Snow          1945\n",
       "Hazy/Fog      1809\n",
       "Windy          713\n",
       "Name: Weather, dtype: int64"
      ]
     },
     "execution_count": 308,
     "metadata": {},
     "output_type": "execute_result"
    }
   ],
   "source": [
    "# This addeda bout 7000 values to the Indoor values\n",
    "plays.Weather.value_counts()"
   ]
  },
  {
   "cell_type": "code",
   "execution_count": 309,
   "metadata": {},
   "outputs": [
    {
     "data": {
      "text/plain": [
       "11854"
      ]
     },
     "execution_count": 309,
     "metadata": {},
     "output_type": "execute_result"
    }
   ],
   "source": [
    "# The remaining ~ 12,000 were outdoor with no weather - going to remove these since it's impossible to predict the weather conditions\n",
    "plays.Weather.isna().sum()"
   ]
  },
  {
   "cell_type": "code",
   "execution_count": 310,
   "metadata": {},
   "outputs": [
    {
     "data": {
      "text/plain": [
       "0"
      ]
     },
     "execution_count": 310,
     "metadata": {},
     "output_type": "execute_result"
    }
   ],
   "source": [
    "# It's possible to determine the weather on those days if absolutely necessary, this looks like about 4.7% of the data...\n",
    "plays = plays.loc[plays.Weather.isna() == False]\n",
    "plays.Weather.isna().sum()"
   ]
  },
  {
   "cell_type": "code",
   "execution_count": 311,
   "metadata": {},
   "outputs": [
    {
     "data": {
      "text/plain": [
       "7"
      ]
     },
     "execution_count": 311,
     "metadata": {},
     "output_type": "execute_result"
    }
   ],
   "source": [
    "# Weather has been reduced from 63 different values to 7\n",
    "plays.Weather.nunique()"
   ]
  },
  {
   "cell_type": "markdown",
   "metadata": {},
   "source": [
    "Now that the Weather has been reduced to fewer than 10, it is ready to be encoded."
   ]
  },
  {
   "cell_type": "markdown",
   "metadata": {},
   "source": [
    "### Addressing the Positions Issue\n",
    "\n",
    "RosterPositions are similar to the PositionGroups, only not put in abbreviations. Will need to change the Roster Positions into abbreviations first. PositionGroups can be dropped, since they are nearly identical to the Roster and actual positions. "
   ]
  },
  {
   "cell_type": "code",
   "execution_count": 312,
   "metadata": {},
   "outputs": [
    {
     "data": {
      "text/plain": [
       "array(['Quarterback', 'Wide Receiver', 'Linebacker', 'Running Back',\n",
       "       'Defensive Lineman', 'Tight End', 'Safety', 'Cornerback',\n",
       "       'Offensive Lineman', 'Kicker'], dtype=object)"
      ]
     },
     "execution_count": 312,
     "metadata": {},
     "output_type": "execute_result"
    }
   ],
   "source": [
    "roster = plays.RosterPosition.unique()\n",
    "roster"
   ]
  },
  {
   "cell_type": "code",
   "execution_count": 313,
   "metadata": {},
   "outputs": [
    {
     "data": {
      "text/plain": [
       "array(['QB', 'Missing Data', 'WR', 'ILB', 'RB', 'DE', 'TE', 'FS', 'CB',\n",
       "       'G', 'T', 'OLB', 'DT', 'SS', 'MLB', 'C', 'NT', 'DB', 'K', 'LB',\n",
       "       'S', 'HB', 'P'], dtype=object)"
      ]
     },
     "execution_count": 313,
     "metadata": {},
     "output_type": "execute_result"
    }
   ],
   "source": [
    "abbreviations = plays.Position.unique()\n",
    "abbreviations"
   ]
  },
  {
   "cell_type": "markdown",
   "metadata": {},
   "source": [
    "Going to change the the positions the same way, using a dictionary"
   ]
  },
  {
   "cell_type": "code",
   "execution_count": 314,
   "metadata": {},
   "outputs": [
    {
     "data": {
      "text/html": [
       "<div>\n",
       "<style scoped>\n",
       "    .dataframe tbody tr th:only-of-type {\n",
       "        vertical-align: middle;\n",
       "    }\n",
       "\n",
       "    .dataframe tbody tr th {\n",
       "        vertical-align: top;\n",
       "    }\n",
       "\n",
       "    .dataframe thead th {\n",
       "        text-align: right;\n",
       "    }\n",
       "</style>\n",
       "<table border=\"1\" class=\"dataframe\">\n",
       "  <thead>\n",
       "    <tr style=\"text-align: right;\">\n",
       "      <th></th>\n",
       "      <th>PlayKey</th>\n",
       "      <th>RosterPosition</th>\n",
       "      <th>PlayerDay</th>\n",
       "      <th>PlayerGame</th>\n",
       "      <th>StadiumType</th>\n",
       "      <th>FieldType</th>\n",
       "      <th>Temperature</th>\n",
       "      <th>Weather</th>\n",
       "      <th>PlayType</th>\n",
       "      <th>PlayerGamePlay</th>\n",
       "      <th>Position</th>\n",
       "      <th>PositionGroup</th>\n",
       "    </tr>\n",
       "  </thead>\n",
       "  <tbody>\n",
       "    <tr>\n",
       "      <th>0</th>\n",
       "      <td>26624-1-1</td>\n",
       "      <td>QB</td>\n",
       "      <td>1</td>\n",
       "      <td>1</td>\n",
       "      <td>Outdoor</td>\n",
       "      <td>1</td>\n",
       "      <td>63</td>\n",
       "      <td>Clear</td>\n",
       "      <td>Pass</td>\n",
       "      <td>1</td>\n",
       "      <td>QB</td>\n",
       "      <td>QB</td>\n",
       "    </tr>\n",
       "    <tr>\n",
       "      <th>1</th>\n",
       "      <td>26624-1-2</td>\n",
       "      <td>QB</td>\n",
       "      <td>1</td>\n",
       "      <td>1</td>\n",
       "      <td>Outdoor</td>\n",
       "      <td>1</td>\n",
       "      <td>63</td>\n",
       "      <td>Clear</td>\n",
       "      <td>Pass</td>\n",
       "      <td>2</td>\n",
       "      <td>QB</td>\n",
       "      <td>QB</td>\n",
       "    </tr>\n",
       "    <tr>\n",
       "      <th>2</th>\n",
       "      <td>26624-1-3</td>\n",
       "      <td>QB</td>\n",
       "      <td>1</td>\n",
       "      <td>1</td>\n",
       "      <td>Outdoor</td>\n",
       "      <td>1</td>\n",
       "      <td>63</td>\n",
       "      <td>Clear</td>\n",
       "      <td>Rush</td>\n",
       "      <td>3</td>\n",
       "      <td>QB</td>\n",
       "      <td>QB</td>\n",
       "    </tr>\n",
       "    <tr>\n",
       "      <th>3</th>\n",
       "      <td>26624-1-4</td>\n",
       "      <td>QB</td>\n",
       "      <td>1</td>\n",
       "      <td>1</td>\n",
       "      <td>Outdoor</td>\n",
       "      <td>1</td>\n",
       "      <td>63</td>\n",
       "      <td>Clear</td>\n",
       "      <td>Rush</td>\n",
       "      <td>4</td>\n",
       "      <td>QB</td>\n",
       "      <td>QB</td>\n",
       "    </tr>\n",
       "    <tr>\n",
       "      <th>4</th>\n",
       "      <td>26624-1-5</td>\n",
       "      <td>QB</td>\n",
       "      <td>1</td>\n",
       "      <td>1</td>\n",
       "      <td>Outdoor</td>\n",
       "      <td>1</td>\n",
       "      <td>63</td>\n",
       "      <td>Clear</td>\n",
       "      <td>Pass</td>\n",
       "      <td>5</td>\n",
       "      <td>QB</td>\n",
       "      <td>QB</td>\n",
       "    </tr>\n",
       "  </tbody>\n",
       "</table>\n",
       "</div>"
      ],
      "text/plain": [
       "     PlayKey RosterPosition  PlayerDay  PlayerGame StadiumType  FieldType  \\\n",
       "0  26624-1-1             QB          1           1     Outdoor          1   \n",
       "1  26624-1-2             QB          1           1     Outdoor          1   \n",
       "2  26624-1-3             QB          1           1     Outdoor          1   \n",
       "3  26624-1-4             QB          1           1     Outdoor          1   \n",
       "4  26624-1-5             QB          1           1     Outdoor          1   \n",
       "\n",
       "   Temperature Weather PlayType  PlayerGamePlay Position PositionGroup  \n",
       "0           63   Clear     Pass               1       QB            QB  \n",
       "1           63   Clear     Pass               2       QB            QB  \n",
       "2           63   Clear     Rush               3       QB            QB  \n",
       "3           63   Clear     Rush               4       QB            QB  \n",
       "4           63   Clear     Pass               5       QB            QB  "
      ]
     },
     "execution_count": 314,
     "metadata": {},
     "output_type": "execute_result"
    }
   ],
   "source": [
    "position_dict = {\n",
    "    'Quarterback': 'QB',\n",
    "    'Wide Receiver': 'WR',\n",
    "    'Linebacker': 'LB',\n",
    "    'Running Back': 'RB',\n",
    "    'Defensive Lineman': 'DL',\n",
    "    'Tight End': 'TE',\n",
    "    'Safety': 'S',\n",
    "    'Cornerback': 'CB',\n",
    "    'Offensive Lineman': 'OL',\n",
    "    'Kicker': 'K'\n",
    "}\n",
    "\n",
    "plays.RosterPosition.replace(position_dict, inplace=True)\n",
    "plays.head()"
   ]
  },
  {
   "cell_type": "code",
   "execution_count": 315,
   "metadata": {},
   "outputs": [
    {
     "data": {
      "text/html": [
       "<div>\n",
       "<style scoped>\n",
       "    .dataframe tbody tr th:only-of-type {\n",
       "        vertical-align: middle;\n",
       "    }\n",
       "\n",
       "    .dataframe tbody tr th {\n",
       "        vertical-align: top;\n",
       "    }\n",
       "\n",
       "    .dataframe thead th {\n",
       "        text-align: right;\n",
       "    }\n",
       "</style>\n",
       "<table border=\"1\" class=\"dataframe\">\n",
       "  <thead>\n",
       "    <tr style=\"text-align: right;\">\n",
       "      <th></th>\n",
       "      <th>PlayKey</th>\n",
       "      <th>RosterPosition</th>\n",
       "      <th>PlayerDay</th>\n",
       "      <th>PlayerGame</th>\n",
       "      <th>StadiumType</th>\n",
       "      <th>FieldType</th>\n",
       "      <th>Temperature</th>\n",
       "      <th>Weather</th>\n",
       "      <th>PlayType</th>\n",
       "      <th>PlayerGamePlay</th>\n",
       "      <th>Position</th>\n",
       "    </tr>\n",
       "  </thead>\n",
       "  <tbody>\n",
       "    <tr>\n",
       "      <th>0</th>\n",
       "      <td>26624-1-1</td>\n",
       "      <td>QB</td>\n",
       "      <td>1</td>\n",
       "      <td>1</td>\n",
       "      <td>Outdoor</td>\n",
       "      <td>1</td>\n",
       "      <td>63</td>\n",
       "      <td>Clear</td>\n",
       "      <td>Pass</td>\n",
       "      <td>1</td>\n",
       "      <td>QB</td>\n",
       "    </tr>\n",
       "    <tr>\n",
       "      <th>1</th>\n",
       "      <td>26624-1-2</td>\n",
       "      <td>QB</td>\n",
       "      <td>1</td>\n",
       "      <td>1</td>\n",
       "      <td>Outdoor</td>\n",
       "      <td>1</td>\n",
       "      <td>63</td>\n",
       "      <td>Clear</td>\n",
       "      <td>Pass</td>\n",
       "      <td>2</td>\n",
       "      <td>QB</td>\n",
       "    </tr>\n",
       "    <tr>\n",
       "      <th>2</th>\n",
       "      <td>26624-1-3</td>\n",
       "      <td>QB</td>\n",
       "      <td>1</td>\n",
       "      <td>1</td>\n",
       "      <td>Outdoor</td>\n",
       "      <td>1</td>\n",
       "      <td>63</td>\n",
       "      <td>Clear</td>\n",
       "      <td>Rush</td>\n",
       "      <td>3</td>\n",
       "      <td>QB</td>\n",
       "    </tr>\n",
       "    <tr>\n",
       "      <th>3</th>\n",
       "      <td>26624-1-4</td>\n",
       "      <td>QB</td>\n",
       "      <td>1</td>\n",
       "      <td>1</td>\n",
       "      <td>Outdoor</td>\n",
       "      <td>1</td>\n",
       "      <td>63</td>\n",
       "      <td>Clear</td>\n",
       "      <td>Rush</td>\n",
       "      <td>4</td>\n",
       "      <td>QB</td>\n",
       "    </tr>\n",
       "    <tr>\n",
       "      <th>4</th>\n",
       "      <td>26624-1-5</td>\n",
       "      <td>QB</td>\n",
       "      <td>1</td>\n",
       "      <td>1</td>\n",
       "      <td>Outdoor</td>\n",
       "      <td>1</td>\n",
       "      <td>63</td>\n",
       "      <td>Clear</td>\n",
       "      <td>Pass</td>\n",
       "      <td>5</td>\n",
       "      <td>QB</td>\n",
       "    </tr>\n",
       "  </tbody>\n",
       "</table>\n",
       "</div>"
      ],
      "text/plain": [
       "     PlayKey RosterPosition  PlayerDay  PlayerGame StadiumType  FieldType  \\\n",
       "0  26624-1-1             QB          1           1     Outdoor          1   \n",
       "1  26624-1-2             QB          1           1     Outdoor          1   \n",
       "2  26624-1-3             QB          1           1     Outdoor          1   \n",
       "3  26624-1-4             QB          1           1     Outdoor          1   \n",
       "4  26624-1-5             QB          1           1     Outdoor          1   \n",
       "\n",
       "   Temperature Weather PlayType  PlayerGamePlay Position  \n",
       "0           63   Clear     Pass               1       QB  \n",
       "1           63   Clear     Pass               2       QB  \n",
       "2           63   Clear     Rush               3       QB  \n",
       "3           63   Clear     Rush               4       QB  \n",
       "4           63   Clear     Pass               5       QB  "
      ]
     },
     "execution_count": 315,
     "metadata": {},
     "output_type": "execute_result"
    }
   ],
   "source": [
    "# Drop the Position Group column\n",
    "plays = plays.drop(columns='PositionGroup')\n",
    "plays.head()"
   ]
  },
  {
   "cell_type": "code",
   "execution_count": 316,
   "metadata": {},
   "outputs": [
    {
     "data": {
      "text/plain": [
       "Missing Data    45\n",
       "Name: Position, dtype: int64"
      ]
     },
     "execution_count": 316,
     "metadata": {},
     "output_type": "execute_result"
    }
   ],
   "source": [
    "plays.Position[plays.Position == \"Missing Data\"].value_counts()"
   ]
  },
  {
   "cell_type": "code",
   "execution_count": 317,
   "metadata": {},
   "outputs": [
    {
     "data": {
      "text/plain": [
       "Series([], Name: Position, dtype: int64)"
      ]
     },
     "execution_count": 317,
     "metadata": {},
     "output_type": "execute_result"
    }
   ],
   "source": [
    "# This code identifies \"Missing Data\" from the Position and replaces the missing value with the RosterPosition\n",
    "plays['Position'] = np.where(plays['Position'] == 'Missing Data', plays['RosterPosition'], plays['Position'])\n",
    "\n",
    "# Verify that the missing Data values have been replaced\n",
    "plays.Position[plays.Position == \"Missing Data\"].value_counts()"
   ]
  },
  {
   "cell_type": "code",
   "execution_count": 318,
   "metadata": {},
   "outputs": [
    {
     "data": {
      "text/plain": [
       "array(['QB', 'WR', 'ILB', 'RB', 'DE', 'TE', 'FS', 'CB', 'G', 'T', 'OLB',\n",
       "       'LB', 'DT', 'SS', 'MLB', 'C', 'OL', 'NT', 'DL', 'DB', 'K', 'S',\n",
       "       'HB', 'P'], dtype=object)"
      ]
     },
     "execution_count": 318,
     "metadata": {},
     "output_type": "execute_result"
    }
   ],
   "source": [
    "plays.Position.unique()"
   ]
  },
  {
   "cell_type": "markdown",
   "metadata": {},
   "source": [
    "## Now To Address the Injuries Dataset"
   ]
  },
  {
   "cell_type": "code",
   "execution_count": 319,
   "metadata": {},
   "outputs": [
    {
     "data": {
      "text/html": [
       "<div>\n",
       "<style scoped>\n",
       "    .dataframe tbody tr th:only-of-type {\n",
       "        vertical-align: middle;\n",
       "    }\n",
       "\n",
       "    .dataframe tbody tr th {\n",
       "        vertical-align: top;\n",
       "    }\n",
       "\n",
       "    .dataframe thead th {\n",
       "        text-align: right;\n",
       "    }\n",
       "</style>\n",
       "<table border=\"1\" class=\"dataframe\">\n",
       "  <thead>\n",
       "    <tr style=\"text-align: right;\">\n",
       "      <th></th>\n",
       "      <th>PlayerKey</th>\n",
       "      <th>GameID</th>\n",
       "      <th>PlayKey</th>\n",
       "      <th>BodyPart</th>\n",
       "      <th>Surface</th>\n",
       "      <th>DM_M1</th>\n",
       "      <th>DM_M7</th>\n",
       "      <th>DM_M28</th>\n",
       "      <th>DM_M42</th>\n",
       "    </tr>\n",
       "  </thead>\n",
       "  <tbody>\n",
       "    <tr>\n",
       "      <th>0</th>\n",
       "      <td>39873</td>\n",
       "      <td>39873-4</td>\n",
       "      <td>39873-4-32</td>\n",
       "      <td>Knee</td>\n",
       "      <td>Synthetic</td>\n",
       "      <td>1</td>\n",
       "      <td>1</td>\n",
       "      <td>1</td>\n",
       "      <td>1</td>\n",
       "    </tr>\n",
       "    <tr>\n",
       "      <th>1</th>\n",
       "      <td>46074</td>\n",
       "      <td>46074-7</td>\n",
       "      <td>46074-7-26</td>\n",
       "      <td>Knee</td>\n",
       "      <td>Natural</td>\n",
       "      <td>1</td>\n",
       "      <td>1</td>\n",
       "      <td>0</td>\n",
       "      <td>0</td>\n",
       "    </tr>\n",
       "    <tr>\n",
       "      <th>2</th>\n",
       "      <td>36557</td>\n",
       "      <td>36557-1</td>\n",
       "      <td>36557-1-70</td>\n",
       "      <td>Ankle</td>\n",
       "      <td>Synthetic</td>\n",
       "      <td>1</td>\n",
       "      <td>1</td>\n",
       "      <td>1</td>\n",
       "      <td>1</td>\n",
       "    </tr>\n",
       "    <tr>\n",
       "      <th>3</th>\n",
       "      <td>46646</td>\n",
       "      <td>46646-3</td>\n",
       "      <td>46646-3-30</td>\n",
       "      <td>Ankle</td>\n",
       "      <td>Natural</td>\n",
       "      <td>1</td>\n",
       "      <td>0</td>\n",
       "      <td>0</td>\n",
       "      <td>0</td>\n",
       "    </tr>\n",
       "    <tr>\n",
       "      <th>4</th>\n",
       "      <td>43532</td>\n",
       "      <td>43532-5</td>\n",
       "      <td>43532-5-69</td>\n",
       "      <td>Ankle</td>\n",
       "      <td>Synthetic</td>\n",
       "      <td>1</td>\n",
       "      <td>1</td>\n",
       "      <td>1</td>\n",
       "      <td>1</td>\n",
       "    </tr>\n",
       "  </tbody>\n",
       "</table>\n",
       "</div>"
      ],
      "text/plain": [
       "   PlayerKey   GameID     PlayKey BodyPart    Surface  DM_M1  DM_M7  DM_M28  \\\n",
       "0      39873  39873-4  39873-4-32     Knee  Synthetic      1      1       1   \n",
       "1      46074  46074-7  46074-7-26     Knee    Natural      1      1       0   \n",
       "2      36557  36557-1  36557-1-70    Ankle  Synthetic      1      1       1   \n",
       "3      46646  46646-3  46646-3-30    Ankle    Natural      1      0       0   \n",
       "4      43532  43532-5  43532-5-69    Ankle  Synthetic      1      1       1   \n",
       "\n",
       "   DM_M42  \n",
       "0       1  \n",
       "1       0  \n",
       "2       1  \n",
       "3       0  \n",
       "4       1  "
      ]
     },
     "execution_count": 319,
     "metadata": {},
     "output_type": "execute_result"
    }
   ],
   "source": [
    "injuries = pd.read_csv(\"NFL_Turf/InjuryRecord.csv\")  # 105 rows\n",
    "injuries.head()"
   ]
  },
  {
   "cell_type": "markdown",
   "metadata": {},
   "source": [
    "Evaluate all columns for na values"
   ]
  },
  {
   "cell_type": "code",
   "execution_count": 320,
   "metadata": {},
   "outputs": [
    {
     "data": {
      "text/plain": [
       "28"
      ]
     },
     "execution_count": 320,
     "metadata": {},
     "output_type": "execute_result"
    }
   ],
   "source": [
    "# The PlayKey column is the only one that has NaN values\n",
    "injuries['PlayKey'].isna().sum()"
   ]
  },
  {
   "cell_type": "code",
   "execution_count": 321,
   "metadata": {},
   "outputs": [],
   "source": [
    "# Drop the NaN values, since we won't be able to correlate these with the other tables\n",
    "injuries = injuries.dropna(subset = ['PlayKey'])"
   ]
  },
  {
   "cell_type": "code",
   "execution_count": 322,
   "metadata": {},
   "outputs": [
    {
     "data": {
      "text/plain": [
       "PlayerKey    74\n",
       "GameID       76\n",
       "PlayKey      76\n",
       "BodyPart      3\n",
       "Surface       2\n",
       "DM_M1         1\n",
       "DM_M7         2\n",
       "DM_M28        2\n",
       "DM_M42        2\n",
       "dtype: int64"
      ]
     },
     "execution_count": 322,
     "metadata": {},
     "output_type": "execute_result"
    }
   ],
   "source": [
    "injuries.nunique()"
   ]
  },
  {
   "cell_type": "markdown",
   "metadata": {},
   "source": [
    "Note: there is only 1 unique value for DM_M1 - which means that every player on this list was injured for at least 1 day"
   ]
  },
  {
   "cell_type": "code",
   "execution_count": 323,
   "metadata": {},
   "outputs": [
    {
     "data": {
      "text/plain": [
       "PlayerKey     int64\n",
       "GameID       object\n",
       "PlayKey      object\n",
       "BodyPart     object\n",
       "Surface      object\n",
       "DM_M1         int64\n",
       "DM_M7         int64\n",
       "DM_M28        int64\n",
       "DM_M42        int64\n",
       "dtype: object"
      ]
     },
     "execution_count": 323,
     "metadata": {},
     "output_type": "execute_result"
    }
   ],
   "source": [
    "injuries.dtypes"
   ]
  },
  {
   "cell_type": "markdown",
   "metadata": {},
   "source": [
    "The Surface is the same as the Field Type from the other table, so this can be dropped. \n",
    "Note: Anyone whose injury is in the DM_M42 list is also in all of the prior lists, so there will be more of the lower values due the the encoding. Going to change this to a single column with values of 1, 7, 28, and 42\n",
    "\n",
    "### Group the DM columns into a single Injury Duration column"
   ]
  },
  {
   "cell_type": "code",
   "execution_count": 324,
   "metadata": {},
   "outputs": [
    {
     "data": {
      "text/html": [
       "<div>\n",
       "<style scoped>\n",
       "    .dataframe tbody tr th:only-of-type {\n",
       "        vertical-align: middle;\n",
       "    }\n",
       "\n",
       "    .dataframe tbody tr th {\n",
       "        vertical-align: top;\n",
       "    }\n",
       "\n",
       "    .dataframe thead th {\n",
       "        text-align: right;\n",
       "    }\n",
       "</style>\n",
       "<table border=\"1\" class=\"dataframe\">\n",
       "  <thead>\n",
       "    <tr style=\"text-align: right;\">\n",
       "      <th></th>\n",
       "      <th>PlayerKey</th>\n",
       "      <th>GameID</th>\n",
       "      <th>PlayKey</th>\n",
       "      <th>BodyPart</th>\n",
       "      <th>Surface</th>\n",
       "      <th>DM_M1</th>\n",
       "      <th>DM_M7</th>\n",
       "      <th>DM_M28</th>\n",
       "      <th>DM_M42</th>\n",
       "      <th>Injury_Duration</th>\n",
       "    </tr>\n",
       "  </thead>\n",
       "  <tbody>\n",
       "    <tr>\n",
       "      <th>0</th>\n",
       "      <td>39873</td>\n",
       "      <td>39873-4</td>\n",
       "      <td>39873-4-32</td>\n",
       "      <td>Knee</td>\n",
       "      <td>Synthetic</td>\n",
       "      <td>1</td>\n",
       "      <td>1</td>\n",
       "      <td>1</td>\n",
       "      <td>1</td>\n",
       "      <td>42</td>\n",
       "    </tr>\n",
       "    <tr>\n",
       "      <th>1</th>\n",
       "      <td>46074</td>\n",
       "      <td>46074-7</td>\n",
       "      <td>46074-7-26</td>\n",
       "      <td>Knee</td>\n",
       "      <td>Natural</td>\n",
       "      <td>1</td>\n",
       "      <td>1</td>\n",
       "      <td>0</td>\n",
       "      <td>0</td>\n",
       "      <td>7</td>\n",
       "    </tr>\n",
       "    <tr>\n",
       "      <th>2</th>\n",
       "      <td>36557</td>\n",
       "      <td>36557-1</td>\n",
       "      <td>36557-1-70</td>\n",
       "      <td>Ankle</td>\n",
       "      <td>Synthetic</td>\n",
       "      <td>1</td>\n",
       "      <td>1</td>\n",
       "      <td>1</td>\n",
       "      <td>1</td>\n",
       "      <td>42</td>\n",
       "    </tr>\n",
       "    <tr>\n",
       "      <th>3</th>\n",
       "      <td>46646</td>\n",
       "      <td>46646-3</td>\n",
       "      <td>46646-3-30</td>\n",
       "      <td>Ankle</td>\n",
       "      <td>Natural</td>\n",
       "      <td>1</td>\n",
       "      <td>0</td>\n",
       "      <td>0</td>\n",
       "      <td>0</td>\n",
       "      <td>1</td>\n",
       "    </tr>\n",
       "    <tr>\n",
       "      <th>4</th>\n",
       "      <td>43532</td>\n",
       "      <td>43532-5</td>\n",
       "      <td>43532-5-69</td>\n",
       "      <td>Ankle</td>\n",
       "      <td>Synthetic</td>\n",
       "      <td>1</td>\n",
       "      <td>1</td>\n",
       "      <td>1</td>\n",
       "      <td>1</td>\n",
       "      <td>42</td>\n",
       "    </tr>\n",
       "  </tbody>\n",
       "</table>\n",
       "</div>"
      ],
      "text/plain": [
       "   PlayerKey   GameID     PlayKey BodyPart    Surface  DM_M1  DM_M7  DM_M28  \\\n",
       "0      39873  39873-4  39873-4-32     Knee  Synthetic      1      1       1   \n",
       "1      46074  46074-7  46074-7-26     Knee    Natural      1      1       0   \n",
       "2      36557  36557-1  36557-1-70    Ankle  Synthetic      1      1       1   \n",
       "3      46646  46646-3  46646-3-30    Ankle    Natural      1      0       0   \n",
       "4      43532  43532-5  43532-5-69    Ankle  Synthetic      1      1       1   \n",
       "\n",
       "   DM_M42  Injury_Duration  \n",
       "0       1               42  \n",
       "1       0                7  \n",
       "2       1               42  \n",
       "3       0                1  \n",
       "4       1               42  "
      ]
     },
     "execution_count": 324,
     "metadata": {},
     "output_type": "execute_result"
    }
   ],
   "source": [
    "def injury_duration(row):\n",
    "    injury_duration = 0\n",
    "    if row[\"DM_M42\"] == 1:\n",
    "        injury_duration = 42\n",
    "    else:\n",
    "        if row[\"DM_M28\"] == 1:\n",
    "            injury_duration = 28\n",
    "        else:\n",
    "            if row[\"DM_M7\"] == 1:\n",
    "                injury_duration = 7\n",
    "            else: \n",
    "                injury_duration = 1\n",
    "    \n",
    "    return injury_duration\n",
    "\n",
    "# Apply the function to all rows\n",
    "injuries['Injury_Duration'] = injuries.apply(injury_duration, axis=1)\n",
    "injuries.head()\n"
   ]
  },
  {
   "cell_type": "code",
   "execution_count": 325,
   "metadata": {},
   "outputs": [
    {
     "data": {
      "text/html": [
       "<div>\n",
       "<style scoped>\n",
       "    .dataframe tbody tr th:only-of-type {\n",
       "        vertical-align: middle;\n",
       "    }\n",
       "\n",
       "    .dataframe tbody tr th {\n",
       "        vertical-align: top;\n",
       "    }\n",
       "\n",
       "    .dataframe thead th {\n",
       "        text-align: right;\n",
       "    }\n",
       "</style>\n",
       "<table border=\"1\" class=\"dataframe\">\n",
       "  <thead>\n",
       "    <tr style=\"text-align: right;\">\n",
       "      <th></th>\n",
       "      <th>PlayerKey</th>\n",
       "      <th>GameID</th>\n",
       "      <th>PlayKey</th>\n",
       "      <th>BodyPart</th>\n",
       "      <th>Injury_Duration</th>\n",
       "    </tr>\n",
       "  </thead>\n",
       "  <tbody>\n",
       "    <tr>\n",
       "      <th>0</th>\n",
       "      <td>39873</td>\n",
       "      <td>39873-4</td>\n",
       "      <td>39873-4-32</td>\n",
       "      <td>Knee</td>\n",
       "      <td>42</td>\n",
       "    </tr>\n",
       "    <tr>\n",
       "      <th>1</th>\n",
       "      <td>46074</td>\n",
       "      <td>46074-7</td>\n",
       "      <td>46074-7-26</td>\n",
       "      <td>Knee</td>\n",
       "      <td>7</td>\n",
       "    </tr>\n",
       "    <tr>\n",
       "      <th>2</th>\n",
       "      <td>36557</td>\n",
       "      <td>36557-1</td>\n",
       "      <td>36557-1-70</td>\n",
       "      <td>Ankle</td>\n",
       "      <td>42</td>\n",
       "    </tr>\n",
       "    <tr>\n",
       "      <th>3</th>\n",
       "      <td>46646</td>\n",
       "      <td>46646-3</td>\n",
       "      <td>46646-3-30</td>\n",
       "      <td>Ankle</td>\n",
       "      <td>1</td>\n",
       "    </tr>\n",
       "    <tr>\n",
       "      <th>4</th>\n",
       "      <td>43532</td>\n",
       "      <td>43532-5</td>\n",
       "      <td>43532-5-69</td>\n",
       "      <td>Ankle</td>\n",
       "      <td>42</td>\n",
       "    </tr>\n",
       "  </tbody>\n",
       "</table>\n",
       "</div>"
      ],
      "text/plain": [
       "   PlayerKey   GameID     PlayKey BodyPart  Injury_Duration\n",
       "0      39873  39873-4  39873-4-32     Knee               42\n",
       "1      46074  46074-7  46074-7-26     Knee                7\n",
       "2      36557  36557-1  36557-1-70    Ankle               42\n",
       "3      46646  46646-3  46646-3-30    Ankle                1\n",
       "4      43532  43532-5  43532-5-69    Ankle               42"
      ]
     },
     "execution_count": 325,
     "metadata": {},
     "output_type": "execute_result"
    }
   ],
   "source": [
    "# Remove the rows for DMs\n",
    "injuries.drop(columns=['DM_M1', 'DM_M7', 'DM_M28', 'DM_M42', 'Surface'], inplace=True)\n",
    "injuries.head()"
   ]
  },
  {
   "cell_type": "markdown",
   "metadata": {},
   "source": [
    "Analyze the BodyPart of injury to verify it's ready for encoding"
   ]
  },
  {
   "cell_type": "code",
   "execution_count": 326,
   "metadata": {},
   "outputs": [
    {
     "data": {
      "text/plain": [
       "array(['Knee', 'Ankle', 'Foot'], dtype=object)"
      ]
     },
     "execution_count": 326,
     "metadata": {},
     "output_type": "execute_result"
    }
   ],
   "source": [
    "# The body parts are categorical and will be better using OneHotEncoder - apparently all of the toes injuries fell into the PlayKey = NaN values\n",
    "injuries.BodyPart.unique()"
   ]
  },
  {
   "cell_type": "code",
   "execution_count": 327,
   "metadata": {},
   "outputs": [
    {
     "data": {
      "text/plain": [
       "74"
      ]
     },
     "execution_count": 327,
     "metadata": {},
     "output_type": "execute_result"
    }
   ],
   "source": [
    "# There are 100 individual players that have been injured for at least 1 day \n",
    "# Since there are 105 rows, does this mean there were 5 reinjuries?\n",
    "injuries.PlayerKey.nunique()"
   ]
  },
  {
   "cell_type": "code",
   "execution_count": 329,
   "metadata": {},
   "outputs": [
    {
     "data": {
      "text/plain": [
       "76"
      ]
     },
     "execution_count": 329,
     "metadata": {},
     "output_type": "execute_result"
    }
   ],
   "source": [
    "# This output only 76 unique plays with only 74 players, so only 2 players were reinjured at different times of the season\n",
    "injuries.PlayKey.nunique()"
   ]
  },
  {
   "cell_type": "markdown",
   "metadata": {},
   "source": [
    "Every GameID and PlayID are unique, meaning that once that\n",
    "particular player was injured during a specific game at a specific play,\n",
    "they didn't return to the field. Since the GameID numbers are not in any \n",
    "chronological order and offer no information other than the PlayKey can, this column can be dropped"
   ]
  },
  {
   "cell_type": "code",
   "execution_count": 330,
   "metadata": {},
   "outputs": [
    {
     "data": {
      "text/plain": [
       "76"
      ]
     },
     "execution_count": 330,
     "metadata": {},
     "output_type": "execute_result"
    }
   ],
   "source": [
    "injuries.GameID.nunique()"
   ]
  },
  {
   "cell_type": "markdown",
   "metadata": {},
   "source": [
    "Since the PlayerID, GamerID, and PlayKey number are all contained within the PlayKey, the GameID and PlayerID can be dropped. "
   ]
  },
  {
   "cell_type": "code",
   "execution_count": 331,
   "metadata": {},
   "outputs": [
    {
     "data": {
      "text/html": [
       "<div>\n",
       "<style scoped>\n",
       "    .dataframe tbody tr th:only-of-type {\n",
       "        vertical-align: middle;\n",
       "    }\n",
       "\n",
       "    .dataframe tbody tr th {\n",
       "        vertical-align: top;\n",
       "    }\n",
       "\n",
       "    .dataframe thead th {\n",
       "        text-align: right;\n",
       "    }\n",
       "</style>\n",
       "<table border=\"1\" class=\"dataframe\">\n",
       "  <thead>\n",
       "    <tr style=\"text-align: right;\">\n",
       "      <th></th>\n",
       "      <th>PlayKey</th>\n",
       "      <th>BodyPart</th>\n",
       "      <th>Injury_Duration</th>\n",
       "    </tr>\n",
       "  </thead>\n",
       "  <tbody>\n",
       "    <tr>\n",
       "      <th>0</th>\n",
       "      <td>39873-4-32</td>\n",
       "      <td>Knee</td>\n",
       "      <td>42</td>\n",
       "    </tr>\n",
       "    <tr>\n",
       "      <th>1</th>\n",
       "      <td>46074-7-26</td>\n",
       "      <td>Knee</td>\n",
       "      <td>7</td>\n",
       "    </tr>\n",
       "    <tr>\n",
       "      <th>2</th>\n",
       "      <td>36557-1-70</td>\n",
       "      <td>Ankle</td>\n",
       "      <td>42</td>\n",
       "    </tr>\n",
       "    <tr>\n",
       "      <th>3</th>\n",
       "      <td>46646-3-30</td>\n",
       "      <td>Ankle</td>\n",
       "      <td>1</td>\n",
       "    </tr>\n",
       "    <tr>\n",
       "      <th>4</th>\n",
       "      <td>43532-5-69</td>\n",
       "      <td>Ankle</td>\n",
       "      <td>42</td>\n",
       "    </tr>\n",
       "  </tbody>\n",
       "</table>\n",
       "</div>"
      ],
      "text/plain": [
       "      PlayKey BodyPart  Injury_Duration\n",
       "0  39873-4-32     Knee               42\n",
       "1  46074-7-26     Knee                7\n",
       "2  36557-1-70    Ankle               42\n",
       "3  46646-3-30    Ankle                1\n",
       "4  43532-5-69    Ankle               42"
      ]
     },
     "execution_count": 331,
     "metadata": {},
     "output_type": "execute_result"
    }
   ],
   "source": [
    "injuries.drop(columns=['GameID', 'PlayerKey'], inplace=True)\n",
    "injuries.head()"
   ]
  },
  {
   "cell_type": "markdown",
   "metadata": {},
   "source": [
    "## Now Have 2 lists that can be merged"
   ]
  },
  {
   "cell_type": "code",
   "execution_count": 332,
   "metadata": {},
   "outputs": [
    {
     "data": {
      "text/html": [
       "<div>\n",
       "<style scoped>\n",
       "    .dataframe tbody tr th:only-of-type {\n",
       "        vertical-align: middle;\n",
       "    }\n",
       "\n",
       "    .dataframe tbody tr th {\n",
       "        vertical-align: top;\n",
       "    }\n",
       "\n",
       "    .dataframe thead th {\n",
       "        text-align: right;\n",
       "    }\n",
       "</style>\n",
       "<table border=\"1\" class=\"dataframe\">\n",
       "  <thead>\n",
       "    <tr style=\"text-align: right;\">\n",
       "      <th></th>\n",
       "      <th>PlayKey</th>\n",
       "      <th>RosterPosition</th>\n",
       "      <th>PlayerDay</th>\n",
       "      <th>PlayerGame</th>\n",
       "      <th>StadiumType</th>\n",
       "      <th>FieldType</th>\n",
       "      <th>Temperature</th>\n",
       "      <th>Weather</th>\n",
       "      <th>PlayType</th>\n",
       "      <th>PlayerGamePlay</th>\n",
       "      <th>Position</th>\n",
       "    </tr>\n",
       "  </thead>\n",
       "  <tbody>\n",
       "    <tr>\n",
       "      <th>0</th>\n",
       "      <td>26624-1-1</td>\n",
       "      <td>QB</td>\n",
       "      <td>1</td>\n",
       "      <td>1</td>\n",
       "      <td>Outdoor</td>\n",
       "      <td>1</td>\n",
       "      <td>63</td>\n",
       "      <td>Clear</td>\n",
       "      <td>Pass</td>\n",
       "      <td>1</td>\n",
       "      <td>QB</td>\n",
       "    </tr>\n",
       "    <tr>\n",
       "      <th>1</th>\n",
       "      <td>26624-1-2</td>\n",
       "      <td>QB</td>\n",
       "      <td>1</td>\n",
       "      <td>1</td>\n",
       "      <td>Outdoor</td>\n",
       "      <td>1</td>\n",
       "      <td>63</td>\n",
       "      <td>Clear</td>\n",
       "      <td>Pass</td>\n",
       "      <td>2</td>\n",
       "      <td>QB</td>\n",
       "    </tr>\n",
       "    <tr>\n",
       "      <th>2</th>\n",
       "      <td>26624-1-3</td>\n",
       "      <td>QB</td>\n",
       "      <td>1</td>\n",
       "      <td>1</td>\n",
       "      <td>Outdoor</td>\n",
       "      <td>1</td>\n",
       "      <td>63</td>\n",
       "      <td>Clear</td>\n",
       "      <td>Rush</td>\n",
       "      <td>3</td>\n",
       "      <td>QB</td>\n",
       "    </tr>\n",
       "    <tr>\n",
       "      <th>3</th>\n",
       "      <td>26624-1-4</td>\n",
       "      <td>QB</td>\n",
       "      <td>1</td>\n",
       "      <td>1</td>\n",
       "      <td>Outdoor</td>\n",
       "      <td>1</td>\n",
       "      <td>63</td>\n",
       "      <td>Clear</td>\n",
       "      <td>Rush</td>\n",
       "      <td>4</td>\n",
       "      <td>QB</td>\n",
       "    </tr>\n",
       "    <tr>\n",
       "      <th>4</th>\n",
       "      <td>26624-1-5</td>\n",
       "      <td>QB</td>\n",
       "      <td>1</td>\n",
       "      <td>1</td>\n",
       "      <td>Outdoor</td>\n",
       "      <td>1</td>\n",
       "      <td>63</td>\n",
       "      <td>Clear</td>\n",
       "      <td>Pass</td>\n",
       "      <td>5</td>\n",
       "      <td>QB</td>\n",
       "    </tr>\n",
       "  </tbody>\n",
       "</table>\n",
       "</div>"
      ],
      "text/plain": [
       "     PlayKey RosterPosition  PlayerDay  PlayerGame StadiumType  FieldType  \\\n",
       "0  26624-1-1             QB          1           1     Outdoor          1   \n",
       "1  26624-1-2             QB          1           1     Outdoor          1   \n",
       "2  26624-1-3             QB          1           1     Outdoor          1   \n",
       "3  26624-1-4             QB          1           1     Outdoor          1   \n",
       "4  26624-1-5             QB          1           1     Outdoor          1   \n",
       "\n",
       "   Temperature Weather PlayType  PlayerGamePlay Position  \n",
       "0           63   Clear     Pass               1       QB  \n",
       "1           63   Clear     Pass               2       QB  \n",
       "2           63   Clear     Rush               3       QB  \n",
       "3           63   Clear     Rush               4       QB  \n",
       "4           63   Clear     Pass               5       QB  "
      ]
     },
     "execution_count": 332,
     "metadata": {},
     "output_type": "execute_result"
    }
   ],
   "source": [
    "plays.head()"
   ]
  },
  {
   "cell_type": "code",
   "execution_count": 333,
   "metadata": {},
   "outputs": [
    {
     "data": {
      "text/html": [
       "<div>\n",
       "<style scoped>\n",
       "    .dataframe tbody tr th:only-of-type {\n",
       "        vertical-align: middle;\n",
       "    }\n",
       "\n",
       "    .dataframe tbody tr th {\n",
       "        vertical-align: top;\n",
       "    }\n",
       "\n",
       "    .dataframe thead th {\n",
       "        text-align: right;\n",
       "    }\n",
       "</style>\n",
       "<table border=\"1\" class=\"dataframe\">\n",
       "  <thead>\n",
       "    <tr style=\"text-align: right;\">\n",
       "      <th></th>\n",
       "      <th>PlayKey</th>\n",
       "      <th>BodyPart</th>\n",
       "      <th>Injury_Duration</th>\n",
       "    </tr>\n",
       "  </thead>\n",
       "  <tbody>\n",
       "    <tr>\n",
       "      <th>0</th>\n",
       "      <td>39873-4-32</td>\n",
       "      <td>Knee</td>\n",
       "      <td>42</td>\n",
       "    </tr>\n",
       "    <tr>\n",
       "      <th>1</th>\n",
       "      <td>46074-7-26</td>\n",
       "      <td>Knee</td>\n",
       "      <td>7</td>\n",
       "    </tr>\n",
       "    <tr>\n",
       "      <th>2</th>\n",
       "      <td>36557-1-70</td>\n",
       "      <td>Ankle</td>\n",
       "      <td>42</td>\n",
       "    </tr>\n",
       "    <tr>\n",
       "      <th>3</th>\n",
       "      <td>46646-3-30</td>\n",
       "      <td>Ankle</td>\n",
       "      <td>1</td>\n",
       "    </tr>\n",
       "    <tr>\n",
       "      <th>4</th>\n",
       "      <td>43532-5-69</td>\n",
       "      <td>Ankle</td>\n",
       "      <td>42</td>\n",
       "    </tr>\n",
       "  </tbody>\n",
       "</table>\n",
       "</div>"
      ],
      "text/plain": [
       "      PlayKey BodyPart  Injury_Duration\n",
       "0  39873-4-32     Knee               42\n",
       "1  46074-7-26     Knee                7\n",
       "2  36557-1-70    Ankle               42\n",
       "3  46646-3-30    Ankle                1\n",
       "4  43532-5-69    Ankle               42"
      ]
     },
     "execution_count": 333,
     "metadata": {},
     "output_type": "execute_result"
    }
   ],
   "source": [
    "injuries.head()"
   ]
  },
  {
   "cell_type": "code",
   "execution_count": 336,
   "metadata": {},
   "outputs": [],
   "source": [
    "play_injuries = pd.merge(plays, injuries, on='PlayKey', how='outer')"
   ]
  },
  {
   "cell_type": "code",
   "execution_count": 337,
   "metadata": {},
   "outputs": [
    {
     "data": {
      "text/html": [
       "<div>\n",
       "<style scoped>\n",
       "    .dataframe tbody tr th:only-of-type {\n",
       "        vertical-align: middle;\n",
       "    }\n",
       "\n",
       "    .dataframe tbody tr th {\n",
       "        vertical-align: top;\n",
       "    }\n",
       "\n",
       "    .dataframe thead th {\n",
       "        text-align: right;\n",
       "    }\n",
       "</style>\n",
       "<table border=\"1\" class=\"dataframe\">\n",
       "  <thead>\n",
       "    <tr style=\"text-align: right;\">\n",
       "      <th></th>\n",
       "      <th>PlayKey</th>\n",
       "      <th>RosterPosition</th>\n",
       "      <th>PlayerDay</th>\n",
       "      <th>PlayerGame</th>\n",
       "      <th>StadiumType</th>\n",
       "      <th>FieldType</th>\n",
       "      <th>Temperature</th>\n",
       "      <th>Weather</th>\n",
       "      <th>PlayType</th>\n",
       "      <th>PlayerGamePlay</th>\n",
       "      <th>Position</th>\n",
       "      <th>BodyPart</th>\n",
       "      <th>Injury_Duration</th>\n",
       "    </tr>\n",
       "  </thead>\n",
       "  <tbody>\n",
       "    <tr>\n",
       "      <th>0</th>\n",
       "      <td>26624-1-1</td>\n",
       "      <td>QB</td>\n",
       "      <td>1.0</td>\n",
       "      <td>1.0</td>\n",
       "      <td>Outdoor</td>\n",
       "      <td>1.0</td>\n",
       "      <td>63.0</td>\n",
       "      <td>Clear</td>\n",
       "      <td>Pass</td>\n",
       "      <td>1.0</td>\n",
       "      <td>QB</td>\n",
       "      <td>NaN</td>\n",
       "      <td>NaN</td>\n",
       "    </tr>\n",
       "    <tr>\n",
       "      <th>1</th>\n",
       "      <td>26624-1-2</td>\n",
       "      <td>QB</td>\n",
       "      <td>1.0</td>\n",
       "      <td>1.0</td>\n",
       "      <td>Outdoor</td>\n",
       "      <td>1.0</td>\n",
       "      <td>63.0</td>\n",
       "      <td>Clear</td>\n",
       "      <td>Pass</td>\n",
       "      <td>2.0</td>\n",
       "      <td>QB</td>\n",
       "      <td>NaN</td>\n",
       "      <td>NaN</td>\n",
       "    </tr>\n",
       "    <tr>\n",
       "      <th>2</th>\n",
       "      <td>26624-1-3</td>\n",
       "      <td>QB</td>\n",
       "      <td>1.0</td>\n",
       "      <td>1.0</td>\n",
       "      <td>Outdoor</td>\n",
       "      <td>1.0</td>\n",
       "      <td>63.0</td>\n",
       "      <td>Clear</td>\n",
       "      <td>Rush</td>\n",
       "      <td>3.0</td>\n",
       "      <td>QB</td>\n",
       "      <td>NaN</td>\n",
       "      <td>NaN</td>\n",
       "    </tr>\n",
       "    <tr>\n",
       "      <th>3</th>\n",
       "      <td>26624-1-4</td>\n",
       "      <td>QB</td>\n",
       "      <td>1.0</td>\n",
       "      <td>1.0</td>\n",
       "      <td>Outdoor</td>\n",
       "      <td>1.0</td>\n",
       "      <td>63.0</td>\n",
       "      <td>Clear</td>\n",
       "      <td>Rush</td>\n",
       "      <td>4.0</td>\n",
       "      <td>QB</td>\n",
       "      <td>NaN</td>\n",
       "      <td>NaN</td>\n",
       "    </tr>\n",
       "    <tr>\n",
       "      <th>4</th>\n",
       "      <td>26624-1-5</td>\n",
       "      <td>QB</td>\n",
       "      <td>1.0</td>\n",
       "      <td>1.0</td>\n",
       "      <td>Outdoor</td>\n",
       "      <td>1.0</td>\n",
       "      <td>63.0</td>\n",
       "      <td>Clear</td>\n",
       "      <td>Pass</td>\n",
       "      <td>5.0</td>\n",
       "      <td>QB</td>\n",
       "      <td>NaN</td>\n",
       "      <td>NaN</td>\n",
       "    </tr>\n",
       "  </tbody>\n",
       "</table>\n",
       "</div>"
      ],
      "text/plain": [
       "     PlayKey RosterPosition  PlayerDay  PlayerGame StadiumType  FieldType  \\\n",
       "0  26624-1-1             QB        1.0         1.0     Outdoor        1.0   \n",
       "1  26624-1-2             QB        1.0         1.0     Outdoor        1.0   \n",
       "2  26624-1-3             QB        1.0         1.0     Outdoor        1.0   \n",
       "3  26624-1-4             QB        1.0         1.0     Outdoor        1.0   \n",
       "4  26624-1-5             QB        1.0         1.0     Outdoor        1.0   \n",
       "\n",
       "   Temperature Weather PlayType  PlayerGamePlay Position BodyPart  \\\n",
       "0         63.0   Clear     Pass             1.0       QB      NaN   \n",
       "1         63.0   Clear     Pass             2.0       QB      NaN   \n",
       "2         63.0   Clear     Rush             3.0       QB      NaN   \n",
       "3         63.0   Clear     Rush             4.0       QB      NaN   \n",
       "4         63.0   Clear     Pass             5.0       QB      NaN   \n",
       "\n",
       "   Injury_Duration  \n",
       "0              NaN  \n",
       "1              NaN  \n",
       "2              NaN  \n",
       "3              NaN  \n",
       "4              NaN  "
      ]
     },
     "execution_count": 337,
     "metadata": {},
     "output_type": "execute_result"
    }
   ],
   "source": [
    "play_injuries.head()"
   ]
  },
  {
   "cell_type": "markdown",
   "metadata": {},
   "source": [
    "### Add values for duration and Body Part. Change NaN to None for body part. Change Injury_Duration to 0 for all NaN values"
   ]
  },
  {
   "cell_type": "code",
   "execution_count": null,
   "metadata": {},
   "outputs": [],
   "source": []
  }
 ],
 "metadata": {
  "kernelspec": {
   "display_name": "Python 3.7.13 ('mlenv')",
   "language": "python",
   "name": "python3"
  },
  "language_info": {
   "codemirror_mode": {
    "name": "ipython",
    "version": 3
   },
   "file_extension": ".py",
   "mimetype": "text/x-python",
   "name": "python",
   "nbconvert_exporter": "python",
   "pygments_lexer": "ipython3",
   "version": "3.7.13"
  },
  "orig_nbformat": 4,
  "vscode": {
   "interpreter": {
    "hash": "55a128abeef29120eb7bd22a6a2e883184ae9f9178564f0df9c7c7d3d676105f"
   }
  }
 },
 "nbformat": 4,
 "nbformat_minor": 2
}
