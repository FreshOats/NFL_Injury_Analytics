{
 "cells": [
  {
   "cell_type": "markdown",
   "metadata": {},
   "source": [
    "# Predictive ML Model for Lower Body Injuries"
   ]
  },
  {
   "cell_type": "code",
   "execution_count": 2,
   "metadata": {},
   "outputs": [],
   "source": [
    "import pandas as pd\n",
    "import numpy as np\n",
    "from sklearn.model_selection import train_test_split\n",
    "from imblearn.ensemble import BalancedRandomForestClassifier, EasyEnsembleClassifier\n",
    "from sklearn.metrics import balanced_accuracy_score\n",
    "from sklearn.metrics import confusion_matrix\n",
    "from imblearn.metrics import classification_report_imbalanced\n",
    "from sklearn.naive_bayes import ComplementNB\n",
    "import xgboost as xgb"
   ]
  },
  {
   "cell_type": "code",
   "execution_count": 3,
   "metadata": {},
   "outputs": [],
   "source": [
    "# This uses the full outer-joined dataset\n",
    "play_injuries = pd.read_csv('play_injuries_super.csv')\n",
    "\n",
    "# define the random state for anything using random_state\n",
    "seed = 42"
   ]
  },
  {
   "cell_type": "code",
   "execution_count": 4,
   "metadata": {},
   "outputs": [
    {
     "data": {
      "text/html": [
       "<div>\n",
       "<style scoped>\n",
       "    .dataframe tbody tr th:only-of-type {\n",
       "        vertical-align: middle;\n",
       "    }\n",
       "\n",
       "    .dataframe tbody tr th {\n",
       "        vertical-align: top;\n",
       "    }\n",
       "\n",
       "    .dataframe thead th {\n",
       "        text-align: right;\n",
       "    }\n",
       "</style>\n",
       "<table border=\"1\" class=\"dataframe\">\n",
       "  <thead>\n",
       "    <tr style=\"text-align: right;\">\n",
       "      <th></th>\n",
       "      <th>PlayerGame</th>\n",
       "      <th>FieldType</th>\n",
       "      <th>Temperature</th>\n",
       "      <th>PlayerGamePlay</th>\n",
       "      <th>OutdoorStadium</th>\n",
       "      <th>WeatherImpact</th>\n",
       "      <th>DaysPlayed</th>\n",
       "      <th>InjuryDuration</th>\n",
       "      <th>IsInjured</th>\n",
       "      <th>InjuryType</th>\n",
       "      <th>...</th>\n",
       "      <th>RosterPosition_LB</th>\n",
       "      <th>RosterPosition_OL</th>\n",
       "      <th>RosterPosition_QB</th>\n",
       "      <th>RosterPosition_RB</th>\n",
       "      <th>RosterPosition_S</th>\n",
       "      <th>RosterPosition_TE</th>\n",
       "      <th>RosterPosition_WR</th>\n",
       "      <th>PlayType_Kick</th>\n",
       "      <th>PlayType_Pass</th>\n",
       "      <th>PlayType_Rush</th>\n",
       "    </tr>\n",
       "  </thead>\n",
       "  <tbody>\n",
       "    <tr>\n",
       "      <th>0</th>\n",
       "      <td>1.0</td>\n",
       "      <td>1.0</td>\n",
       "      <td>63.0</td>\n",
       "      <td>1.0</td>\n",
       "      <td>1.0</td>\n",
       "      <td>0.0</td>\n",
       "      <td>64.0</td>\n",
       "      <td>0.0</td>\n",
       "      <td>0</td>\n",
       "      <td>0</td>\n",
       "      <td>...</td>\n",
       "      <td>0.0</td>\n",
       "      <td>0.0</td>\n",
       "      <td>1.0</td>\n",
       "      <td>0.0</td>\n",
       "      <td>0.0</td>\n",
       "      <td>0.0</td>\n",
       "      <td>0.0</td>\n",
       "      <td>0.0</td>\n",
       "      <td>1.0</td>\n",
       "      <td>0.0</td>\n",
       "    </tr>\n",
       "    <tr>\n",
       "      <th>1</th>\n",
       "      <td>1.0</td>\n",
       "      <td>1.0</td>\n",
       "      <td>63.0</td>\n",
       "      <td>2.0</td>\n",
       "      <td>1.0</td>\n",
       "      <td>0.0</td>\n",
       "      <td>64.0</td>\n",
       "      <td>0.0</td>\n",
       "      <td>0</td>\n",
       "      <td>0</td>\n",
       "      <td>...</td>\n",
       "      <td>0.0</td>\n",
       "      <td>0.0</td>\n",
       "      <td>1.0</td>\n",
       "      <td>0.0</td>\n",
       "      <td>0.0</td>\n",
       "      <td>0.0</td>\n",
       "      <td>0.0</td>\n",
       "      <td>0.0</td>\n",
       "      <td>1.0</td>\n",
       "      <td>0.0</td>\n",
       "    </tr>\n",
       "    <tr>\n",
       "      <th>2</th>\n",
       "      <td>1.0</td>\n",
       "      <td>1.0</td>\n",
       "      <td>63.0</td>\n",
       "      <td>3.0</td>\n",
       "      <td>1.0</td>\n",
       "      <td>0.0</td>\n",
       "      <td>64.0</td>\n",
       "      <td>0.0</td>\n",
       "      <td>0</td>\n",
       "      <td>0</td>\n",
       "      <td>...</td>\n",
       "      <td>0.0</td>\n",
       "      <td>0.0</td>\n",
       "      <td>1.0</td>\n",
       "      <td>0.0</td>\n",
       "      <td>0.0</td>\n",
       "      <td>0.0</td>\n",
       "      <td>0.0</td>\n",
       "      <td>0.0</td>\n",
       "      <td>0.0</td>\n",
       "      <td>1.0</td>\n",
       "    </tr>\n",
       "    <tr>\n",
       "      <th>3</th>\n",
       "      <td>1.0</td>\n",
       "      <td>1.0</td>\n",
       "      <td>63.0</td>\n",
       "      <td>4.0</td>\n",
       "      <td>1.0</td>\n",
       "      <td>0.0</td>\n",
       "      <td>64.0</td>\n",
       "      <td>0.0</td>\n",
       "      <td>0</td>\n",
       "      <td>0</td>\n",
       "      <td>...</td>\n",
       "      <td>0.0</td>\n",
       "      <td>0.0</td>\n",
       "      <td>1.0</td>\n",
       "      <td>0.0</td>\n",
       "      <td>0.0</td>\n",
       "      <td>0.0</td>\n",
       "      <td>0.0</td>\n",
       "      <td>0.0</td>\n",
       "      <td>0.0</td>\n",
       "      <td>1.0</td>\n",
       "    </tr>\n",
       "    <tr>\n",
       "      <th>4</th>\n",
       "      <td>1.0</td>\n",
       "      <td>1.0</td>\n",
       "      <td>63.0</td>\n",
       "      <td>5.0</td>\n",
       "      <td>1.0</td>\n",
       "      <td>0.0</td>\n",
       "      <td>64.0</td>\n",
       "      <td>0.0</td>\n",
       "      <td>0</td>\n",
       "      <td>0</td>\n",
       "      <td>...</td>\n",
       "      <td>0.0</td>\n",
       "      <td>0.0</td>\n",
       "      <td>1.0</td>\n",
       "      <td>0.0</td>\n",
       "      <td>0.0</td>\n",
       "      <td>0.0</td>\n",
       "      <td>0.0</td>\n",
       "      <td>0.0</td>\n",
       "      <td>1.0</td>\n",
       "      <td>0.0</td>\n",
       "    </tr>\n",
       "  </tbody>\n",
       "</table>\n",
       "<p>5 rows × 23 columns</p>\n",
       "</div>"
      ],
      "text/plain": [
       "   PlayerGame  FieldType  Temperature  PlayerGamePlay  OutdoorStadium  \\\n",
       "0         1.0        1.0         63.0             1.0             1.0   \n",
       "1         1.0        1.0         63.0             2.0             1.0   \n",
       "2         1.0        1.0         63.0             3.0             1.0   \n",
       "3         1.0        1.0         63.0             4.0             1.0   \n",
       "4         1.0        1.0         63.0             5.0             1.0   \n",
       "\n",
       "   WeatherImpact  DaysPlayed  InjuryDuration  IsInjured  InjuryType  ...  \\\n",
       "0            0.0        64.0             0.0          0           0  ...   \n",
       "1            0.0        64.0             0.0          0           0  ...   \n",
       "2            0.0        64.0             0.0          0           0  ...   \n",
       "3            0.0        64.0             0.0          0           0  ...   \n",
       "4            0.0        64.0             0.0          0           0  ...   \n",
       "\n",
       "   RosterPosition_LB  RosterPosition_OL  RosterPosition_QB  RosterPosition_RB  \\\n",
       "0                0.0                0.0                1.0                0.0   \n",
       "1                0.0                0.0                1.0                0.0   \n",
       "2                0.0                0.0                1.0                0.0   \n",
       "3                0.0                0.0                1.0                0.0   \n",
       "4                0.0                0.0                1.0                0.0   \n",
       "\n",
       "   RosterPosition_S  RosterPosition_TE  RosterPosition_WR  PlayType_Kick  \\\n",
       "0               0.0                0.0                0.0            0.0   \n",
       "1               0.0                0.0                0.0            0.0   \n",
       "2               0.0                0.0                0.0            0.0   \n",
       "3               0.0                0.0                0.0            0.0   \n",
       "4               0.0                0.0                0.0            0.0   \n",
       "\n",
       "   PlayType_Pass  PlayType_Rush  \n",
       "0            1.0            0.0  \n",
       "1            1.0            0.0  \n",
       "2            0.0            1.0  \n",
       "3            0.0            1.0  \n",
       "4            1.0            0.0  \n",
       "\n",
       "[5 rows x 23 columns]"
      ]
     },
     "execution_count": 4,
     "metadata": {},
     "output_type": "execute_result"
    }
   ],
   "source": [
    "play_injuries.head()"
   ]
  },
  {
   "cell_type": "markdown",
   "metadata": {},
   "source": [
    "## Prepare test training and testing sets\n",
    "\n",
    "- The first outcome, y, will be the IsInjured column with a binary outcome. This can be used with the RandomForests for Neural Network Classifications\n",
    "- The second outcome, z, for a regression analysis with multiple outcomes to classify the types of injuries, and w for the duration of the injury. For duration, it will be important to know that the injury occurred and what type"
   ]
  },
  {
   "cell_type": "code",
   "execution_count": 5,
   "metadata": {},
   "outputs": [],
   "source": [
    "y = play_injuries.IsInjured\n",
    "z = play_injuries.InjuryType\n",
    "w = play_injuries.InjuryDuration\n",
    "\n",
    "X = play_injuries.drop(columns=['IsInjured', 'InjuryType', 'InjuryDuration'])"
   ]
  },
  {
   "cell_type": "markdown",
   "metadata": {},
   "source": [
    "For the Machine Learning Model, the following columns are encoded numerically as such: \n",
    "- Stadium Types: Outdoor = 1 , or Not Outdoor = 0\n",
    "- IsInjured: NoInjury = 0, or Any Injury = 1\n",
    "- Field type: Natural = 0, or synthetic = 1\n",
    "- WeatherImpact:  Clear and Indoor= 0, Cloudy = 1,  Windy = 2, Hazy/Fog = 3, Rain = 4, Snow = 5 \n",
    "- InjuryType: NoInjury = 0, Knee = 36, Ankle = 35, Foot = 6 (based on frequency of occurrence)\n",
    "- Positions have been converted to binary: 1 = True, player plays that position\n",
    "- PlayType has been converted to binary as well, where 1 is True and indicates that play was active"
   ]
  },
  {
   "cell_type": "code",
   "execution_count": 6,
   "metadata": {},
   "outputs": [
    {
     "data": {
      "text/html": [
       "<div>\n",
       "<style scoped>\n",
       "    .dataframe tbody tr th:only-of-type {\n",
       "        vertical-align: middle;\n",
       "    }\n",
       "\n",
       "    .dataframe tbody tr th {\n",
       "        vertical-align: top;\n",
       "    }\n",
       "\n",
       "    .dataframe thead th {\n",
       "        text-align: right;\n",
       "    }\n",
       "</style>\n",
       "<table border=\"1\" class=\"dataframe\">\n",
       "  <thead>\n",
       "    <tr style=\"text-align: right;\">\n",
       "      <th></th>\n",
       "      <th>PlayerGame</th>\n",
       "      <th>FieldType</th>\n",
       "      <th>Temperature</th>\n",
       "      <th>PlayerGamePlay</th>\n",
       "      <th>OutdoorStadium</th>\n",
       "      <th>WeatherImpact</th>\n",
       "      <th>DaysPlayed</th>\n",
       "      <th>RosterPosition_CB</th>\n",
       "      <th>RosterPosition_DL</th>\n",
       "      <th>RosterPosition_K</th>\n",
       "      <th>RosterPosition_LB</th>\n",
       "      <th>RosterPosition_OL</th>\n",
       "      <th>RosterPosition_QB</th>\n",
       "      <th>RosterPosition_RB</th>\n",
       "      <th>RosterPosition_S</th>\n",
       "      <th>RosterPosition_TE</th>\n",
       "      <th>RosterPosition_WR</th>\n",
       "      <th>PlayType_Kick</th>\n",
       "      <th>PlayType_Pass</th>\n",
       "      <th>PlayType_Rush</th>\n",
       "    </tr>\n",
       "  </thead>\n",
       "  <tbody>\n",
       "    <tr>\n",
       "      <th>0</th>\n",
       "      <td>1.0</td>\n",
       "      <td>1.0</td>\n",
       "      <td>63.0</td>\n",
       "      <td>1.0</td>\n",
       "      <td>1.0</td>\n",
       "      <td>0.0</td>\n",
       "      <td>64.0</td>\n",
       "      <td>0.0</td>\n",
       "      <td>0.0</td>\n",
       "      <td>0.0</td>\n",
       "      <td>0.0</td>\n",
       "      <td>0.0</td>\n",
       "      <td>1.0</td>\n",
       "      <td>0.0</td>\n",
       "      <td>0.0</td>\n",
       "      <td>0.0</td>\n",
       "      <td>0.0</td>\n",
       "      <td>0.0</td>\n",
       "      <td>1.0</td>\n",
       "      <td>0.0</td>\n",
       "    </tr>\n",
       "    <tr>\n",
       "      <th>1</th>\n",
       "      <td>1.0</td>\n",
       "      <td>1.0</td>\n",
       "      <td>63.0</td>\n",
       "      <td>2.0</td>\n",
       "      <td>1.0</td>\n",
       "      <td>0.0</td>\n",
       "      <td>64.0</td>\n",
       "      <td>0.0</td>\n",
       "      <td>0.0</td>\n",
       "      <td>0.0</td>\n",
       "      <td>0.0</td>\n",
       "      <td>0.0</td>\n",
       "      <td>1.0</td>\n",
       "      <td>0.0</td>\n",
       "      <td>0.0</td>\n",
       "      <td>0.0</td>\n",
       "      <td>0.0</td>\n",
       "      <td>0.0</td>\n",
       "      <td>1.0</td>\n",
       "      <td>0.0</td>\n",
       "    </tr>\n",
       "    <tr>\n",
       "      <th>2</th>\n",
       "      <td>1.0</td>\n",
       "      <td>1.0</td>\n",
       "      <td>63.0</td>\n",
       "      <td>3.0</td>\n",
       "      <td>1.0</td>\n",
       "      <td>0.0</td>\n",
       "      <td>64.0</td>\n",
       "      <td>0.0</td>\n",
       "      <td>0.0</td>\n",
       "      <td>0.0</td>\n",
       "      <td>0.0</td>\n",
       "      <td>0.0</td>\n",
       "      <td>1.0</td>\n",
       "      <td>0.0</td>\n",
       "      <td>0.0</td>\n",
       "      <td>0.0</td>\n",
       "      <td>0.0</td>\n",
       "      <td>0.0</td>\n",
       "      <td>0.0</td>\n",
       "      <td>1.0</td>\n",
       "    </tr>\n",
       "    <tr>\n",
       "      <th>3</th>\n",
       "      <td>1.0</td>\n",
       "      <td>1.0</td>\n",
       "      <td>63.0</td>\n",
       "      <td>4.0</td>\n",
       "      <td>1.0</td>\n",
       "      <td>0.0</td>\n",
       "      <td>64.0</td>\n",
       "      <td>0.0</td>\n",
       "      <td>0.0</td>\n",
       "      <td>0.0</td>\n",
       "      <td>0.0</td>\n",
       "      <td>0.0</td>\n",
       "      <td>1.0</td>\n",
       "      <td>0.0</td>\n",
       "      <td>0.0</td>\n",
       "      <td>0.0</td>\n",
       "      <td>0.0</td>\n",
       "      <td>0.0</td>\n",
       "      <td>0.0</td>\n",
       "      <td>1.0</td>\n",
       "    </tr>\n",
       "    <tr>\n",
       "      <th>4</th>\n",
       "      <td>1.0</td>\n",
       "      <td>1.0</td>\n",
       "      <td>63.0</td>\n",
       "      <td>5.0</td>\n",
       "      <td>1.0</td>\n",
       "      <td>0.0</td>\n",
       "      <td>64.0</td>\n",
       "      <td>0.0</td>\n",
       "      <td>0.0</td>\n",
       "      <td>0.0</td>\n",
       "      <td>0.0</td>\n",
       "      <td>0.0</td>\n",
       "      <td>1.0</td>\n",
       "      <td>0.0</td>\n",
       "      <td>0.0</td>\n",
       "      <td>0.0</td>\n",
       "      <td>0.0</td>\n",
       "      <td>0.0</td>\n",
       "      <td>1.0</td>\n",
       "      <td>0.0</td>\n",
       "    </tr>\n",
       "  </tbody>\n",
       "</table>\n",
       "</div>"
      ],
      "text/plain": [
       "   PlayerGame  FieldType  Temperature  PlayerGamePlay  OutdoorStadium  \\\n",
       "0         1.0        1.0         63.0             1.0             1.0   \n",
       "1         1.0        1.0         63.0             2.0             1.0   \n",
       "2         1.0        1.0         63.0             3.0             1.0   \n",
       "3         1.0        1.0         63.0             4.0             1.0   \n",
       "4         1.0        1.0         63.0             5.0             1.0   \n",
       "\n",
       "   WeatherImpact  DaysPlayed  RosterPosition_CB  RosterPosition_DL  \\\n",
       "0            0.0        64.0                0.0                0.0   \n",
       "1            0.0        64.0                0.0                0.0   \n",
       "2            0.0        64.0                0.0                0.0   \n",
       "3            0.0        64.0                0.0                0.0   \n",
       "4            0.0        64.0                0.0                0.0   \n",
       "\n",
       "   RosterPosition_K  RosterPosition_LB  RosterPosition_OL  RosterPosition_QB  \\\n",
       "0               0.0                0.0                0.0                1.0   \n",
       "1               0.0                0.0                0.0                1.0   \n",
       "2               0.0                0.0                0.0                1.0   \n",
       "3               0.0                0.0                0.0                1.0   \n",
       "4               0.0                0.0                0.0                1.0   \n",
       "\n",
       "   RosterPosition_RB  RosterPosition_S  RosterPosition_TE  RosterPosition_WR  \\\n",
       "0                0.0               0.0                0.0                0.0   \n",
       "1                0.0               0.0                0.0                0.0   \n",
       "2                0.0               0.0                0.0                0.0   \n",
       "3                0.0               0.0                0.0                0.0   \n",
       "4                0.0               0.0                0.0                0.0   \n",
       "\n",
       "   PlayType_Kick  PlayType_Pass  PlayType_Rush  \n",
       "0            0.0            1.0            0.0  \n",
       "1            0.0            1.0            0.0  \n",
       "2            0.0            0.0            1.0  \n",
       "3            0.0            0.0            1.0  \n",
       "4            0.0            1.0            0.0  "
      ]
     },
     "execution_count": 6,
     "metadata": {},
     "output_type": "execute_result"
    }
   ],
   "source": [
    "X.head()"
   ]
  },
  {
   "cell_type": "markdown",
   "metadata": {},
   "source": [
    "Here we look at the outcomes. There are 236000 plays during the 2 seasons, but only 69 plays resulted in injuries of the Foot, Ankle or Knee.\n",
    "Because this is so imbalanced, stratify is being set = y. "
   ]
  },
  {
   "cell_type": "code",
   "execution_count": 7,
   "metadata": {},
   "outputs": [
    {
     "data": {
      "text/plain": [
       "0    236395\n",
       "1        69\n",
       "Name: IsInjured, dtype: int64"
      ]
     },
     "execution_count": 7,
     "metadata": {},
     "output_type": "execute_result"
    }
   ],
   "source": [
    "y.value_counts()"
   ]
  },
  {
   "cell_type": "code",
   "execution_count": 8,
   "metadata": {},
   "outputs": [],
   "source": [
    "X_train, X_test, y_train, y_test = train_test_split(X, y, random_state=seed)"
   ]
  },
  {
   "cell_type": "markdown",
   "metadata": {},
   "source": [
    "## Random Forest Classifier"
   ]
  },
  {
   "cell_type": "code",
   "execution_count": 9,
   "metadata": {},
   "outputs": [
    {
     "data": {
      "text/plain": [
       "0.5465074960235541"
      ]
     },
     "execution_count": 9,
     "metadata": {},
     "output_type": "execute_result"
    }
   ],
   "source": [
    "# Create the Classifier\n",
    "barf = BalancedRandomForestClassifier(n_estimators=100, random_state=seed)\n",
    "\n",
    "# Fit the Model\n",
    "barf.fit(X_train, y_train)\n",
    "\n",
    "# Calculate the balanced accuracy score\n",
    "y_pred = barf.predict(X_test)\n",
    "balanced_accuracy_score(y_test, y_pred)"
   ]
  },
  {
   "cell_type": "code",
   "execution_count": 10,
   "metadata": {},
   "outputs": [
    {
     "data": {
      "text/plain": [
       "array([[35046, 24052],\n",
       "       [    9,     9]], dtype=int64)"
      ]
     },
     "execution_count": 10,
     "metadata": {},
     "output_type": "execute_result"
    }
   ],
   "source": [
    "# Display the confusion Matrix\n",
    "confusion_matrix(y_test, y_pred)"
   ]
  },
  {
   "cell_type": "code",
   "execution_count": 11,
   "metadata": {},
   "outputs": [
    {
     "name": "stdout",
     "output_type": "stream",
     "text": [
      "                   pre       rec       spe        f1       geo       iba       sup\n",
      "\n",
      "          0       1.00      0.59      0.50      0.74      0.54      0.30     59098\n",
      "          1       0.00      0.50      0.59      0.00      0.54      0.29        18\n",
      "\n",
      "avg / total       1.00      0.59      0.50      0.74      0.54      0.30     59116\n",
      "\n"
     ]
    }
   ],
   "source": [
    "# Print imbalanced classification report\n",
    "print(classification_report_imbalanced(y_test, y_pred))"
   ]
  },
  {
   "cell_type": "code",
   "execution_count": 12,
   "metadata": {},
   "outputs": [
    {
     "data": {
      "text/plain": [
       "[(0.1879665548798101, 'PlayerGame'),\n",
       " (0.16103587770590963, 'DaysPlayed'),\n",
       " (0.1506151210091487, 'Temperature'),\n",
       " (0.1367398516282145, 'PlayerGamePlay'),\n",
       " (0.05749110764915886, 'WeatherImpact'),\n",
       " (0.04199587712987693, 'FieldType'),\n",
       " (0.030031195219027293, 'PlayType_Rush'),\n",
       " (0.028199945932627694, 'OutdoorStadium'),\n",
       " (0.02805189034921335, 'PlayType_Kick'),\n",
       " (0.026179020231929282, 'RosterPosition_LB'),\n",
       " (0.02617632301975161, 'PlayType_Pass'),\n",
       " (0.02452981119683056, 'RosterPosition_WR'),\n",
       " (0.024017226302496805, 'RosterPosition_OL'),\n",
       " (0.021915217517279713, 'RosterPosition_S'),\n",
       " (0.017383618890914738, 'RosterPosition_DL'),\n",
       " (0.015034503309268442, 'RosterPosition_CB'),\n",
       " (0.012467885042542839, 'RosterPosition_RB'),\n",
       " (0.004788206252826763, 'RosterPosition_QB'),\n",
       " (0.0036288972464173183, 'RosterPosition_TE'),\n",
       " (0.0017518694867549999, 'RosterPosition_K')]"
      ]
     },
     "execution_count": 12,
     "metadata": {},
     "output_type": "execute_result"
    }
   ],
   "source": [
    "# List features by order of importance\n",
    "sorted(zip(barf.feature_importances_, X.columns), reverse=True)"
   ]
  },
  {
   "cell_type": "markdown",
   "metadata": {},
   "source": [
    "- Play types seem to be grouped similar to the frequency, where whether it was a passing play or rushing play, vs. anything else, all of which had lower impact. Going to group the other plays together. \n",
    "- Positions are similar - OLB and WR are high impact with the others lower. Before grouping everyone else, going to change this to RosterPosition, rather than Actual position to see if it improves the accuracy\n",
    "- These data do not contain anything about the location on the field yet, but we want to group the least impactful features before adding more features\n",
    "- Weather impact seems to have a higher impact than expected - I want to look at some survey data and see how players rank the difficulty level of playing in each of those conditions before resetting the scale"
   ]
  },
  {
   "cell_type": "markdown",
   "metadata": {},
   "source": [
    "## Complement Naive Bayes"
   ]
  },
  {
   "cell_type": "code",
   "execution_count": 13,
   "metadata": {},
   "outputs": [
    {
     "data": {
      "text/plain": [
       "0.5465074960235541"
      ]
     },
     "execution_count": 13,
     "metadata": {},
     "output_type": "execute_result"
    }
   ],
   "source": [
    "clf = ComplementNB()\n",
    "clf.fit(X_train, y_train)\n",
    "pred = clf.predict(X_test)\n",
    "\n",
    "balanced_accuracy_score(y_test, y_pred)\n"
   ]
  },
  {
   "cell_type": "markdown",
   "metadata": {},
   "source": [
    "## EasyEnsemble"
   ]
  },
  {
   "cell_type": "code",
   "execution_count": 14,
   "metadata": {},
   "outputs": [
    {
     "data": {
      "text/plain": [
       "0.5313735001372485"
      ]
     },
     "execution_count": 14,
     "metadata": {},
     "output_type": "execute_result"
    }
   ],
   "source": [
    "easy_e = EasyEnsembleClassifier(n_estimators=100, random_state=seed)\n",
    "easy_e.fit(X_train, y_train)\n",
    "\n",
    "y_pred = easy_e.predict(X_test)\n",
    "balanced_accuracy_score(y_test, y_pred)"
   ]
  },
  {
   "cell_type": "markdown",
   "metadata": {},
   "source": [
    "## XGBoost\n",
    "I'd like to try this in the future"
   ]
  },
  {
   "cell_type": "code",
   "execution_count": null,
   "metadata": {},
   "outputs": [],
   "source": []
  },
  {
   "cell_type": "markdown",
   "metadata": {},
   "source": [
    "## Summary\n",
    "Our current model is wanting, and has a predictive accuracy of the binary 'IsInjured' of only 54% "
   ]
  }
 ],
 "metadata": {
  "kernelspec": {
   "display_name": "Python 3.7.13 ('mlenv')",
   "language": "python",
   "name": "python3"
  },
  "language_info": {
   "codemirror_mode": {
    "name": "ipython",
    "version": 3
   },
   "file_extension": ".py",
   "mimetype": "text/x-python",
   "name": "python",
   "nbconvert_exporter": "python",
   "pygments_lexer": "ipython3",
   "version": "3.7.13"
  },
  "orig_nbformat": 4,
  "vscode": {
   "interpreter": {
    "hash": "55a128abeef29120eb7bd22a6a2e883184ae9f9178564f0df9c7c7d3d676105f"
   }
  }
 },
 "nbformat": 4,
 "nbformat_minor": 2
}
