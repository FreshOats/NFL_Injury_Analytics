{
 "cells": [
  {
   "cell_type": "code",
   "execution_count": 1,
   "metadata": {},
   "outputs": [],
   "source": [
    "from bs4 import BeautifulSoup as soup\n",
    "import pandas as pd\n",
    "from splinter import Browser\n",
    "from webdriver_manager.chrome import ChromeDriverManager\n"
   ]
  },
  {
   "cell_type": "code",
   "execution_count": 2,
   "metadata": {},
   "outputs": [
    {
     "name": "stdout",
     "output_type": "stream",
     "text": [
      "\n"
     ]
    }
   ],
   "source": [
    "executable_path = {'executable_path': ChromeDriverManager().install()}\n",
    "browser = Browser('chrome', **executable_path, headless=False)"
   ]
  },
  {
   "cell_type": "code",
   "execution_count": 3,
   "metadata": {},
   "outputs": [],
   "source": [
    "url = \"https://www.cbssports.com/nfl/injuries/daily\"\n",
    "browser.visit(url)"
   ]
  },
  {
   "cell_type": "code",
   "execution_count": 4,
   "metadata": {},
   "outputs": [],
   "source": [
    "# Set up parser\n",
    "html = browser.html\n",
    "parsed_html = soup(html, 'lxml')\n",
    "slide_elem = parsed_html.select('tr.TableBase-bodyTr')\n",
    "\n",
    "# Find all of the Tr rows\n",
    "rows = parsed_html.findAll('tr', limit=6)[1:]  # the 0th tr is headers\n"
   ]
  },
  {
   "cell_type": "code",
   "execution_count": 5,
   "metadata": {},
   "outputs": [],
   "source": [
    "# Create empty lists\n",
    "player = []\n",
    "position = []\n",
    "injury = []\n",
    "team = []\n",
    "logo = []\n",
    "\n",
    "# Get info from each row\n",
    "for i in range(len(rows)):\n",
    "    player.append(slide_elem[i].find('span', class_='CellPlayerName--long').get_text())\n",
    "    position.append(slide_elem[i].find(\n",
    "        'td', class_='TableBase-bodyTd').next_sibling.next_sibling.get_text().strip())\n",
    "    injury.append(slide_elem[i].find(\n",
    "        'td', class_='TableBase-bodyTd').next_sibling.next_sibling.next_sibling.get_text().strip())\n",
    "    team.append(slide_elem[i].find('span', class_='TeamName').get_text())\n",
    "    logo.append(slide_elem[i].find('img', class_='TeamLogo-image').get('src'))\n"
   ]
  },
  {
   "cell_type": "code",
   "execution_count": 6,
   "metadata": {},
   "outputs": [
    {
     "data": {
      "text/html": [
       "<div>\n",
       "<style scoped>\n",
       "    .dataframe tbody tr th:only-of-type {\n",
       "        vertical-align: middle;\n",
       "    }\n",
       "\n",
       "    .dataframe tbody tr th {\n",
       "        vertical-align: top;\n",
       "    }\n",
       "\n",
       "    .dataframe thead th {\n",
       "        text-align: right;\n",
       "    }\n",
       "</style>\n",
       "<table border=\"1\" class=\"dataframe\">\n",
       "  <thead>\n",
       "    <tr style=\"text-align: right;\">\n",
       "      <th></th>\n",
       "      <th>Logo</th>\n",
       "      <th>Team</th>\n",
       "      <th>Player</th>\n",
       "      <th>Position</th>\n",
       "      <th>Injury</th>\n",
       "    </tr>\n",
       "  </thead>\n",
       "  <tbody>\n",
       "    <tr>\n",
       "      <th>0</th>\n",
       "      <td>https://sports.cbsimg.net/fly/images/nfl/logos...</td>\n",
       "      <td>ARI</td>\n",
       "      <td>Marquise Brown</td>\n",
       "      <td>WR</td>\n",
       "      <td>Foot</td>\n",
       "    </tr>\n",
       "    <tr>\n",
       "      <th>1</th>\n",
       "      <td>https://sports.cbsimg.net/fly/images/nfl/logos...</td>\n",
       "      <td>ARI</td>\n",
       "      <td>Rashard Lawrence</td>\n",
       "      <td>NT</td>\n",
       "      <td>Shoulder</td>\n",
       "    </tr>\n",
       "    <tr>\n",
       "      <th>2</th>\n",
       "      <td>https://sports.cbsimg.net/fly/images/nfl/logos...</td>\n",
       "      <td>ARI</td>\n",
       "      <td>Colt McCoy</td>\n",
       "      <td>QB</td>\n",
       "      <td>Knee</td>\n",
       "    </tr>\n",
       "    <tr>\n",
       "      <th>3</th>\n",
       "      <td>https://sports.cbsimg.net/fly/images/nfl/logos...</td>\n",
       "      <td>ATL</td>\n",
       "      <td>Jalen Mayfield</td>\n",
       "      <td>OT</td>\n",
       "      <td>Back</td>\n",
       "    </tr>\n",
       "    <tr>\n",
       "      <th>4</th>\n",
       "      <td>https://sports.cbsimg.net/fly/images/nfl/logos...</td>\n",
       "      <td>BAL</td>\n",
       "      <td>Jalyn Armour-Davis</td>\n",
       "      <td>CB</td>\n",
       "      <td>Hip</td>\n",
       "    </tr>\n",
       "  </tbody>\n",
       "</table>\n",
       "</div>"
      ],
      "text/plain": [
       "                                                Logo Team              Player  \\\n",
       "0  https://sports.cbsimg.net/fly/images/nfl/logos...  ARI      Marquise Brown   \n",
       "1  https://sports.cbsimg.net/fly/images/nfl/logos...  ARI    Rashard Lawrence   \n",
       "2  https://sports.cbsimg.net/fly/images/nfl/logos...  ARI          Colt McCoy   \n",
       "3  https://sports.cbsimg.net/fly/images/nfl/logos...  ATL      Jalen Mayfield   \n",
       "4  https://sports.cbsimg.net/fly/images/nfl/logos...  BAL  Jalyn Armour-Davis   \n",
       "\n",
       "  Position    Injury  \n",
       "0       WR      Foot  \n",
       "1       NT  Shoulder  \n",
       "2       QB      Knee  \n",
       "3       OT      Back  \n",
       "4       CB       Hip  "
      ]
     },
     "execution_count": 6,
     "metadata": {},
     "output_type": "execute_result"
    }
   ],
   "source": [
    "df = pd.DataFrame({\n",
    "    'Logo': logo,\n",
    "    'Team': team, \n",
    "    'Player': player,\n",
    "    'Position': position, \n",
    "    'Injury': injury\n",
    "})\n",
    "\n",
    "df"
   ]
  },
  {
   "cell_type": "code",
   "execution_count": 7,
   "metadata": {},
   "outputs": [],
   "source": [
    "browser.quit()"
   ]
  }
 ],
 "metadata": {
  "kernelspec": {
   "display_name": "Python 3.9.12 ('PythonData')",
   "language": "python",
   "name": "python3"
  },
  "language_info": {
   "codemirror_mode": {
    "name": "ipython",
    "version": 3
   },
   "file_extension": ".py",
   "mimetype": "text/x-python",
   "name": "python",
   "nbconvert_exporter": "python",
   "pygments_lexer": "ipython3",
   "version": "3.9.12"
  },
  "orig_nbformat": 4,
  "vscode": {
   "interpreter": {
    "hash": "545cd8b7514befe85d2d4576c8356de54fd5ea004f7372bc00090bcfdc6d1703"
   }
  }
 },
 "nbformat": 4,
 "nbformat_minor": 2
}
