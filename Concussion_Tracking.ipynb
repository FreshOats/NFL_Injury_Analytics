{
 "cells": [
  {
   "cell_type": "markdown",
   "metadata": {},
   "source": [
    "# Punt Play Analytics - Unsupervised Learning Analysis"
   ]
  },
  {
   "cell_type": "code",
   "execution_count": 1,
   "metadata": {},
   "outputs": [],
   "source": [
    "# Import and Cleaning dependencies\n",
    "import pandas as pd\n",
    "import numpy as np\n",
    "from NFL_Injury_Cleaning_Functions import *\n",
    "from NGS_Sampler import NGS_Cleaner\n",
    "from Punt_Cleaner import Punt_Cleaner\n",
    "from NGS_Tracking_Cleaner import Tracking_Loader_Sampler\n",
    "import matplotlib.pyplot as plt\n",
    "pd.set_option('mode.chained_assignment', None)\n",
    "random = 42"
   ]
  },
  {
   "cell_type": "markdown",
   "metadata": {},
   "source": [
    "# Import (and Sample) the NGS data and return as a dataframe\n",
    "\n",
    "The ngs data contains over 60 million rows of data, which will ultimately need to be sampled to perform additional modeling. The NGS_Cleaner funcntion from NGS_Sampler already samples the data down to a specified percent. In this case, we are sampling 1%, returning a dataframe with 600,000 rows"
   ]
  },
  {
   "cell_type": "code",
   "execution_count": 2,
   "metadata": {},
   "outputs": [],
   "source": [
    "ngs = Tracking_Loader_Sampler(fraction=0.001, random=random)"
   ]
  },
  {
   "cell_type": "code",
   "execution_count": 6,
   "metadata": {},
   "outputs": [],
   "source": [
    "# This will import and merge the punt analytics tables except for the NGS data\n",
    "punt = Punt_Cleaner()"
   ]
  },
  {
   "cell_type": "markdown",
   "metadata": {},
   "source": [
    "We want to merge perform an inner merge so that we have data for all columns and are not ignoring potentially important features in the unsupervised analyses"
   ]
  },
  {
   "cell_type": "code",
   "execution_count": 8,
   "metadata": {},
   "outputs": [],
   "source": [
    "punt_ngs = pd.merge(punt, ngs, on='Game_Play_ID', how = \"inner\")"
   ]
  },
  {
   "cell_type": "markdown",
   "metadata": {},
   "source": [
    "Create a copy of the merged data, since it will be inevitable during the plots and processing that something is going to get overwritten, and it will be very painful to reprocess the merge with the full dataset"
   ]
  },
  {
   "cell_type": "code",
   "execution_count": 9,
   "metadata": {},
   "outputs": [],
   "source": [
    "merged = punt_ngs.copy(deep=True)"
   ]
  },
  {
   "cell_type": "code",
   "execution_count": 10,
   "metadata": {},
   "outputs": [
    {
     "data": {
      "text/html": [
       "<div>\n",
       "<style scoped>\n",
       "    .dataframe tbody tr th:only-of-type {\n",
       "        vertical-align: middle;\n",
       "    }\n",
       "\n",
       "    .dataframe tbody tr th {\n",
       "        vertical-align: top;\n",
       "    }\n",
       "\n",
       "    .dataframe thead th {\n",
       "        text-align: right;\n",
       "    }\n",
       "</style>\n",
       "<table border=\"1\" class=\"dataframe\">\n",
       "  <thead>\n",
       "    <tr style=\"text-align: right;\">\n",
       "      <th></th>\n",
       "      <th>GameKey</th>\n",
       "      <th>PlayID</th>\n",
       "      <th>GSISID</th>\n",
       "      <th>Role</th>\n",
       "      <th>Game_Play</th>\n",
       "      <th>Game_Play_ID</th>\n",
       "      <th>Quarter</th>\n",
       "      <th>Position</th>\n",
       "      <th>Season_Type</th>\n",
       "      <th>Week</th>\n",
       "      <th>...</th>\n",
       "      <th>Turf</th>\n",
       "      <th>GameWeather</th>\n",
       "      <th>Temperature</th>\n",
       "      <th>HomeScore</th>\n",
       "      <th>Home-Away_Difference</th>\n",
       "      <th>x</th>\n",
       "      <th>y</th>\n",
       "      <th>o</th>\n",
       "      <th>dir</th>\n",
       "      <th>Twist</th>\n",
       "    </tr>\n",
       "  </thead>\n",
       "  <tbody>\n",
       "    <tr>\n",
       "      <th>0</th>\n",
       "      <td>414</td>\n",
       "      <td>188</td>\n",
       "      <td>33704</td>\n",
       "      <td>PDL2</td>\n",
       "      <td>414-188</td>\n",
       "      <td>414-188-33704</td>\n",
       "      <td>1</td>\n",
       "      <td>OLB</td>\n",
       "      <td>Reg</td>\n",
       "      <td>6</td>\n",
       "      <td>...</td>\n",
       "      <td>Natural</td>\n",
       "      <td>Cloudy</td>\n",
       "      <td>73.0</td>\n",
       "      <td>0</td>\n",
       "      <td>0</td>\n",
       "      <td>71.540001</td>\n",
       "      <td>25.760000</td>\n",
       "      <td>12.120000</td>\n",
       "      <td>89.480003</td>\n",
       "      <td>77.360003</td>\n",
       "    </tr>\n",
       "    <tr>\n",
       "      <th>1</th>\n",
       "      <td>414</td>\n",
       "      <td>188</td>\n",
       "      <td>31350</td>\n",
       "      <td>PLT</td>\n",
       "      <td>414-188</td>\n",
       "      <td>414-188-31350</td>\n",
       "      <td>1</td>\n",
       "      <td>ILB</td>\n",
       "      <td>Reg</td>\n",
       "      <td>6</td>\n",
       "      <td>...</td>\n",
       "      <td>Natural</td>\n",
       "      <td>Cloudy</td>\n",
       "      <td>73.0</td>\n",
       "      <td>0</td>\n",
       "      <td>0</td>\n",
       "      <td>19.139999</td>\n",
       "      <td>35.990002</td>\n",
       "      <td>157.610001</td>\n",
       "      <td>226.449997</td>\n",
       "      <td>68.839996</td>\n",
       "    </tr>\n",
       "    <tr>\n",
       "      <th>2</th>\n",
       "      <td>414</td>\n",
       "      <td>188</td>\n",
       "      <td>30957</td>\n",
       "      <td>PLS</td>\n",
       "      <td>414-188</td>\n",
       "      <td>414-188-30957</td>\n",
       "      <td>1</td>\n",
       "      <td>LS</td>\n",
       "      <td>Reg</td>\n",
       "      <td>6</td>\n",
       "      <td>...</td>\n",
       "      <td>Natural</td>\n",
       "      <td>Cloudy</td>\n",
       "      <td>73.0</td>\n",
       "      <td>0</td>\n",
       "      <td>0</td>\n",
       "      <td>64.839996</td>\n",
       "      <td>28.870001</td>\n",
       "      <td>187.119995</td>\n",
       "      <td>285.309998</td>\n",
       "      <td>98.190002</td>\n",
       "    </tr>\n",
       "    <tr>\n",
       "      <th>3</th>\n",
       "      <td>414</td>\n",
       "      <td>188</td>\n",
       "      <td>31277</td>\n",
       "      <td>PDL1</td>\n",
       "      <td>414-188</td>\n",
       "      <td>414-188-31277</td>\n",
       "      <td>1</td>\n",
       "      <td>RB</td>\n",
       "      <td>Reg</td>\n",
       "      <td>6</td>\n",
       "      <td>...</td>\n",
       "      <td>Natural</td>\n",
       "      <td>Cloudy</td>\n",
       "      <td>73.0</td>\n",
       "      <td>0</td>\n",
       "      <td>0</td>\n",
       "      <td>74.699997</td>\n",
       "      <td>26.129999</td>\n",
       "      <td>179.970001</td>\n",
       "      <td>272.200012</td>\n",
       "      <td>92.230011</td>\n",
       "    </tr>\n",
       "    <tr>\n",
       "      <th>4</th>\n",
       "      <td>414</td>\n",
       "      <td>188</td>\n",
       "      <td>31404</td>\n",
       "      <td>PDR3</td>\n",
       "      <td>414-188</td>\n",
       "      <td>414-188-31404</td>\n",
       "      <td>1</td>\n",
       "      <td>SS</td>\n",
       "      <td>Reg</td>\n",
       "      <td>6</td>\n",
       "      <td>...</td>\n",
       "      <td>Natural</td>\n",
       "      <td>Cloudy</td>\n",
       "      <td>73.0</td>\n",
       "      <td>0</td>\n",
       "      <td>0</td>\n",
       "      <td>70.730003</td>\n",
       "      <td>22.420000</td>\n",
       "      <td>2.470000</td>\n",
       "      <td>45.910000</td>\n",
       "      <td>43.440000</td>\n",
       "    </tr>\n",
       "  </tbody>\n",
       "</table>\n",
       "<p>5 rows × 22 columns</p>\n",
       "</div>"
      ],
      "text/plain": [
       "   GameKey  PlayID  GSISID  Role Game_Play   Game_Play_ID  Quarter Position  \\\n",
       "0      414     188   33704  PDL2   414-188  414-188-33704        1      OLB   \n",
       "1      414     188   31350   PLT   414-188  414-188-31350        1      ILB   \n",
       "2      414     188   30957   PLS   414-188  414-188-30957        1       LS   \n",
       "3      414     188   31277  PDL1   414-188  414-188-31277        1       RB   \n",
       "4      414     188   31404  PDR3   414-188  414-188-31404        1       SS   \n",
       "\n",
       "  Season_Type  Week  ...     Turf GameWeather Temperature HomeScore  \\\n",
       "0         Reg     6  ...  Natural      Cloudy        73.0         0   \n",
       "1         Reg     6  ...  Natural      Cloudy        73.0         0   \n",
       "2         Reg     6  ...  Natural      Cloudy        73.0         0   \n",
       "3         Reg     6  ...  Natural      Cloudy        73.0         0   \n",
       "4         Reg     6  ...  Natural      Cloudy        73.0         0   \n",
       "\n",
       "   Home-Away_Difference          x          y           o         dir  \\\n",
       "0                     0  71.540001  25.760000   12.120000   89.480003   \n",
       "1                     0  19.139999  35.990002  157.610001  226.449997   \n",
       "2                     0  64.839996  28.870001  187.119995  285.309998   \n",
       "3                     0  74.699997  26.129999  179.970001  272.200012   \n",
       "4                     0  70.730003  22.420000    2.470000   45.910000   \n",
       "\n",
       "       Twist  \n",
       "0  77.360003  \n",
       "1  68.839996  \n",
       "2  98.190002  \n",
       "3  92.230011  \n",
       "4  43.440000  \n",
       "\n",
       "[5 rows x 22 columns]"
      ]
     },
     "execution_count": 10,
     "metadata": {},
     "output_type": "execute_result"
    }
   ],
   "source": [
    "merged.head()"
   ]
  }
 ],
 "metadata": {
  "kernelspec": {
   "display_name": "Python 3.7.13 ('mlenv')",
   "language": "python",
   "name": "python3"
  },
  "language_info": {
   "codemirror_mode": {
    "name": "ipython",
    "version": 3
   },
   "file_extension": ".py",
   "mimetype": "text/x-python",
   "name": "python",
   "nbconvert_exporter": "python",
   "pygments_lexer": "ipython3",
   "version": "3.7.13"
  },
  "orig_nbformat": 4,
  "vscode": {
   "interpreter": {
    "hash": "55a128abeef29120eb7bd22a6a2e883184ae9f9178564f0df9c7c7d3d676105f"
   }
  }
 },
 "nbformat": 4,
 "nbformat_minor": 2
}
