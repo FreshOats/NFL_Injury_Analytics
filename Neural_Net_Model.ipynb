{
 "cells": [
  {
   "cell_type": "code",
   "execution_count": 3,
   "metadata": {},
   "outputs": [],
   "source": [
    "\n",
    "import warnings\n",
    "from NFL_Injury_Cleaning_Functions import *\n",
    "import pandas as pd\n",
    "import numpy as np\n",
    "from sklearn.model_selection import train_test_split\n",
    "from imblearn.ensemble import BalancedRandomForestClassifier\n",
    "from sklearn.metrics import balanced_accuracy_score\n",
    "from sklearn.metrics import confusion_matrix, plot_confusion_matrix\n",
    "from imblearn.metrics import classification_report_imbalanced\n",
    "import matplotlib.pyplot as plt\n",
    "\n",
    "from sklearn.preprocessing import StandardScaler, OneHotEncoder\n",
    "import tensorflow as tf\n",
    "import keras_tuner as kt\n",
    "\n",
    "pd.set_option('mode.chained_assignment', None)\n",
    "warnings.simplefilter(action='ignore', category=FutureWarning)\n",
    "seed = 42\n"
   ]
  },
  {
   "cell_type": "code",
   "execution_count": 4,
   "metadata": {},
   "outputs": [],
   "source": [
    "## Connect to the Database\n",
    "import sqlalchemy\n",
    "from sqlalchemy.orm import Session\n",
    "from sqlalchemy import create_engine, func\n",
    "import psycopg2\n",
    "from config import db_password"
   ]
  },
  {
   "cell_type": "markdown",
   "metadata": {},
   "source": [
    "# Import the Messy Data\n",
    "\n",
    "Import the playlist and injuries lists, then clean and merge the data using the functions defined in NFL_Injury_Cleaning_Functions. Because this is going to be a neural network model, this will need to be all numerical data. \n",
    "\n",
    "1. Create an additional column called \"IsInjury\" to create a binary predictor for whether something is an injury or not\n",
    "2. Drop the other columns associated with the injuries - these will be revisited later\n",
    "3. Prior to merging with the tracking data...\n",
    "    a. Select the IsInjured == 0 Subset from the list\n",
    "    b. Sample \n",
    "4. Load tracking data for the merge, and remove non-numerical columns, perform inner merge\n"
   ]
  },
  {
   "cell_type": "code",
   "execution_count": 5,
   "metadata": {},
   "outputs": [],
   "source": [
    "playlist = pd.read_csv(\"NFL_Turf/PlayList.csv\")\n",
    "injuries = pd.read_csv(\"NFL_Turf/InjuryRecord.csv\")"
   ]
  },
  {
   "cell_type": "code",
   "execution_count": 6,
   "metadata": {},
   "outputs": [
    {
     "data": {
      "text/html": [
       "<div>\n",
       "<style scoped>\n",
       "    .dataframe tbody tr th:only-of-type {\n",
       "        vertical-align: middle;\n",
       "    }\n",
       "\n",
       "    .dataframe tbody tr th {\n",
       "        vertical-align: top;\n",
       "    }\n",
       "\n",
       "    .dataframe thead th {\n",
       "        text-align: right;\n",
       "    }\n",
       "</style>\n",
       "<table border=\"1\" class=\"dataframe\">\n",
       "  <thead>\n",
       "    <tr style=\"text-align: right;\">\n",
       "      <th></th>\n",
       "      <th>PlayKey</th>\n",
       "      <th>RosterPosition</th>\n",
       "      <th>Temperature</th>\n",
       "      <th>PlayerGamePlay</th>\n",
       "      <th>Position</th>\n",
       "      <th>SyntheticField</th>\n",
       "      <th>Outdoor</th>\n",
       "      <th>Precipitation</th>\n",
       "      <th>DaysPlayed</th>\n",
       "      <th>PlayCode</th>\n",
       "      <th>InjuryType</th>\n",
       "      <th>InjuryDuration</th>\n",
       "      <th>SevereInjury</th>\n",
       "    </tr>\n",
       "  </thead>\n",
       "  <tbody>\n",
       "    <tr>\n",
       "      <th>0</th>\n",
       "      <td>26624-1-1</td>\n",
       "      <td>0</td>\n",
       "      <td>63</td>\n",
       "      <td>1</td>\n",
       "      <td>0</td>\n",
       "      <td>1</td>\n",
       "      <td>1</td>\n",
       "      <td>0</td>\n",
       "      <td>64</td>\n",
       "      <td>0.0</td>\n",
       "      <td>0.0</td>\n",
       "      <td>0.0</td>\n",
       "      <td>0.0</td>\n",
       "    </tr>\n",
       "    <tr>\n",
       "      <th>1</th>\n",
       "      <td>26624-1-2</td>\n",
       "      <td>0</td>\n",
       "      <td>63</td>\n",
       "      <td>2</td>\n",
       "      <td>0</td>\n",
       "      <td>1</td>\n",
       "      <td>1</td>\n",
       "      <td>0</td>\n",
       "      <td>64</td>\n",
       "      <td>0.0</td>\n",
       "      <td>0.0</td>\n",
       "      <td>0.0</td>\n",
       "      <td>0.0</td>\n",
       "    </tr>\n",
       "    <tr>\n",
       "      <th>2</th>\n",
       "      <td>26624-1-3</td>\n",
       "      <td>0</td>\n",
       "      <td>63</td>\n",
       "      <td>3</td>\n",
       "      <td>0</td>\n",
       "      <td>1</td>\n",
       "      <td>1</td>\n",
       "      <td>0</td>\n",
       "      <td>64</td>\n",
       "      <td>1.0</td>\n",
       "      <td>0.0</td>\n",
       "      <td>0.0</td>\n",
       "      <td>0.0</td>\n",
       "    </tr>\n",
       "    <tr>\n",
       "      <th>3</th>\n",
       "      <td>26624-1-4</td>\n",
       "      <td>0</td>\n",
       "      <td>63</td>\n",
       "      <td>4</td>\n",
       "      <td>0</td>\n",
       "      <td>1</td>\n",
       "      <td>1</td>\n",
       "      <td>0</td>\n",
       "      <td>64</td>\n",
       "      <td>1.0</td>\n",
       "      <td>0.0</td>\n",
       "      <td>0.0</td>\n",
       "      <td>0.0</td>\n",
       "    </tr>\n",
       "    <tr>\n",
       "      <th>4</th>\n",
       "      <td>26624-1-5</td>\n",
       "      <td>0</td>\n",
       "      <td>63</td>\n",
       "      <td>5</td>\n",
       "      <td>0</td>\n",
       "      <td>1</td>\n",
       "      <td>1</td>\n",
       "      <td>0</td>\n",
       "      <td>64</td>\n",
       "      <td>0.0</td>\n",
       "      <td>0.0</td>\n",
       "      <td>0.0</td>\n",
       "      <td>0.0</td>\n",
       "    </tr>\n",
       "  </tbody>\n",
       "</table>\n",
       "</div>"
      ],
      "text/plain": [
       "     PlayKey  RosterPosition  Temperature  PlayerGamePlay  Position  \\\n",
       "0  26624-1-1               0           63               1         0   \n",
       "1  26624-1-2               0           63               2         0   \n",
       "2  26624-1-3               0           63               3         0   \n",
       "3  26624-1-4               0           63               4         0   \n",
       "4  26624-1-5               0           63               5         0   \n",
       "\n",
       "   SyntheticField  Outdoor  Precipitation  DaysPlayed  PlayCode  InjuryType  \\\n",
       "0               1        1              0          64       0.0         0.0   \n",
       "1               1        1              0          64       0.0         0.0   \n",
       "2               1        1              0          64       1.0         0.0   \n",
       "3               1        1              0          64       1.0         0.0   \n",
       "4               1        1              0          64       0.0         0.0   \n",
       "\n",
       "   InjuryDuration  SevereInjury  \n",
       "0             0.0           0.0  \n",
       "1             0.0           0.0  \n",
       "2             0.0           0.0  \n",
       "3             0.0           0.0  \n",
       "4             0.0           0.0  "
      ]
     },
     "execution_count": 6,
     "metadata": {},
     "output_type": "execute_result"
    }
   ],
   "source": [
    "ml = ML_Data_Cleaner(playlist, injuries)\n",
    "ml.head()"
   ]
  },
  {
   "cell_type": "code",
   "execution_count": 7,
   "metadata": {},
   "outputs": [],
   "source": [
    "# The numpy where function reads as follows... set ml.IsInjured equal to 0\n",
    "# where ml.InjuryType == 0, else set equal to 1. All injuryType 0 values are not injures,\n",
    "# everything else is an injury\n",
    "\n",
    "ml['IsInjured'] = np.where(ml['InjuryType'] == 0, 0, 1)\n"
   ]
  },
  {
   "cell_type": "code",
   "execution_count": 8,
   "metadata": {},
   "outputs": [
    {
     "data": {
      "text/plain": [
       "0    260653\n",
       "1        77\n",
       "Name: IsInjured, dtype: int64"
      ]
     },
     "execution_count": 8,
     "metadata": {},
     "output_type": "execute_result"
    }
   ],
   "source": [
    "ml.IsInjured.value_counts()"
   ]
  },
  {
   "cell_type": "markdown",
   "metadata": {},
   "source": [
    "## Sampling the Non-Injury Data\n",
    "\n",
    "We are using an undersampling method to perform the neural network analysis, though we will be maintaining an imbalanced dataset. We reduced the number of Non-Injured plays such that the Injured plays make up 1% of all plays in the dataset. To do this, we separated the Injury Plays from the Non-Injury plays so as not to reduce the number of positive results. This is done prior to merging with the tracking data, which will exponentially expand the data. "
   ]
  },
  {
   "cell_type": "code",
   "execution_count": 9,
   "metadata": {},
   "outputs": [],
   "source": [
    "ml_y = ml.loc[ml.IsInjured == 1]\n",
    "ml_X = ml.loc[ml.IsInjured == 0]"
   ]
  },
  {
   "cell_type": "code",
   "execution_count": 10,
   "metadata": {},
   "outputs": [
    {
     "data": {
      "text/html": [
       "<div>\n",
       "<style scoped>\n",
       "    .dataframe tbody tr th:only-of-type {\n",
       "        vertical-align: middle;\n",
       "    }\n",
       "\n",
       "    .dataframe tbody tr th {\n",
       "        vertical-align: top;\n",
       "    }\n",
       "\n",
       "    .dataframe thead th {\n",
       "        text-align: right;\n",
       "    }\n",
       "</style>\n",
       "<table border=\"1\" class=\"dataframe\">\n",
       "  <thead>\n",
       "    <tr style=\"text-align: right;\">\n",
       "      <th></th>\n",
       "      <th>PlayKey</th>\n",
       "      <th>RosterPosition</th>\n",
       "      <th>Temperature</th>\n",
       "      <th>PlayerGamePlay</th>\n",
       "      <th>Position</th>\n",
       "      <th>SyntheticField</th>\n",
       "      <th>Outdoor</th>\n",
       "      <th>Precipitation</th>\n",
       "      <th>DaysPlayed</th>\n",
       "      <th>PlayCode</th>\n",
       "      <th>InjuryType</th>\n",
       "      <th>InjuryDuration</th>\n",
       "      <th>SevereInjury</th>\n",
       "      <th>IsInjured</th>\n",
       "    </tr>\n",
       "  </thead>\n",
       "  <tbody>\n",
       "    <tr>\n",
       "      <th>95156</th>\n",
       "      <td>41084-24-12</td>\n",
       "      <td>24</td>\n",
       "      <td>70</td>\n",
       "      <td>12</td>\n",
       "      <td>24</td>\n",
       "      <td>1</td>\n",
       "      <td>0</td>\n",
       "      <td>0</td>\n",
       "      <td>147</td>\n",
       "      <td>0.0</td>\n",
       "      <td>0.0</td>\n",
       "      <td>0.0</td>\n",
       "      <td>0.0</td>\n",
       "      <td>0</td>\n",
       "    </tr>\n",
       "    <tr>\n",
       "      <th>50146</th>\n",
       "      <td>38252-9-2</td>\n",
       "      <td>3</td>\n",
       "      <td>28</td>\n",
       "      <td>2</td>\n",
       "      <td>3</td>\n",
       "      <td>0</td>\n",
       "      <td>1</td>\n",
       "      <td>0</td>\n",
       "      <td>134</td>\n",
       "      <td>0.0</td>\n",
       "      <td>0.0</td>\n",
       "      <td>0.0</td>\n",
       "      <td>0.0</td>\n",
       "      <td>0</td>\n",
       "    </tr>\n",
       "    <tr>\n",
       "      <th>170716</th>\n",
       "      <td>44067-7-4</td>\n",
       "      <td>5</td>\n",
       "      <td>70</td>\n",
       "      <td>4</td>\n",
       "      <td>7</td>\n",
       "      <td>1</td>\n",
       "      <td>0</td>\n",
       "      <td>0</td>\n",
       "      <td>155</td>\n",
       "      <td>1.0</td>\n",
       "      <td>0.0</td>\n",
       "      <td>0.0</td>\n",
       "      <td>0.0</td>\n",
       "      <td>0</td>\n",
       "    </tr>\n",
       "    <tr>\n",
       "      <th>23486</th>\n",
       "      <td>36554-17-9</td>\n",
       "      <td>15</td>\n",
       "      <td>69</td>\n",
       "      <td>9</td>\n",
       "      <td>17</td>\n",
       "      <td>0</td>\n",
       "      <td>1</td>\n",
       "      <td>0</td>\n",
       "      <td>23</td>\n",
       "      <td>1.0</td>\n",
       "      <td>0.0</td>\n",
       "      <td>0.0</td>\n",
       "      <td>0.0</td>\n",
       "      <td>0</td>\n",
       "    </tr>\n",
       "    <tr>\n",
       "      <th>241962</th>\n",
       "      <td>46038-26-51</td>\n",
       "      <td>25</td>\n",
       "      <td>33</td>\n",
       "      <td>51</td>\n",
       "      <td>27</td>\n",
       "      <td>0</td>\n",
       "      <td>1</td>\n",
       "      <td>0</td>\n",
       "      <td>162</td>\n",
       "      <td>0.0</td>\n",
       "      <td>0.0</td>\n",
       "      <td>0.0</td>\n",
       "      <td>0.0</td>\n",
       "      <td>0</td>\n",
       "    </tr>\n",
       "  </tbody>\n",
       "</table>\n",
       "</div>"
      ],
      "text/plain": [
       "            PlayKey  RosterPosition  Temperature  PlayerGamePlay  Position  \\\n",
       "95156   41084-24-12              24           70              12        24   \n",
       "50146     38252-9-2               3           28               2         3   \n",
       "170716    44067-7-4               5           70               4         7   \n",
       "23486    36554-17-9              15           69               9        17   \n",
       "241962  46038-26-51              25           33              51        27   \n",
       "\n",
       "        SyntheticField  Outdoor  Precipitation  DaysPlayed  PlayCode  \\\n",
       "95156                1        0              0         147       0.0   \n",
       "50146                0        1              0         134       0.0   \n",
       "170716               1        0              0         155       1.0   \n",
       "23486                0        1              0          23       1.0   \n",
       "241962               0        1              0         162       0.0   \n",
       "\n",
       "        InjuryType  InjuryDuration  SevereInjury  IsInjured  \n",
       "95156          0.0             0.0           0.0          0  \n",
       "50146          0.0             0.0           0.0          0  \n",
       "170716         0.0             0.0           0.0          0  \n",
       "23486          0.0             0.0           0.0          0  \n",
       "241962         0.0             0.0           0.0          0  "
      ]
     },
     "execution_count": 10,
     "metadata": {},
     "output_type": "execute_result"
    }
   ],
   "source": [
    "samp = ml_X.sample(n=7700, random_state=seed)\n",
    "samp.head()"
   ]
  },
  {
   "cell_type": "code",
   "execution_count": 11,
   "metadata": {},
   "outputs": [],
   "source": [
    "ml_y = ml_y.append(samp, ignore_index=True, sort=False)"
   ]
  },
  {
   "cell_type": "markdown",
   "metadata": {},
   "source": [
    "## Merge the Tracking Data with the other data\n",
    "\n",
    "- Load the tracking data\n",
    "- Drop the columns from tracking that are not necessary\n",
    "- perform an inner merge between the datasets"
   ]
  },
  {
   "cell_type": "code",
   "execution_count": 12,
   "metadata": {},
   "outputs": [
    {
     "data": {
      "text/html": [
       "<div>\n",
       "<style scoped>\n",
       "    .dataframe tbody tr th:only-of-type {\n",
       "        vertical-align: middle;\n",
       "    }\n",
       "\n",
       "    .dataframe tbody tr th {\n",
       "        vertical-align: top;\n",
       "    }\n",
       "\n",
       "    .dataframe thead th {\n",
       "        text-align: right;\n",
       "    }\n",
       "</style>\n",
       "<table border=\"1\" class=\"dataframe\">\n",
       "  <thead>\n",
       "    <tr style=\"text-align: right;\">\n",
       "      <th></th>\n",
       "      <th>PlayKey</th>\n",
       "      <th>x</th>\n",
       "      <th>y</th>\n",
       "      <th>dir</th>\n",
       "      <th>o</th>\n",
       "      <th>s</th>\n",
       "    </tr>\n",
       "  </thead>\n",
       "  <tbody>\n",
       "    <tr>\n",
       "      <th>0</th>\n",
       "      <td>26624-1-1</td>\n",
       "      <td>87.46</td>\n",
       "      <td>28.93</td>\n",
       "      <td>288.24</td>\n",
       "      <td>262.33</td>\n",
       "      <td>0.13</td>\n",
       "    </tr>\n",
       "    <tr>\n",
       "      <th>1</th>\n",
       "      <td>26624-1-1</td>\n",
       "      <td>87.45</td>\n",
       "      <td>28.92</td>\n",
       "      <td>283.91</td>\n",
       "      <td>261.69</td>\n",
       "      <td>0.12</td>\n",
       "    </tr>\n",
       "    <tr>\n",
       "      <th>2</th>\n",
       "      <td>26624-1-1</td>\n",
       "      <td>87.44</td>\n",
       "      <td>28.92</td>\n",
       "      <td>280.40</td>\n",
       "      <td>261.17</td>\n",
       "      <td>0.12</td>\n",
       "    </tr>\n",
       "    <tr>\n",
       "      <th>3</th>\n",
       "      <td>26624-1-1</td>\n",
       "      <td>87.44</td>\n",
       "      <td>28.92</td>\n",
       "      <td>278.79</td>\n",
       "      <td>260.66</td>\n",
       "      <td>0.10</td>\n",
       "    </tr>\n",
       "    <tr>\n",
       "      <th>4</th>\n",
       "      <td>26624-1-1</td>\n",
       "      <td>87.44</td>\n",
       "      <td>28.92</td>\n",
       "      <td>275.44</td>\n",
       "      <td>260.27</td>\n",
       "      <td>0.09</td>\n",
       "    </tr>\n",
       "  </tbody>\n",
       "</table>\n",
       "</div>"
      ],
      "text/plain": [
       "     PlayKey      x      y     dir       o     s\n",
       "0  26624-1-1  87.46  28.93  288.24  262.33  0.13\n",
       "1  26624-1-1  87.45  28.92  283.91  261.69  0.12\n",
       "2  26624-1-1  87.44  28.92  280.40  261.17  0.12\n",
       "3  26624-1-1  87.44  28.92  278.79  260.66  0.10\n",
       "4  26624-1-1  87.44  28.92  275.44  260.27  0.09"
      ]
     },
     "execution_count": 12,
     "metadata": {},
     "output_type": "execute_result"
    }
   ],
   "source": [
    "tracking = pd.read_csv('NFL_Turf/PlayerTrackData.csv')\n",
    "tracking.drop(columns=['event', 'dis', 'time'], inplace=True)\n",
    "tracking.head()"
   ]
  },
  {
   "cell_type": "markdown",
   "metadata": {},
   "source": [
    "### Direction-Orientation\n",
    "\n",
    "The direction and orientations alone don't do much alone, but the difference between them gives us the angle at which the player's body is twisting. "
   ]
  },
  {
   "cell_type": "code",
   "execution_count": 13,
   "metadata": {},
   "outputs": [],
   "source": [
    "tracking['twist'] = abs(tracking.dir - tracking.o)\n",
    "tracking.drop(columns=['dir', 'o'], inplace=True)"
   ]
  },
  {
   "cell_type": "code",
   "execution_count": 15,
   "metadata": {},
   "outputs": [
    {
     "data": {
      "text/html": [
       "<div>\n",
       "<style scoped>\n",
       "    .dataframe tbody tr th:only-of-type {\n",
       "        vertical-align: middle;\n",
       "    }\n",
       "\n",
       "    .dataframe tbody tr th {\n",
       "        vertical-align: top;\n",
       "    }\n",
       "\n",
       "    .dataframe thead th {\n",
       "        text-align: right;\n",
       "    }\n",
       "</style>\n",
       "<table border=\"1\" class=\"dataframe\">\n",
       "  <thead>\n",
       "    <tr style=\"text-align: right;\">\n",
       "      <th></th>\n",
       "      <th>PlayKey</th>\n",
       "      <th>x</th>\n",
       "      <th>y</th>\n",
       "      <th>s</th>\n",
       "      <th>twist</th>\n",
       "      <th>RosterPosition</th>\n",
       "      <th>Temperature</th>\n",
       "      <th>PlayerGamePlay</th>\n",
       "      <th>Position</th>\n",
       "      <th>SyntheticField</th>\n",
       "      <th>Outdoor</th>\n",
       "      <th>Precipitation</th>\n",
       "      <th>DaysPlayed</th>\n",
       "      <th>PlayCode</th>\n",
       "      <th>InjuryType</th>\n",
       "      <th>InjuryDuration</th>\n",
       "      <th>SevereInjury</th>\n",
       "      <th>IsInjured</th>\n",
       "    </tr>\n",
       "  </thead>\n",
       "  <tbody>\n",
       "    <tr>\n",
       "      <th>0</th>\n",
       "      <td>26624-1-45</td>\n",
       "      <td>21.32</td>\n",
       "      <td>29.14</td>\n",
       "      <td>0.88</td>\n",
       "      <td>23.24</td>\n",
       "      <td>0</td>\n",
       "      <td>63</td>\n",
       "      <td>45</td>\n",
       "      <td>0</td>\n",
       "      <td>1</td>\n",
       "      <td>1</td>\n",
       "      <td>0</td>\n",
       "      <td>64</td>\n",
       "      <td>0.0</td>\n",
       "      <td>0.0</td>\n",
       "      <td>0.0</td>\n",
       "      <td>0.0</td>\n",
       "      <td>0</td>\n",
       "    </tr>\n",
       "    <tr>\n",
       "      <th>1</th>\n",
       "      <td>26624-1-45</td>\n",
       "      <td>21.31</td>\n",
       "      <td>29.21</td>\n",
       "      <td>0.91</td>\n",
       "      <td>15.59</td>\n",
       "      <td>0</td>\n",
       "      <td>63</td>\n",
       "      <td>45</td>\n",
       "      <td>0</td>\n",
       "      <td>1</td>\n",
       "      <td>1</td>\n",
       "      <td>0</td>\n",
       "      <td>64</td>\n",
       "      <td>0.0</td>\n",
       "      <td>0.0</td>\n",
       "      <td>0.0</td>\n",
       "      <td>0.0</td>\n",
       "      <td>0</td>\n",
       "    </tr>\n",
       "    <tr>\n",
       "      <th>2</th>\n",
       "      <td>26624-1-45</td>\n",
       "      <td>21.30</td>\n",
       "      <td>29.29</td>\n",
       "      <td>0.93</td>\n",
       "      <td>7.61</td>\n",
       "      <td>0</td>\n",
       "      <td>63</td>\n",
       "      <td>45</td>\n",
       "      <td>0</td>\n",
       "      <td>1</td>\n",
       "      <td>1</td>\n",
       "      <td>0</td>\n",
       "      <td>64</td>\n",
       "      <td>0.0</td>\n",
       "      <td>0.0</td>\n",
       "      <td>0.0</td>\n",
       "      <td>0.0</td>\n",
       "      <td>0</td>\n",
       "    </tr>\n",
       "    <tr>\n",
       "      <th>3</th>\n",
       "      <td>26624-1-45</td>\n",
       "      <td>21.28</td>\n",
       "      <td>29.38</td>\n",
       "      <td>0.93</td>\n",
       "      <td>0.42</td>\n",
       "      <td>0</td>\n",
       "      <td>63</td>\n",
       "      <td>45</td>\n",
       "      <td>0</td>\n",
       "      <td>1</td>\n",
       "      <td>1</td>\n",
       "      <td>0</td>\n",
       "      <td>64</td>\n",
       "      <td>0.0</td>\n",
       "      <td>0.0</td>\n",
       "      <td>0.0</td>\n",
       "      <td>0.0</td>\n",
       "      <td>0</td>\n",
       "    </tr>\n",
       "    <tr>\n",
       "      <th>4</th>\n",
       "      <td>26624-1-45</td>\n",
       "      <td>21.26</td>\n",
       "      <td>29.45</td>\n",
       "      <td>0.89</td>\n",
       "      <td>6.20</td>\n",
       "      <td>0</td>\n",
       "      <td>63</td>\n",
       "      <td>45</td>\n",
       "      <td>0</td>\n",
       "      <td>1</td>\n",
       "      <td>1</td>\n",
       "      <td>0</td>\n",
       "      <td>64</td>\n",
       "      <td>0.0</td>\n",
       "      <td>0.0</td>\n",
       "      <td>0.0</td>\n",
       "      <td>0.0</td>\n",
       "      <td>0</td>\n",
       "    </tr>\n",
       "  </tbody>\n",
       "</table>\n",
       "</div>"
      ],
      "text/plain": [
       "      PlayKey      x      y     s  twist  RosterPosition  Temperature  \\\n",
       "0  26624-1-45  21.32  29.14  0.88  23.24               0           63   \n",
       "1  26624-1-45  21.31  29.21  0.91  15.59               0           63   \n",
       "2  26624-1-45  21.30  29.29  0.93   7.61               0           63   \n",
       "3  26624-1-45  21.28  29.38  0.93   0.42               0           63   \n",
       "4  26624-1-45  21.26  29.45  0.89   6.20               0           63   \n",
       "\n",
       "   PlayerGamePlay  Position  SyntheticField  Outdoor  Precipitation  \\\n",
       "0              45         0               1        1              0   \n",
       "1              45         0               1        1              0   \n",
       "2              45         0               1        1              0   \n",
       "3              45         0               1        1              0   \n",
       "4              45         0               1        1              0   \n",
       "\n",
       "   DaysPlayed  PlayCode  InjuryType  InjuryDuration  SevereInjury  IsInjured  \n",
       "0          64       0.0         0.0             0.0           0.0          0  \n",
       "1          64       0.0         0.0             0.0           0.0          0  \n",
       "2          64       0.0         0.0             0.0           0.0          0  \n",
       "3          64       0.0         0.0             0.0           0.0          0  \n",
       "4          64       0.0         0.0             0.0           0.0          0  "
      ]
     },
     "execution_count": 15,
     "metadata": {},
     "output_type": "execute_result"
    }
   ],
   "source": [
    "ml_merged = pd.merge(tracking, ml_y, on='PlayKey', how='inner')\n",
    "ml_merged.head()"
   ]
  },
  {
   "cell_type": "markdown",
   "metadata": {},
   "source": [
    "## Remove the large datasets from memory\n",
    "\n",
    "ml_merged contains the tracking data from tracking.csv merged with the features extracted from the injuryreports.csv and playlist.csv, and maintains several columns that could be used for predictive analysis. "
   ]
  },
  {
   "cell_type": "code",
   "execution_count": 16,
   "metadata": {},
   "outputs": [],
   "source": [
    "del ml, tracking, playlist, injuries, ml_X, samp, ml_y"
   ]
  },
  {
   "cell_type": "markdown",
   "metadata": {},
   "source": [
    "# Prepare the Training and Testing sets\n",
    "\n",
    "Columns that need to be removed or separated:\n",
    "- PlayKey is non-informative and object-type\n",
    "- SevereInjury and InjuryDuration cannot be part of the same training set, as they are not independent \n",
    "- For one of the analyses, InjuryType will be the prediction, so we want to exclude the InjuryDuration and SevereInjury, as we're trying to determine the other factors leading to such injuries\n",
    "- In predicting the severity and/or duration of injury, a few sub-analyses can be performed\n",
    "    - Looking only at factors that lead to severe injury without respect to injury type\n",
    "    - Looking at the factors including injury type that predict the duration of injury\n",
    "    - Looking at the factors that predict BOTH injury type and Severity (or perhaps duration)\n",
    "\n",
    "The following tests will be performed: \n",
    "1. Can the model predict whether an injury occurred in a 99:1 imbalance of data?\n",
    "2. Can the model predict whether a severe injury is likely to occur?\n",
    "\n",
    "\n",
    "---\n",
    "# Random Forests\n",
    "## Injury Prediction"
   ]
  },
  {
   "cell_type": "code",
   "execution_count": 17,
   "metadata": {},
   "outputs": [],
   "source": [
    "X = ml_merged.drop(columns=['PlayKey', 'IsInjured', 'SevereInjury', 'InjuryDuration', 'InjuryType', 'Position'])\n",
    "y = ml_merged.IsInjured\n",
    "\n",
    "# Because the True case only represents 1% of the data, the training split is stratifying on y\n",
    "X_train, X_test, y_train, y_test = train_test_split(X, y, random_state=seed, stratify=y)"
   ]
  },
  {
   "cell_type": "code",
   "execution_count": 18,
   "metadata": {},
   "outputs": [
    {
     "data": {
      "text/plain": [
       "0.9997562452983901"
      ]
     },
     "execution_count": 18,
     "metadata": {},
     "output_type": "execute_result"
    }
   ],
   "source": [
    "# Create the Classifier\n",
    "barf = BalancedRandomForestClassifier(n_estimators=10, random_state=seed)\n",
    "\n",
    "# Fit the model\n",
    "barf.fit(X_train, y_train)\n",
    "\n",
    "# Calculate predicted accuracy score\n",
    "y_pred = barf.predict(X_test)\n",
    "balanced_accuracy_score(y_test, y_pred)"
   ]
  },
  {
   "cell_type": "code",
   "execution_count": 19,
   "metadata": {},
   "outputs": [
    {
     "name": "stdout",
     "output_type": "stream",
     "text": [
      "                   pre       rec       spe        f1       geo       iba       sup\n",
      "\n",
      "          0       1.00      1.00      1.00      1.00      1.00      1.00    549957\n",
      "          1       0.97      1.00      1.00      0.98      1.00      1.00      5549\n",
      "\n",
      "avg / total       1.00      1.00      1.00      1.00      1.00      1.00    555506\n",
      "\n"
     ]
    }
   ],
   "source": [
    "# Print the imbalanced classification report\n",
    "print(classification_report_imbalanced(y_test, y_pred))"
   ]
  },
  {
   "cell_type": "code",
   "execution_count": 20,
   "metadata": {},
   "outputs": [
    {
     "data": {
      "image/png": "[encoded data removed]",
      "text/plain": [
       "<Figure size 720x576 with 2 Axes>"
      ]
     },
     "metadata": {
      "needs_background": "light"
     },
     "output_type": "display_data"
    }
   ],
   "source": [
    "# Display confusion matrix\n",
    "fig, ax = plt.subplots(figsize=(10, 8))\n",
    "plot_confusion_matrix(barf, X_test, y_test, display_labels=[\n",
    "                      \"Not Injured\", \"Is Injured\"], cmap='Blues', values_format='d', ax=ax)\n",
    "plt.title('Random Forest Confusion Matrix')\n",
    "plt.show()"
   ]
  },
  {
   "cell_type": "markdown",
   "metadata": {},
   "source": [
    "Results: \n",
    "- The Random Forest Classifier with 10 estimators yielded a 99.98% accuracy\n",
    "- There were 0 to 1 false negatives, which is better for this predictive model\n",
    "- There were 130 False positives, compared to the nearly 550,000 true Negatives\n",
    "\n",
    "To further assess which features influenced the model the most, we will perform a feature analysis"
   ]
  },
  {
   "cell_type": "code",
   "execution_count": 21,
   "metadata": {},
   "outputs": [
    {
     "data": {
      "text/plain": [
       "[(0.18868369075627242, 'PlayerGamePlay'),\n",
       " (0.18793158160321172, 'DaysPlayed'),\n",
       " (0.16390458685549839, 'Temperature'),\n",
       " (0.1324395508564368, 'x'),\n",
       " (0.1109689181921127, 'RosterPosition'),\n",
       " (0.06937534291911396, 'y'),\n",
       " (0.052930078117006896, 'PlayCode'),\n",
       " (0.022588215834980843, 'SyntheticField'),\n",
       " (0.019780128022700016, 's'),\n",
       " (0.019626605468914367, 'Outdoor'),\n",
       " (0.01888499051254435, 'Precipitation'),\n",
       " (0.012886310861207595, 'twist')]"
      ]
     },
     "execution_count": 21,
     "metadata": {},
     "output_type": "execute_result"
    }
   ],
   "source": [
    "sorted(zip(barf.feature_importances_, X.columns), reverse=True)"
   ]
  },
  {
   "cell_type": "markdown",
   "metadata": {},
   "source": [
    "### What does this mean? \n",
    "- DaysPlayed represents how many days into each season the player has played, 18.9% weight\n",
    "- PlayerGamePlay is how far into the individual game the player has played, 18.9% weight\n",
    "- Temperature, 15.3% weight\n",
    "- Position is the Player's actual Position, not just Roster Position, 12.1%\n",
    "- x is the lengthwise position of the player on the field, where 0 is the endzone of the Home Team and 120 is the far endzone, 11.9% weight\n",
    "- All other parameters had a lower weight than 7% \n",
    "\n",
    "### Changing out Position for RosterPosition\n",
    "- DaysPlayed increased to 19.6% weight\n",
    "- Temperature had more of an influence, 18.1% weight\n",
    "- PlayerGamePlay dropped to 17.1% weight\n",
    "- x switched with position, but maintained the 11.9% weight\n",
    "- RosterPosition groups all sub-positions like OLB and ILB to just LB, 10.3%\n",
    "- All other parameters had a lower weight than 7% \n",
    "\n",
    "### Top Predictors\n",
    "RosterPosition as the position determination had a higher overall accuracy in the predictive model, but the top predictors remained the same: \n",
    "1. How far into the season was the game? \n",
    "2. How far into the game was the play? \n",
    "3. What was the temperature when the game was played?\n",
    "4. What was the player's position?\n",
    "5. Where on the field was the player?"
   ]
  },
  {
   "cell_type": "markdown",
   "metadata": {},
   "source": [
    "---\n",
    "## Severe Injury Prediction\n",
    "\n",
    "The same process is performed as above, though using SevereInjury as the y parameter"
   ]
  },
  {
   "cell_type": "code",
   "execution_count": 22,
   "metadata": {},
   "outputs": [],
   "source": [
    "y = ml_merged.SevereInjury\n",
    "\n",
    "# Because the True case only represents 1% of the data, the training split is stratifying on y\n",
    "X_train, X_test, y_train, y_test = train_test_split(\n",
    "    X, y, random_state=seed, stratify=y)"
   ]
  },
  {
   "cell_type": "code",
   "execution_count": 23,
   "metadata": {},
   "outputs": [
    {
     "data": {
      "text/plain": [
       "0.9995571694269773"
      ]
     },
     "execution_count": 23,
     "metadata": {},
     "output_type": "execute_result"
    }
   ],
   "source": [
    "# Fit the model\n",
    "barf.fit(X_train, y_train)\n",
    "\n",
    "# Predict and calculate accuracy\n",
    "y_pred = barf.predict(X_test)\n",
    "balanced_accuracy_score(y_test, y_pred)"
   ]
  },
  {
   "cell_type": "code",
   "execution_count": 24,
   "metadata": {},
   "outputs": [
    {
     "name": "stdout",
     "output_type": "stream",
     "text": [
      "                   pre       rec       spe        f1       geo       iba       sup\n",
      "\n",
      "        0.0       1.00      1.00      1.00      1.00      1.00      1.00    553259\n",
      "        1.0       0.82      1.00      1.00      0.90      1.00      1.00      2247\n",
      "\n",
      "avg / total       1.00      1.00      1.00      1.00      1.00      1.00    555506\n",
      "\n"
     ]
    }
   ],
   "source": [
    "# Print the imbalanced classification report\n",
    "print(classification_report_imbalanced(y_test, y_pred))"
   ]
  },
  {
   "cell_type": "code",
   "execution_count": 25,
   "metadata": {},
   "outputs": [
    {
     "data": {
      "image/png": "[encoded data removed]",
      "text/plain": [
       "<Figure size 720x576 with 2 Axes>"
      ]
     },
     "metadata": {
      "needs_background": "light"
     },
     "output_type": "display_data"
    }
   ],
   "source": [
    "# Display confusion matrix\n",
    "fig, ax = plt.subplots(figsize=(10, 8))\n",
    "plot_confusion_matrix(barf, X_test, y_test, display_labels=[\n",
    "                      \"Not Severe\", \"Severe Injury\"], cmap='Blues', values_format='d', ax=ax)\n",
    "plt.title('Random Forest Confusion Matrix')\n",
    "plt.show()"
   ]
  },
  {
   "cell_type": "markdown",
   "metadata": {},
   "source": [
    "## Injury Type Prediction"
   ]
  },
  {
   "cell_type": "code",
   "execution_count": 26,
   "metadata": {},
   "outputs": [],
   "source": [
    "y = ml_merged.InjuryType\n",
    "\n",
    "# Because the True case only represents 1% of the data, the training split is stratifying on y\n",
    "X_train, X_test, y_train, y_test = train_test_split(\n",
    "    X, y, random_state=seed, stratify=y)"
   ]
  },
  {
   "cell_type": "code",
   "execution_count": 27,
   "metadata": {},
   "outputs": [
    {
     "data": {
      "text/plain": [
       "0.9867844319512835"
      ]
     },
     "execution_count": 27,
     "metadata": {},
     "output_type": "execute_result"
    }
   ],
   "source": [
    "# Fit the model\n",
    "barf.fit(X_train, y_train)\n",
    "\n",
    "# Predict and calculate accuracy\n",
    "y_pred = barf.predict(X_test)\n",
    "balanced_accuracy_score(y_test, y_pred)"
   ]
  },
  {
   "cell_type": "code",
   "execution_count": 28,
   "metadata": {},
   "outputs": [
    {
     "name": "stdout",
     "output_type": "stream",
     "text": [
      "                   pre       rec       spe        f1       geo       iba       sup\n",
      "\n",
      "        0.0       1.00      0.98      1.00      0.99      0.99      0.98    549957\n",
      "        7.0       0.81      1.00      1.00      0.89      1.00      1.00       431\n",
      "       42.0       0.43      0.98      0.99      0.59      0.99      0.98      2484\n",
      "       48.0       0.30      0.98      0.99      0.46      0.99      0.97      2634\n",
      "\n",
      "avg / total       0.99      0.98      1.00      0.99      0.99      0.98    555506\n",
      "\n"
     ]
    }
   ],
   "source": [
    "# Print the imbalanced classification report\n",
    "print(classification_report_imbalanced(y_test, y_pred))"
   ]
  },
  {
   "cell_type": "code",
   "execution_count": 29,
   "metadata": {},
   "outputs": [
    {
     "data": {
      "image/png": "[encoded data removed]",
      "text/plain": [
       "<Figure size 720x576 with 2 Axes>"
      ]
     },
     "metadata": {
      "needs_background": "light"
     },
     "output_type": "display_data"
    }
   ],
   "source": [
    "# Display confusion matrix\n",
    "fig, ax = plt.subplots(figsize=(10, 8))\n",
    "plot_confusion_matrix(barf, X_test, y_test, display_labels=[\n",
    "                      \"No Injury\", \"Foot\", \"Ankle\", \"Knee\"], cmap='Blues', values_format='d', ax=ax)\n",
    "plt.title('Random Forest Confusion Matrix')\n",
    "plt.show()"
   ]
  },
  {
   "cell_type": "markdown",
   "metadata": {},
   "source": [
    "## Injury Duration Predictor"
   ]
  },
  {
   "cell_type": "code",
   "execution_count": 30,
   "metadata": {},
   "outputs": [
    {
     "data": {
      "text/plain": [
       "0.998136217922492"
      ]
     },
     "execution_count": 30,
     "metadata": {},
     "output_type": "execute_result"
    }
   ],
   "source": [
    "y = ml_merged.InjuryDuration\n",
    "\n",
    "# Because the True case only represents 1% of the data, the training split is stratifying on y\n",
    "X_train, X_test, y_train, y_test = train_test_split(\n",
    "    X, y, random_state=seed, stratify=y)\n",
    "\n",
    "# Fit the model\n",
    "barf.fit(X_train, y_train)\n",
    "\n",
    "# Predict and calculate accuracy\n",
    "y_pred = barf.predict(X_test)\n",
    "balanced_accuracy_score(y_test, y_pred)\n"
   ]
  },
  {
   "cell_type": "code",
   "execution_count": 31,
   "metadata": {},
   "outputs": [
    {
     "name": "stdout",
     "output_type": "stream",
     "text": [
      "                   pre       rec       spe        f1       geo       iba       sup\n",
      "\n",
      "        0.0       1.00      0.99      1.00      1.00      1.00      0.99    549957\n",
      "        1.0       0.48      1.00      1.00      0.65      1.00      1.00      1209\n",
      "        7.0       0.51      1.00      1.00      0.68      1.00      1.00      2092\n",
      "       28.0       0.65      1.00      1.00      0.79      1.00      1.00       472\n",
      "       42.0       0.53      1.00      1.00      0.69      1.00      1.00      1776\n",
      "\n",
      "avg / total       1.00      0.99      1.00      0.99      1.00      0.99    555506\n",
      "\n"
     ]
    }
   ],
   "source": [
    "# Print the imbalanced classification report\n",
    "print(classification_report_imbalanced(y_test, y_pred))"
   ]
  },
  {
   "cell_type": "code",
   "execution_count": 32,
   "metadata": {},
   "outputs": [
    {
     "data": {
      "image/png": "[encoded data removed]",
      "text/plain": [
       "<Figure size 720x576 with 2 Axes>"
      ]
     },
     "metadata": {
      "needs_background": "light"
     },
     "output_type": "display_data"
    }
   ],
   "source": [
    "# Display confusion matrix\n",
    "fig, ax = plt.subplots(figsize=(10, 8))\n",
    "plot_confusion_matrix(barf, X_test, y_test, display_labels=[\n",
    "                      \"No Injury\", \"1-6 Days\", \"7-27 Days\", \"28-41 Days\", \"42+ Days\"], cmap='Blues', values_format='d', ax=ax)\n",
    "plt.title('Random Forest Confusion Matrix')\n",
    "plt.show()\n"
   ]
  },
  {
   "cell_type": "markdown",
   "metadata": {},
   "source": [
    "Overall, there is a very low rate of false negatives, which is great! All of the injuries were appropriately identified. There are a higher number of false positives, though these may be considered high-risk plays that just didn't happen to result in an injury. "
   ]
  },
  {
   "cell_type": "markdown",
   "metadata": {},
   "source": [
    "---\n",
    "\n",
    "# Deep Learning with Neural Networks"
   ]
  },
  {
   "cell_type": "code",
   "execution_count": 33,
   "metadata": {},
   "outputs": [],
   "source": [
    "ml_type = ml_merged.copy(deep=True)\n",
    "ml_type.drop(columns=['PlayKey', 'IsInjured', 'SevereInjury', 'Position', 'InjuryDuration'], inplace=True)\n",
    "\n",
    "\n",
    "# Add the Injury Type back to the df\n",
    "injury = {48.0: 'Knee', 42.0: 'Ankle', 7.0: 'Foot', 0.0: 'NoInjury'}\n",
    "ml_type['BodyPart'] = ml_type.InjuryType.map(injury)\n",
    "ml_type.drop(columns='InjuryType', inplace=True)\n",
    "\n",
    "# Grab all categorical variables and create a list for encoding\n",
    "cat = ml_type.dtypes[ml_type.dtypes=='object'].index.tolist()"
   ]
  },
  {
   "cell_type": "code",
   "execution_count": 34,
   "metadata": {},
   "outputs": [
    {
     "data": {
      "text/html": [
       "<div>\n",
       "<style scoped>\n",
       "    .dataframe tbody tr th:only-of-type {\n",
       "        vertical-align: middle;\n",
       "    }\n",
       "\n",
       "    .dataframe tbody tr th {\n",
       "        vertical-align: top;\n",
       "    }\n",
       "\n",
       "    .dataframe thead th {\n",
       "        text-align: right;\n",
       "    }\n",
       "</style>\n",
       "<table border=\"1\" class=\"dataframe\">\n",
       "  <thead>\n",
       "    <tr style=\"text-align: right;\">\n",
       "      <th></th>\n",
       "      <th>x</th>\n",
       "      <th>y</th>\n",
       "      <th>s</th>\n",
       "      <th>twist</th>\n",
       "      <th>RosterPosition</th>\n",
       "      <th>Temperature</th>\n",
       "      <th>PlayerGamePlay</th>\n",
       "      <th>SyntheticField</th>\n",
       "      <th>Outdoor</th>\n",
       "      <th>Precipitation</th>\n",
       "      <th>DaysPlayed</th>\n",
       "      <th>PlayCode</th>\n",
       "      <th>BodyPart</th>\n",
       "    </tr>\n",
       "  </thead>\n",
       "  <tbody>\n",
       "    <tr>\n",
       "      <th>0</th>\n",
       "      <td>21.32</td>\n",
       "      <td>29.14</td>\n",
       "      <td>0.88</td>\n",
       "      <td>23.24</td>\n",
       "      <td>0</td>\n",
       "      <td>63</td>\n",
       "      <td>45</td>\n",
       "      <td>1</td>\n",
       "      <td>1</td>\n",
       "      <td>0</td>\n",
       "      <td>64</td>\n",
       "      <td>0.0</td>\n",
       "      <td>NoInjury</td>\n",
       "    </tr>\n",
       "    <tr>\n",
       "      <th>1</th>\n",
       "      <td>21.31</td>\n",
       "      <td>29.21</td>\n",
       "      <td>0.91</td>\n",
       "      <td>15.59</td>\n",
       "      <td>0</td>\n",
       "      <td>63</td>\n",
       "      <td>45</td>\n",
       "      <td>1</td>\n",
       "      <td>1</td>\n",
       "      <td>0</td>\n",
       "      <td>64</td>\n",
       "      <td>0.0</td>\n",
       "      <td>NoInjury</td>\n",
       "    </tr>\n",
       "    <tr>\n",
       "      <th>2</th>\n",
       "      <td>21.30</td>\n",
       "      <td>29.29</td>\n",
       "      <td>0.93</td>\n",
       "      <td>7.61</td>\n",
       "      <td>0</td>\n",
       "      <td>63</td>\n",
       "      <td>45</td>\n",
       "      <td>1</td>\n",
       "      <td>1</td>\n",
       "      <td>0</td>\n",
       "      <td>64</td>\n",
       "      <td>0.0</td>\n",
       "      <td>NoInjury</td>\n",
       "    </tr>\n",
       "    <tr>\n",
       "      <th>3</th>\n",
       "      <td>21.28</td>\n",
       "      <td>29.38</td>\n",
       "      <td>0.93</td>\n",
       "      <td>0.42</td>\n",
       "      <td>0</td>\n",
       "      <td>63</td>\n",
       "      <td>45</td>\n",
       "      <td>1</td>\n",
       "      <td>1</td>\n",
       "      <td>0</td>\n",
       "      <td>64</td>\n",
       "      <td>0.0</td>\n",
       "      <td>NoInjury</td>\n",
       "    </tr>\n",
       "    <tr>\n",
       "      <th>4</th>\n",
       "      <td>21.26</td>\n",
       "      <td>29.45</td>\n",
       "      <td>0.89</td>\n",
       "      <td>6.20</td>\n",
       "      <td>0</td>\n",
       "      <td>63</td>\n",
       "      <td>45</td>\n",
       "      <td>1</td>\n",
       "      <td>1</td>\n",
       "      <td>0</td>\n",
       "      <td>64</td>\n",
       "      <td>0.0</td>\n",
       "      <td>NoInjury</td>\n",
       "    </tr>\n",
       "  </tbody>\n",
       "</table>\n",
       "</div>"
      ],
      "text/plain": [
       "       x      y     s  twist  RosterPosition  Temperature  PlayerGamePlay  \\\n",
       "0  21.32  29.14  0.88  23.24               0           63              45   \n",
       "1  21.31  29.21  0.91  15.59               0           63              45   \n",
       "2  21.30  29.29  0.93   7.61               0           63              45   \n",
       "3  21.28  29.38  0.93   0.42               0           63              45   \n",
       "4  21.26  29.45  0.89   6.20               0           63              45   \n",
       "\n",
       "   SyntheticField  Outdoor  Precipitation  DaysPlayed  PlayCode  BodyPart  \n",
       "0               1        1              0          64       0.0  NoInjury  \n",
       "1               1        1              0          64       0.0  NoInjury  \n",
       "2               1        1              0          64       0.0  NoInjury  \n",
       "3               1        1              0          64       0.0  NoInjury  \n",
       "4               1        1              0          64       0.0  NoInjury  "
      ]
     },
     "execution_count": 34,
     "metadata": {},
     "output_type": "execute_result"
    }
   ],
   "source": [
    "ml_type.head()"
   ]
  },
  {
   "cell_type": "markdown",
   "metadata": {},
   "source": [
    "For the Neural Network Analysis, we will need to have each outcome as a binary classification, thus encoding the Injury types differently with OneHotEncoder"
   ]
  },
  {
   "cell_type": "code",
   "execution_count": 35,
   "metadata": {},
   "outputs": [
    {
     "data": {
      "text/html": [
       "<div>\n",
       "<style scoped>\n",
       "    .dataframe tbody tr th:only-of-type {\n",
       "        vertical-align: middle;\n",
       "    }\n",
       "\n",
       "    .dataframe tbody tr th {\n",
       "        vertical-align: top;\n",
       "    }\n",
       "\n",
       "    .dataframe thead th {\n",
       "        text-align: right;\n",
       "    }\n",
       "</style>\n",
       "<table border=\"1\" class=\"dataframe\">\n",
       "  <thead>\n",
       "    <tr style=\"text-align: right;\">\n",
       "      <th></th>\n",
       "      <th>BodyPart_Ankle</th>\n",
       "      <th>BodyPart_Foot</th>\n",
       "      <th>BodyPart_Knee</th>\n",
       "      <th>BodyPart_NoInjury</th>\n",
       "    </tr>\n",
       "  </thead>\n",
       "  <tbody>\n",
       "    <tr>\n",
       "      <th>0</th>\n",
       "      <td>0.0</td>\n",
       "      <td>0.0</td>\n",
       "      <td>0.0</td>\n",
       "      <td>1.0</td>\n",
       "    </tr>\n",
       "    <tr>\n",
       "      <th>1</th>\n",
       "      <td>0.0</td>\n",
       "      <td>0.0</td>\n",
       "      <td>0.0</td>\n",
       "      <td>1.0</td>\n",
       "    </tr>\n",
       "    <tr>\n",
       "      <th>2</th>\n",
       "      <td>0.0</td>\n",
       "      <td>0.0</td>\n",
       "      <td>0.0</td>\n",
       "      <td>1.0</td>\n",
       "    </tr>\n",
       "    <tr>\n",
       "      <th>3</th>\n",
       "      <td>0.0</td>\n",
       "      <td>0.0</td>\n",
       "      <td>0.0</td>\n",
       "      <td>1.0</td>\n",
       "    </tr>\n",
       "    <tr>\n",
       "      <th>4</th>\n",
       "      <td>0.0</td>\n",
       "      <td>0.0</td>\n",
       "      <td>0.0</td>\n",
       "      <td>1.0</td>\n",
       "    </tr>\n",
       "  </tbody>\n",
       "</table>\n",
       "</div>"
      ],
      "text/plain": [
       "   BodyPart_Ankle  BodyPart_Foot  BodyPart_Knee  BodyPart_NoInjury\n",
       "0             0.0            0.0            0.0                1.0\n",
       "1             0.0            0.0            0.0                1.0\n",
       "2             0.0            0.0            0.0                1.0\n",
       "3             0.0            0.0            0.0                1.0\n",
       "4             0.0            0.0            0.0                1.0"
      ]
     },
     "execution_count": 35,
     "metadata": {},
     "output_type": "execute_result"
    }
   ],
   "source": [
    "# Create the instance\n",
    "enc = OneHotEncoder(sparse=False)\n",
    "\n",
    "# Fit and transform the OHE to the columns necessary\n",
    "encode_df = pd.DataFrame(enc.fit_transform(ml_type[cat]))\n",
    "\n",
    "# Add the original variable names to the df\n",
    "encode_df.columns = enc.get_feature_names_out(cat)\n",
    "encode_df.head()\n"
   ]
  },
  {
   "cell_type": "code",
   "execution_count": 36,
   "metadata": {},
   "outputs": [],
   "source": [
    "# Merge the OHE features and drop the variables\n",
    "ml_encoded = ml_type.merge(encode_df, left_index=True, right_index=True)\n",
    "ml_encoded.drop(columns=cat, inplace=True)"
   ]
  },
  {
   "cell_type": "code",
   "execution_count": 37,
   "metadata": {},
   "outputs": [
    {
     "data": {
      "text/html": [
       "<div>\n",
       "<style scoped>\n",
       "    .dataframe tbody tr th:only-of-type {\n",
       "        vertical-align: middle;\n",
       "    }\n",
       "\n",
       "    .dataframe tbody tr th {\n",
       "        vertical-align: top;\n",
       "    }\n",
       "\n",
       "    .dataframe thead th {\n",
       "        text-align: right;\n",
       "    }\n",
       "</style>\n",
       "<table border=\"1\" class=\"dataframe\">\n",
       "  <thead>\n",
       "    <tr style=\"text-align: right;\">\n",
       "      <th></th>\n",
       "      <th>x</th>\n",
       "      <th>y</th>\n",
       "      <th>s</th>\n",
       "      <th>twist</th>\n",
       "      <th>RosterPosition</th>\n",
       "      <th>Temperature</th>\n",
       "      <th>PlayerGamePlay</th>\n",
       "      <th>SyntheticField</th>\n",
       "      <th>Outdoor</th>\n",
       "      <th>Precipitation</th>\n",
       "      <th>DaysPlayed</th>\n",
       "      <th>PlayCode</th>\n",
       "      <th>BodyPart_Ankle</th>\n",
       "      <th>BodyPart_Foot</th>\n",
       "      <th>BodyPart_Knee</th>\n",
       "      <th>BodyPart_NoInjury</th>\n",
       "    </tr>\n",
       "  </thead>\n",
       "  <tbody>\n",
       "    <tr>\n",
       "      <th>0</th>\n",
       "      <td>21.32</td>\n",
       "      <td>29.14</td>\n",
       "      <td>0.88</td>\n",
       "      <td>23.24</td>\n",
       "      <td>0</td>\n",
       "      <td>63</td>\n",
       "      <td>45</td>\n",
       "      <td>1</td>\n",
       "      <td>1</td>\n",
       "      <td>0</td>\n",
       "      <td>64</td>\n",
       "      <td>0.0</td>\n",
       "      <td>0.0</td>\n",
       "      <td>0.0</td>\n",
       "      <td>0.0</td>\n",
       "      <td>1.0</td>\n",
       "    </tr>\n",
       "    <tr>\n",
       "      <th>1</th>\n",
       "      <td>21.31</td>\n",
       "      <td>29.21</td>\n",
       "      <td>0.91</td>\n",
       "      <td>15.59</td>\n",
       "      <td>0</td>\n",
       "      <td>63</td>\n",
       "      <td>45</td>\n",
       "      <td>1</td>\n",
       "      <td>1</td>\n",
       "      <td>0</td>\n",
       "      <td>64</td>\n",
       "      <td>0.0</td>\n",
       "      <td>0.0</td>\n",
       "      <td>0.0</td>\n",
       "      <td>0.0</td>\n",
       "      <td>1.0</td>\n",
       "    </tr>\n",
       "    <tr>\n",
       "      <th>2</th>\n",
       "      <td>21.30</td>\n",
       "      <td>29.29</td>\n",
       "      <td>0.93</td>\n",
       "      <td>7.61</td>\n",
       "      <td>0</td>\n",
       "      <td>63</td>\n",
       "      <td>45</td>\n",
       "      <td>1</td>\n",
       "      <td>1</td>\n",
       "      <td>0</td>\n",
       "      <td>64</td>\n",
       "      <td>0.0</td>\n",
       "      <td>0.0</td>\n",
       "      <td>0.0</td>\n",
       "      <td>0.0</td>\n",
       "      <td>1.0</td>\n",
       "    </tr>\n",
       "    <tr>\n",
       "      <th>3</th>\n",
       "      <td>21.28</td>\n",
       "      <td>29.38</td>\n",
       "      <td>0.93</td>\n",
       "      <td>0.42</td>\n",
       "      <td>0</td>\n",
       "      <td>63</td>\n",
       "      <td>45</td>\n",
       "      <td>1</td>\n",
       "      <td>1</td>\n",
       "      <td>0</td>\n",
       "      <td>64</td>\n",
       "      <td>0.0</td>\n",
       "      <td>0.0</td>\n",
       "      <td>0.0</td>\n",
       "      <td>0.0</td>\n",
       "      <td>1.0</td>\n",
       "    </tr>\n",
       "    <tr>\n",
       "      <th>4</th>\n",
       "      <td>21.26</td>\n",
       "      <td>29.45</td>\n",
       "      <td>0.89</td>\n",
       "      <td>6.20</td>\n",
       "      <td>0</td>\n",
       "      <td>63</td>\n",
       "      <td>45</td>\n",
       "      <td>1</td>\n",
       "      <td>1</td>\n",
       "      <td>0</td>\n",
       "      <td>64</td>\n",
       "      <td>0.0</td>\n",
       "      <td>0.0</td>\n",
       "      <td>0.0</td>\n",
       "      <td>0.0</td>\n",
       "      <td>1.0</td>\n",
       "    </tr>\n",
       "  </tbody>\n",
       "</table>\n",
       "</div>"
      ],
      "text/plain": [
       "       x      y     s  twist  RosterPosition  Temperature  PlayerGamePlay  \\\n",
       "0  21.32  29.14  0.88  23.24               0           63              45   \n",
       "1  21.31  29.21  0.91  15.59               0           63              45   \n",
       "2  21.30  29.29  0.93   7.61               0           63              45   \n",
       "3  21.28  29.38  0.93   0.42               0           63              45   \n",
       "4  21.26  29.45  0.89   6.20               0           63              45   \n",
       "\n",
       "   SyntheticField  Outdoor  Precipitation  DaysPlayed  PlayCode  \\\n",
       "0               1        1              0          64       0.0   \n",
       "1               1        1              0          64       0.0   \n",
       "2               1        1              0          64       0.0   \n",
       "3               1        1              0          64       0.0   \n",
       "4               1        1              0          64       0.0   \n",
       "\n",
       "   BodyPart_Ankle  BodyPart_Foot  BodyPart_Knee  BodyPart_NoInjury  \n",
       "0             0.0            0.0            0.0                1.0  \n",
       "1             0.0            0.0            0.0                1.0  \n",
       "2             0.0            0.0            0.0                1.0  \n",
       "3             0.0            0.0            0.0                1.0  \n",
       "4             0.0            0.0            0.0                1.0  "
      ]
     },
     "execution_count": 37,
     "metadata": {},
     "output_type": "execute_result"
    }
   ],
   "source": [
    "ml_encoded.head()"
   ]
  },
  {
   "cell_type": "code",
   "execution_count": 38,
   "metadata": {},
   "outputs": [],
   "source": [
    "# Prepare the InjuryType Prediction Dataset\n",
    "y = ml_encoded.loc[:, 'BodyPart_Ankle':]\n",
    "X = ml_encoded.drop(columns=['BodyPart_Ankle','BodyPart_Foot', 'BodyPart_Knee'])\n",
    "\n",
    "X_train, X_test, y_train, y_test = train_test_split(X, y, random_state=seed)\n"
   ]
  },
  {
   "cell_type": "code",
   "execution_count": 39,
   "metadata": {},
   "outputs": [],
   "source": [
    "scaler = StandardScaler()\n",
    "X_scaled = scaler.fit(X_train)\n",
    "X_train_scaled = X_scaled.transform(X_train)\n",
    "X_test_scaled = X_scaled.transform(X_test)"
   ]
  },
  {
   "cell_type": "code",
   "execution_count": 40,
   "metadata": {},
   "outputs": [
    {
     "name": "stdout",
     "output_type": "stream",
     "text": [
      "Model: \"sequential\"\n",
      "_________________________________________________________________\n",
      " Layer (type)                Output Shape              Param #   \n",
      "=================================================================\n",
      " dense (Dense)               (None, 16)                224       \n",
      "                                                                 \n",
      " dense_1 (Dense)             (None, 8)                 136       \n",
      "                                                                 \n",
      " dense_2 (Dense)             (None, 4)                 36        \n",
      "                                                                 \n",
      "=================================================================\n",
      "Total params: 396\n",
      "Trainable params: 396\n",
      "Non-trainable params: 0\n",
      "_________________________________________________________________\n"
     ]
    }
   ],
   "source": [
    "number_input_features = len(X_train_scaled[0])\n",
    "hidden_layer1 = 16\n",
    "hidden_layer2 = 8\n",
    "\n",
    "nn = tf.keras.models.Sequential()\n",
    "\n",
    "# Layers\n",
    "nn.add(tf.keras.layers.Dense(units=hidden_layer1, input_dim=number_input_features, activation='relu'))\n",
    "nn.add(tf.keras.layers.Dense(units=hidden_layer2, activation='relu'))\n",
    "nn.add(tf.keras.layers.Dense(units=4, activation='sigmoid'))\n",
    "\n",
    "nn.summary()\n"
   ]
  },
  {
   "cell_type": "code",
   "execution_count": 41,
   "metadata": {},
   "outputs": [],
   "source": [
    "# Compile the model\n",
    "nn.compile(loss='binary_crossentropy', optimizer='adam', metrics=['accuracy'])\n"
   ]
  },
  {
   "cell_type": "code",
   "execution_count": 42,
   "metadata": {},
   "outputs": [
    {
     "name": "stdout",
     "output_type": "stream",
     "text": [
      "Epoch 1/2\n",
      "52079/52079 [==============================] - 38s 724us/step - loss: 0.0039 - accuracy: 0.9969\n",
      "Epoch 2/2\n",
      "52079/52079 [==============================] - 41s 786us/step - loss: 8.0220e-04 - accuracy: 0.9995\n"
     ]
    }
   ],
   "source": [
    "# Train the model\n",
    "fit_model = nn.fit(X_train_scaled, y_train, epochs=2)\n"
   ]
  },
  {
   "cell_type": "code",
   "execution_count": 43,
   "metadata": {},
   "outputs": [
    {
     "name": "stdout",
     "output_type": "stream",
     "text": [
      "17360/17360 - 9s - loss: 6.3063e-04 - accuracy: 0.9997 - 9s/epoch - 517us/step\n",
      "Loss: 0.0006306328577920794, Accuracy: 0.9996903538703918\n"
     ]
    }
   ],
   "source": [
    "# Evaluate the model using the test data\n",
    "model_loss, model_accuracy = nn.evaluate(X_test_scaled, y_test, verbose=2)\n",
    "print(f\"Loss: {model_loss}, Accuracy: {model_accuracy}\")\n"
   ]
  }
 ],
 "metadata": {
  "kernelspec": {
   "display_name": "Python 3.7.13 ('mlenv')",
   "language": "python",
   "name": "python3"
  },
  "language_info": {
   "codemirror_mode": {
    "name": "ipython",
    "version": 3
   },
   "file_extension": ".py",
   "mimetype": "text/x-python",
   "name": "python",
   "nbconvert_exporter": "python",
   "pygments_lexer": "ipython3",
   "version": "3.7.13"
  },
  "orig_nbformat": 4,
  "vscode": {
   "interpreter": {
    "hash": "55a128abeef29120eb7bd22a6a2e883184ae9f9178564f0df9c7c7d3d676105f"
   }
  }
 },
 "nbformat": 4,
 "nbformat_minor": 2
}
