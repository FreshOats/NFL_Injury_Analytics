{
 "cells": [
  {
   "cell_type": "markdown",
   "metadata": {},
   "source": [
    "# Preliminary ML Model"
   ]
  },
  {
   "cell_type": "code",
   "execution_count": 26,
   "metadata": {},
   "outputs": [
    {
     "data": {
      "text/html": [
       "<div>\n",
       "<style scoped>\n",
       "    .dataframe tbody tr th:only-of-type {\n",
       "        vertical-align: middle;\n",
       "    }\n",
       "\n",
       "    .dataframe tbody tr th {\n",
       "        vertical-align: top;\n",
       "    }\n",
       "\n",
       "    .dataframe thead th {\n",
       "        text-align: right;\n",
       "    }\n",
       "</style>\n",
       "<table border=\"1\" class=\"dataframe\">\n",
       "  <thead>\n",
       "    <tr style=\"text-align: right;\">\n",
       "      <th></th>\n",
       "      <th>PlayerDay</th>\n",
       "      <th>PlayerGame</th>\n",
       "      <th>FieldType</th>\n",
       "      <th>Temperature</th>\n",
       "      <th>PlayerGamePlay</th>\n",
       "      <th>Injury_Duration</th>\n",
       "      <th>StadiumType</th>\n",
       "      <th>Weather</th>\n",
       "      <th>PlayType</th>\n",
       "      <th>RosterPosition</th>\n",
       "      <th>Position</th>\n",
       "      <th>BodyPart</th>\n",
       "    </tr>\n",
       "  </thead>\n",
       "  <tbody>\n",
       "    <tr>\n",
       "      <th>0</th>\n",
       "      <td>15</td>\n",
       "      <td>3</td>\n",
       "      <td>Natural</td>\n",
       "      <td>89</td>\n",
       "      <td>7</td>\n",
       "      <td>42</td>\n",
       "      <td>Outdoor</td>\n",
       "      <td>Clear</td>\n",
       "      <td>Rush</td>\n",
       "      <td>RB</td>\n",
       "      <td>RB</td>\n",
       "      <td>Knee</td>\n",
       "    </tr>\n",
       "    <tr>\n",
       "      <th>1</th>\n",
       "      <td>365</td>\n",
       "      <td>8</td>\n",
       "      <td>Natural</td>\n",
       "      <td>81</td>\n",
       "      <td>15</td>\n",
       "      <td>28</td>\n",
       "      <td>Outdoor</td>\n",
       "      <td>Cloudy</td>\n",
       "      <td>Pass</td>\n",
       "      <td>TE</td>\n",
       "      <td>TE</td>\n",
       "      <td>Foot</td>\n",
       "    </tr>\n",
       "    <tr>\n",
       "      <th>2</th>\n",
       "      <td>393</td>\n",
       "      <td>19</td>\n",
       "      <td>Natural</td>\n",
       "      <td>79</td>\n",
       "      <td>7</td>\n",
       "      <td>28</td>\n",
       "      <td>Outdoor</td>\n",
       "      <td>Cloudy</td>\n",
       "      <td>Rush</td>\n",
       "      <td>S</td>\n",
       "      <td>FS</td>\n",
       "      <td>Knee</td>\n",
       "    </tr>\n",
       "    <tr>\n",
       "      <th>3</th>\n",
       "      <td>39</td>\n",
       "      <td>5</td>\n",
       "      <td>Natural</td>\n",
       "      <td>48</td>\n",
       "      <td>9</td>\n",
       "      <td>7</td>\n",
       "      <td>Outdoor</td>\n",
       "      <td>Cloudy</td>\n",
       "      <td>Kickoff</td>\n",
       "      <td>WR</td>\n",
       "      <td>WR</td>\n",
       "      <td>Knee</td>\n",
       "    </tr>\n",
       "    <tr>\n",
       "      <th>4</th>\n",
       "      <td>389</td>\n",
       "      <td>15</td>\n",
       "      <td>Natural</td>\n",
       "      <td>79</td>\n",
       "      <td>35</td>\n",
       "      <td>7</td>\n",
       "      <td>Outdoor</td>\n",
       "      <td>Clear</td>\n",
       "      <td>Pass</td>\n",
       "      <td>OL</td>\n",
       "      <td>T</td>\n",
       "      <td>Knee</td>\n",
       "    </tr>\n",
       "  </tbody>\n",
       "</table>\n",
       "</div>"
      ],
      "text/plain": [
       "   PlayerDay  PlayerGame FieldType  Temperature  PlayerGamePlay  \\\n",
       "0         15           3   Natural           89               7   \n",
       "1        365           8   Natural           81              15   \n",
       "2        393          19   Natural           79               7   \n",
       "3         39           5   Natural           48               9   \n",
       "4        389          15   Natural           79              35   \n",
       "\n",
       "   Injury_Duration StadiumType Weather PlayType RosterPosition Position  \\\n",
       "0               42     Outdoor   Clear     Rush             RB       RB   \n",
       "1               28     Outdoor  Cloudy     Pass             TE       TE   \n",
       "2               28     Outdoor  Cloudy     Rush              S       FS   \n",
       "3                7     Outdoor  Cloudy  Kickoff             WR       WR   \n",
       "4                7     Outdoor   Clear     Pass             OL        T   \n",
       "\n",
       "  BodyPart  \n",
       "0     Knee  \n",
       "1     Foot  \n",
       "2     Knee  \n",
       "3     Knee  \n",
       "4     Knee  "
      ]
     },
     "execution_count": 26,
     "metadata": {},
     "output_type": "execute_result"
    }
   ],
   "source": [
    "import pandas as pd\n",
    "import numpy as np\n",
    "import hvplot.pandas\n",
    "import plotly.express as px\n",
    "from sklearn.preprocessing import StandardScaler, MinMaxScaler\n",
    "from sklearn.decomposition import PCA\n",
    "from sklearn.cluster import KMeans\n",
    "from random import sample\n",
    "\n",
    "play_injuries = pd.read_csv('play_injuries_inner.csv')\n",
    "# Play Key is just an identifier\n",
    "play_injuries.drop(columns='PlayKey', inplace=True)\n",
    "play_injuries.head()"
   ]
  },
  {
   "cell_type": "code",
   "execution_count": 25,
   "metadata": {},
   "outputs": [
    {
     "data": {
      "text/plain": [
       "(69, 13)"
      ]
     },
     "execution_count": 25,
     "metadata": {},
     "output_type": "execute_result"
    }
   ],
   "source": [
    "play_injuries.shape"
   ]
  },
  {
   "cell_type": "markdown",
   "metadata": {},
   "source": [
    "This may be an issue now, as the rows fall smaller than 1000 for the ML model - this will ultimately be a big problem with this line of analysis, since there were fewer than 200 injuries in the injury dataset"
   ]
  },
  {
   "cell_type": "code",
   "execution_count": 5,
   "metadata": {},
   "outputs": [
    {
     "data": {
      "text/plain": [
       "<AxesSubplot:title={'center':'Player Day Density'}, ylabel='Density'>"
      ]
     },
     "execution_count": 5,
     "metadata": {},
     "output_type": "execute_result"
    },
    {
     "data": {
      "image/png": "[encoded data removed]",
      "text/plain": [
       "<Figure size 432x288 with 1 Axes>"
      ]
     },
     "metadata": {
      "needs_background": "light"
     },
     "output_type": "display_data"
    }
   ],
   "source": [
    "play_injuries.PlayerDay.plot.density(title=\"Player Day Density\")"
   ]
  },
  {
   "cell_type": "code",
   "execution_count": 6,
   "metadata": {},
   "outputs": [
    {
     "data": {
      "text/plain": [
       "<AxesSubplot:title={'center':'Player Game Density Plot'}, ylabel='Density'>"
      ]
     },
     "execution_count": 6,
     "metadata": {},
     "output_type": "execute_result"
    },
    {
     "data": {
      "image/png": "[encoded data removed]",
      "text/plain": [
       "<Figure size 432x288 with 1 Axes>"
      ]
     },
     "metadata": {
      "needs_background": "light"
     },
     "output_type": "display_data"
    }
   ],
   "source": [
    "# PlayerGame Plot Density\n",
    "play_injuries.PlayerGame.plot.density(title=\"Player Game Density Plot\")"
   ]
  },
  {
   "cell_type": "code",
   "execution_count": 7,
   "metadata": {},
   "outputs": [],
   "source": [
    "# play_injuries.FieldType.plot.density(title='Field Type Density')"
   ]
  },
  {
   "cell_type": "code",
   "execution_count": 8,
   "metadata": {},
   "outputs": [
    {
     "data": {
      "text/plain": [
       "<AxesSubplot:title={'center':'Player Game Play Density'}, ylabel='Density'>"
      ]
     },
     "execution_count": 8,
     "metadata": {},
     "output_type": "execute_result"
    },
    {
     "data": {
      "image/png": "[encoded data removed]",
      "text/plain": [
       "<Figure size 432x288 with 1 Axes>"
      ]
     },
     "metadata": {
      "needs_background": "light"
     },
     "output_type": "display_data"
    }
   ],
   "source": [
    "play_injuries.PlayerGamePlay.plot.density(title=\"Player Game Play Density\")"
   ]
  },
  {
   "cell_type": "code",
   "execution_count": 9,
   "metadata": {},
   "outputs": [
    {
     "data": {
      "text/plain": [
       "<AxesSubplot:title={'center':'Injury Duration Density'}, ylabel='Density'>"
      ]
     },
     "execution_count": 9,
     "metadata": {},
     "output_type": "execute_result"
    },
    {
     "data": {
      "image/png": "[encoded data removed]",
      "text/plain": [
       "<Figure size 432x288 with 1 Axes>"
      ]
     },
     "metadata": {
      "needs_background": "light"
     },
     "output_type": "display_data"
    }
   ],
   "source": [
    "# Because there are so many more non-injuries than injured days, the density plot doesn't \n",
    "# show anything useful with the single spike at 0, so all non-injuries are removed\n",
    "play_injuries.Injury_Duration[play_injuries.Injury_Duration != 0].plot.density(title=\"Injury Duration Density\")"
   ]
  },
  {
   "cell_type": "markdown",
   "metadata": {},
   "source": [
    "This is an interesting finding, in that most injuries were either short term, under 7 days or long term, extending to 42+ days\n",
    "\n",
    "### Encode the object datasets"
   ]
  },
  {
   "cell_type": "code",
   "execution_count": 10,
   "metadata": {},
   "outputs": [],
   "source": [
    "# Generate our categorical variable lists\n",
    "play_injuries_categorical = play_injuries.dtypes[play_injuries.dtypes == 'object'].index.tolist()"
   ]
  },
  {
   "cell_type": "markdown",
   "metadata": {},
   "source": [
    "The current dataset it too big to create dummies for, and would require 60 Gb of memory... So creating a random subset"
   ]
  },
  {
   "cell_type": "code",
   "execution_count": 12,
   "metadata": {},
   "outputs": [],
   "source": [
    "# Use get_dummies() to create variables for the text features\n",
    "X = pd.get_dummies(play_injuries, columns=play_injuries_categorical)"
   ]
  },
  {
   "cell_type": "markdown",
   "metadata": {},
   "source": [
    "### Use PCA to reduce dimentions to three principal components"
   ]
  },
  {
   "cell_type": "code",
   "execution_count": 13,
   "metadata": {},
   "outputs": [],
   "source": [
    "X_pca = PCA(n_components=3).fit_transform(X)"
   ]
  },
  {
   "cell_type": "code",
   "execution_count": 14,
   "metadata": {},
   "outputs": [
    {
     "data": {
      "text/html": [
       "<div>\n",
       "<style scoped>\n",
       "    .dataframe tbody tr th:only-of-type {\n",
       "        vertical-align: middle;\n",
       "    }\n",
       "\n",
       "    .dataframe tbody tr th {\n",
       "        vertical-align: top;\n",
       "    }\n",
       "\n",
       "    .dataframe thead th {\n",
       "        text-align: right;\n",
       "    }\n",
       "</style>\n",
       "<table border=\"1\" class=\"dataframe\">\n",
       "  <thead>\n",
       "    <tr style=\"text-align: right;\">\n",
       "      <th></th>\n",
       "      <th>PC 1</th>\n",
       "      <th>PC 2</th>\n",
       "      <th>PC 3</th>\n",
       "    </tr>\n",
       "  </thead>\n",
       "  <tbody>\n",
       "    <tr>\n",
       "      <th>0</th>\n",
       "      <td>-138.389954</td>\n",
       "      <td>-5.105241</td>\n",
       "      <td>31.189757</td>\n",
       "    </tr>\n",
       "    <tr>\n",
       "      <th>1</th>\n",
       "      <td>211.905243</td>\n",
       "      <td>-5.800358</td>\n",
       "      <td>21.937755</td>\n",
       "    </tr>\n",
       "    <tr>\n",
       "      <th>2</th>\n",
       "      <td>240.174546</td>\n",
       "      <td>-13.431445</td>\n",
       "      <td>24.593213</td>\n",
       "    </tr>\n",
       "    <tr>\n",
       "      <th>3</th>\n",
       "      <td>-113.181297</td>\n",
       "      <td>-19.526732</td>\n",
       "      <td>-11.974173</td>\n",
       "    </tr>\n",
       "    <tr>\n",
       "      <th>4</th>\n",
       "      <td>236.764509</td>\n",
       "      <td>4.707655</td>\n",
       "      <td>-4.243791</td>\n",
       "    </tr>\n",
       "  </tbody>\n",
       "</table>\n",
       "</div>"
      ],
      "text/plain": [
       "         PC 1       PC 2       PC 3\n",
       "0 -138.389954  -5.105241  31.189757\n",
       "1  211.905243  -5.800358  21.937755\n",
       "2  240.174546 -13.431445  24.593213\n",
       "3 -113.181297 -19.526732 -11.974173\n",
       "4  236.764509   4.707655  -4.243791"
      ]
     },
     "execution_count": 14,
     "metadata": {},
     "output_type": "execute_result"
    }
   ],
   "source": [
    "# Create a DF with the three principal components\n",
    "pcs_df = pd.DataFrame(data = X_pca, columns=['PC 1', 'PC 2', 'PC 3'])\n",
    "pcs_df = pcs_df.set_index(play_injuries.index)\n",
    "pcs_df.head()"
   ]
  },
  {
   "cell_type": "markdown",
   "metadata": {},
   "source": [
    "### Find Value for K with an Elbow Curve"
   ]
  },
  {
   "cell_type": "code",
   "execution_count": 15,
   "metadata": {},
   "outputs": [
    {
     "name": "stderr",
     "output_type": "stream",
     "text": [
      "c:\\Users\\justi\\anaconda3\\envs\\mlenv\\lib\\site-packages\\sklearn\\cluster\\_kmeans.py:1037: UserWarning: KMeans is known to have a memory leak on Windows with MKL, when there are less chunks than available threads. You can avoid it by setting the environment variable OMP_NUM_THREADS=1.\n",
      "  \"KMeans is known to have a memory leak on Windows \"\n"
     ]
    },
    {
     "data": {},
     "metadata": {},
     "output_type": "display_data"
    },
    {
     "data": {
      "application/vnd.holoviews_exec.v0+json": "",
      "text/html": [
       "<div id='1002'>\n",
       "\n",
       "\n",
       "\n",
       "\n",
       "\n",
       "  <div class=\"bk-root\" id=\"e3b46643-3bfc-4a18-a7c6-050d3d2d9b76\" data-root-id=\"1002\"></div>\n",
       "</div>\n",
       "<script type=\"application/javascript\">(function(root) {\n",
       "  function embed_document(root) {\n",
       "    var docs_json = {\"dcd96fe0-fd5f-4d56-9e65-7657f8146596\":{\"defs\":[{\"extends\":null,\"module\":null,\"name\":\"ReactiveHTML1\",\"overrides\":[],\"properties\":[]},{\"extends\":null,\"module\":null,\"name\":\"FlexBox1\",\"overrides\":[],\"properties\":[{\"default\":\"flex-start\",\"kind\":null,\"name\":\"align_content\"},{\"default\":\"flex-start\",\"kind\":null,\"name\":\"align_items\"},{\"default\":\"row\",\"kind\":null,\"name\":\"flex_direction\"},{\"default\":\"wrap\",\"kind\":null,\"name\":\"flex_wrap\"},{\"default\":\"flex-start\",\"kind\":null,\"name\":\"justify_content\"}]},{\"extends\":null,\"module\":null,\"name\":\"GridStack1\",\"overrides\":[],\"properties\":[{\"default\":\"warn\",\"kind\":null,\"name\":\"mode\"},{\"default\":null,\"kind\":null,\"name\":\"ncols\"},{\"default\":null,\"kind\":null,\"name\":\"nrows\"},{\"default\":true,\"kind\":null,\"name\":\"allow_resize\"},{\"default\":true,\"kind\":null,\"name\":\"allow_drag\"},{\"default\":[],\"kind\":null,\"name\":\"state\"}]},{\"extends\":null,\"module\":null,\"name\":\"click1\",\"overrides\":[],\"properties\":[{\"default\":\"\",\"kind\":null,\"name\":\"terminal_output\"},{\"default\":\"\",\"kind\":null,\"name\":\"debug_name\"},{\"default\":0,\"kind\":null,\"name\":\"clears\"}]},{\"extends\":null,\"module\":null,\"name\":\"TemplateActions1\",\"overrides\":[],\"properties\":[{\"default\":0,\"kind\":null,\"name\":\"open_modal\"},{\"default\":0,\"kind\":null,\"name\":\"close_modal\"}]},{\"extends\":null,\"module\":null,\"name\":\"MaterialTemplateActions1\",\"overrides\":[],\"properties\":[{\"default\":0,\"kind\":null,\"name\":\"open_modal\"},{\"default\":0,\"kind\":null,\"name\":\"close_modal\"}]}],\"roots\":{\"references\":[{\"attributes\":{\"data\":{\"inertia\":{\"__ndarray__\":\"lb8q6KHkP0Ha52uR0s37QNWHiM4XIPVA5MrI0p6L7UClhn58my/oQDksrZm2iuRAfDsAyI6k4UDUNetNNwLfQJYxyVvE0NtAh5XLJmcq2EA=\",\"dtype\":\"float64\",\"order\":\"little\",\"shape\":[10]},\"k\":[1,2,3,4,5,6,7,8,9,10]},\"selected\":{\"id\":\"1038\"},\"selection_policy\":{\"id\":\"1061\"}},\"id\":\"1037\",\"type\":\"ColumnDataSource\"},{\"attributes\":{\"margin\":[5,5,5,5],\"name\":\"HSpacer01631\",\"sizing_mode\":\"stretch_width\"},\"id\":\"1003\",\"type\":\"Spacer\"},{\"attributes\":{},\"id\":\"1021\",\"type\":\"BasicTicker\"},{\"attributes\":{},\"id\":\"1012\",\"type\":\"LinearScale\"},{\"attributes\":{\"axis_label\":\"inertia\",\"coordinates\":null,\"formatter\":{\"id\":\"1053\"},\"group\":null,\"major_label_policy\":{\"id\":\"1054\"},\"ticker\":{\"id\":\"1021\"}},\"id\":\"1020\",\"type\":\"LinearAxis\"},{\"attributes\":{\"axis\":{\"id\":\"1020\"},\"coordinates\":null,\"dimension\":1,\"grid_line_color\":null,\"group\":null,\"ticker\":null},\"id\":\"1023\",\"type\":\"Grid\"},{\"attributes\":{},\"id\":\"1053\",\"type\":\"BasicTickFormatter\"},{\"attributes\":{},\"id\":\"1054\",\"type\":\"AllLabels\"},{\"attributes\":{},\"id\":\"1048\",\"type\":\"BasicTickFormatter\"},{\"attributes\":{},\"id\":\"1061\",\"type\":\"UnionRenderers\"},{\"attributes\":{},\"id\":\"1038\",\"type\":\"Selection\"},{\"attributes\":{\"below\":[{\"id\":\"1016\"}],\"center\":[{\"id\":\"1019\"},{\"id\":\"1023\"}],\"height\":300,\"left\":[{\"id\":\"1020\"}],\"margin\":[5,5,5,5],\"min_border_bottom\":10,\"min_border_left\":10,\"min_border_right\":10,\"min_border_top\":10,\"renderers\":[{\"id\":\"1043\"}],\"sizing_mode\":\"fixed\",\"title\":{\"id\":\"1008\"},\"toolbar\":{\"id\":\"1030\"},\"width\":700,\"x_range\":{\"id\":\"1004\"},\"x_scale\":{\"id\":\"1012\"},\"y_range\":{\"id\":\"1005\"},\"y_scale\":{\"id\":\"1014\"}},\"id\":\"1007\",\"subtype\":\"Figure\",\"type\":\"Plot\"},{\"attributes\":{\"ticks\":[1,2,3,4,5,6,7,8,9,10]},\"id\":\"1046\",\"type\":\"FixedTicker\"},{\"attributes\":{\"margin\":[5,5,5,5],\"name\":\"HSpacer01632\",\"sizing_mode\":\"stretch_width\"},\"id\":\"1073\",\"type\":\"Spacer\"},{\"attributes\":{\"source\":{\"id\":\"1037\"}},\"id\":\"1044\",\"type\":\"CDSView\"},{\"attributes\":{\"line_color\":\"#30a2da\",\"line_width\":2,\"x\":{\"field\":\"k\"},\"y\":{\"field\":\"inertia\"}},\"id\":\"1045\",\"type\":\"Line\"},{\"attributes\":{\"line_alpha\":0.2,\"line_color\":\"#30a2da\",\"line_width\":2,\"x\":{\"field\":\"k\"},\"y\":{\"field\":\"inertia\"}},\"id\":\"1042\",\"type\":\"Line\"},{\"attributes\":{},\"id\":\"1024\",\"type\":\"SaveTool\"},{\"attributes\":{},\"id\":\"1025\",\"type\":\"PanTool\"},{\"attributes\":{\"line_alpha\":0.1,\"line_color\":\"#30a2da\",\"line_width\":2,\"x\":{\"field\":\"k\"},\"y\":{\"field\":\"inertia\"}},\"id\":\"1041\",\"type\":\"Line\"},{\"attributes\":{},\"id\":\"1028\",\"type\":\"ResetTool\"},{\"attributes\":{},\"id\":\"1049\",\"type\":\"AllLabels\"},{\"attributes\":{\"coordinates\":null,\"data_source\":{\"id\":\"1037\"},\"glyph\":{\"id\":\"1040\"},\"group\":null,\"hover_glyph\":null,\"muted_glyph\":{\"id\":\"1042\"},\"nonselection_glyph\":{\"id\":\"1041\"},\"selection_glyph\":{\"id\":\"1045\"},\"view\":{\"id\":\"1044\"}},\"id\":\"1043\",\"type\":\"GlyphRenderer\"},{\"attributes\":{},\"id\":\"1026\",\"type\":\"WheelZoomTool\"},{\"attributes\":{\"end\":2296685.9364182297,\"reset_end\":2296685.9364182297,\"reset_start\":-181794.41777306725,\"start\":-181794.41777306725,\"tags\":[[[\"inertia\",\"inertia\",null]]]},\"id\":\"1005\",\"type\":\"Range1d\"},{\"attributes\":{\"line_color\":\"#30a2da\",\"line_width\":2,\"x\":{\"field\":\"k\"},\"y\":{\"field\":\"inertia\"}},\"id\":\"1040\",\"type\":\"Line\"},{\"attributes\":{\"overlay\":{\"id\":\"1029\"}},\"id\":\"1027\",\"type\":\"BoxZoomTool\"},{\"attributes\":{\"children\":[{\"id\":\"1003\"},{\"id\":\"1007\"},{\"id\":\"1073\"}],\"margin\":[0,0,0,0],\"name\":\"Row01627\",\"tags\":[\"embedded\"]},\"id\":\"1002\",\"type\":\"Row\"},{\"attributes\":{\"callback\":null,\"renderers\":[{\"id\":\"1043\"}],\"tags\":[\"hv_created\"],\"tooltips\":[[\"k\",\"@{k}\"],[\"inertia\",\"@{inertia}\"]]},\"id\":\"1006\",\"type\":\"HoverTool\"},{\"attributes\":{\"axis\":{\"id\":\"1016\"},\"coordinates\":null,\"grid_line_color\":null,\"group\":null,\"ticker\":null},\"id\":\"1019\",\"type\":\"Grid\"},{\"attributes\":{\"end\":10.0,\"reset_end\":10.0,\"reset_start\":1.0,\"start\":1.0,\"tags\":[[[\"k\",\"k\",null]]]},\"id\":\"1004\",\"type\":\"Range1d\"},{\"attributes\":{\"coordinates\":null,\"group\":null,\"text\":\"Elbow Curve\",\"text_color\":\"black\",\"text_font_size\":\"12pt\"},\"id\":\"1008\",\"type\":\"Title\"},{\"attributes\":{},\"id\":\"1014\",\"type\":\"LinearScale\"},{\"attributes\":{\"tools\":[{\"id\":\"1006\"},{\"id\":\"1024\"},{\"id\":\"1025\"},{\"id\":\"1026\"},{\"id\":\"1027\"},{\"id\":\"1028\"}]},\"id\":\"1030\",\"type\":\"Toolbar\"},{\"attributes\":{\"bottom_units\":\"screen\",\"coordinates\":null,\"fill_alpha\":0.5,\"fill_color\":\"lightgrey\",\"group\":null,\"left_units\":\"screen\",\"level\":\"overlay\",\"line_alpha\":1.0,\"line_color\":\"black\",\"line_dash\":[4,4],\"line_width\":2,\"right_units\":\"screen\",\"syncable\":false,\"top_units\":\"screen\"},\"id\":\"1029\",\"type\":\"BoxAnnotation\"},{\"attributes\":{\"axis_label\":\"k\",\"coordinates\":null,\"formatter\":{\"id\":\"1048\"},\"group\":null,\"major_label_policy\":{\"id\":\"1049\"},\"ticker\":{\"id\":\"1046\"}},\"id\":\"1016\",\"type\":\"LinearAxis\"}],\"root_ids\":[\"1002\"]},\"title\":\"Bokeh Application\",\"version\":\"2.4.2\"}};\n",
       "    var render_items = [{\"docid\":\"dcd96fe0-fd5f-4d56-9e65-7657f8146596\",\"root_ids\":[\"1002\"],\"roots\":{\"1002\":\"e3b46643-3bfc-4a18-a7c6-050d3d2d9b76\"}}];\n",
       "    root.Bokeh.embed.embed_items_notebook(docs_json, render_items);\n",
       "  }\n",
       "  if (root.Bokeh !== undefined && root.Bokeh.Panel !== undefined) {\n",
       "    embed_document(root);\n",
       "  } else {\n",
       "    var attempts = 0;\n",
       "    var timer = setInterval(function(root) {\n",
       "      if (root.Bokeh !== undefined && root.Bokeh.Panel !== undefined) {\n",
       "        clearInterval(timer);\n",
       "        embed_document(root);\n",
       "      } else if (document.readyState == \"complete\") {\n",
       "        attempts++;\n",
       "        if (attempts > 200) {\n",
       "          clearInterval(timer);\n",
       "          console.log(\"Bokeh: ERROR: Unable to run BokehJS code because BokehJS library is missing\");\n",
       "        }\n",
       "      }\n",
       "    }, 25, root)\n",
       "  }\n",
       "})(window);</script>"
      ],
      "text/plain": [
       ":Curve   [k]   (inertia)"
      ]
     },
     "execution_count": 15,
     "metadata": {
      "application/vnd.holoviews_exec.v0+json": {
       "id": "1002"
      }
     },
     "output_type": "execute_result"
    }
   ],
   "source": [
    "inertia = []\n",
    "k = list(range(1, 11))\n",
    "\n",
    "for i in k:\n",
    "    km = KMeans(n_clusters = i, random_state = 0)\n",
    "    km.fit(pcs_df)\n",
    "    inertia.append(km.inertia_)\n",
    "\n",
    "elbow_data = {\"k\": k, 'inertia': inertia}\n",
    "df_elbow = pd.DataFrame(elbow_data)\n",
    "df_elbow.hvplot.line(x='k', y='inertia', title='Elbow Curve', xticks=k)"
   ]
  },
  {
   "cell_type": "markdown",
   "metadata": {},
   "source": [
    "### There is a distinct elbowing event at k=2\n"
   ]
  },
  {
   "cell_type": "code",
   "execution_count": 16,
   "metadata": {},
   "outputs": [
    {
     "name": "stdout",
     "output_type": "stream",
     "text": [
      "[0 1 1 0 1 0 0 1 1 0 0 0 1 0 0 0 0 0 0 1 0 0 0 1 1 0 1 1 1 0 0 0 0 0 0 1 1\n",
      " 0 0 1 1 0 0 0 0 0 0 1 0 0 1 0 1 0 1 0 1 0 1 0 0 0 0 0 0 0 0 0 0]\n"
     ]
    }
   ],
   "source": [
    "# Initialize the k-means model\n",
    "model = KMeans(n_clusters=2, random_state = 5)\n",
    "\n",
    "# Fit the model\n",
    "model.fit(pcs_df)\n",
    "\n",
    "# Predict the clusters\n",
    "predictions = model.predict(pcs_df)\n",
    "print(predictions)"
   ]
  },
  {
   "cell_type": "markdown",
   "metadata": {},
   "source": [
    "## Create a new DF with the PCA Analysis Results as Columns"
   ]
  },
  {
   "cell_type": "code",
   "execution_count": 17,
   "metadata": {},
   "outputs": [],
   "source": [
    "# Concatenate the data with the Play_Injuries dataframe\n",
    "clustered_play_injuries = pd.concat([play_injuries, pcs_df], axis=1)"
   ]
  },
  {
   "cell_type": "code",
   "execution_count": 18,
   "metadata": {},
   "outputs": [],
   "source": [
    "# Add new column for the \"Class\", based on the predictions\n",
    "clustered_play_injuries['Class'] = predictions\n"
   ]
  },
  {
   "cell_type": "code",
   "execution_count": 19,
   "metadata": {},
   "outputs": [
    {
     "name": "stdout",
     "output_type": "stream",
     "text": [
      "(69, 17)\n"
     ]
    },
    {
     "data": {
      "text/html": [
       "<div>\n",
       "<style scoped>\n",
       "    .dataframe tbody tr th:only-of-type {\n",
       "        vertical-align: middle;\n",
       "    }\n",
       "\n",
       "    .dataframe tbody tr th {\n",
       "        vertical-align: top;\n",
       "    }\n",
       "\n",
       "    .dataframe thead th {\n",
       "        text-align: right;\n",
       "    }\n",
       "</style>\n",
       "<table border=\"1\" class=\"dataframe\">\n",
       "  <thead>\n",
       "    <tr style=\"text-align: right;\">\n",
       "      <th></th>\n",
       "      <th>PlayKey</th>\n",
       "      <th>PlayerDay</th>\n",
       "      <th>PlayerGame</th>\n",
       "      <th>FieldType</th>\n",
       "      <th>Temperature</th>\n",
       "      <th>PlayerGamePlay</th>\n",
       "      <th>Injury_Duration</th>\n",
       "      <th>StadiumType</th>\n",
       "      <th>Weather</th>\n",
       "      <th>PlayType</th>\n",
       "      <th>RosterPosition</th>\n",
       "      <th>Position</th>\n",
       "      <th>BodyPart</th>\n",
       "      <th>PC 1</th>\n",
       "      <th>PC 2</th>\n",
       "      <th>PC 3</th>\n",
       "      <th>Class</th>\n",
       "    </tr>\n",
       "  </thead>\n",
       "  <tbody>\n",
       "    <tr>\n",
       "      <th>0</th>\n",
       "      <td>31070-3-7</td>\n",
       "      <td>15</td>\n",
       "      <td>3</td>\n",
       "      <td>Natural</td>\n",
       "      <td>89</td>\n",
       "      <td>7</td>\n",
       "      <td>42</td>\n",
       "      <td>Outdoor</td>\n",
       "      <td>Clear</td>\n",
       "      <td>Rush</td>\n",
       "      <td>RB</td>\n",
       "      <td>RB</td>\n",
       "      <td>Knee</td>\n",
       "      <td>-138.389954</td>\n",
       "      <td>-5.105241</td>\n",
       "      <td>31.189757</td>\n",
       "      <td>0</td>\n",
       "    </tr>\n",
       "    <tr>\n",
       "      <th>1</th>\n",
       "      <td>33337-8-15</td>\n",
       "      <td>365</td>\n",
       "      <td>8</td>\n",
       "      <td>Natural</td>\n",
       "      <td>81</td>\n",
       "      <td>15</td>\n",
       "      <td>28</td>\n",
       "      <td>Outdoor</td>\n",
       "      <td>Cloudy</td>\n",
       "      <td>Pass</td>\n",
       "      <td>TE</td>\n",
       "      <td>TE</td>\n",
       "      <td>Foot</td>\n",
       "      <td>211.905243</td>\n",
       "      <td>-5.800358</td>\n",
       "      <td>21.937755</td>\n",
       "      <td>1</td>\n",
       "    </tr>\n",
       "    <tr>\n",
       "      <th>2</th>\n",
       "      <td>33474-19-7</td>\n",
       "      <td>393</td>\n",
       "      <td>19</td>\n",
       "      <td>Natural</td>\n",
       "      <td>79</td>\n",
       "      <td>7</td>\n",
       "      <td>28</td>\n",
       "      <td>Outdoor</td>\n",
       "      <td>Cloudy</td>\n",
       "      <td>Rush</td>\n",
       "      <td>S</td>\n",
       "      <td>FS</td>\n",
       "      <td>Knee</td>\n",
       "      <td>240.174546</td>\n",
       "      <td>-13.431445</td>\n",
       "      <td>24.593213</td>\n",
       "      <td>1</td>\n",
       "    </tr>\n",
       "    <tr>\n",
       "      <th>3</th>\n",
       "      <td>34347-5-9</td>\n",
       "      <td>39</td>\n",
       "      <td>5</td>\n",
       "      <td>Natural</td>\n",
       "      <td>48</td>\n",
       "      <td>9</td>\n",
       "      <td>7</td>\n",
       "      <td>Outdoor</td>\n",
       "      <td>Cloudy</td>\n",
       "      <td>Kickoff</td>\n",
       "      <td>WR</td>\n",
       "      <td>WR</td>\n",
       "      <td>Knee</td>\n",
       "      <td>-113.181297</td>\n",
       "      <td>-19.526732</td>\n",
       "      <td>-11.974173</td>\n",
       "      <td>0</td>\n",
       "    </tr>\n",
       "    <tr>\n",
       "      <th>4</th>\n",
       "      <td>35570-15-35</td>\n",
       "      <td>389</td>\n",
       "      <td>15</td>\n",
       "      <td>Natural</td>\n",
       "      <td>79</td>\n",
       "      <td>35</td>\n",
       "      <td>7</td>\n",
       "      <td>Outdoor</td>\n",
       "      <td>Clear</td>\n",
       "      <td>Pass</td>\n",
       "      <td>OL</td>\n",
       "      <td>T</td>\n",
       "      <td>Knee</td>\n",
       "      <td>236.764509</td>\n",
       "      <td>4.707655</td>\n",
       "      <td>-4.243791</td>\n",
       "      <td>1</td>\n",
       "    </tr>\n",
       "  </tbody>\n",
       "</table>\n",
       "</div>"
      ],
      "text/plain": [
       "       PlayKey  PlayerDay  PlayerGame FieldType  Temperature  PlayerGamePlay  \\\n",
       "0    31070-3-7         15           3   Natural           89               7   \n",
       "1   33337-8-15        365           8   Natural           81              15   \n",
       "2   33474-19-7        393          19   Natural           79               7   \n",
       "3    34347-5-9         39           5   Natural           48               9   \n",
       "4  35570-15-35        389          15   Natural           79              35   \n",
       "\n",
       "   Injury_Duration StadiumType Weather PlayType RosterPosition Position  \\\n",
       "0               42     Outdoor   Clear     Rush             RB       RB   \n",
       "1               28     Outdoor  Cloudy     Pass             TE       TE   \n",
       "2               28     Outdoor  Cloudy     Rush              S       FS   \n",
       "3                7     Outdoor  Cloudy  Kickoff             WR       WR   \n",
       "4                7     Outdoor   Clear     Pass             OL        T   \n",
       "\n",
       "  BodyPart        PC 1       PC 2       PC 3  Class  \n",
       "0     Knee -138.389954  -5.105241  31.189757      0  \n",
       "1     Foot  211.905243  -5.800358  21.937755      1  \n",
       "2     Knee  240.174546 -13.431445  24.593213      1  \n",
       "3     Knee -113.181297 -19.526732 -11.974173      0  \n",
       "4     Knee  236.764509   4.707655  -4.243791      1  "
      ]
     },
     "execution_count": 19,
     "metadata": {},
     "output_type": "execute_result"
    }
   ],
   "source": [
    "print(clustered_play_injuries.shape)\n",
    "clustered_play_injuries.head()\n"
   ]
  },
  {
   "cell_type": "markdown",
   "metadata": {},
   "source": [
    "## Cluster Visualization "
   ]
  },
  {
   "cell_type": "code",
   "execution_count": 20,
   "metadata": {},
   "outputs": [
    {
     "data": {
      "application/vnd.plotly.v1+json": {
       "config": {
        "plotlyServerURL": "https://plot.ly"
       },
       "data": [
        {
         "customdata": [
          [
           42,
           "RB",
           "Clear",
           "Rush",
           "Outdoor",
           "Knee",
           "RB",
           89
          ],
          [
           7,
           "WR",
           "Cloudy",
           "Kickoff",
           "Outdoor",
           "Knee",
           "WR",
           48
          ],
          [
           7,
           "FS",
           "Indoor",
           "Pass",
           "Indoor",
           "Ankle",
           "S",
           68
          ],
          [
           42,
           "SS",
           "Clear",
           "Pass",
           "Outdoor",
           "Ankle",
           "S",
           63
          ],
          [
           1,
           "WR",
           "Cloudy",
           "Pass",
           "Outdoor",
           "Ankle",
           "WR",
           61
          ],
          [
           7,
           "ILB",
           "Cloudy",
           "Punt",
           "Outdoor",
           "Ankle",
           "LB",
           65
          ],
          [
           42,
           "WR",
           "Cloudy",
           "Kickoff",
           "Outdoor",
           "Foot",
           "WR",
           76
          ],
          [
           42,
           "DE",
           "Clear",
           "Rush",
           "Open Dome",
           "Ankle",
           "DL",
           78
          ],
          [
           42,
           "SS",
           "Cloudy",
           "Punt",
           "Outdoor",
           "Knee",
           "S",
           47
          ],
          [
           42,
           "OLB",
           "Cloudy",
           "Punt",
           "Indoor",
           "Knee",
           "LB",
           84
          ],
          [
           7,
           "FS",
           "Cloudy",
           "Pass",
           "Outdoor",
           "Knee",
           "S",
           68
          ],
          [
           1,
           "OLB",
           "Indoor",
           "Kickoff",
           "Indoor",
           "Knee",
           "LB",
           70
          ],
          [
           42,
           "SS",
           "Clear",
           "Pass",
           "Outdoor",
           "Knee",
           "S",
           72
          ],
          [
           1,
           "SS",
           "Clear",
           "Pass",
           "Outdoor",
           "Knee",
           "S",
           89
          ],
          [
           7,
           "OLB",
           "Cloudy",
           "Rush",
           "Outdoor",
           "Ankle",
           "LB",
           42
          ],
          [
           7,
           "OLB",
           "Clear",
           "Rush",
           "Outdoor",
           "Ankle",
           "LB",
           70
          ],
          [
           1,
           "C",
           "Cloudy",
           "Pass",
           "Outdoor",
           "Ankle",
           "OL",
           75
          ],
          [
           42,
           "OLB",
           "Clear",
           "Kickoff",
           "Outdoor",
           "Knee",
           "LB",
           88
          ],
          [
           42,
           "OLB",
           "Clear",
           "Punt",
           "Outdoor",
           "Knee",
           "LB",
           33
          ],
          [
           42,
           "C",
           "Cloudy",
           "Pass",
           "Outdoor",
           "Foot",
           "OL",
           68
          ],
          [
           42,
           "WR",
           "Cloudy",
           "Kickoff",
           "Open Dome",
           "Ankle",
           "WR",
           89
          ],
          [
           1,
           "MLB",
           "Clear",
           "Rush",
           "Outdoor",
           "Ankle",
           "LB",
           89
          ],
          [
           42,
           "MLB",
           "Cloudy",
           "Pass",
           "Outdoor",
           "Ankle",
           "LB",
           70
          ],
          [
           42,
           "DE",
           "Clear",
           "Pass",
           "Outdoor",
           "Foot",
           "DL",
           38
          ],
          [
           1,
           "WR",
           "Rain",
           "Pass",
           "Outdoor",
           "Knee",
           "WR",
           52
          ],
          [
           42,
           "OLB",
           "Cloudy",
           "Pass",
           "Outdoor",
           "Ankle",
           "LB",
           46
          ],
          [
           42,
           "RB",
           "Clear",
           "Rush",
           "Outdoor",
           "Ankle",
           "RB",
           88
          ],
          [
           28,
           "MLB",
           "Cloudy",
           "Pass",
           "Outdoor",
           "Ankle",
           "LB",
           75
          ],
          [
           7,
           "WR",
           "Clear",
           "Pass",
           "Outdoor",
           "Ankle",
           "WR",
           44
          ],
          [
           7,
           "OLB",
           "Cloudy",
           "Rush",
           "Outdoor",
           "Knee",
           "LB",
           67
          ],
          [
           7,
           "DE",
           "Windy",
           "Kickoff",
           "Outdoor",
           "Knee",
           "DL",
           70
          ],
          [
           1,
           "FS",
           "Clear",
           "Punt",
           "Outdoor",
           "Ankle",
           "S",
           38
          ],
          [
           7,
           "WR",
           "Clear",
           "Pass",
           "Outdoor",
           "Ankle",
           "WR",
           68
          ],
          [
           42,
           "RB",
           "Clear",
           "Rush",
           "Open Dome",
           "Ankle",
           "RB",
           60
          ],
          [
           7,
           "OLB",
           "Cloudy",
           "Punt",
           "Open Dome",
           "Knee",
           "LB",
           76
          ],
          [
           7,
           "OLB",
           "Clear",
           "Punt",
           "Outdoor",
           "Knee",
           "LB",
           89
          ],
          [
           42,
           "SS",
           "Clear",
           "Pass",
           "Outdoor",
           "Ankle",
           "S",
           61
          ],
          [
           7,
           "MLB",
           "Clear",
           "Punt",
           "Outdoor",
           "Knee",
           "LB",
           38
          ],
          [
           42,
           "WR",
           "Cloudy",
           "Kickoff",
           "Closed Dome",
           "Knee",
           "WR",
           68
          ],
          [
           1,
           "LB",
           "Cloudy",
           "Punt",
           "Outdoor",
           "Ankle",
           "LB",
           80
          ],
          [
           7,
           "RB",
           "Cloudy",
           "Pass",
           "Outdoor",
           "Knee",
           "RB",
           55
          ],
          [
           28,
           "CB",
           "Cloudy",
           "Punt Not Returned",
           "Outdoor",
           "Foot",
           "CB",
           55
          ],
          [
           1,
           "WR",
           "Cloudy",
           "Pass",
           "Outdoor",
           "Knee",
           "WR",
           71
          ],
          [
           7,
           "CB",
           "Indoor",
           "Pass",
           "Closed Dome",
           "Knee",
           "CB",
           68
          ],
          [
           7,
           "CB",
           "Indoor",
           "Pass",
           "Closed Dome",
           "Ankle",
           "CB",
           68
          ],
          [
           7,
           "DB",
           "Clear",
           "Kickoff Not Returned",
           "Indoor",
           "Knee",
           "S",
           74
          ],
          [
           7,
           "CB",
           "Cloudy",
           "Punt Returned",
           "Outdoor",
           "Ankle",
           "CB",
           44
          ]
         ],
         "hovertemplate": "<b>%{hovertext}</b><br><br>Class=%{marker.color}<br>PC 1=%{x}<br>PC 2=%{y}<br>PC 3=%{z}<br>Injury_Duration=%{customdata[0]}<br>Position=%{customdata[1]}<br>Weather=%{customdata[2]}<br>PlayType=%{customdata[3]}<br>StadiumType=%{customdata[4]}<br>BodyPart=%{customdata[5]}<br>RosterPosition=%{customdata[6]}<br>Temperature=%{customdata[7]}<extra></extra>",
         "hovertext": [
          "Natural",
          "Natural",
          "Synthetic",
          "Synthetic",
          "Natural",
          "Synthetic",
          "Synthetic",
          "Synthetic",
          "Synthetic",
          "Synthetic",
          "Natural",
          "Synthetic",
          "Natural",
          "Natural",
          "Synthetic",
          "Natural",
          "Synthetic",
          "Natural",
          "Natural",
          "Natural",
          "Synthetic",
          "Natural",
          "Natural",
          "Natural",
          "Natural",
          "Synthetic",
          "Natural",
          "Synthetic",
          "Natural",
          "Natural",
          "Natural",
          "Natural",
          "Synthetic",
          "Synthetic",
          "Natural",
          "Natural",
          "Synthetic",
          "Natural",
          "Synthetic",
          "Natural",
          "Synthetic",
          "Synthetic",
          "Natural",
          "Synthetic",
          "Synthetic",
          "Synthetic",
          "Synthetic"
         ],
         "legendgroup": "0",
         "marker": {
          "color": [
           0,
           0,
           0,
           0,
           0,
           0,
           0,
           0,
           0,
           0,
           0,
           0,
           0,
           0,
           0,
           0,
           0,
           0,
           0,
           0,
           0,
           0,
           0,
           0,
           0,
           0,
           0,
           0,
           0,
           0,
           0,
           0,
           0,
           0,
           0,
           0,
           0,
           0,
           0,
           0,
           0,
           0,
           0,
           0,
           0,
           0,
           0
          ],
          "coloraxis": "coloraxis",
          "symbol": "circle"
         },
         "mode": "markers",
         "name": "0",
         "scene": "scene",
         "showlegend": true,
         "type": "scatter3d",
         "x": [
          -138.38995435350824,
          -113.18129662078398,
          -101.94028415048746,
          -151.17313756949963,
          -95.20291160438912,
          -151.60178618902938,
          -123.91843323832896,
          -145.34364369420223,
          -88.69457666930923,
          -123.94140674955447,
          -144.474020538484,
          -151.52416594216072,
          -151.51729369319455,
          -141.0311128705939,
          -88.97858537585724,
          -151.55891444562195,
          -109.38970663612805,
          -138.46277939009153,
          -140.59493908078105,
          -141.5193495630337,
          -120.45263001346858,
          -137.65543821895142,
          -109.07718970970018,
          -81.12190002905139,
          -110.05606939549172,
          -74.19608854151942,
          -138.14730353563445,
          -109.44425765796676,
          -62.735885650642985,
          -122.83333486662792,
          -109.41917445358638,
          -80.74203519787869,
          -97.93713914168465,
          -81.56706037664043,
          -102.28559554069825,
          -137.7213515000209,
          -130.43082050177696,
          -81.00676628525089,
          -145.02959125749396,
          -137.29889267735393,
          -123.20821668831063,
          -101.89257902317884,
          -130.3390360723996,
          -78.20096853654671,
          -78.20091025998141,
          -94.5843315388129,
          -73.9127896565861
         ],
         "y": [
          -5.105241469308602,
          -19.52673179218819,
          12.542136243631518,
          51.29415555930408,
          -21.742748990969147,
          -22.617341347243222,
          8.629261378825326,
          -11.46287277635132,
          -13.240148601040222,
          17.563229317589585,
          -13.161822691760632,
          -20.74640087439271,
          38.095844373901265,
          28.813406313126926,
          -20.09395124283732,
          -14.821854970890852,
          -15.949560500460192,
          -10.735466085935453,
          -10.346508551636415,
          32.167399142052325,
          52.195554490076645,
          -13.79338163881239,
          -11.350896662760709,
          12.875184489898169,
          -17.73428637462189,
          14.383823052097496,
          9.631972425960932,
          19.944962975704634,
          -9.883143378166334,
          21.81582516052828,
          -16.898607445156376,
          -14.354952358959915,
          10.67186636271596,
          6.250758733575223,
          -1.6700986623824203,
          -9.726425710422967,
          26.965782055901133,
          -23.252518433065177,
          -1.1455706785598478,
          0.31285531563542773,
          -12.433287249724234,
          31.33634142367952,
          -13.377952307175683,
          -9.80407447338487,
          -9.799359917345297,
          -24.993413183851004,
          -10.788402361598681
         ],
         "z": [
          31.189757318693506,
          -11.974172590170044,
          -18.18337901481838,
          -0.45630307737524844,
          -12.669695034011324,
          -5.802842508966283,
          21.579730674811735,
          30.024115021651482,
          21.48701683036867,
          20.639634534611066,
          -8.52946681038073,
          -11.054649927134175,
          7.851225412913863,
          -24.6709479031803,
          -13.333910922963705,
          -7.314782345046356,
          -10.617093673251905,
          33.131759191920835,
          14.756245953917757,
          9.109316547182917,
          8.302227615044691,
          -7.381439378661211,
          27.919916344302777,
          8.059044070217785,
          -17.514782257500972,
          10.201392312253748,
          24.88686539903814,
          2.598075813893716,
          -16.393017827643472,
          -22.65413547770553,
          -5.75683133907896,
          -22.93805659115119,
          -17.371801696184903,
          18.01883330815953,
          -9.784357516371072,
          -2.866585927450688,
          9.084433604721312,
          -13.168793338035153,
          22.54366846500357,
          -16.068199541230268,
          -12.702367055698659,
          -8.520145827823722,
          -13.372913636207475,
          -8.714305703834276,
          -8.724827202614417,
          -0.8522056962494021,
          -16.082635207345692
         ]
        },
        {
         "customdata": [
          [
           28,
           "TE",
           "Cloudy",
           "Pass",
           "Outdoor",
           "Foot",
           "TE",
           81
          ],
          [
           28,
           "FS",
           "Cloudy",
           "Rush",
           "Outdoor",
           "Knee",
           "S",
           79
          ],
          [
           7,
           "T",
           "Clear",
           "Pass",
           "Outdoor",
           "Knee",
           "OL",
           79
          ],
          [
           7,
           "CB",
           "Rain",
           "Pass",
           "Outdoor",
           "Knee",
           "CB",
           58
          ],
          [
           42,
           "ILB",
           "Clear",
           "Pass",
           "Indoor",
           "Knee",
           "LB",
           74
          ],
          [
           7,
           "WR",
           "Rain",
           "Punt Returned",
           "Outdoor",
           "Ankle",
           "WR",
           58
          ],
          [
           1,
           "OLB",
           "Clear",
           "Rush",
           "Outdoor",
           "Ankle",
           "LB",
           53
          ],
          [
           28,
           "OLB",
           "Cloudy",
           "Rush",
           "Outdoor",
           "Knee",
           "LB",
           46
          ],
          [
           42,
           "WR",
           "Rain",
           "Punt Returned",
           "Outdoor",
           "Knee",
           "WR",
           70
          ],
          [
           1,
           "C",
           "Cloudy",
           "Rush",
           "Closed Dome",
           "Ankle",
           "OL",
           57
          ],
          [
           28,
           "WR",
           "Cloudy",
           "Pass",
           "Open Dome",
           "Knee",
           "WR",
           78
          ],
          [
           28,
           "CB",
           "Clear",
           "Rush",
           "Open Dome",
           "Ankle",
           "CB",
           73
          ],
          [
           7,
           "DT",
           "Cloudy",
           "Rush",
           "Outdoor",
           "Knee",
           "DL",
           62
          ],
          [
           7,
           "DE",
           "Rain",
           "Pass",
           "Outdoor",
           "Knee",
           "DL",
           61
          ],
          [
           1,
           "WR",
           "Clear",
           "Pass",
           "Indoor",
           "Ankle",
           "WR",
           70
          ],
          [
           42,
           "DT",
           "Clear",
           "Rush",
           "Outdoor",
           "Knee",
           "DL",
           39
          ],
          [
           1,
           "WR",
           "Cloudy",
           "Rush",
           "Outdoor",
           "Ankle",
           "WR",
           81
          ],
          [
           7,
           "C",
           "Clear",
           "Rush",
           "Outdoor",
           "Ankle",
           "OL",
           79
          ],
          [
           7,
           "FS",
           "Clear",
           "Pass",
           "Outdoor",
           "Ankle",
           "S",
           45
          ],
          [
           1,
           "WR",
           "Rain",
           "Rush",
           "Outdoor",
           "Ankle",
           "WR",
           39
          ],
          [
           7,
           "DE",
           "Clear",
           "Rush",
           "Outdoor",
           "Ankle",
           "DL",
           75
          ],
          [
           7,
           "TE",
           "Cloudy",
           "Kickoff Returned",
           "Outdoor",
           "Knee",
           "TE",
           45
          ]
         ],
         "hovertemplate": "<b>%{hovertext}</b><br><br>Class=%{marker.color}<br>PC 1=%{x}<br>PC 2=%{y}<br>PC 3=%{z}<br>Injury_Duration=%{customdata[0]}<br>Position=%{customdata[1]}<br>Weather=%{customdata[2]}<br>PlayType=%{customdata[3]}<br>StadiumType=%{customdata[4]}<br>BodyPart=%{customdata[5]}<br>RosterPosition=%{customdata[6]}<br>Temperature=%{customdata[7]}<extra></extra>",
         "hovertext": [
          "Natural",
          "Natural",
          "Natural",
          "Natural",
          "Synthetic",
          "Natural",
          "Natural",
          "Synthetic",
          "Synthetic",
          "Synthetic",
          "Synthetic",
          "Synthetic",
          "Synthetic",
          "Natural",
          "Synthetic",
          "Synthetic",
          "Natural",
          "Natural",
          "Natural",
          "Synthetic",
          "Natural",
          "Synthetic"
         ],
         "legendgroup": "1",
         "marker": {
          "color": [
           1,
           1,
           1,
           1,
           1,
           1,
           1,
           1,
           1,
           1,
           1,
           1,
           1,
           1,
           1,
           1,
           1,
           1,
           1,
           1,
           1,
           1
          ],
          "coloraxis": "coloraxis",
          "symbol": "diamond"
         },
         "mode": "markers",
         "name": "1",
         "scene": "scene",
         "showlegend": true,
         "type": "scatter3d",
         "x": [
          211.90524250787715,
          240.17454633689414,
          236.76450914074852,
          213.41430305151303,
          269.0700496356726,
          319.17709898465034,
          269.60212802997194,
          254.43247436329378,
          243.31882213344312,
          289.9799466519594,
          225.97231229974008,
          234.28709365763348,
          212.42057430266135,
          213.0289469637121,
          293.3852097411104,
          275.73820520823233,
          174.23741128600082,
          220.68426227538026,
          312.0324563217201,
          310.32438030612315,
          181.08655826692276,
          240.89912323707318
         ],
         "y": [
          -5.800358285345785,
          -13.431444724465809,
          4.707654959195049,
          30.980810473407875,
          2.254330325109702,
          -16.75877198954792,
          26.173720816253525,
          26.55287186269851,
          15.05453599379917,
          -18.04388574897603,
          -17.16498768750195,
          50.054096497667445,
          -20.602652660391424,
          8.989543146757603,
          1.568213016377077,
          1.3934146032731305,
          -25.715509340411316,
          -8.111704665773031,
          23.045242691254195,
          -8.487767691192408,
          -24.044327264180048,
          -27.54636241120951
         ],
         "z": [
          21.937754889941733,
          24.593213427580974,
          -4.243790806118832,
          -22.237066288533242,
          31.72053554282514,
          -1.1953353437145493,
          -26.971138142196608,
          -2.318610271072417,
          24.673042771832982,
          -7.423767995489383,
          25.659441973389203,
          -3.2536098855760645,
          0.12664670388998986,
          -12.339473701116594,
          -11.3225062097659,
          20.51321131859398,
          1.4149485786556917,
          0.484807344439146,
          -21.799427294132258,
          -16.732309624612473,
          5.218046924656187,
          -2.413227304101748
         ]
        }
       ],
       "layout": {
        "coloraxis": {
         "colorbar": {
          "title": {
           "text": "Class"
          }
         },
         "colorscale": [
          [
           0,
           "#0d0887"
          ],
          [
           0.1111111111111111,
           "#46039f"
          ],
          [
           0.2222222222222222,
           "#7201a8"
          ],
          [
           0.3333333333333333,
           "#9c179e"
          ],
          [
           0.4444444444444444,
           "#bd3786"
          ],
          [
           0.5555555555555556,
           "#d8576b"
          ],
          [
           0.6666666666666666,
           "#ed7953"
          ],
          [
           0.7777777777777778,
           "#fb9f3a"
          ],
          [
           0.8888888888888888,
           "#fdca26"
          ],
          [
           1,
           "#f0f921"
          ]
         ]
        },
        "height": 1000,
        "legend": {
         "title": {
          "text": "Class"
         },
         "tracegroupgap": 0,
         "x": 0,
         "y": 1
        },
        "scene": {
         "domain": {
          "x": [
           0,
           1
          ],
          "y": [
           0,
           1
          ]
         },
         "xaxis": {
          "title": {
           "text": "PC 1"
          }
         },
         "yaxis": {
          "title": {
           "text": "PC 2"
          }
         },
         "zaxis": {
          "title": {
           "text": "PC 3"
          }
         }
        },
        "template": {
         "data": {
          "bar": [
           {
            "error_x": {
             "color": "#2a3f5f"
            },
            "error_y": {
             "color": "#2a3f5f"
            },
            "marker": {
             "line": {
              "color": "#E5ECF6",
              "width": 0.5
             },
             "pattern": {
              "fillmode": "overlay",
              "size": 10,
              "solidity": 0.2
             }
            },
            "type": "bar"
           }
          ],
          "barpolar": [
           {
            "marker": {
             "line": {
              "color": "#E5ECF6",
              "width": 0.5
             },
             "pattern": {
              "fillmode": "overlay",
              "size": 10,
              "solidity": 0.2
             }
            },
            "type": "barpolar"
           }
          ],
          "carpet": [
           {
            "aaxis": {
             "endlinecolor": "#2a3f5f",
             "gridcolor": "white",
             "linecolor": "white",
             "minorgridcolor": "white",
             "startlinecolor": "#2a3f5f"
            },
            "baxis": {
             "endlinecolor": "#2a3f5f",
             "gridcolor": "white",
             "linecolor": "white",
             "minorgridcolor": "white",
             "startlinecolor": "#2a3f5f"
            },
            "type": "carpet"
           }
          ],
          "choropleth": [
           {
            "colorbar": {
             "outlinewidth": 0,
             "ticks": ""
            },
            "type": "choropleth"
           }
          ],
          "contour": [
           {
            "colorbar": {
             "outlinewidth": 0,
             "ticks": ""
            },
            "colorscale": [
             [
              0,
              "#0d0887"
             ],
             [
              0.1111111111111111,
              "#46039f"
             ],
             [
              0.2222222222222222,
              "#7201a8"
             ],
             [
              0.3333333333333333,
              "#9c179e"
             ],
             [
              0.4444444444444444,
              "#bd3786"
             ],
             [
              0.5555555555555556,
              "#d8576b"
             ],
             [
              0.6666666666666666,
              "#ed7953"
             ],
             [
              0.7777777777777778,
              "#fb9f3a"
             ],
             [
              0.8888888888888888,
              "#fdca26"
             ],
             [
              1,
              "#f0f921"
             ]
            ],
            "type": "contour"
           }
          ],
          "contourcarpet": [
           {
            "colorbar": {
             "outlinewidth": 0,
             "ticks": ""
            },
            "type": "contourcarpet"
           }
          ],
          "heatmap": [
           {
            "colorbar": {
             "outlinewidth": 0,
             "ticks": ""
            },
            "colorscale": [
             [
              0,
              "#0d0887"
             ],
             [
              0.1111111111111111,
              "#46039f"
             ],
             [
              0.2222222222222222,
              "#7201a8"
             ],
             [
              0.3333333333333333,
              "#9c179e"
             ],
             [
              0.4444444444444444,
              "#bd3786"
             ],
             [
              0.5555555555555556,
              "#d8576b"
             ],
             [
              0.6666666666666666,
              "#ed7953"
             ],
             [
              0.7777777777777778,
              "#fb9f3a"
             ],
             [
              0.8888888888888888,
              "#fdca26"
             ],
             [
              1,
              "#f0f921"
             ]
            ],
            "type": "heatmap"
           }
          ],
          "heatmapgl": [
           {
            "colorbar": {
             "outlinewidth": 0,
             "ticks": ""
            },
            "colorscale": [
             [
              0,
              "#0d0887"
             ],
             [
              0.1111111111111111,
              "#46039f"
             ],
             [
              0.2222222222222222,
              "#7201a8"
             ],
             [
              0.3333333333333333,
              "#9c179e"
             ],
             [
              0.4444444444444444,
              "#bd3786"
             ],
             [
              0.5555555555555556,
              "#d8576b"
             ],
             [
              0.6666666666666666,
              "#ed7953"
             ],
             [
              0.7777777777777778,
              "#fb9f3a"
             ],
             [
              0.8888888888888888,
              "#fdca26"
             ],
             [
              1,
              "#f0f921"
             ]
            ],
            "type": "heatmapgl"
           }
          ],
          "histogram": [
           {
            "marker": {
             "pattern": {
              "fillmode": "overlay",
              "size": 10,
              "solidity": 0.2
             }
            },
            "type": "histogram"
           }
          ],
          "histogram2d": [
           {
            "colorbar": {
             "outlinewidth": 0,
             "ticks": ""
            },
            "colorscale": [
             [
              0,
              "#0d0887"
             ],
             [
              0.1111111111111111,
              "#46039f"
             ],
             [
              0.2222222222222222,
              "#7201a8"
             ],
             [
              0.3333333333333333,
              "#9c179e"
             ],
             [
              0.4444444444444444,
              "#bd3786"
             ],
             [
              0.5555555555555556,
              "#d8576b"
             ],
             [
              0.6666666666666666,
              "#ed7953"
             ],
             [
              0.7777777777777778,
              "#fb9f3a"
             ],
             [
              0.8888888888888888,
              "#fdca26"
             ],
             [
              1,
              "#f0f921"
             ]
            ],
            "type": "histogram2d"
           }
          ],
          "histogram2dcontour": [
           {
            "colorbar": {
             "outlinewidth": 0,
             "ticks": ""
            },
            "colorscale": [
             [
              0,
              "#0d0887"
             ],
             [
              0.1111111111111111,
              "#46039f"
             ],
             [
              0.2222222222222222,
              "#7201a8"
             ],
             [
              0.3333333333333333,
              "#9c179e"
             ],
             [
              0.4444444444444444,
              "#bd3786"
             ],
             [
              0.5555555555555556,
              "#d8576b"
             ],
             [
              0.6666666666666666,
              "#ed7953"
             ],
             [
              0.7777777777777778,
              "#fb9f3a"
             ],
             [
              0.8888888888888888,
              "#fdca26"
             ],
             [
              1,
              "#f0f921"
             ]
            ],
            "type": "histogram2dcontour"
           }
          ],
          "mesh3d": [
           {
            "colorbar": {
             "outlinewidth": 0,
             "ticks": ""
            },
            "type": "mesh3d"
           }
          ],
          "parcoords": [
           {
            "line": {
             "colorbar": {
              "outlinewidth": 0,
              "ticks": ""
             }
            },
            "type": "parcoords"
           }
          ],
          "pie": [
           {
            "automargin": true,
            "type": "pie"
           }
          ],
          "scatter": [
           {
            "marker": {
             "colorbar": {
              "outlinewidth": 0,
              "ticks": ""
             }
            },
            "type": "scatter"
           }
          ],
          "scatter3d": [
           {
            "line": {
             "colorbar": {
              "outlinewidth": 0,
              "ticks": ""
             }
            },
            "marker": {
             "colorbar": {
              "outlinewidth": 0,
              "ticks": ""
             }
            },
            "type": "scatter3d"
           }
          ],
          "scattercarpet": [
           {
            "marker": {
             "colorbar": {
              "outlinewidth": 0,
              "ticks": ""
             }
            },
            "type": "scattercarpet"
           }
          ],
          "scattergeo": [
           {
            "marker": {
             "colorbar": {
              "outlinewidth": 0,
              "ticks": ""
             }
            },
            "type": "scattergeo"
           }
          ],
          "scattergl": [
           {
            "marker": {
             "colorbar": {
              "outlinewidth": 0,
              "ticks": ""
             }
            },
            "type": "scattergl"
           }
          ],
          "scattermapbox": [
           {
            "marker": {
             "colorbar": {
              "outlinewidth": 0,
              "ticks": ""
             }
            },
            "type": "scattermapbox"
           }
          ],
          "scatterpolar": [
           {
            "marker": {
             "colorbar": {
              "outlinewidth": 0,
              "ticks": ""
             }
            },
            "type": "scatterpolar"
           }
          ],
          "scatterpolargl": [
           {
            "marker": {
             "colorbar": {
              "outlinewidth": 0,
              "ticks": ""
             }
            },
            "type": "scatterpolargl"
           }
          ],
          "scatterternary": [
           {
            "marker": {
             "colorbar": {
              "outlinewidth": 0,
              "ticks": ""
             }
            },
            "type": "scatterternary"
           }
          ],
          "surface": [
           {
            "colorbar": {
             "outlinewidth": 0,
             "ticks": ""
            },
            "colorscale": [
             [
              0,
              "#0d0887"
             ],
             [
              0.1111111111111111,
              "#46039f"
             ],
             [
              0.2222222222222222,
              "#7201a8"
             ],
             [
              0.3333333333333333,
              "#9c179e"
             ],
             [
              0.4444444444444444,
              "#bd3786"
             ],
             [
              0.5555555555555556,
              "#d8576b"
             ],
             [
              0.6666666666666666,
              "#ed7953"
             ],
             [
              0.7777777777777778,
              "#fb9f3a"
             ],
             [
              0.8888888888888888,
              "#fdca26"
             ],
             [
              1,
              "#f0f921"
             ]
            ],
            "type": "surface"
           }
          ],
          "table": [
           {
            "cells": {
             "fill": {
              "color": "#EBF0F8"
             },
             "line": {
              "color": "white"
             }
            },
            "header": {
             "fill": {
              "color": "#C8D4E3"
             },
             "line": {
              "color": "white"
             }
            },
            "type": "table"
           }
          ]
         },
         "layout": {
          "annotationdefaults": {
           "arrowcolor": "#2a3f5f",
           "arrowhead": 0,
           "arrowwidth": 1
          },
          "autotypenumbers": "strict",
          "coloraxis": {
           "colorbar": {
            "outlinewidth": 0,
            "ticks": ""
           }
          },
          "colorscale": {
           "diverging": [
            [
             0,
             "#8e0152"
            ],
            [
             0.1,
             "#c51b7d"
            ],
            [
             0.2,
             "#de77ae"
            ],
            [
             0.3,
             "#f1b6da"
            ],
            [
             0.4,
             "#fde0ef"
            ],
            [
             0.5,
             "#f7f7f7"
            ],
            [
             0.6,
             "#e6f5d0"
            ],
            [
             0.7,
             "#b8e186"
            ],
            [
             0.8,
             "#7fbc41"
            ],
            [
             0.9,
             "#4d9221"
            ],
            [
             1,
             "#276419"
            ]
           ],
           "sequential": [
            [
             0,
             "#0d0887"
            ],
            [
             0.1111111111111111,
             "#46039f"
            ],
            [
             0.2222222222222222,
             "#7201a8"
            ],
            [
             0.3333333333333333,
             "#9c179e"
            ],
            [
             0.4444444444444444,
             "#bd3786"
            ],
            [
             0.5555555555555556,
             "#d8576b"
            ],
            [
             0.6666666666666666,
             "#ed7953"
            ],
            [
             0.7777777777777778,
             "#fb9f3a"
            ],
            [
             0.8888888888888888,
             "#fdca26"
            ],
            [
             1,
             "#f0f921"
            ]
           ],
           "sequentialminus": [
            [
             0,
             "#0d0887"
            ],
            [
             0.1111111111111111,
             "#46039f"
            ],
            [
             0.2222222222222222,
             "#7201a8"
            ],
            [
             0.3333333333333333,
             "#9c179e"
            ],
            [
             0.4444444444444444,
             "#bd3786"
            ],
            [
             0.5555555555555556,
             "#d8576b"
            ],
            [
             0.6666666666666666,
             "#ed7953"
            ],
            [
             0.7777777777777778,
             "#fb9f3a"
            ],
            [
             0.8888888888888888,
             "#fdca26"
            ],
            [
             1,
             "#f0f921"
            ]
           ]
          },
          "colorway": [
           "#636efa",
           "#EF553B",
           "#00cc96",
           "#ab63fa",
           "#FFA15A",
           "#19d3f3",
           "#FF6692",
           "#B6E880",
           "#FF97FF",
           "#FECB52"
          ],
          "font": {
           "color": "#2a3f5f"
          },
          "geo": {
           "bgcolor": "white",
           "lakecolor": "white",
           "landcolor": "#E5ECF6",
           "showlakes": true,
           "showland": true,
           "subunitcolor": "white"
          },
          "hoverlabel": {
           "align": "left"
          },
          "hovermode": "closest",
          "mapbox": {
           "style": "light"
          },
          "paper_bgcolor": "white",
          "plot_bgcolor": "#E5ECF6",
          "polar": {
           "angularaxis": {
            "gridcolor": "white",
            "linecolor": "white",
            "ticks": ""
           },
           "bgcolor": "#E5ECF6",
           "radialaxis": {
            "gridcolor": "white",
            "linecolor": "white",
            "ticks": ""
           }
          },
          "scene": {
           "xaxis": {
            "backgroundcolor": "#E5ECF6",
            "gridcolor": "white",
            "gridwidth": 2,
            "linecolor": "white",
            "showbackground": true,
            "ticks": "",
            "zerolinecolor": "white"
           },
           "yaxis": {
            "backgroundcolor": "#E5ECF6",
            "gridcolor": "white",
            "gridwidth": 2,
            "linecolor": "white",
            "showbackground": true,
            "ticks": "",
            "zerolinecolor": "white"
           },
           "zaxis": {
            "backgroundcolor": "#E5ECF6",
            "gridcolor": "white",
            "gridwidth": 2,
            "linecolor": "white",
            "showbackground": true,
            "ticks": "",
            "zerolinecolor": "white"
           }
          },
          "shapedefaults": {
           "line": {
            "color": "#2a3f5f"
           }
          },
          "ternary": {
           "aaxis": {
            "gridcolor": "white",
            "linecolor": "white",
            "ticks": ""
           },
           "baxis": {
            "gridcolor": "white",
            "linecolor": "white",
            "ticks": ""
           },
           "bgcolor": "#E5ECF6",
           "caxis": {
            "gridcolor": "white",
            "linecolor": "white",
            "ticks": ""
           }
          },
          "title": {
           "x": 0.05
          },
          "xaxis": {
           "automargin": true,
           "gridcolor": "white",
           "linecolor": "white",
           "ticks": "",
           "title": {
            "standoff": 15
           },
           "zerolinecolor": "white",
           "zerolinewidth": 2
          },
          "yaxis": {
           "automargin": true,
           "gridcolor": "white",
           "linecolor": "white",
           "ticks": "",
           "title": {
            "standoff": 15
           },
           "zerolinecolor": "white",
           "zerolinewidth": 2
          }
         }
        },
        "title": {
         "text": "3D Scatter Using PCA Parameters and K-Means Clustering On NFL Injury data"
        },
        "width": 1200
       }
      }
     },
     "metadata": {},
     "output_type": "display_data"
    }
   ],
   "source": [
    "fig = px.scatter_3d(\n",
    "    clustered_play_injuries,\n",
    "    x = \"PC 1\", \n",
    "    y = \"PC 2\", \n",
    "    z = \"PC 3\", \n",
    "    color='Class', \n",
    "    symbol='Class', \n",
    "    width=1200,\n",
    "    height=1000, \n",
    "    title=\"3D Scatter Using PCA Parameters and K-Means Clustering On NFL Injury data\", \n",
    "    hover_name = \"FieldType\", \n",
    "    hover_data=[clustered_play_injuries.Injury_Duration, \n",
    "        clustered_play_injuries.Position,\n",
    "        clustered_play_injuries.Weather,\n",
    "        clustered_play_injuries.PlayType,\n",
    "        clustered_play_injuries.StadiumType,\n",
    "        clustered_play_injuries.BodyPart,\n",
    "        clustered_play_injuries.RosterPosition,\n",
    "        clustered_play_injuries.Temperature]\n",
    ")\n",
    "\n",
    "fig.update_layout(legend=dict(x=0, y=1))\n",
    "fig.show()"
   ]
  },
  {
   "cell_type": "markdown",
   "metadata": {},
   "source": [
    "## Analyze the data by class"
   ]
  },
  {
   "cell_type": "code",
   "execution_count": 21,
   "metadata": {},
   "outputs": [],
   "source": [
    "injury_subset_0 = clustered_play_injuries[clustered_play_injuries.Class == 0]\n",
    "injury_subset_1 = clustered_play_injuries[clustered_play_injuries.Class == 1]"
   ]
  },
  {
   "cell_type": "code",
   "execution_count": 23,
   "metadata": {},
   "outputs": [
    {
     "data": {
      "text/html": [
       "<div>\n",
       "<style scoped>\n",
       "    .dataframe tbody tr th:only-of-type {\n",
       "        vertical-align: middle;\n",
       "    }\n",
       "\n",
       "    .dataframe tbody tr th {\n",
       "        vertical-align: top;\n",
       "    }\n",
       "\n",
       "    .dataframe thead th {\n",
       "        text-align: right;\n",
       "    }\n",
       "</style>\n",
       "<table border=\"1\" class=\"dataframe\">\n",
       "  <thead>\n",
       "    <tr style=\"text-align: right;\">\n",
       "      <th></th>\n",
       "      <th>PlayKey</th>\n",
       "      <th>PlayerDay</th>\n",
       "      <th>PlayerGame</th>\n",
       "      <th>FieldType</th>\n",
       "      <th>Temperature</th>\n",
       "      <th>PlayerGamePlay</th>\n",
       "      <th>Injury_Duration</th>\n",
       "      <th>StadiumType</th>\n",
       "      <th>Weather</th>\n",
       "      <th>PlayType</th>\n",
       "      <th>RosterPosition</th>\n",
       "      <th>Position</th>\n",
       "      <th>BodyPart</th>\n",
       "      <th>PC 1</th>\n",
       "      <th>PC 2</th>\n",
       "      <th>PC 3</th>\n",
       "      <th>Class</th>\n",
       "    </tr>\n",
       "  </thead>\n",
       "  <tbody>\n",
       "    <tr>\n",
       "      <th>0</th>\n",
       "      <td>31070-3-7</td>\n",
       "      <td>15</td>\n",
       "      <td>3</td>\n",
       "      <td>Natural</td>\n",
       "      <td>89</td>\n",
       "      <td>7</td>\n",
       "      <td>42</td>\n",
       "      <td>Outdoor</td>\n",
       "      <td>Clear</td>\n",
       "      <td>Rush</td>\n",
       "      <td>RB</td>\n",
       "      <td>RB</td>\n",
       "      <td>Knee</td>\n",
       "      <td>-138.389954</td>\n",
       "      <td>-5.105241</td>\n",
       "      <td>31.189757</td>\n",
       "      <td>0</td>\n",
       "    </tr>\n",
       "    <tr>\n",
       "      <th>3</th>\n",
       "      <td>34347-5-9</td>\n",
       "      <td>39</td>\n",
       "      <td>5</td>\n",
       "      <td>Natural</td>\n",
       "      <td>48</td>\n",
       "      <td>9</td>\n",
       "      <td>7</td>\n",
       "      <td>Outdoor</td>\n",
       "      <td>Cloudy</td>\n",
       "      <td>Kickoff</td>\n",
       "      <td>WR</td>\n",
       "      <td>WR</td>\n",
       "      <td>Knee</td>\n",
       "      <td>-113.181297</td>\n",
       "      <td>-19.526732</td>\n",
       "      <td>-11.974173</td>\n",
       "      <td>0</td>\n",
       "    </tr>\n",
       "    <tr>\n",
       "      <th>5</th>\n",
       "      <td>35611-7-42</td>\n",
       "      <td>50</td>\n",
       "      <td>7</td>\n",
       "      <td>Synthetic</td>\n",
       "      <td>68</td>\n",
       "      <td>42</td>\n",
       "      <td>7</td>\n",
       "      <td>Indoor</td>\n",
       "      <td>Indoor</td>\n",
       "      <td>Pass</td>\n",
       "      <td>S</td>\n",
       "      <td>FS</td>\n",
       "      <td>Ankle</td>\n",
       "      <td>-101.940284</td>\n",
       "      <td>12.542136</td>\n",
       "      <td>-18.183379</td>\n",
       "      <td>0</td>\n",
       "    </tr>\n",
       "    <tr>\n",
       "      <th>6</th>\n",
       "      <td>36557-1-70</td>\n",
       "      <td>1</td>\n",
       "      <td>1</td>\n",
       "      <td>Synthetic</td>\n",
       "      <td>63</td>\n",
       "      <td>70</td>\n",
       "      <td>42</td>\n",
       "      <td>Outdoor</td>\n",
       "      <td>Clear</td>\n",
       "      <td>Pass</td>\n",
       "      <td>S</td>\n",
       "      <td>SS</td>\n",
       "      <td>Ankle</td>\n",
       "      <td>-151.173138</td>\n",
       "      <td>51.294156</td>\n",
       "      <td>-0.456303</td>\n",
       "      <td>0</td>\n",
       "    </tr>\n",
       "    <tr>\n",
       "      <th>9</th>\n",
       "      <td>38192-8-8</td>\n",
       "      <td>57</td>\n",
       "      <td>8</td>\n",
       "      <td>Natural</td>\n",
       "      <td>61</td>\n",
       "      <td>8</td>\n",
       "      <td>1</td>\n",
       "      <td>Outdoor</td>\n",
       "      <td>Cloudy</td>\n",
       "      <td>Pass</td>\n",
       "      <td>WR</td>\n",
       "      <td>WR</td>\n",
       "      <td>Ankle</td>\n",
       "      <td>-95.202912</td>\n",
       "      <td>-21.742749</td>\n",
       "      <td>-12.669695</td>\n",
       "      <td>0</td>\n",
       "    </tr>\n",
       "    <tr>\n",
       "      <th>10</th>\n",
       "      <td>38228-1-4</td>\n",
       "      <td>1</td>\n",
       "      <td>1</td>\n",
       "      <td>Synthetic</td>\n",
       "      <td>65</td>\n",
       "      <td>4</td>\n",
       "      <td>7</td>\n",
       "      <td>Outdoor</td>\n",
       "      <td>Cloudy</td>\n",
       "      <td>Punt</td>\n",
       "      <td>LB</td>\n",
       "      <td>ILB</td>\n",
       "      <td>Ankle</td>\n",
       "      <td>-151.601786</td>\n",
       "      <td>-22.617341</td>\n",
       "      <td>-5.802843</td>\n",
       "      <td>0</td>\n",
       "    </tr>\n",
       "    <tr>\n",
       "      <th>11</th>\n",
       "      <td>38364-5-23</td>\n",
       "      <td>29</td>\n",
       "      <td>5</td>\n",
       "      <td>Synthetic</td>\n",
       "      <td>76</td>\n",
       "      <td>23</td>\n",
       "      <td>42</td>\n",
       "      <td>Outdoor</td>\n",
       "      <td>Cloudy</td>\n",
       "      <td>Kickoff</td>\n",
       "      <td>WR</td>\n",
       "      <td>WR</td>\n",
       "      <td>Foot</td>\n",
       "      <td>-123.918433</td>\n",
       "      <td>8.629261</td>\n",
       "      <td>21.579731</td>\n",
       "      <td>0</td>\n",
       "    </tr>\n",
       "    <tr>\n",
       "      <th>13</th>\n",
       "      <td>39678-2-1</td>\n",
       "      <td>8</td>\n",
       "      <td>2</td>\n",
       "      <td>Synthetic</td>\n",
       "      <td>78</td>\n",
       "      <td>1</td>\n",
       "      <td>42</td>\n",
       "      <td>Open Dome</td>\n",
       "      <td>Clear</td>\n",
       "      <td>Rush</td>\n",
       "      <td>DL</td>\n",
       "      <td>DE</td>\n",
       "      <td>Ankle</td>\n",
       "      <td>-145.343644</td>\n",
       "      <td>-11.462873</td>\n",
       "      <td>30.024115</td>\n",
       "      <td>0</td>\n",
       "    </tr>\n",
       "    <tr>\n",
       "      <th>14</th>\n",
       "      <td>39850-9-2</td>\n",
       "      <td>64</td>\n",
       "      <td>9</td>\n",
       "      <td>Synthetic</td>\n",
       "      <td>47</td>\n",
       "      <td>2</td>\n",
       "      <td>42</td>\n",
       "      <td>Outdoor</td>\n",
       "      <td>Cloudy</td>\n",
       "      <td>Punt</td>\n",
       "      <td>S</td>\n",
       "      <td>SS</td>\n",
       "      <td>Knee</td>\n",
       "      <td>-88.694577</td>\n",
       "      <td>-13.240149</td>\n",
       "      <td>21.487017</td>\n",
       "      <td>0</td>\n",
       "    </tr>\n",
       "    <tr>\n",
       "      <th>15</th>\n",
       "      <td>39873-4-32</td>\n",
       "      <td>29</td>\n",
       "      <td>4</td>\n",
       "      <td>Synthetic</td>\n",
       "      <td>84</td>\n",
       "      <td>32</td>\n",
       "      <td>42</td>\n",
       "      <td>Indoor</td>\n",
       "      <td>Cloudy</td>\n",
       "      <td>Punt</td>\n",
       "      <td>LB</td>\n",
       "      <td>OLB</td>\n",
       "      <td>Knee</td>\n",
       "      <td>-123.941407</td>\n",
       "      <td>17.563229</td>\n",
       "      <td>20.639635</td>\n",
       "      <td>0</td>\n",
       "    </tr>\n",
       "    <tr>\n",
       "      <th>16</th>\n",
       "      <td>39956-2-14</td>\n",
       "      <td>8</td>\n",
       "      <td>2</td>\n",
       "      <td>Natural</td>\n",
       "      <td>68</td>\n",
       "      <td>14</td>\n",
       "      <td>7</td>\n",
       "      <td>Outdoor</td>\n",
       "      <td>Cloudy</td>\n",
       "      <td>Pass</td>\n",
       "      <td>S</td>\n",
       "      <td>FS</td>\n",
       "      <td>Knee</td>\n",
       "      <td>-144.474021</td>\n",
       "      <td>-13.161823</td>\n",
       "      <td>-8.529467</td>\n",
       "      <td>0</td>\n",
       "    </tr>\n",
       "    <tr>\n",
       "      <th>17</th>\n",
       "      <td>40474-1-8</td>\n",
       "      <td>1</td>\n",
       "      <td>1</td>\n",
       "      <td>Synthetic</td>\n",
       "      <td>70</td>\n",
       "      <td>8</td>\n",
       "      <td>1</td>\n",
       "      <td>Indoor</td>\n",
       "      <td>Indoor</td>\n",
       "      <td>Kickoff</td>\n",
       "      <td>LB</td>\n",
       "      <td>OLB</td>\n",
       "      <td>Knee</td>\n",
       "      <td>-151.524166</td>\n",
       "      <td>-20.746401</td>\n",
       "      <td>-11.054650</td>\n",
       "      <td>0</td>\n",
       "    </tr>\n",
       "    <tr>\n",
       "      <th>18</th>\n",
       "      <td>41094-1-55</td>\n",
       "      <td>1</td>\n",
       "      <td>1</td>\n",
       "      <td>Natural</td>\n",
       "      <td>72</td>\n",
       "      <td>55</td>\n",
       "      <td>42</td>\n",
       "      <td>Outdoor</td>\n",
       "      <td>Clear</td>\n",
       "      <td>Pass</td>\n",
       "      <td>S</td>\n",
       "      <td>SS</td>\n",
       "      <td>Knee</td>\n",
       "      <td>-151.517294</td>\n",
       "      <td>38.095844</td>\n",
       "      <td>7.851225</td>\n",
       "      <td>0</td>\n",
       "    </tr>\n",
       "    <tr>\n",
       "      <th>20</th>\n",
       "      <td>41145-2-60</td>\n",
       "      <td>11</td>\n",
       "      <td>2</td>\n",
       "      <td>Natural</td>\n",
       "      <td>89</td>\n",
       "      <td>60</td>\n",
       "      <td>1</td>\n",
       "      <td>Outdoor</td>\n",
       "      <td>Clear</td>\n",
       "      <td>Pass</td>\n",
       "      <td>S</td>\n",
       "      <td>SS</td>\n",
       "      <td>Knee</td>\n",
       "      <td>-141.031113</td>\n",
       "      <td>28.813406</td>\n",
       "      <td>-24.670948</td>\n",
       "      <td>0</td>\n",
       "    </tr>\n",
       "    <tr>\n",
       "      <th>21</th>\n",
       "      <td>41209-9-9</td>\n",
       "      <td>63</td>\n",
       "      <td>9</td>\n",
       "      <td>Synthetic</td>\n",
       "      <td>42</td>\n",
       "      <td>9</td>\n",
       "      <td>7</td>\n",
       "      <td>Outdoor</td>\n",
       "      <td>Cloudy</td>\n",
       "      <td>Rush</td>\n",
       "      <td>LB</td>\n",
       "      <td>OLB</td>\n",
       "      <td>Ankle</td>\n",
       "      <td>-88.978585</td>\n",
       "      <td>-20.093951</td>\n",
       "      <td>-13.333911</td>\n",
       "      <td>0</td>\n",
       "    </tr>\n",
       "    <tr>\n",
       "      <th>22</th>\n",
       "      <td>41943-1-12</td>\n",
       "      <td>1</td>\n",
       "      <td>1</td>\n",
       "      <td>Natural</td>\n",
       "      <td>70</td>\n",
       "      <td>12</td>\n",
       "      <td>7</td>\n",
       "      <td>Outdoor</td>\n",
       "      <td>Clear</td>\n",
       "      <td>Rush</td>\n",
       "      <td>LB</td>\n",
       "      <td>OLB</td>\n",
       "      <td>Ankle</td>\n",
       "      <td>-151.558914</td>\n",
       "      <td>-14.821855</td>\n",
       "      <td>-7.314782</td>\n",
       "      <td>0</td>\n",
       "    </tr>\n",
       "    <tr>\n",
       "      <th>25</th>\n",
       "      <td>42406-6-13</td>\n",
       "      <td>43</td>\n",
       "      <td>6</td>\n",
       "      <td>Synthetic</td>\n",
       "      <td>75</td>\n",
       "      <td>13</td>\n",
       "      <td>1</td>\n",
       "      <td>Outdoor</td>\n",
       "      <td>Cloudy</td>\n",
       "      <td>Pass</td>\n",
       "      <td>OL</td>\n",
       "      <td>C</td>\n",
       "      <td>Ankle</td>\n",
       "      <td>-109.389707</td>\n",
       "      <td>-15.949561</td>\n",
       "      <td>-10.617094</td>\n",
       "      <td>0</td>\n",
       "    </tr>\n",
       "    <tr>\n",
       "      <th>29</th>\n",
       "      <td>42600-3-1</td>\n",
       "      <td>15</td>\n",
       "      <td>3</td>\n",
       "      <td>Natural</td>\n",
       "      <td>88</td>\n",
       "      <td>1</td>\n",
       "      <td>42</td>\n",
       "      <td>Outdoor</td>\n",
       "      <td>Clear</td>\n",
       "      <td>Kickoff</td>\n",
       "      <td>LB</td>\n",
       "      <td>OLB</td>\n",
       "      <td>Knee</td>\n",
       "      <td>-138.462779</td>\n",
       "      <td>-10.735466</td>\n",
       "      <td>33.131759</td>\n",
       "      <td>0</td>\n",
       "    </tr>\n",
       "    <tr>\n",
       "      <th>30</th>\n",
       "      <td>42637-3-6</td>\n",
       "      <td>12</td>\n",
       "      <td>3</td>\n",
       "      <td>Natural</td>\n",
       "      <td>33</td>\n",
       "      <td>6</td>\n",
       "      <td>42</td>\n",
       "      <td>Outdoor</td>\n",
       "      <td>Clear</td>\n",
       "      <td>Punt</td>\n",
       "      <td>LB</td>\n",
       "      <td>OLB</td>\n",
       "      <td>Knee</td>\n",
       "      <td>-140.594939</td>\n",
       "      <td>-10.346509</td>\n",
       "      <td>14.756246</td>\n",
       "      <td>0</td>\n",
       "    </tr>\n",
       "    <tr>\n",
       "      <th>31</th>\n",
       "      <td>43505-2-49</td>\n",
       "      <td>11</td>\n",
       "      <td>2</td>\n",
       "      <td>Natural</td>\n",
       "      <td>68</td>\n",
       "      <td>49</td>\n",
       "      <td>42</td>\n",
       "      <td>Outdoor</td>\n",
       "      <td>Cloudy</td>\n",
       "      <td>Pass</td>\n",
       "      <td>OL</td>\n",
       "      <td>C</td>\n",
       "      <td>Foot</td>\n",
       "      <td>-141.519350</td>\n",
       "      <td>32.167399</td>\n",
       "      <td>9.109317</td>\n",
       "      <td>0</td>\n",
       "    </tr>\n",
       "    <tr>\n",
       "      <th>32</th>\n",
       "      <td>43532-5-69</td>\n",
       "      <td>32</td>\n",
       "      <td>5</td>\n",
       "      <td>Synthetic</td>\n",
       "      <td>89</td>\n",
       "      <td>69</td>\n",
       "      <td>42</td>\n",
       "      <td>Open Dome</td>\n",
       "      <td>Cloudy</td>\n",
       "      <td>Kickoff</td>\n",
       "      <td>WR</td>\n",
       "      <td>WR</td>\n",
       "      <td>Ankle</td>\n",
       "      <td>-120.452630</td>\n",
       "      <td>52.195554</td>\n",
       "      <td>8.302228</td>\n",
       "      <td>0</td>\n",
       "    </tr>\n",
       "    <tr>\n",
       "      <th>33</th>\n",
       "      <td>43540-3-14</td>\n",
       "      <td>15</td>\n",
       "      <td>3</td>\n",
       "      <td>Natural</td>\n",
       "      <td>89</td>\n",
       "      <td>14</td>\n",
       "      <td>1</td>\n",
       "      <td>Outdoor</td>\n",
       "      <td>Clear</td>\n",
       "      <td>Rush</td>\n",
       "      <td>LB</td>\n",
       "      <td>MLB</td>\n",
       "      <td>Ankle</td>\n",
       "      <td>-137.655438</td>\n",
       "      <td>-13.793382</td>\n",
       "      <td>-7.381439</td>\n",
       "      <td>0</td>\n",
       "    </tr>\n",
       "    <tr>\n",
       "      <th>34</th>\n",
       "      <td>43540-7-2</td>\n",
       "      <td>44</td>\n",
       "      <td>7</td>\n",
       "      <td>Natural</td>\n",
       "      <td>70</td>\n",
       "      <td>2</td>\n",
       "      <td>42</td>\n",
       "      <td>Outdoor</td>\n",
       "      <td>Cloudy</td>\n",
       "      <td>Pass</td>\n",
       "      <td>LB</td>\n",
       "      <td>MLB</td>\n",
       "      <td>Ankle</td>\n",
       "      <td>-109.077190</td>\n",
       "      <td>-11.350897</td>\n",
       "      <td>27.919916</td>\n",
       "      <td>0</td>\n",
       "    </tr>\n",
       "    <tr>\n",
       "      <th>37</th>\n",
       "      <td>44434-10-31</td>\n",
       "      <td>71</td>\n",
       "      <td>10</td>\n",
       "      <td>Natural</td>\n",
       "      <td>38</td>\n",
       "      <td>31</td>\n",
       "      <td>42</td>\n",
       "      <td>Outdoor</td>\n",
       "      <td>Clear</td>\n",
       "      <td>Pass</td>\n",
       "      <td>DL</td>\n",
       "      <td>DE</td>\n",
       "      <td>Foot</td>\n",
       "      <td>-81.121900</td>\n",
       "      <td>12.875184</td>\n",
       "      <td>8.059044</td>\n",
       "      <td>0</td>\n",
       "    </tr>\n",
       "    <tr>\n",
       "      <th>38</th>\n",
       "      <td>44449-6-13</td>\n",
       "      <td>42</td>\n",
       "      <td>6</td>\n",
       "      <td>Natural</td>\n",
       "      <td>52</td>\n",
       "      <td>13</td>\n",
       "      <td>1</td>\n",
       "      <td>Outdoor</td>\n",
       "      <td>Rain</td>\n",
       "      <td>Pass</td>\n",
       "      <td>WR</td>\n",
       "      <td>WR</td>\n",
       "      <td>Knee</td>\n",
       "      <td>-110.056069</td>\n",
       "      <td>-17.734286</td>\n",
       "      <td>-17.514782</td>\n",
       "      <td>0</td>\n",
       "    </tr>\n",
       "    <tr>\n",
       "      <th>41</th>\n",
       "      <td>44489-11-32</td>\n",
       "      <td>78</td>\n",
       "      <td>11</td>\n",
       "      <td>Synthetic</td>\n",
       "      <td>46</td>\n",
       "      <td>32</td>\n",
       "      <td>42</td>\n",
       "      <td>Outdoor</td>\n",
       "      <td>Cloudy</td>\n",
       "      <td>Pass</td>\n",
       "      <td>LB</td>\n",
       "      <td>OLB</td>\n",
       "      <td>Ankle</td>\n",
       "      <td>-74.196089</td>\n",
       "      <td>14.383823</td>\n",
       "      <td>10.201392</td>\n",
       "      <td>0</td>\n",
       "    </tr>\n",
       "    <tr>\n",
       "      <th>42</th>\n",
       "      <td>44492-3-23</td>\n",
       "      <td>15</td>\n",
       "      <td>3</td>\n",
       "      <td>Natural</td>\n",
       "      <td>88</td>\n",
       "      <td>23</td>\n",
       "      <td>42</td>\n",
       "      <td>Outdoor</td>\n",
       "      <td>Clear</td>\n",
       "      <td>Rush</td>\n",
       "      <td>RB</td>\n",
       "      <td>RB</td>\n",
       "      <td>Ankle</td>\n",
       "      <td>-138.147304</td>\n",
       "      <td>9.631972</td>\n",
       "      <td>24.886865</td>\n",
       "      <td>0</td>\n",
       "    </tr>\n",
       "    <tr>\n",
       "      <th>43</th>\n",
       "      <td>44511-5-41</td>\n",
       "      <td>43</td>\n",
       "      <td>5</td>\n",
       "      <td>Synthetic</td>\n",
       "      <td>75</td>\n",
       "      <td>41</td>\n",
       "      <td>28</td>\n",
       "      <td>Outdoor</td>\n",
       "      <td>Cloudy</td>\n",
       "      <td>Pass</td>\n",
       "      <td>LB</td>\n",
       "      <td>MLB</td>\n",
       "      <td>Ankle</td>\n",
       "      <td>-109.444258</td>\n",
       "      <td>19.944963</td>\n",
       "      <td>2.598076</td>\n",
       "      <td>0</td>\n",
       "    </tr>\n",
       "    <tr>\n",
       "      <th>44</th>\n",
       "      <td>44542-13-20</td>\n",
       "      <td>89</td>\n",
       "      <td>13</td>\n",
       "      <td>Natural</td>\n",
       "      <td>44</td>\n",
       "      <td>20</td>\n",
       "      <td>7</td>\n",
       "      <td>Outdoor</td>\n",
       "      <td>Clear</td>\n",
       "      <td>Pass</td>\n",
       "      <td>WR</td>\n",
       "      <td>WR</td>\n",
       "      <td>Ankle</td>\n",
       "      <td>-62.735886</td>\n",
       "      <td>-9.883143</td>\n",
       "      <td>-16.393018</td>\n",
       "      <td>0</td>\n",
       "    </tr>\n",
       "    <tr>\n",
       "      <th>45</th>\n",
       "      <td>44860-5-52</td>\n",
       "      <td>29</td>\n",
       "      <td>5</td>\n",
       "      <td>Natural</td>\n",
       "      <td>67</td>\n",
       "      <td>52</td>\n",
       "      <td>7</td>\n",
       "      <td>Outdoor</td>\n",
       "      <td>Cloudy</td>\n",
       "      <td>Rush</td>\n",
       "      <td>LB</td>\n",
       "      <td>OLB</td>\n",
       "      <td>Knee</td>\n",
       "      <td>-122.833335</td>\n",
       "      <td>21.815825</td>\n",
       "      <td>-22.654135</td>\n",
       "      <td>0</td>\n",
       "    </tr>\n",
       "    <tr>\n",
       "      <th>46</th>\n",
       "      <td>44900-7-10</td>\n",
       "      <td>43</td>\n",
       "      <td>7</td>\n",
       "      <td>Natural</td>\n",
       "      <td>70</td>\n",
       "      <td>10</td>\n",
       "      <td>7</td>\n",
       "      <td>Outdoor</td>\n",
       "      <td>Windy</td>\n",
       "      <td>Kickoff</td>\n",
       "      <td>DL</td>\n",
       "      <td>DE</td>\n",
       "      <td>Knee</td>\n",
       "      <td>-109.419174</td>\n",
       "      <td>-16.898607</td>\n",
       "      <td>-5.756831</td>\n",
       "      <td>0</td>\n",
       "    </tr>\n",
       "    <tr>\n",
       "      <th>48</th>\n",
       "      <td>45950-8-18</td>\n",
       "      <td>71</td>\n",
       "      <td>8</td>\n",
       "      <td>Natural</td>\n",
       "      <td>38</td>\n",
       "      <td>18</td>\n",
       "      <td>1</td>\n",
       "      <td>Outdoor</td>\n",
       "      <td>Clear</td>\n",
       "      <td>Punt</td>\n",
       "      <td>S</td>\n",
       "      <td>FS</td>\n",
       "      <td>Ankle</td>\n",
       "      <td>-80.742035</td>\n",
       "      <td>-14.354952</td>\n",
       "      <td>-22.938057</td>\n",
       "      <td>0</td>\n",
       "    </tr>\n",
       "    <tr>\n",
       "      <th>49</th>\n",
       "      <td>45962-8-40</td>\n",
       "      <td>54</td>\n",
       "      <td>8</td>\n",
       "      <td>Synthetic</td>\n",
       "      <td>68</td>\n",
       "      <td>40</td>\n",
       "      <td>7</td>\n",
       "      <td>Outdoor</td>\n",
       "      <td>Clear</td>\n",
       "      <td>Pass</td>\n",
       "      <td>WR</td>\n",
       "      <td>WR</td>\n",
       "      <td>Ankle</td>\n",
       "      <td>-97.937139</td>\n",
       "      <td>10.671866</td>\n",
       "      <td>-17.371802</td>\n",
       "      <td>0</td>\n",
       "    </tr>\n",
       "    <tr>\n",
       "      <th>51</th>\n",
       "      <td>46014-10-22</td>\n",
       "      <td>71</td>\n",
       "      <td>10</td>\n",
       "      <td>Synthetic</td>\n",
       "      <td>60</td>\n",
       "      <td>22</td>\n",
       "      <td>42</td>\n",
       "      <td>Open Dome</td>\n",
       "      <td>Clear</td>\n",
       "      <td>Rush</td>\n",
       "      <td>RB</td>\n",
       "      <td>RB</td>\n",
       "      <td>Ankle</td>\n",
       "      <td>-81.567060</td>\n",
       "      <td>6.250759</td>\n",
       "      <td>18.018833</td>\n",
       "      <td>0</td>\n",
       "    </tr>\n",
       "    <tr>\n",
       "      <th>53</th>\n",
       "      <td>46074-7-26</td>\n",
       "      <td>50</td>\n",
       "      <td>7</td>\n",
       "      <td>Natural</td>\n",
       "      <td>76</td>\n",
       "      <td>26</td>\n",
       "      <td>7</td>\n",
       "      <td>Open Dome</td>\n",
       "      <td>Cloudy</td>\n",
       "      <td>Punt</td>\n",
       "      <td>LB</td>\n",
       "      <td>OLB</td>\n",
       "      <td>Knee</td>\n",
       "      <td>-102.285596</td>\n",
       "      <td>-1.670099</td>\n",
       "      <td>-9.784358</td>\n",
       "      <td>0</td>\n",
       "    </tr>\n",
       "    <tr>\n",
       "      <th>55</th>\n",
       "      <td>46119-3-16</td>\n",
       "      <td>15</td>\n",
       "      <td>3</td>\n",
       "      <td>Natural</td>\n",
       "      <td>89</td>\n",
       "      <td>16</td>\n",
       "      <td>7</td>\n",
       "      <td>Outdoor</td>\n",
       "      <td>Clear</td>\n",
       "      <td>Punt</td>\n",
       "      <td>LB</td>\n",
       "      <td>OLB</td>\n",
       "      <td>Knee</td>\n",
       "      <td>-137.721352</td>\n",
       "      <td>-9.726426</td>\n",
       "      <td>-2.866586</td>\n",
       "      <td>0</td>\n",
       "    </tr>\n",
       "    <tr>\n",
       "      <th>57</th>\n",
       "      <td>46331-4-44</td>\n",
       "      <td>22</td>\n",
       "      <td>4</td>\n",
       "      <td>Synthetic</td>\n",
       "      <td>61</td>\n",
       "      <td>44</td>\n",
       "      <td>42</td>\n",
       "      <td>Outdoor</td>\n",
       "      <td>Clear</td>\n",
       "      <td>Pass</td>\n",
       "      <td>S</td>\n",
       "      <td>SS</td>\n",
       "      <td>Ankle</td>\n",
       "      <td>-130.430821</td>\n",
       "      <td>26.965782</td>\n",
       "      <td>9.084434</td>\n",
       "      <td>0</td>\n",
       "    </tr>\n",
       "    <tr>\n",
       "      <th>59</th>\n",
       "      <td>46430-8-6</td>\n",
       "      <td>71</td>\n",
       "      <td>8</td>\n",
       "      <td>Natural</td>\n",
       "      <td>38</td>\n",
       "      <td>6</td>\n",
       "      <td>7</td>\n",
       "      <td>Outdoor</td>\n",
       "      <td>Clear</td>\n",
       "      <td>Punt</td>\n",
       "      <td>LB</td>\n",
       "      <td>MLB</td>\n",
       "      <td>Knee</td>\n",
       "      <td>-81.006766</td>\n",
       "      <td>-23.252518</td>\n",
       "      <td>-13.168793</td>\n",
       "      <td>0</td>\n",
       "    </tr>\n",
       "    <tr>\n",
       "      <th>60</th>\n",
       "      <td>46587-2-13</td>\n",
       "      <td>8</td>\n",
       "      <td>2</td>\n",
       "      <td>Synthetic</td>\n",
       "      <td>68</td>\n",
       "      <td>13</td>\n",
       "      <td>42</td>\n",
       "      <td>Closed Dome</td>\n",
       "      <td>Cloudy</td>\n",
       "      <td>Kickoff</td>\n",
       "      <td>WR</td>\n",
       "      <td>WR</td>\n",
       "      <td>Knee</td>\n",
       "      <td>-145.029591</td>\n",
       "      <td>-1.145571</td>\n",
       "      <td>22.543668</td>\n",
       "      <td>0</td>\n",
       "    </tr>\n",
       "    <tr>\n",
       "      <th>61</th>\n",
       "      <td>46646-3-30</td>\n",
       "      <td>15</td>\n",
       "      <td>3</td>\n",
       "      <td>Natural</td>\n",
       "      <td>80</td>\n",
       "      <td>30</td>\n",
       "      <td>1</td>\n",
       "      <td>Outdoor</td>\n",
       "      <td>Cloudy</td>\n",
       "      <td>Punt</td>\n",
       "      <td>LB</td>\n",
       "      <td>LB</td>\n",
       "      <td>Ankle</td>\n",
       "      <td>-137.298893</td>\n",
       "      <td>0.312855</td>\n",
       "      <td>-16.068200</td>\n",
       "      <td>0</td>\n",
       "    </tr>\n",
       "    <tr>\n",
       "      <th>62</th>\n",
       "      <td>47220-4-16</td>\n",
       "      <td>29</td>\n",
       "      <td>4</td>\n",
       "      <td>Synthetic</td>\n",
       "      <td>55</td>\n",
       "      <td>16</td>\n",
       "      <td>7</td>\n",
       "      <td>Outdoor</td>\n",
       "      <td>Cloudy</td>\n",
       "      <td>Pass</td>\n",
       "      <td>RB</td>\n",
       "      <td>RB</td>\n",
       "      <td>Knee</td>\n",
       "      <td>-123.208217</td>\n",
       "      <td>-12.433287</td>\n",
       "      <td>-12.702367</td>\n",
       "      <td>0</td>\n",
       "    </tr>\n",
       "    <tr>\n",
       "      <th>63</th>\n",
       "      <td>47235-7-55</td>\n",
       "      <td>50</td>\n",
       "      <td>7</td>\n",
       "      <td>Synthetic</td>\n",
       "      <td>55</td>\n",
       "      <td>55</td>\n",
       "      <td>28</td>\n",
       "      <td>Outdoor</td>\n",
       "      <td>Cloudy</td>\n",
       "      <td>Punt Not Returned</td>\n",
       "      <td>CB</td>\n",
       "      <td>CB</td>\n",
       "      <td>Foot</td>\n",
       "      <td>-101.892579</td>\n",
       "      <td>31.336341</td>\n",
       "      <td>-8.520146</td>\n",
       "      <td>0</td>\n",
       "    </tr>\n",
       "    <tr>\n",
       "      <th>64</th>\n",
       "      <td>47287-4-16</td>\n",
       "      <td>22</td>\n",
       "      <td>4</td>\n",
       "      <td>Natural</td>\n",
       "      <td>71</td>\n",
       "      <td>16</td>\n",
       "      <td>1</td>\n",
       "      <td>Outdoor</td>\n",
       "      <td>Cloudy</td>\n",
       "      <td>Pass</td>\n",
       "      <td>WR</td>\n",
       "      <td>WR</td>\n",
       "      <td>Knee</td>\n",
       "      <td>-130.339036</td>\n",
       "      <td>-13.377952</td>\n",
       "      <td>-13.372914</td>\n",
       "      <td>0</td>\n",
       "    </tr>\n",
       "    <tr>\n",
       "      <th>65</th>\n",
       "      <td>47307-10-18</td>\n",
       "      <td>74</td>\n",
       "      <td>10</td>\n",
       "      <td>Synthetic</td>\n",
       "      <td>68</td>\n",
       "      <td>18</td>\n",
       "      <td>7</td>\n",
       "      <td>Closed Dome</td>\n",
       "      <td>Indoor</td>\n",
       "      <td>Pass</td>\n",
       "      <td>CB</td>\n",
       "      <td>CB</td>\n",
       "      <td>Knee</td>\n",
       "      <td>-78.200969</td>\n",
       "      <td>-9.804074</td>\n",
       "      <td>-8.714306</td>\n",
       "      <td>0</td>\n",
       "    </tr>\n",
       "    <tr>\n",
       "      <th>66</th>\n",
       "      <td>47307-10-18</td>\n",
       "      <td>74</td>\n",
       "      <td>10</td>\n",
       "      <td>Synthetic</td>\n",
       "      <td>68</td>\n",
       "      <td>18</td>\n",
       "      <td>7</td>\n",
       "      <td>Closed Dome</td>\n",
       "      <td>Indoor</td>\n",
       "      <td>Pass</td>\n",
       "      <td>CB</td>\n",
       "      <td>CB</td>\n",
       "      <td>Ankle</td>\n",
       "      <td>-78.200910</td>\n",
       "      <td>-9.799360</td>\n",
       "      <td>-8.724827</td>\n",
       "      <td>0</td>\n",
       "    </tr>\n",
       "    <tr>\n",
       "      <th>67</th>\n",
       "      <td>47334-8-1</td>\n",
       "      <td>58</td>\n",
       "      <td>8</td>\n",
       "      <td>Synthetic</td>\n",
       "      <td>74</td>\n",
       "      <td>1</td>\n",
       "      <td>7</td>\n",
       "      <td>Indoor</td>\n",
       "      <td>Clear</td>\n",
       "      <td>Kickoff Not Returned</td>\n",
       "      <td>S</td>\n",
       "      <td>DB</td>\n",
       "      <td>Knee</td>\n",
       "      <td>-94.584332</td>\n",
       "      <td>-24.993413</td>\n",
       "      <td>-0.852206</td>\n",
       "      <td>0</td>\n",
       "    </tr>\n",
       "    <tr>\n",
       "      <th>68</th>\n",
       "      <td>47813-8-19</td>\n",
       "      <td>78</td>\n",
       "      <td>8</td>\n",
       "      <td>Synthetic</td>\n",
       "      <td>44</td>\n",
       "      <td>19</td>\n",
       "      <td>7</td>\n",
       "      <td>Outdoor</td>\n",
       "      <td>Cloudy</td>\n",
       "      <td>Punt Returned</td>\n",
       "      <td>CB</td>\n",
       "      <td>CB</td>\n",
       "      <td>Ankle</td>\n",
       "      <td>-73.912790</td>\n",
       "      <td>-10.788402</td>\n",
       "      <td>-16.082635</td>\n",
       "      <td>0</td>\n",
       "    </tr>\n",
       "  </tbody>\n",
       "</table>\n",
       "</div>"
      ],
      "text/plain": [
       "        PlayKey  PlayerDay  PlayerGame  FieldType  Temperature  \\\n",
       "0     31070-3-7         15           3    Natural           89   \n",
       "3     34347-5-9         39           5    Natural           48   \n",
       "5    35611-7-42         50           7  Synthetic           68   \n",
       "6    36557-1-70          1           1  Synthetic           63   \n",
       "9     38192-8-8         57           8    Natural           61   \n",
       "10    38228-1-4          1           1  Synthetic           65   \n",
       "11   38364-5-23         29           5  Synthetic           76   \n",
       "13    39678-2-1          8           2  Synthetic           78   \n",
       "14    39850-9-2         64           9  Synthetic           47   \n",
       "15   39873-4-32         29           4  Synthetic           84   \n",
       "16   39956-2-14          8           2    Natural           68   \n",
       "17    40474-1-8          1           1  Synthetic           70   \n",
       "18   41094-1-55          1           1    Natural           72   \n",
       "20   41145-2-60         11           2    Natural           89   \n",
       "21    41209-9-9         63           9  Synthetic           42   \n",
       "22   41943-1-12          1           1    Natural           70   \n",
       "25   42406-6-13         43           6  Synthetic           75   \n",
       "29    42600-3-1         15           3    Natural           88   \n",
       "30    42637-3-6         12           3    Natural           33   \n",
       "31   43505-2-49         11           2    Natural           68   \n",
       "32   43532-5-69         32           5  Synthetic           89   \n",
       "33   43540-3-14         15           3    Natural           89   \n",
       "34    43540-7-2         44           7    Natural           70   \n",
       "37  44434-10-31         71          10    Natural           38   \n",
       "38   44449-6-13         42           6    Natural           52   \n",
       "41  44489-11-32         78          11  Synthetic           46   \n",
       "42   44492-3-23         15           3    Natural           88   \n",
       "43   44511-5-41         43           5  Synthetic           75   \n",
       "44  44542-13-20         89          13    Natural           44   \n",
       "45   44860-5-52         29           5    Natural           67   \n",
       "46   44900-7-10         43           7    Natural           70   \n",
       "48   45950-8-18         71           8    Natural           38   \n",
       "49   45962-8-40         54           8  Synthetic           68   \n",
       "51  46014-10-22         71          10  Synthetic           60   \n",
       "53   46074-7-26         50           7    Natural           76   \n",
       "55   46119-3-16         15           3    Natural           89   \n",
       "57   46331-4-44         22           4  Synthetic           61   \n",
       "59    46430-8-6         71           8    Natural           38   \n",
       "60   46587-2-13          8           2  Synthetic           68   \n",
       "61   46646-3-30         15           3    Natural           80   \n",
       "62   47220-4-16         29           4  Synthetic           55   \n",
       "63   47235-7-55         50           7  Synthetic           55   \n",
       "64   47287-4-16         22           4    Natural           71   \n",
       "65  47307-10-18         74          10  Synthetic           68   \n",
       "66  47307-10-18         74          10  Synthetic           68   \n",
       "67    47334-8-1         58           8  Synthetic           74   \n",
       "68   47813-8-19         78           8  Synthetic           44   \n",
       "\n",
       "    PlayerGamePlay  Injury_Duration  StadiumType Weather  \\\n",
       "0                7               42      Outdoor   Clear   \n",
       "3                9                7      Outdoor  Cloudy   \n",
       "5               42                7       Indoor  Indoor   \n",
       "6               70               42      Outdoor   Clear   \n",
       "9                8                1      Outdoor  Cloudy   \n",
       "10               4                7      Outdoor  Cloudy   \n",
       "11              23               42      Outdoor  Cloudy   \n",
       "13               1               42    Open Dome   Clear   \n",
       "14               2               42      Outdoor  Cloudy   \n",
       "15              32               42       Indoor  Cloudy   \n",
       "16              14                7      Outdoor  Cloudy   \n",
       "17               8                1       Indoor  Indoor   \n",
       "18              55               42      Outdoor   Clear   \n",
       "20              60                1      Outdoor   Clear   \n",
       "21               9                7      Outdoor  Cloudy   \n",
       "22              12                7      Outdoor   Clear   \n",
       "25              13                1      Outdoor  Cloudy   \n",
       "29               1               42      Outdoor   Clear   \n",
       "30               6               42      Outdoor   Clear   \n",
       "31              49               42      Outdoor  Cloudy   \n",
       "32              69               42    Open Dome  Cloudy   \n",
       "33              14                1      Outdoor   Clear   \n",
       "34               2               42      Outdoor  Cloudy   \n",
       "37              31               42      Outdoor   Clear   \n",
       "38              13                1      Outdoor    Rain   \n",
       "41              32               42      Outdoor  Cloudy   \n",
       "42              23               42      Outdoor   Clear   \n",
       "43              41               28      Outdoor  Cloudy   \n",
       "44              20                7      Outdoor   Clear   \n",
       "45              52                7      Outdoor  Cloudy   \n",
       "46              10                7      Outdoor   Windy   \n",
       "48              18                1      Outdoor   Clear   \n",
       "49              40                7      Outdoor   Clear   \n",
       "51              22               42    Open Dome   Clear   \n",
       "53              26                7    Open Dome  Cloudy   \n",
       "55              16                7      Outdoor   Clear   \n",
       "57              44               42      Outdoor   Clear   \n",
       "59               6                7      Outdoor   Clear   \n",
       "60              13               42  Closed Dome  Cloudy   \n",
       "61              30                1      Outdoor  Cloudy   \n",
       "62              16                7      Outdoor  Cloudy   \n",
       "63              55               28      Outdoor  Cloudy   \n",
       "64              16                1      Outdoor  Cloudy   \n",
       "65              18                7  Closed Dome  Indoor   \n",
       "66              18                7  Closed Dome  Indoor   \n",
       "67               1                7       Indoor   Clear   \n",
       "68              19                7      Outdoor  Cloudy   \n",
       "\n",
       "                PlayType RosterPosition Position BodyPart        PC 1  \\\n",
       "0                   Rush             RB       RB     Knee -138.389954   \n",
       "3                Kickoff             WR       WR     Knee -113.181297   \n",
       "5                   Pass              S       FS    Ankle -101.940284   \n",
       "6                   Pass              S       SS    Ankle -151.173138   \n",
       "9                   Pass             WR       WR    Ankle  -95.202912   \n",
       "10                  Punt             LB      ILB    Ankle -151.601786   \n",
       "11               Kickoff             WR       WR     Foot -123.918433   \n",
       "13                  Rush             DL       DE    Ankle -145.343644   \n",
       "14                  Punt              S       SS     Knee  -88.694577   \n",
       "15                  Punt             LB      OLB     Knee -123.941407   \n",
       "16                  Pass              S       FS     Knee -144.474021   \n",
       "17               Kickoff             LB      OLB     Knee -151.524166   \n",
       "18                  Pass              S       SS     Knee -151.517294   \n",
       "20                  Pass              S       SS     Knee -141.031113   \n",
       "21                  Rush             LB      OLB    Ankle  -88.978585   \n",
       "22                  Rush             LB      OLB    Ankle -151.558914   \n",
       "25                  Pass             OL        C    Ankle -109.389707   \n",
       "29               Kickoff             LB      OLB     Knee -138.462779   \n",
       "30                  Punt             LB      OLB     Knee -140.594939   \n",
       "31                  Pass             OL        C     Foot -141.519350   \n",
       "32               Kickoff             WR       WR    Ankle -120.452630   \n",
       "33                  Rush             LB      MLB    Ankle -137.655438   \n",
       "34                  Pass             LB      MLB    Ankle -109.077190   \n",
       "37                  Pass             DL       DE     Foot  -81.121900   \n",
       "38                  Pass             WR       WR     Knee -110.056069   \n",
       "41                  Pass             LB      OLB    Ankle  -74.196089   \n",
       "42                  Rush             RB       RB    Ankle -138.147304   \n",
       "43                  Pass             LB      MLB    Ankle -109.444258   \n",
       "44                  Pass             WR       WR    Ankle  -62.735886   \n",
       "45                  Rush             LB      OLB     Knee -122.833335   \n",
       "46               Kickoff             DL       DE     Knee -109.419174   \n",
       "48                  Punt              S       FS    Ankle  -80.742035   \n",
       "49                  Pass             WR       WR    Ankle  -97.937139   \n",
       "51                  Rush             RB       RB    Ankle  -81.567060   \n",
       "53                  Punt             LB      OLB     Knee -102.285596   \n",
       "55                  Punt             LB      OLB     Knee -137.721352   \n",
       "57                  Pass              S       SS    Ankle -130.430821   \n",
       "59                  Punt             LB      MLB     Knee  -81.006766   \n",
       "60               Kickoff             WR       WR     Knee -145.029591   \n",
       "61                  Punt             LB       LB    Ankle -137.298893   \n",
       "62                  Pass             RB       RB     Knee -123.208217   \n",
       "63     Punt Not Returned             CB       CB     Foot -101.892579   \n",
       "64                  Pass             WR       WR     Knee -130.339036   \n",
       "65                  Pass             CB       CB     Knee  -78.200969   \n",
       "66                  Pass             CB       CB    Ankle  -78.200910   \n",
       "67  Kickoff Not Returned              S       DB     Knee  -94.584332   \n",
       "68         Punt Returned             CB       CB    Ankle  -73.912790   \n",
       "\n",
       "         PC 2       PC 3  Class  \n",
       "0   -5.105241  31.189757      0  \n",
       "3  -19.526732 -11.974173      0  \n",
       "5   12.542136 -18.183379      0  \n",
       "6   51.294156  -0.456303      0  \n",
       "9  -21.742749 -12.669695      0  \n",
       "10 -22.617341  -5.802843      0  \n",
       "11   8.629261  21.579731      0  \n",
       "13 -11.462873  30.024115      0  \n",
       "14 -13.240149  21.487017      0  \n",
       "15  17.563229  20.639635      0  \n",
       "16 -13.161823  -8.529467      0  \n",
       "17 -20.746401 -11.054650      0  \n",
       "18  38.095844   7.851225      0  \n",
       "20  28.813406 -24.670948      0  \n",
       "21 -20.093951 -13.333911      0  \n",
       "22 -14.821855  -7.314782      0  \n",
       "25 -15.949561 -10.617094      0  \n",
       "29 -10.735466  33.131759      0  \n",
       "30 -10.346509  14.756246      0  \n",
       "31  32.167399   9.109317      0  \n",
       "32  52.195554   8.302228      0  \n",
       "33 -13.793382  -7.381439      0  \n",
       "34 -11.350897  27.919916      0  \n",
       "37  12.875184   8.059044      0  \n",
       "38 -17.734286 -17.514782      0  \n",
       "41  14.383823  10.201392      0  \n",
       "42   9.631972  24.886865      0  \n",
       "43  19.944963   2.598076      0  \n",
       "44  -9.883143 -16.393018      0  \n",
       "45  21.815825 -22.654135      0  \n",
       "46 -16.898607  -5.756831      0  \n",
       "48 -14.354952 -22.938057      0  \n",
       "49  10.671866 -17.371802      0  \n",
       "51   6.250759  18.018833      0  \n",
       "53  -1.670099  -9.784358      0  \n",
       "55  -9.726426  -2.866586      0  \n",
       "57  26.965782   9.084434      0  \n",
       "59 -23.252518 -13.168793      0  \n",
       "60  -1.145571  22.543668      0  \n",
       "61   0.312855 -16.068200      0  \n",
       "62 -12.433287 -12.702367      0  \n",
       "63  31.336341  -8.520146      0  \n",
       "64 -13.377952 -13.372914      0  \n",
       "65  -9.804074  -8.714306      0  \n",
       "66  -9.799360  -8.724827      0  \n",
       "67 -24.993413  -0.852206      0  \n",
       "68 -10.788402 -16.082635      0  "
      ]
     },
     "execution_count": 23,
     "metadata": {},
     "output_type": "execute_result"
    }
   ],
   "source": [
    "injury_subset_0"
   ]
  },
  {
   "cell_type": "code",
   "execution_count": 24,
   "metadata": {},
   "outputs": [
    {
     "data": {
      "text/html": [
       "<div>\n",
       "<style scoped>\n",
       "    .dataframe tbody tr th:only-of-type {\n",
       "        vertical-align: middle;\n",
       "    }\n",
       "\n",
       "    .dataframe tbody tr th {\n",
       "        vertical-align: top;\n",
       "    }\n",
       "\n",
       "    .dataframe thead th {\n",
       "        text-align: right;\n",
       "    }\n",
       "</style>\n",
       "<table border=\"1\" class=\"dataframe\">\n",
       "  <thead>\n",
       "    <tr style=\"text-align: right;\">\n",
       "      <th></th>\n",
       "      <th>PlayKey</th>\n",
       "      <th>PlayerDay</th>\n",
       "      <th>PlayerGame</th>\n",
       "      <th>FieldType</th>\n",
       "      <th>Temperature</th>\n",
       "      <th>PlayerGamePlay</th>\n",
       "      <th>Injury_Duration</th>\n",
       "      <th>StadiumType</th>\n",
       "      <th>Weather</th>\n",
       "      <th>PlayType</th>\n",
       "      <th>RosterPosition</th>\n",
       "      <th>Position</th>\n",
       "      <th>BodyPart</th>\n",
       "      <th>PC 1</th>\n",
       "      <th>PC 2</th>\n",
       "      <th>PC 3</th>\n",
       "      <th>Class</th>\n",
       "    </tr>\n",
       "  </thead>\n",
       "  <tbody>\n",
       "    <tr>\n",
       "      <th>1</th>\n",
       "      <td>33337-8-15</td>\n",
       "      <td>365</td>\n",
       "      <td>8</td>\n",
       "      <td>Natural</td>\n",
       "      <td>81</td>\n",
       "      <td>15</td>\n",
       "      <td>28</td>\n",
       "      <td>Outdoor</td>\n",
       "      <td>Cloudy</td>\n",
       "      <td>Pass</td>\n",
       "      <td>TE</td>\n",
       "      <td>TE</td>\n",
       "      <td>Foot</td>\n",
       "      <td>211.905243</td>\n",
       "      <td>-5.800358</td>\n",
       "      <td>21.937755</td>\n",
       "      <td>1</td>\n",
       "    </tr>\n",
       "    <tr>\n",
       "      <th>2</th>\n",
       "      <td>33474-19-7</td>\n",
       "      <td>393</td>\n",
       "      <td>19</td>\n",
       "      <td>Natural</td>\n",
       "      <td>79</td>\n",
       "      <td>7</td>\n",
       "      <td>28</td>\n",
       "      <td>Outdoor</td>\n",
       "      <td>Cloudy</td>\n",
       "      <td>Rush</td>\n",
       "      <td>S</td>\n",
       "      <td>FS</td>\n",
       "      <td>Knee</td>\n",
       "      <td>240.174546</td>\n",
       "      <td>-13.431445</td>\n",
       "      <td>24.593213</td>\n",
       "      <td>1</td>\n",
       "    </tr>\n",
       "    <tr>\n",
       "      <th>4</th>\n",
       "      <td>35570-15-35</td>\n",
       "      <td>389</td>\n",
       "      <td>15</td>\n",
       "      <td>Natural</td>\n",
       "      <td>79</td>\n",
       "      <td>35</td>\n",
       "      <td>7</td>\n",
       "      <td>Outdoor</td>\n",
       "      <td>Clear</td>\n",
       "      <td>Pass</td>\n",
       "      <td>OL</td>\n",
       "      <td>T</td>\n",
       "      <td>Knee</td>\n",
       "      <td>236.764509</td>\n",
       "      <td>4.707655</td>\n",
       "      <td>-4.243791</td>\n",
       "      <td>1</td>\n",
       "    </tr>\n",
       "    <tr>\n",
       "      <th>7</th>\n",
       "      <td>36559-12-65</td>\n",
       "      <td>365</td>\n",
       "      <td>12</td>\n",
       "      <td>Natural</td>\n",
       "      <td>58</td>\n",
       "      <td>65</td>\n",
       "      <td>7</td>\n",
       "      <td>Outdoor</td>\n",
       "      <td>Rain</td>\n",
       "      <td>Pass</td>\n",
       "      <td>CB</td>\n",
       "      <td>CB</td>\n",
       "      <td>Knee</td>\n",
       "      <td>213.414303</td>\n",
       "      <td>30.980810</td>\n",
       "      <td>-22.237066</td>\n",
       "      <td>1</td>\n",
       "    </tr>\n",
       "    <tr>\n",
       "      <th>8</th>\n",
       "      <td>36607-16-19</td>\n",
       "      <td>422</td>\n",
       "      <td>16</td>\n",
       "      <td>Synthetic</td>\n",
       "      <td>74</td>\n",
       "      <td>19</td>\n",
       "      <td>42</td>\n",
       "      <td>Indoor</td>\n",
       "      <td>Clear</td>\n",
       "      <td>Pass</td>\n",
       "      <td>LB</td>\n",
       "      <td>ILB</td>\n",
       "      <td>Knee</td>\n",
       "      <td>269.070050</td>\n",
       "      <td>2.254330</td>\n",
       "      <td>31.720536</td>\n",
       "      <td>1</td>\n",
       "    </tr>\n",
       "    <tr>\n",
       "      <th>12</th>\n",
       "      <td>38876-29-14</td>\n",
       "      <td>471</td>\n",
       "      <td>29</td>\n",
       "      <td>Natural</td>\n",
       "      <td>58</td>\n",
       "      <td>14</td>\n",
       "      <td>7</td>\n",
       "      <td>Outdoor</td>\n",
       "      <td>Rain</td>\n",
       "      <td>Punt Returned</td>\n",
       "      <td>WR</td>\n",
       "      <td>WR</td>\n",
       "      <td>Ankle</td>\n",
       "      <td>319.177099</td>\n",
       "      <td>-16.758772</td>\n",
       "      <td>-1.195335</td>\n",
       "      <td>1</td>\n",
       "    </tr>\n",
       "    <tr>\n",
       "      <th>19</th>\n",
       "      <td>41113-15-63</td>\n",
       "      <td>421</td>\n",
       "      <td>15</td>\n",
       "      <td>Natural</td>\n",
       "      <td>53</td>\n",
       "      <td>63</td>\n",
       "      <td>1</td>\n",
       "      <td>Outdoor</td>\n",
       "      <td>Clear</td>\n",
       "      <td>Rush</td>\n",
       "      <td>LB</td>\n",
       "      <td>OLB</td>\n",
       "      <td>Ankle</td>\n",
       "      <td>269.602128</td>\n",
       "      <td>26.173721</td>\n",
       "      <td>-26.971138</td>\n",
       "      <td>1</td>\n",
       "    </tr>\n",
       "    <tr>\n",
       "      <th>23</th>\n",
       "      <td>42348-23-53</td>\n",
       "      <td>406</td>\n",
       "      <td>23</td>\n",
       "      <td>Synthetic</td>\n",
       "      <td>46</td>\n",
       "      <td>53</td>\n",
       "      <td>28</td>\n",
       "      <td>Outdoor</td>\n",
       "      <td>Cloudy</td>\n",
       "      <td>Rush</td>\n",
       "      <td>LB</td>\n",
       "      <td>OLB</td>\n",
       "      <td>Knee</td>\n",
       "      <td>254.432474</td>\n",
       "      <td>26.552872</td>\n",
       "      <td>-2.318610</td>\n",
       "      <td>1</td>\n",
       "    </tr>\n",
       "    <tr>\n",
       "      <th>24</th>\n",
       "      <td>42398-15-33</td>\n",
       "      <td>396</td>\n",
       "      <td>15</td>\n",
       "      <td>Synthetic</td>\n",
       "      <td>70</td>\n",
       "      <td>33</td>\n",
       "      <td>42</td>\n",
       "      <td>Outdoor</td>\n",
       "      <td>Rain</td>\n",
       "      <td>Punt Returned</td>\n",
       "      <td>WR</td>\n",
       "      <td>WR</td>\n",
       "      <td>Knee</td>\n",
       "      <td>243.318822</td>\n",
       "      <td>15.054536</td>\n",
       "      <td>24.673043</td>\n",
       "      <td>1</td>\n",
       "    </tr>\n",
       "    <tr>\n",
       "      <th>26</th>\n",
       "      <td>42418-19-15</td>\n",
       "      <td>442</td>\n",
       "      <td>19</td>\n",
       "      <td>Synthetic</td>\n",
       "      <td>57</td>\n",
       "      <td>15</td>\n",
       "      <td>1</td>\n",
       "      <td>Closed Dome</td>\n",
       "      <td>Cloudy</td>\n",
       "      <td>Rush</td>\n",
       "      <td>OL</td>\n",
       "      <td>C</td>\n",
       "      <td>Ankle</td>\n",
       "      <td>289.979947</td>\n",
       "      <td>-18.043886</td>\n",
       "      <td>-7.423768</td>\n",
       "      <td>1</td>\n",
       "    </tr>\n",
       "    <tr>\n",
       "      <th>27</th>\n",
       "      <td>42448-14-3</td>\n",
       "      <td>379</td>\n",
       "      <td>14</td>\n",
       "      <td>Synthetic</td>\n",
       "      <td>78</td>\n",
       "      <td>3</td>\n",
       "      <td>28</td>\n",
       "      <td>Open Dome</td>\n",
       "      <td>Cloudy</td>\n",
       "      <td>Pass</td>\n",
       "      <td>WR</td>\n",
       "      <td>WR</td>\n",
       "      <td>Knee</td>\n",
       "      <td>225.972312</td>\n",
       "      <td>-17.164988</td>\n",
       "      <td>25.659442</td>\n",
       "      <td>1</td>\n",
       "    </tr>\n",
       "    <tr>\n",
       "      <th>28</th>\n",
       "      <td>42456-20-76</td>\n",
       "      <td>386</td>\n",
       "      <td>20</td>\n",
       "      <td>Synthetic</td>\n",
       "      <td>73</td>\n",
       "      <td>76</td>\n",
       "      <td>28</td>\n",
       "      <td>Open Dome</td>\n",
       "      <td>Clear</td>\n",
       "      <td>Rush</td>\n",
       "      <td>CB</td>\n",
       "      <td>CB</td>\n",
       "      <td>Ankle</td>\n",
       "      <td>234.287094</td>\n",
       "      <td>50.054096</td>\n",
       "      <td>-3.253610</td>\n",
       "      <td>1</td>\n",
       "    </tr>\n",
       "    <tr>\n",
       "      <th>35</th>\n",
       "      <td>43672-8-9</td>\n",
       "      <td>365</td>\n",
       "      <td>8</td>\n",
       "      <td>Synthetic</td>\n",
       "      <td>62</td>\n",
       "      <td>9</td>\n",
       "      <td>7</td>\n",
       "      <td>Outdoor</td>\n",
       "      <td>Cloudy</td>\n",
       "      <td>Rush</td>\n",
       "      <td>DL</td>\n",
       "      <td>DT</td>\n",
       "      <td>Knee</td>\n",
       "      <td>212.420574</td>\n",
       "      <td>-20.602653</td>\n",
       "      <td>0.126647</td>\n",
       "      <td>1</td>\n",
       "    </tr>\n",
       "    <tr>\n",
       "      <th>36</th>\n",
       "      <td>44421-12-41</td>\n",
       "      <td>365</td>\n",
       "      <td>12</td>\n",
       "      <td>Natural</td>\n",
       "      <td>61</td>\n",
       "      <td>41</td>\n",
       "      <td>7</td>\n",
       "      <td>Outdoor</td>\n",
       "      <td>Rain</td>\n",
       "      <td>Pass</td>\n",
       "      <td>DL</td>\n",
       "      <td>DE</td>\n",
       "      <td>Knee</td>\n",
       "      <td>213.028947</td>\n",
       "      <td>8.989543</td>\n",
       "      <td>-12.339474</td>\n",
       "      <td>1</td>\n",
       "    </tr>\n",
       "    <tr>\n",
       "      <th>39</th>\n",
       "      <td>44449-28-35</td>\n",
       "      <td>445</td>\n",
       "      <td>28</td>\n",
       "      <td>Synthetic</td>\n",
       "      <td>70</td>\n",
       "      <td>35</td>\n",
       "      <td>1</td>\n",
       "      <td>Indoor</td>\n",
       "      <td>Clear</td>\n",
       "      <td>Pass</td>\n",
       "      <td>WR</td>\n",
       "      <td>WR</td>\n",
       "      <td>Ankle</td>\n",
       "      <td>293.385210</td>\n",
       "      <td>1.568213</td>\n",
       "      <td>-11.322506</td>\n",
       "      <td>1</td>\n",
       "    </tr>\n",
       "    <tr>\n",
       "      <th>40</th>\n",
       "      <td>44482-20-21</td>\n",
       "      <td>428</td>\n",
       "      <td>20</td>\n",
       "      <td>Synthetic</td>\n",
       "      <td>39</td>\n",
       "      <td>21</td>\n",
       "      <td>42</td>\n",
       "      <td>Outdoor</td>\n",
       "      <td>Clear</td>\n",
       "      <td>Rush</td>\n",
       "      <td>DL</td>\n",
       "      <td>DT</td>\n",
       "      <td>Knee</td>\n",
       "      <td>275.738205</td>\n",
       "      <td>1.393415</td>\n",
       "      <td>20.513211</td>\n",
       "      <td>1</td>\n",
       "    </tr>\n",
       "    <tr>\n",
       "      <th>47</th>\n",
       "      <td>45187-9-4</td>\n",
       "      <td>327</td>\n",
       "      <td>9</td>\n",
       "      <td>Natural</td>\n",
       "      <td>81</td>\n",
       "      <td>4</td>\n",
       "      <td>1</td>\n",
       "      <td>Outdoor</td>\n",
       "      <td>Cloudy</td>\n",
       "      <td>Rush</td>\n",
       "      <td>WR</td>\n",
       "      <td>WR</td>\n",
       "      <td>Ankle</td>\n",
       "      <td>174.237411</td>\n",
       "      <td>-25.715509</td>\n",
       "      <td>1.414949</td>\n",
       "      <td>1</td>\n",
       "    </tr>\n",
       "    <tr>\n",
       "      <th>50</th>\n",
       "      <td>45983-18-21</td>\n",
       "      <td>373</td>\n",
       "      <td>18</td>\n",
       "      <td>Natural</td>\n",
       "      <td>79</td>\n",
       "      <td>21</td>\n",
       "      <td>7</td>\n",
       "      <td>Outdoor</td>\n",
       "      <td>Clear</td>\n",
       "      <td>Rush</td>\n",
       "      <td>OL</td>\n",
       "      <td>C</td>\n",
       "      <td>Ankle</td>\n",
       "      <td>220.684262</td>\n",
       "      <td>-8.111705</td>\n",
       "      <td>0.484807</td>\n",
       "      <td>1</td>\n",
       "    </tr>\n",
       "    <tr>\n",
       "      <th>52</th>\n",
       "      <td>46038-30-58</td>\n",
       "      <td>463</td>\n",
       "      <td>30</td>\n",
       "      <td>Natural</td>\n",
       "      <td>45</td>\n",
       "      <td>58</td>\n",
       "      <td>7</td>\n",
       "      <td>Outdoor</td>\n",
       "      <td>Clear</td>\n",
       "      <td>Pass</td>\n",
       "      <td>S</td>\n",
       "      <td>FS</td>\n",
       "      <td>Ankle</td>\n",
       "      <td>312.032456</td>\n",
       "      <td>23.045243</td>\n",
       "      <td>-21.799427</td>\n",
       "      <td>1</td>\n",
       "    </tr>\n",
       "    <tr>\n",
       "      <th>54</th>\n",
       "      <td>46098-17-27</td>\n",
       "      <td>462</td>\n",
       "      <td>17</td>\n",
       "      <td>Synthetic</td>\n",
       "      <td>39</td>\n",
       "      <td>27</td>\n",
       "      <td>1</td>\n",
       "      <td>Outdoor</td>\n",
       "      <td>Rain</td>\n",
       "      <td>Rush</td>\n",
       "      <td>WR</td>\n",
       "      <td>WR</td>\n",
       "      <td>Ankle</td>\n",
       "      <td>310.324380</td>\n",
       "      <td>-8.487768</td>\n",
       "      <td>-16.732310</td>\n",
       "      <td>1</td>\n",
       "    </tr>\n",
       "    <tr>\n",
       "      <th>56</th>\n",
       "      <td>46316-5-4</td>\n",
       "      <td>334</td>\n",
       "      <td>5</td>\n",
       "      <td>Natural</td>\n",
       "      <td>75</td>\n",
       "      <td>4</td>\n",
       "      <td>7</td>\n",
       "      <td>Outdoor</td>\n",
       "      <td>Clear</td>\n",
       "      <td>Rush</td>\n",
       "      <td>DL</td>\n",
       "      <td>DE</td>\n",
       "      <td>Ankle</td>\n",
       "      <td>181.086558</td>\n",
       "      <td>-24.044327</td>\n",
       "      <td>5.218047</td>\n",
       "      <td>1</td>\n",
       "    </tr>\n",
       "    <tr>\n",
       "      <th>58</th>\n",
       "      <td>46394-18-3</td>\n",
       "      <td>393</td>\n",
       "      <td>18</td>\n",
       "      <td>Synthetic</td>\n",
       "      <td>45</td>\n",
       "      <td>3</td>\n",
       "      <td>7</td>\n",
       "      <td>Outdoor</td>\n",
       "      <td>Cloudy</td>\n",
       "      <td>Kickoff Returned</td>\n",
       "      <td>TE</td>\n",
       "      <td>TE</td>\n",
       "      <td>Knee</td>\n",
       "      <td>240.899123</td>\n",
       "      <td>-27.546362</td>\n",
       "      <td>-2.413227</td>\n",
       "      <td>1</td>\n",
       "    </tr>\n",
       "  </tbody>\n",
       "</table>\n",
       "</div>"
      ],
      "text/plain": [
       "        PlayKey  PlayerDay  PlayerGame  FieldType  Temperature  \\\n",
       "1    33337-8-15        365           8    Natural           81   \n",
       "2    33474-19-7        393          19    Natural           79   \n",
       "4   35570-15-35        389          15    Natural           79   \n",
       "7   36559-12-65        365          12    Natural           58   \n",
       "8   36607-16-19        422          16  Synthetic           74   \n",
       "12  38876-29-14        471          29    Natural           58   \n",
       "19  41113-15-63        421          15    Natural           53   \n",
       "23  42348-23-53        406          23  Synthetic           46   \n",
       "24  42398-15-33        396          15  Synthetic           70   \n",
       "26  42418-19-15        442          19  Synthetic           57   \n",
       "27   42448-14-3        379          14  Synthetic           78   \n",
       "28  42456-20-76        386          20  Synthetic           73   \n",
       "35    43672-8-9        365           8  Synthetic           62   \n",
       "36  44421-12-41        365          12    Natural           61   \n",
       "39  44449-28-35        445          28  Synthetic           70   \n",
       "40  44482-20-21        428          20  Synthetic           39   \n",
       "47    45187-9-4        327           9    Natural           81   \n",
       "50  45983-18-21        373          18    Natural           79   \n",
       "52  46038-30-58        463          30    Natural           45   \n",
       "54  46098-17-27        462          17  Synthetic           39   \n",
       "56    46316-5-4        334           5    Natural           75   \n",
       "58   46394-18-3        393          18  Synthetic           45   \n",
       "\n",
       "    PlayerGamePlay  Injury_Duration  StadiumType Weather          PlayType  \\\n",
       "1               15               28      Outdoor  Cloudy              Pass   \n",
       "2                7               28      Outdoor  Cloudy              Rush   \n",
       "4               35                7      Outdoor   Clear              Pass   \n",
       "7               65                7      Outdoor    Rain              Pass   \n",
       "8               19               42       Indoor   Clear              Pass   \n",
       "12              14                7      Outdoor    Rain     Punt Returned   \n",
       "19              63                1      Outdoor   Clear              Rush   \n",
       "23              53               28      Outdoor  Cloudy              Rush   \n",
       "24              33               42      Outdoor    Rain     Punt Returned   \n",
       "26              15                1  Closed Dome  Cloudy              Rush   \n",
       "27               3               28    Open Dome  Cloudy              Pass   \n",
       "28              76               28    Open Dome   Clear              Rush   \n",
       "35               9                7      Outdoor  Cloudy              Rush   \n",
       "36              41                7      Outdoor    Rain              Pass   \n",
       "39              35                1       Indoor   Clear              Pass   \n",
       "40              21               42      Outdoor   Clear              Rush   \n",
       "47               4                1      Outdoor  Cloudy              Rush   \n",
       "50              21                7      Outdoor   Clear              Rush   \n",
       "52              58                7      Outdoor   Clear              Pass   \n",
       "54              27                1      Outdoor    Rain              Rush   \n",
       "56               4                7      Outdoor   Clear              Rush   \n",
       "58               3                7      Outdoor  Cloudy  Kickoff Returned   \n",
       "\n",
       "   RosterPosition Position BodyPart        PC 1       PC 2       PC 3  Class  \n",
       "1              TE       TE     Foot  211.905243  -5.800358  21.937755      1  \n",
       "2               S       FS     Knee  240.174546 -13.431445  24.593213      1  \n",
       "4              OL        T     Knee  236.764509   4.707655  -4.243791      1  \n",
       "7              CB       CB     Knee  213.414303  30.980810 -22.237066      1  \n",
       "8              LB      ILB     Knee  269.070050   2.254330  31.720536      1  \n",
       "12             WR       WR    Ankle  319.177099 -16.758772  -1.195335      1  \n",
       "19             LB      OLB    Ankle  269.602128  26.173721 -26.971138      1  \n",
       "23             LB      OLB     Knee  254.432474  26.552872  -2.318610      1  \n",
       "24             WR       WR     Knee  243.318822  15.054536  24.673043      1  \n",
       "26             OL        C    Ankle  289.979947 -18.043886  -7.423768      1  \n",
       "27             WR       WR     Knee  225.972312 -17.164988  25.659442      1  \n",
       "28             CB       CB    Ankle  234.287094  50.054096  -3.253610      1  \n",
       "35             DL       DT     Knee  212.420574 -20.602653   0.126647      1  \n",
       "36             DL       DE     Knee  213.028947   8.989543 -12.339474      1  \n",
       "39             WR       WR    Ankle  293.385210   1.568213 -11.322506      1  \n",
       "40             DL       DT     Knee  275.738205   1.393415  20.513211      1  \n",
       "47             WR       WR    Ankle  174.237411 -25.715509   1.414949      1  \n",
       "50             OL        C    Ankle  220.684262  -8.111705   0.484807      1  \n",
       "52              S       FS    Ankle  312.032456  23.045243 -21.799427      1  \n",
       "54             WR       WR    Ankle  310.324380  -8.487768 -16.732310      1  \n",
       "56             DL       DE    Ankle  181.086558 -24.044327   5.218047      1  \n",
       "58             TE       TE     Knee  240.899123 -27.546362  -2.413227      1  "
      ]
     },
     "execution_count": 24,
     "metadata": {},
     "output_type": "execute_result"
    }
   ],
   "source": [
    "injury_subset_1"
   ]
  },
  {
   "cell_type": "markdown",
   "metadata": {},
   "source": [
    "Just based on first glance, these data are split solely on PlayerDay - which is just 2016 vs 2017. Will remove this column and rerun the PCA.\n",
    "\n",
    "### Next Run"
   ]
  },
  {
   "cell_type": "code",
   "execution_count": 28,
   "metadata": {},
   "outputs": [
    {
     "data": {
      "text/html": [
       "<div>\n",
       "<style scoped>\n",
       "    .dataframe tbody tr th:only-of-type {\n",
       "        vertical-align: middle;\n",
       "    }\n",
       "\n",
       "    .dataframe tbody tr th {\n",
       "        vertical-align: top;\n",
       "    }\n",
       "\n",
       "    .dataframe thead th {\n",
       "        text-align: right;\n",
       "    }\n",
       "</style>\n",
       "<table border=\"1\" class=\"dataframe\">\n",
       "  <thead>\n",
       "    <tr style=\"text-align: right;\">\n",
       "      <th></th>\n",
       "      <th>PlayerGame</th>\n",
       "      <th>FieldType</th>\n",
       "      <th>Temperature</th>\n",
       "      <th>PlayerGamePlay</th>\n",
       "      <th>Injury_Duration</th>\n",
       "      <th>StadiumType</th>\n",
       "      <th>Weather</th>\n",
       "      <th>PlayType</th>\n",
       "      <th>RosterPosition</th>\n",
       "      <th>Position</th>\n",
       "      <th>BodyPart</th>\n",
       "    </tr>\n",
       "  </thead>\n",
       "  <tbody>\n",
       "    <tr>\n",
       "      <th>0</th>\n",
       "      <td>3</td>\n",
       "      <td>Natural</td>\n",
       "      <td>89</td>\n",
       "      <td>7</td>\n",
       "      <td>42</td>\n",
       "      <td>Outdoor</td>\n",
       "      <td>Clear</td>\n",
       "      <td>Rush</td>\n",
       "      <td>RB</td>\n",
       "      <td>RB</td>\n",
       "      <td>Knee</td>\n",
       "    </tr>\n",
       "    <tr>\n",
       "      <th>1</th>\n",
       "      <td>8</td>\n",
       "      <td>Natural</td>\n",
       "      <td>81</td>\n",
       "      <td>15</td>\n",
       "      <td>28</td>\n",
       "      <td>Outdoor</td>\n",
       "      <td>Cloudy</td>\n",
       "      <td>Pass</td>\n",
       "      <td>TE</td>\n",
       "      <td>TE</td>\n",
       "      <td>Foot</td>\n",
       "    </tr>\n",
       "    <tr>\n",
       "      <th>2</th>\n",
       "      <td>19</td>\n",
       "      <td>Natural</td>\n",
       "      <td>79</td>\n",
       "      <td>7</td>\n",
       "      <td>28</td>\n",
       "      <td>Outdoor</td>\n",
       "      <td>Cloudy</td>\n",
       "      <td>Rush</td>\n",
       "      <td>S</td>\n",
       "      <td>FS</td>\n",
       "      <td>Knee</td>\n",
       "    </tr>\n",
       "    <tr>\n",
       "      <th>3</th>\n",
       "      <td>5</td>\n",
       "      <td>Natural</td>\n",
       "      <td>48</td>\n",
       "      <td>9</td>\n",
       "      <td>7</td>\n",
       "      <td>Outdoor</td>\n",
       "      <td>Cloudy</td>\n",
       "      <td>Kickoff</td>\n",
       "      <td>WR</td>\n",
       "      <td>WR</td>\n",
       "      <td>Knee</td>\n",
       "    </tr>\n",
       "    <tr>\n",
       "      <th>4</th>\n",
       "      <td>15</td>\n",
       "      <td>Natural</td>\n",
       "      <td>79</td>\n",
       "      <td>35</td>\n",
       "      <td>7</td>\n",
       "      <td>Outdoor</td>\n",
       "      <td>Clear</td>\n",
       "      <td>Pass</td>\n",
       "      <td>OL</td>\n",
       "      <td>T</td>\n",
       "      <td>Knee</td>\n",
       "    </tr>\n",
       "  </tbody>\n",
       "</table>\n",
       "</div>"
      ],
      "text/plain": [
       "   PlayerGame FieldType  Temperature  PlayerGamePlay  Injury_Duration  \\\n",
       "0           3   Natural           89               7               42   \n",
       "1           8   Natural           81              15               28   \n",
       "2          19   Natural           79               7               28   \n",
       "3           5   Natural           48               9                7   \n",
       "4          15   Natural           79              35                7   \n",
       "\n",
       "  StadiumType Weather PlayType RosterPosition Position BodyPart  \n",
       "0     Outdoor   Clear     Rush             RB       RB     Knee  \n",
       "1     Outdoor  Cloudy     Pass             TE       TE     Foot  \n",
       "2     Outdoor  Cloudy     Rush              S       FS     Knee  \n",
       "3     Outdoor  Cloudy  Kickoff             WR       WR     Knee  \n",
       "4     Outdoor   Clear     Pass             OL        T     Knee  "
      ]
     },
     "execution_count": 28,
     "metadata": {},
     "output_type": "execute_result"
    }
   ],
   "source": [
    "play_injuries = pd.read_csv('play_injuries_inner.csv')\n",
    "play_injuries.drop(columns=[\"PlayKey\", \"PlayerDay\"], inplace=True)\n",
    "play_injuries.head()\n"
   ]
  },
  {
   "cell_type": "code",
   "execution_count": 29,
   "metadata": {},
   "outputs": [
    {
     "data": {
      "text/html": [
       "<div>\n",
       "<style scoped>\n",
       "    .dataframe tbody tr th:only-of-type {\n",
       "        vertical-align: middle;\n",
       "    }\n",
       "\n",
       "    .dataframe tbody tr th {\n",
       "        vertical-align: top;\n",
       "    }\n",
       "\n",
       "    .dataframe thead th {\n",
       "        text-align: right;\n",
       "    }\n",
       "</style>\n",
       "<table border=\"1\" class=\"dataframe\">\n",
       "  <thead>\n",
       "    <tr style=\"text-align: right;\">\n",
       "      <th></th>\n",
       "      <th>PC 1</th>\n",
       "      <th>PC 2</th>\n",
       "      <th>PC 3</th>\n",
       "    </tr>\n",
       "  </thead>\n",
       "  <tbody>\n",
       "    <tr>\n",
       "      <th>0</th>\n",
       "      <td>-7.830629</td>\n",
       "      <td>36.138803</td>\n",
       "      <td>-10.131573</td>\n",
       "    </tr>\n",
       "    <tr>\n",
       "      <th>1</th>\n",
       "      <td>-5.250892</td>\n",
       "      <td>17.770756</td>\n",
       "      <td>-9.189019</td>\n",
       "    </tr>\n",
       "    <tr>\n",
       "      <th>2</th>\n",
       "      <td>-12.493284</td>\n",
       "      <td>17.836980</td>\n",
       "      <td>-5.246369</td>\n",
       "    </tr>\n",
       "    <tr>\n",
       "      <th>3</th>\n",
       "      <td>-19.780885</td>\n",
       "      <td>-11.241868</td>\n",
       "      <td>11.602781</td>\n",
       "    </tr>\n",
       "    <tr>\n",
       "      <th>4</th>\n",
       "      <td>6.635204</td>\n",
       "      <td>-8.060229</td>\n",
       "      <td>-17.615638</td>\n",
       "    </tr>\n",
       "  </tbody>\n",
       "</table>\n",
       "</div>"
      ],
      "text/plain": [
       "        PC 1       PC 2       PC 3\n",
       "0  -7.830629  36.138803 -10.131573\n",
       "1  -5.250892  17.770756  -9.189019\n",
       "2 -12.493284  17.836980  -5.246369\n",
       "3 -19.780885 -11.241868  11.602781\n",
       "4   6.635204  -8.060229 -17.615638"
      ]
     },
     "execution_count": 29,
     "metadata": {},
     "output_type": "execute_result"
    }
   ],
   "source": [
    "# Generate our categorical variable lists\n",
    "play_injuries_categorical = play_injuries.dtypes[play_injuries.dtypes == 'object'].index.tolist()\n",
    "\n",
    "# Use get_dummies() to create variables for the text features\n",
    "X = pd.get_dummies(play_injuries, columns=play_injuries_categorical)\n",
    "\n",
    "X_pca = PCA(n_components=3).fit_transform(X)\n",
    "\n",
    "# Create a DF with the three principal components\n",
    "pcs_df = pd.DataFrame(data=X_pca, columns=['PC 1', 'PC 2', 'PC 3'])\n",
    "pcs_df = pcs_df.set_index(play_injuries.index)\n",
    "pcs_df.head()"
   ]
  },
  {
   "cell_type": "code",
   "execution_count": 30,
   "metadata": {},
   "outputs": [
    {
     "name": "stderr",
     "output_type": "stream",
     "text": [
      "c:\\Users\\justi\\anaconda3\\envs\\mlenv\\lib\\site-packages\\sklearn\\cluster\\_kmeans.py:1037: UserWarning:\n",
      "\n",
      "KMeans is known to have a memory leak on Windows with MKL, when there are less chunks than available threads. You can avoid it by setting the environment variable OMP_NUM_THREADS=1.\n",
      "\n"
     ]
    },
    {
     "data": {},
     "metadata": {},
     "output_type": "display_data"
    },
    {
     "data": {
      "application/vnd.holoviews_exec.v0+json": "",
      "text/html": [
       "<div id='1120'>\n",
       "\n",
       "\n",
       "\n",
       "\n",
       "\n",
       "  <div class=\"bk-root\" id=\"e66a0527-032c-4f8b-9901-a50534fe15b4\" data-root-id=\"1120\"></div>\n",
       "</div>\n",
       "<script type=\"application/javascript\">(function(root) {\n",
       "  function embed_document(root) {\n",
       "    var docs_json = {\"ecd9ae62-b057-478e-b11c-506d8dc514d8\":{\"defs\":[{\"extends\":null,\"module\":null,\"name\":\"ReactiveHTML1\",\"overrides\":[],\"properties\":[]},{\"extends\":null,\"module\":null,\"name\":\"FlexBox1\",\"overrides\":[],\"properties\":[{\"default\":\"flex-start\",\"kind\":null,\"name\":\"align_content\"},{\"default\":\"flex-start\",\"kind\":null,\"name\":\"align_items\"},{\"default\":\"row\",\"kind\":null,\"name\":\"flex_direction\"},{\"default\":\"wrap\",\"kind\":null,\"name\":\"flex_wrap\"},{\"default\":\"flex-start\",\"kind\":null,\"name\":\"justify_content\"}]},{\"extends\":null,\"module\":null,\"name\":\"GridStack1\",\"overrides\":[],\"properties\":[{\"default\":\"warn\",\"kind\":null,\"name\":\"mode\"},{\"default\":null,\"kind\":null,\"name\":\"ncols\"},{\"default\":null,\"kind\":null,\"name\":\"nrows\"},{\"default\":true,\"kind\":null,\"name\":\"allow_resize\"},{\"default\":true,\"kind\":null,\"name\":\"allow_drag\"},{\"default\":[],\"kind\":null,\"name\":\"state\"}]},{\"extends\":null,\"module\":null,\"name\":\"click1\",\"overrides\":[],\"properties\":[{\"default\":\"\",\"kind\":null,\"name\":\"terminal_output\"},{\"default\":\"\",\"kind\":null,\"name\":\"debug_name\"},{\"default\":0,\"kind\":null,\"name\":\"clears\"}]},{\"extends\":null,\"module\":null,\"name\":\"TemplateActions1\",\"overrides\":[],\"properties\":[{\"default\":0,\"kind\":null,\"name\":\"open_modal\"},{\"default\":0,\"kind\":null,\"name\":\"close_modal\"}]},{\"extends\":null,\"module\":null,\"name\":\"MaterialTemplateActions1\",\"overrides\":[],\"properties\":[{\"default\":0,\"kind\":null,\"name\":\"open_modal\"},{\"default\":0,\"kind\":null,\"name\":\"close_modal\"}]}],\"roots\":{\"references\":[{\"attributes\":{\"coordinates\":null,\"data_source\":{\"id\":\"1155\"},\"glyph\":{\"id\":\"1158\"},\"group\":null,\"hover_glyph\":null,\"muted_glyph\":{\"id\":\"1160\"},\"nonselection_glyph\":{\"id\":\"1159\"},\"selection_glyph\":{\"id\":\"1163\"},\"view\":{\"id\":\"1162\"}},\"id\":\"1161\",\"type\":\"GlyphRenderer\"},{\"attributes\":{\"data\":{\"inertia\":{\"__ndarray__\":\"ad7fztI370C2PtvJcb/kQNx4T013z9tA4dumj/VJ1kAsPGVotlbRQLLdhZKs+8lAqOZh57YoxkAcc8/vtkDDQHRR7cMaUMFAZai/U+ATwEA=\",\"dtype\":\"float64\",\"order\":\"little\",\"shape\":[10]},\"k\":[1,2,3,4,5,6,7,8,9,10]},\"selected\":{\"id\":\"1156\"},\"selection_policy\":{\"id\":\"1179\"}},\"id\":\"1155\",\"type\":\"ColumnDataSource\"},{\"attributes\":{},\"id\":\"1166\",\"type\":\"BasicTickFormatter\"},{\"attributes\":{\"line_color\":\"#30a2da\",\"line_width\":2,\"x\":{\"field\":\"k\"},\"y\":{\"field\":\"inertia\"}},\"id\":\"1163\",\"type\":\"Line\"},{\"attributes\":{\"below\":[{\"id\":\"1134\"}],\"center\":[{\"id\":\"1137\"},{\"id\":\"1141\"}],\"height\":300,\"left\":[{\"id\":\"1138\"}],\"margin\":[5,5,5,5],\"min_border_bottom\":10,\"min_border_left\":10,\"min_border_right\":10,\"min_border_top\":10,\"renderers\":[{\"id\":\"1161\"}],\"sizing_mode\":\"fixed\",\"title\":{\"id\":\"1126\"},\"toolbar\":{\"id\":\"1148\"},\"width\":700,\"x_range\":{\"id\":\"1122\"},\"x_scale\":{\"id\":\"1130\"},\"y_range\":{\"id\":\"1123\"},\"y_scale\":{\"id\":\"1132\"}},\"id\":\"1125\",\"subtype\":\"Figure\",\"type\":\"Plot\"},{\"attributes\":{\"source\":{\"id\":\"1155\"}},\"id\":\"1162\",\"type\":\"CDSView\"},{\"attributes\":{\"tools\":[{\"id\":\"1124\"},{\"id\":\"1142\"},{\"id\":\"1143\"},{\"id\":\"1144\"},{\"id\":\"1145\"},{\"id\":\"1146\"}]},\"id\":\"1148\",\"type\":\"Toolbar\"},{\"attributes\":{\"line_alpha\":0.1,\"line_color\":\"#30a2da\",\"line_width\":2,\"x\":{\"field\":\"k\"},\"y\":{\"field\":\"inertia\"}},\"id\":\"1159\",\"type\":\"Line\"},{\"attributes\":{\"end\":69504.87127297603,\"reset_end\":69504.87127297603,\"reset_start\":2661.469036063677,\"start\":2661.469036063677,\"tags\":[[[\"inertia\",\"inertia\",null]]]},\"id\":\"1123\",\"type\":\"Range1d\"},{\"attributes\":{},\"id\":\"1142\",\"type\":\"SaveTool\"},{\"attributes\":{\"line_alpha\":0.2,\"line_color\":\"#30a2da\",\"line_width\":2,\"x\":{\"field\":\"k\"},\"y\":{\"field\":\"inertia\"}},\"id\":\"1160\",\"type\":\"Line\"},{\"attributes\":{},\"id\":\"1143\",\"type\":\"PanTool\"},{\"attributes\":{},\"id\":\"1172\",\"type\":\"AllLabels\"},{\"attributes\":{},\"id\":\"1146\",\"type\":\"ResetTool\"},{\"attributes\":{},\"id\":\"1144\",\"type\":\"WheelZoomTool\"},{\"attributes\":{\"margin\":[5,5,5,5],\"name\":\"HSpacer01810\",\"sizing_mode\":\"stretch_width\"},\"id\":\"1191\",\"type\":\"Spacer\"},{\"attributes\":{\"overlay\":{\"id\":\"1147\"}},\"id\":\"1145\",\"type\":\"BoxZoomTool\"},{\"attributes\":{\"coordinates\":null,\"group\":null,\"text\":\"Elbow Curve\",\"text_color\":\"black\",\"text_font_size\":\"12pt\"},\"id\":\"1126\",\"type\":\"Title\"},{\"attributes\":{\"callback\":null,\"renderers\":[{\"id\":\"1161\"}],\"tags\":[\"hv_created\"],\"tooltips\":[[\"k\",\"@{k}\"],[\"inertia\",\"@{inertia}\"]]},\"id\":\"1124\",\"type\":\"HoverTool\"},{\"attributes\":{},\"id\":\"1130\",\"type\":\"LinearScale\"},{\"attributes\":{},\"id\":\"1139\",\"type\":\"BasicTicker\"},{\"attributes\":{},\"id\":\"1156\",\"type\":\"Selection\"},{\"attributes\":{\"margin\":[5,5,5,5],\"name\":\"HSpacer01809\",\"sizing_mode\":\"stretch_width\"},\"id\":\"1121\",\"type\":\"Spacer\"},{\"attributes\":{\"end\":10.0,\"reset_end\":10.0,\"reset_start\":1.0,\"start\":1.0,\"tags\":[[[\"k\",\"k\",null]]]},\"id\":\"1122\",\"type\":\"Range1d\"},{\"attributes\":{\"axis\":{\"id\":\"1134\"},\"coordinates\":null,\"grid_line_color\":null,\"group\":null,\"ticker\":null},\"id\":\"1137\",\"type\":\"Grid\"},{\"attributes\":{},\"id\":\"1132\",\"type\":\"LinearScale\"},{\"attributes\":{\"ticks\":[1,2,3,4,5,6,7,8,9,10]},\"id\":\"1164\",\"type\":\"FixedTicker\"},{\"attributes\":{\"bottom_units\":\"screen\",\"coordinates\":null,\"fill_alpha\":0.5,\"fill_color\":\"lightgrey\",\"group\":null,\"left_units\":\"screen\",\"level\":\"overlay\",\"line_alpha\":1.0,\"line_color\":\"black\",\"line_dash\":[4,4],\"line_width\":2,\"right_units\":\"screen\",\"syncable\":false,\"top_units\":\"screen\"},\"id\":\"1147\",\"type\":\"BoxAnnotation\"},{\"attributes\":{\"axis_label\":\"inertia\",\"coordinates\":null,\"formatter\":{\"id\":\"1171\"},\"group\":null,\"major_label_policy\":{\"id\":\"1172\"},\"ticker\":{\"id\":\"1139\"}},\"id\":\"1138\",\"type\":\"LinearAxis\"},{\"attributes\":{\"axis_label\":\"k\",\"coordinates\":null,\"formatter\":{\"id\":\"1166\"},\"group\":null,\"major_label_policy\":{\"id\":\"1167\"},\"ticker\":{\"id\":\"1164\"}},\"id\":\"1134\",\"type\":\"LinearAxis\"},{\"attributes\":{},\"id\":\"1167\",\"type\":\"AllLabels\"},{\"attributes\":{},\"id\":\"1171\",\"type\":\"BasicTickFormatter\"},{\"attributes\":{},\"id\":\"1179\",\"type\":\"UnionRenderers\"},{\"attributes\":{\"children\":[{\"id\":\"1121\"},{\"id\":\"1125\"},{\"id\":\"1191\"}],\"margin\":[0,0,0,0],\"name\":\"Row01805\",\"tags\":[\"embedded\"]},\"id\":\"1120\",\"type\":\"Row\"},{\"attributes\":{\"line_color\":\"#30a2da\",\"line_width\":2,\"x\":{\"field\":\"k\"},\"y\":{\"field\":\"inertia\"}},\"id\":\"1158\",\"type\":\"Line\"},{\"attributes\":{\"axis\":{\"id\":\"1138\"},\"coordinates\":null,\"dimension\":1,\"grid_line_color\":null,\"group\":null,\"ticker\":null},\"id\":\"1141\",\"type\":\"Grid\"}],\"root_ids\":[\"1120\"]},\"title\":\"Bokeh Application\",\"version\":\"2.4.2\"}};\n",
       "    var render_items = [{\"docid\":\"ecd9ae62-b057-478e-b11c-506d8dc514d8\",\"root_ids\":[\"1120\"],\"roots\":{\"1120\":\"e66a0527-032c-4f8b-9901-a50534fe15b4\"}}];\n",
       "    root.Bokeh.embed.embed_items_notebook(docs_json, render_items);\n",
       "  }\n",
       "  if (root.Bokeh !== undefined && root.Bokeh.Panel !== undefined) {\n",
       "    embed_document(root);\n",
       "  } else {\n",
       "    var attempts = 0;\n",
       "    var timer = setInterval(function(root) {\n",
       "      if (root.Bokeh !== undefined && root.Bokeh.Panel !== undefined) {\n",
       "        clearInterval(timer);\n",
       "        embed_document(root);\n",
       "      } else if (document.readyState == \"complete\") {\n",
       "        attempts++;\n",
       "        if (attempts > 200) {\n",
       "          clearInterval(timer);\n",
       "          console.log(\"Bokeh: ERROR: Unable to run BokehJS code because BokehJS library is missing\");\n",
       "        }\n",
       "      }\n",
       "    }, 25, root)\n",
       "  }\n",
       "})(window);</script>"
      ],
      "text/plain": [
       ":Curve   [k]   (inertia)"
      ]
     },
     "execution_count": 30,
     "metadata": {
      "application/vnd.holoviews_exec.v0+json": {
       "id": "1120"
      }
     },
     "output_type": "execute_result"
    }
   ],
   "source": [
    "# Find k-value with elbow curve\n",
    "inertia = []\n",
    "k = list(range(1, 11))\n",
    "\n",
    "for i in k:\n",
    "    km = KMeans(n_clusters=i, random_state=0)\n",
    "    km.fit(pcs_df)\n",
    "    inertia.append(km.inertia_)\n",
    "\n",
    "elbow_data = {\"k\": k, 'inertia': inertia}\n",
    "df_elbow = pd.DataFrame(elbow_data)\n",
    "df_elbow.hvplot.line(x='k', y='inertia', title='Elbow Curve', xticks=k)\n"
   ]
  },
  {
   "cell_type": "markdown",
   "metadata": {},
   "source": [
    "The New Elbow is either 3 or 6"
   ]
  },
  {
   "cell_type": "markdown",
   "metadata": {},
   "source": [
    "### The 3 - Means Model"
   ]
  },
  {
   "cell_type": "code",
   "execution_count": 31,
   "metadata": {},
   "outputs": [
    {
     "name": "stdout",
     "output_type": "stream",
     "text": [
      "[1 1 1 0 0 2 2 2 1 0 0 1 0 1 1 1 0 0 2 2 2 0 0 2 1 0 0 1 2 1 1 2 2 0 1 0 2\n",
      " 1 0 0 1 1 1 2 0 2 0 0 0 2 0 1 2 0 0 0 0 2 0 0 1 0 0 2 0 0 0 0 0]\n"
     ]
    }
   ],
   "source": [
    "# Initialize the k-means model\n",
    "model = KMeans(n_clusters=3, random_state=5)\n",
    "\n",
    "# Fit the model\n",
    "model.fit(pcs_df)\n",
    "\n",
    "# Predict the clusters\n",
    "predictions = model.predict(pcs_df)\n",
    "print(predictions)\n"
   ]
  },
  {
   "cell_type": "code",
   "execution_count": 32,
   "metadata": {},
   "outputs": [],
   "source": [
    "# Concatenate the data with the Play_Injuries dataframe\n",
    "clustered_play_injuries = pd.concat([play_injuries, pcs_df], axis=1)\n",
    "\n",
    "# Add new column for the \"Class\", based on the predictions\n",
    "clustered_play_injuries['Class'] = predictions\n"
   ]
  },
  {
   "cell_type": "code",
   "execution_count": 33,
   "metadata": {},
   "outputs": [
    {
     "data": {
      "application/vnd.plotly.v1+json": {
       "config": {
        "plotlyServerURL": "https://plot.ly"
       },
       "data": [
        {
         "customdata": [
          [
           42,
           "RB",
           "Clear",
           "Rush",
           "Outdoor",
           "Knee",
           "RB",
           89
          ],
          [
           28,
           "TE",
           "Cloudy",
           "Pass",
           "Outdoor",
           "Foot",
           "TE",
           81
          ],
          [
           28,
           "FS",
           "Cloudy",
           "Rush",
           "Outdoor",
           "Knee",
           "S",
           79
          ],
          [
           42,
           "ILB",
           "Clear",
           "Pass",
           "Indoor",
           "Knee",
           "LB",
           74
          ],
          [
           42,
           "WR",
           "Cloudy",
           "Kickoff",
           "Outdoor",
           "Foot",
           "WR",
           76
          ],
          [
           42,
           "DE",
           "Clear",
           "Rush",
           "Open Dome",
           "Ankle",
           "DL",
           78
          ],
          [
           42,
           "SS",
           "Cloudy",
           "Punt",
           "Outdoor",
           "Knee",
           "S",
           47
          ],
          [
           42,
           "OLB",
           "Cloudy",
           "Punt",
           "Indoor",
           "Knee",
           "LB",
           84
          ],
          [
           42,
           "WR",
           "Rain",
           "Punt Returned",
           "Outdoor",
           "Knee",
           "WR",
           70
          ],
          [
           28,
           "WR",
           "Cloudy",
           "Pass",
           "Open Dome",
           "Knee",
           "WR",
           78
          ],
          [
           42,
           "OLB",
           "Clear",
           "Kickoff",
           "Outdoor",
           "Knee",
           "LB",
           88
          ],
          [
           42,
           "OLB",
           "Clear",
           "Punt",
           "Outdoor",
           "Knee",
           "LB",
           33
          ],
          [
           42,
           "MLB",
           "Cloudy",
           "Pass",
           "Outdoor",
           "Ankle",
           "LB",
           70
          ],
          [
           42,
           "DE",
           "Clear",
           "Pass",
           "Outdoor",
           "Foot",
           "DL",
           38
          ],
          [
           42,
           "DT",
           "Clear",
           "Rush",
           "Outdoor",
           "Knee",
           "DL",
           39
          ],
          [
           42,
           "OLB",
           "Cloudy",
           "Pass",
           "Outdoor",
           "Ankle",
           "LB",
           46
          ],
          [
           42,
           "RB",
           "Clear",
           "Rush",
           "Outdoor",
           "Ankle",
           "RB",
           88
          ],
          [
           42,
           "RB",
           "Clear",
           "Rush",
           "Open Dome",
           "Ankle",
           "RB",
           60
          ],
          [
           42,
           "WR",
           "Cloudy",
           "Kickoff",
           "Closed Dome",
           "Knee",
           "WR",
           68
          ]
         ],
         "hovertemplate": "<b>%{hovertext}</b><br><br>Class=%{marker.color}<br>PC 1=%{x}<br>PC 2=%{y}<br>PC 3=%{z}<br>Injury_Duration=%{customdata[0]}<br>Position=%{customdata[1]}<br>Weather=%{customdata[2]}<br>PlayType=%{customdata[3]}<br>StadiumType=%{customdata[4]}<br>BodyPart=%{customdata[5]}<br>RosterPosition=%{customdata[6]}<br>Temperature=%{customdata[7]}<extra></extra>",
         "hovertext": [
          "Natural",
          "Natural",
          "Natural",
          "Synthetic",
          "Synthetic",
          "Synthetic",
          "Synthetic",
          "Synthetic",
          "Synthetic",
          "Synthetic",
          "Natural",
          "Natural",
          "Natural",
          "Natural",
          "Synthetic",
          "Synthetic",
          "Natural",
          "Synthetic",
          "Synthetic"
         ],
         "legendgroup": "1",
         "marker": {
          "color": [
           1,
           1,
           1,
           1,
           1,
           1,
           1,
           1,
           1,
           1,
           1,
           1,
           1,
           1,
           1,
           1,
           1,
           1,
           1
          ],
          "coloraxis": "coloraxis",
          "symbol": "circle"
         },
         "mode": "markers",
         "name": "1",
         "scene": "scene",
         "showlegend": true,
         "type": "scatter3d",
         "x": [
          -7.830628852586754,
          -5.250891638526665,
          -12.493283554118424,
          3.133926254677844,
          6.600562758410352,
          -14.064539460904447,
          -14.499412896801584,
          15.434012989341612,
          16.03501968213423,
          -16.47147590944882,
          -13.520897146245082,
          -11.688425028358271,
          -13.37482920991879,
          12.324385960556631,
          3.3244696761387744,
          13.715093118041704,
          7.157697063987873,
          5.015806213528721,
          -3.3256447108734504
         ],
         "y": [
          36.13880340989634,
          17.770756140871075,
          17.83697981991228,
          24.14679641001593,
          25.345811221490752,
          33.605351659688274,
          19.32246545249619,
          25.981581413957723,
          18.17226157844521,
          19.44485752983106,
          37.623384157796224,
          13.104186538538709,
          29.190162697448493,
          6.212459064696203,
          8.322887293043971,
          9.078916041170485,
          30.637020611824212,
          18.253932523018438,
          25.633867852333186
         ],
         "z": [
          -10.131573100531636,
          -9.189019208790649,
          -5.246368734092204,
          3.51274070836789,
          0.0056772562065762365,
          0.20370466341789312,
          28.574102051367138,
          -8.209325497709212,
          5.479524184314473,
          -4.518047353997805,
          -8.60019696064565,
          39.89632649711992,
          7.81078150749052,
          33.609272528565796,
          34.98810645001651,
          26.497835915394287,
          -10.948368805931064,
          14.957834826167423,
          7.838097081747022
         ]
        },
        {
         "customdata": [
          [
           7,
           "WR",
           "Cloudy",
           "Kickoff",
           "Outdoor",
           "Knee",
           "WR",
           48
          ],
          [
           7,
           "T",
           "Clear",
           "Pass",
           "Outdoor",
           "Knee",
           "OL",
           79
          ],
          [
           1,
           "WR",
           "Cloudy",
           "Pass",
           "Outdoor",
           "Ankle",
           "WR",
           61
          ],
          [
           7,
           "ILB",
           "Cloudy",
           "Punt",
           "Outdoor",
           "Ankle",
           "LB",
           65
          ],
          [
           7,
           "WR",
           "Rain",
           "Punt Returned",
           "Outdoor",
           "Ankle",
           "WR",
           58
          ],
          [
           7,
           "FS",
           "Cloudy",
           "Pass",
           "Outdoor",
           "Knee",
           "S",
           68
          ],
          [
           1,
           "OLB",
           "Indoor",
           "Kickoff",
           "Indoor",
           "Knee",
           "LB",
           70
          ],
          [
           7,
           "OLB",
           "Cloudy",
           "Rush",
           "Outdoor",
           "Ankle",
           "LB",
           42
          ],
          [
           7,
           "OLB",
           "Clear",
           "Rush",
           "Outdoor",
           "Ankle",
           "LB",
           70
          ],
          [
           1,
           "C",
           "Cloudy",
           "Pass",
           "Outdoor",
           "Ankle",
           "OL",
           75
          ],
          [
           1,
           "C",
           "Cloudy",
           "Rush",
           "Closed Dome",
           "Ankle",
           "OL",
           57
          ],
          [
           1,
           "MLB",
           "Clear",
           "Rush",
           "Outdoor",
           "Ankle",
           "LB",
           89
          ],
          [
           7,
           "DT",
           "Cloudy",
           "Rush",
           "Outdoor",
           "Knee",
           "DL",
           62
          ],
          [
           1,
           "WR",
           "Rain",
           "Pass",
           "Outdoor",
           "Knee",
           "WR",
           52
          ],
          [
           1,
           "WR",
           "Clear",
           "Pass",
           "Indoor",
           "Ankle",
           "WR",
           70
          ],
          [
           7,
           "WR",
           "Clear",
           "Pass",
           "Outdoor",
           "Ankle",
           "WR",
           44
          ],
          [
           7,
           "DE",
           "Windy",
           "Kickoff",
           "Outdoor",
           "Knee",
           "DL",
           70
          ],
          [
           1,
           "WR",
           "Cloudy",
           "Rush",
           "Outdoor",
           "Ankle",
           "WR",
           81
          ],
          [
           1,
           "FS",
           "Clear",
           "Punt",
           "Outdoor",
           "Ankle",
           "S",
           38
          ],
          [
           7,
           "C",
           "Clear",
           "Rush",
           "Outdoor",
           "Ankle",
           "OL",
           79
          ],
          [
           7,
           "OLB",
           "Cloudy",
           "Punt",
           "Open Dome",
           "Knee",
           "LB",
           76
          ],
          [
           1,
           "WR",
           "Rain",
           "Rush",
           "Outdoor",
           "Ankle",
           "WR",
           39
          ],
          [
           7,
           "OLB",
           "Clear",
           "Punt",
           "Outdoor",
           "Knee",
           "LB",
           89
          ],
          [
           7,
           "DE",
           "Clear",
           "Rush",
           "Outdoor",
           "Ankle",
           "DL",
           75
          ],
          [
           7,
           "TE",
           "Cloudy",
           "Kickoff Returned",
           "Outdoor",
           "Knee",
           "TE",
           45
          ],
          [
           7,
           "MLB",
           "Clear",
           "Punt",
           "Outdoor",
           "Knee",
           "LB",
           38
          ],
          [
           1,
           "LB",
           "Cloudy",
           "Punt",
           "Outdoor",
           "Ankle",
           "LB",
           80
          ],
          [
           7,
           "RB",
           "Cloudy",
           "Pass",
           "Outdoor",
           "Knee",
           "RB",
           55
          ],
          [
           1,
           "WR",
           "Cloudy",
           "Pass",
           "Outdoor",
           "Knee",
           "WR",
           71
          ],
          [
           7,
           "CB",
           "Indoor",
           "Pass",
           "Closed Dome",
           "Knee",
           "CB",
           68
          ],
          [
           7,
           "CB",
           "Indoor",
           "Pass",
           "Closed Dome",
           "Ankle",
           "CB",
           68
          ],
          [
           7,
           "DB",
           "Clear",
           "Kickoff Not Returned",
           "Indoor",
           "Knee",
           "S",
           74
          ],
          [
           7,
           "CB",
           "Cloudy",
           "Punt Returned",
           "Outdoor",
           "Ankle",
           "CB",
           44
          ]
         ],
         "hovertemplate": "<b>%{hovertext}</b><br><br>Class=%{marker.color}<br>PC 1=%{x}<br>PC 2=%{y}<br>PC 3=%{z}<br>Injury_Duration=%{customdata[0]}<br>Position=%{customdata[1]}<br>Weather=%{customdata[2]}<br>PlayType=%{customdata[3]}<br>StadiumType=%{customdata[4]}<br>BodyPart=%{customdata[5]}<br>RosterPosition=%{customdata[6]}<br>Temperature=%{customdata[7]}<extra></extra>",
         "hovertext": [
          "Natural",
          "Natural",
          "Natural",
          "Synthetic",
          "Natural",
          "Natural",
          "Synthetic",
          "Synthetic",
          "Natural",
          "Synthetic",
          "Synthetic",
          "Natural",
          "Synthetic",
          "Natural",
          "Synthetic",
          "Natural",
          "Natural",
          "Natural",
          "Natural",
          "Natural",
          "Natural",
          "Synthetic",
          "Natural",
          "Natural",
          "Synthetic",
          "Natural",
          "Natural",
          "Synthetic",
          "Natural",
          "Synthetic",
          "Synthetic",
          "Synthetic",
          "Synthetic"
         ],
         "legendgroup": "0",
         "marker": {
          "color": [
           0,
           0,
           0,
           0,
           0,
           0,
           0,
           0,
           0,
           0,
           0,
           0,
           0,
           0,
           0,
           0,
           0,
           0,
           0,
           0,
           0,
           0,
           0,
           0,
           0,
           0,
           0,
           0,
           0,
           0,
           0,
           0,
           0
          ],
          "coloraxis": "coloraxis",
          "symbol": "diamond"
         },
         "mode": "markers",
         "name": "0",
         "scene": "scene",
         "showlegend": true,
         "type": "scatter3d",
         "x": [
          -19.78088463241628,
          6.635203752723765,
          -21.941890094093104,
          -23.724507120529935,
          -13.707656419568938,
          -14.132692961230415,
          -21.71955419160772,
          -19.938881118617843,
          -15.942294049650666,
          -16.57512591549209,
          -15.18272544877122,
          -15.019992026397624,
          -18.93900069627023,
          -17.78343216153803,
          4.616038351554789,
          -9.352402119485554,
          -17.621500263058287,
          -24.630953941204503,
          -13.736585526085737,
          -6.417381702751974,
          -2.273288329596982,
          -4.913105868347103,
          -11.130746002441997,
          -23.060644671947614,
          -25.110240551240658,
          -23.008962255591513,
          -0.4610414753764732,
          -12.85790626171669,
          -14.049354762286303,
          -10.082250884613375,
          -10.07720194819628,
          -25.819515542526677,
          -10.465061540080034
         ],
         "y": [
          -11.241867750139399,
          -8.06022862912387,
          -11.000269406114125,
          -1.9733133810532146,
          -12.253558157154453,
          -4.051364885554276,
          -6.176156112967889,
          -14.340206988318684,
          -2.4346409747946822,
          -6.4433081249415975,
          -16.509548609567272,
          -0.4760110346017572,
          -5.844236286235651,
          -16.037913000632123,
          -18.77863913984225,
          -17.60719092763208,
          -2.682564774069412,
          -1.538570635907241,
          -23.757358737276583,
          -4.072007345937307,
          -5.249838099062617,
          -27.534959096852887,
          3.9294317503138325,
          1.5924494194165795,
          -12.518872250073878,
          -14.90364368658016,
          -9.304844125373558,
          -10.385111522555214,
          -8.763801608654406,
          -6.507923018820589,
          -6.51751471049178,
          1.6987430092309943,
          -16.538947061807146
         ],
         "z": [
          11.602781034108135,
          -17.61563816802181,
          -2.067570044413196,
          -3.4773594198534186,
          5.013711778933809,
          -7.112926380386232,
          -10.91538299069538,
          17.440873621688393,
          -8.805151400875964,
          -15.306553811980445,
          2.067207391900178,
          -28.26149085999148,
          -0.4983793889989413,
          5.187130766779694,
          -10.58239595660162,
          14.944254132459124,
          -7.87280309054263,
          -19.349398875538565,
          17.373234508773756,
          -15.768675410885738,
          -14.932018719279242,
          16.604223739904295,
          -25.923841314628923,
          -11.929733294633138,
          16.48298632691333,
          21.196169008988722,
          -21.941530317879668,
          4.513255200549481,
          -12.307832932059435,
          -6.5817395924885,
          -6.5841620955668025,
          -10.355365050443456,
          14.475937741038894
         ]
        },
        {
         "customdata": [
          [
           7,
           "FS",
           "Indoor",
           "Pass",
           "Indoor",
           "Ankle",
           "S",
           68
          ],
          [
           42,
           "SS",
           "Clear",
           "Pass",
           "Outdoor",
           "Ankle",
           "S",
           63
          ],
          [
           7,
           "CB",
           "Rain",
           "Pass",
           "Outdoor",
           "Knee",
           "CB",
           58
          ],
          [
           42,
           "SS",
           "Clear",
           "Pass",
           "Outdoor",
           "Knee",
           "S",
           72
          ],
          [
           1,
           "OLB",
           "Clear",
           "Rush",
           "Outdoor",
           "Ankle",
           "LB",
           53
          ],
          [
           1,
           "SS",
           "Clear",
           "Pass",
           "Outdoor",
           "Knee",
           "S",
           89
          ],
          [
           28,
           "OLB",
           "Cloudy",
           "Rush",
           "Outdoor",
           "Knee",
           "LB",
           46
          ],
          [
           28,
           "CB",
           "Clear",
           "Rush",
           "Open Dome",
           "Ankle",
           "CB",
           73
          ],
          [
           42,
           "C",
           "Cloudy",
           "Pass",
           "Outdoor",
           "Foot",
           "OL",
           68
          ],
          [
           42,
           "WR",
           "Cloudy",
           "Kickoff",
           "Open Dome",
           "Ankle",
           "WR",
           89
          ],
          [
           7,
           "DE",
           "Rain",
           "Pass",
           "Outdoor",
           "Knee",
           "DL",
           61
          ],
          [
           28,
           "MLB",
           "Cloudy",
           "Pass",
           "Outdoor",
           "Ankle",
           "LB",
           75
          ],
          [
           7,
           "OLB",
           "Cloudy",
           "Rush",
           "Outdoor",
           "Knee",
           "LB",
           67
          ],
          [
           7,
           "WR",
           "Clear",
           "Pass",
           "Outdoor",
           "Ankle",
           "WR",
           68
          ],
          [
           7,
           "FS",
           "Clear",
           "Pass",
           "Outdoor",
           "Ankle",
           "S",
           45
          ],
          [
           42,
           "SS",
           "Clear",
           "Pass",
           "Outdoor",
           "Ankle",
           "S",
           61
          ],
          [
           28,
           "CB",
           "Cloudy",
           "Punt Not Returned",
           "Outdoor",
           "Foot",
           "CB",
           55
          ]
         ],
         "hovertemplate": "<b>%{hovertext}</b><br><br>Class=%{marker.color}<br>PC 1=%{x}<br>PC 2=%{y}<br>PC 3=%{z}<br>Injury_Duration=%{customdata[0]}<br>Position=%{customdata[1]}<br>Weather=%{customdata[2]}<br>PlayType=%{customdata[3]}<br>StadiumType=%{customdata[4]}<br>BodyPart=%{customdata[5]}<br>RosterPosition=%{customdata[6]}<br>Temperature=%{customdata[7]}<extra></extra>",
         "hovertext": [
          "Synthetic",
          "Synthetic",
          "Natural",
          "Natural",
          "Natural",
          "Natural",
          "Synthetic",
          "Synthetic",
          "Natural",
          "Synthetic",
          "Natural",
          "Synthetic",
          "Natural",
          "Synthetic",
          "Natural",
          "Synthetic",
          "Synthetic"
         ],
         "legendgroup": "2",
         "marker": {
          "color": [
           2,
           2,
           2,
           2,
           2,
           2,
           2,
           2,
           2,
           2,
           2,
           2,
           2,
           2,
           2,
           2,
           2
          ],
          "coloraxis": "coloraxis",
          "symbol": "square"
         },
         "mode": "markers",
         "name": "2",
         "scene": "scene",
         "showlegend": true,
         "type": "scatter3d",
         "x": [
          12.368563530861595,
          49.97309787034842,
          33.630283780588144,
          36.33512375308228,
          29.57522189538805,
          28.18361161022699,
          29.157370215420677,
          52.09345991314648,
          30.51509573971413,
          50.506106357260094,
          11.224682705591597,
          18.76759204765576,
          21.618591160830753,
          10.521354447577398,
          27.014368134464977,
          25.542102940243257,
          30.957966967017057
         ],
         "y": [
          -13.679787436649367,
          5.600439791383602,
          -25.896795182108033,
          14.113154551273052,
          -32.81507928032926,
          -14.91465714269368,
          -11.095215077491561,
          -6.698202381116013,
          14.196792215904344,
          16.17286142115861,
          -17.024112057138208,
          7.468869817370841,
          -16.95953406055078,
          -13.194313909450589,
          -31.77555371711066,
          12.56733111786725,
          -5.604894183619525
         ],
         "z": [
          -9.501660545440492,
          6.103492921181095,
          -2.446182204532705,
          -0.33211463614350223,
          0.033806382149109894,
          -33.27988144646651,
          19.755092553408,
          -7.131325084729995,
          3.9895674593568224,
          -16.498019748649412,
          -2.5581474967683873,
          -6.961864533787503,
          -9.916174345824448,
          -9.161306400598358,
          12.026868477403733,
          11.015110208014312,
          9.619818296677934
         ]
        }
       ],
       "layout": {
        "coloraxis": {
         "colorbar": {
          "title": {
           "text": "Class"
          }
         },
         "colorscale": [
          [
           0,
           "#0d0887"
          ],
          [
           0.1111111111111111,
           "#46039f"
          ],
          [
           0.2222222222222222,
           "#7201a8"
          ],
          [
           0.3333333333333333,
           "#9c179e"
          ],
          [
           0.4444444444444444,
           "#bd3786"
          ],
          [
           0.5555555555555556,
           "#d8576b"
          ],
          [
           0.6666666666666666,
           "#ed7953"
          ],
          [
           0.7777777777777778,
           "#fb9f3a"
          ],
          [
           0.8888888888888888,
           "#fdca26"
          ],
          [
           1,
           "#f0f921"
          ]
         ]
        },
        "height": 1000,
        "legend": {
         "title": {
          "text": "Class"
         },
         "tracegroupgap": 0,
         "x": 0,
         "y": 1
        },
        "scene": {
         "domain": {
          "x": [
           0,
           1
          ],
          "y": [
           0,
           1
          ]
         },
         "xaxis": {
          "title": {
           "text": "PC 1"
          }
         },
         "yaxis": {
          "title": {
           "text": "PC 2"
          }
         },
         "zaxis": {
          "title": {
           "text": "PC 3"
          }
         }
        },
        "template": {
         "data": {
          "bar": [
           {
            "error_x": {
             "color": "#2a3f5f"
            },
            "error_y": {
             "color": "#2a3f5f"
            },
            "marker": {
             "line": {
              "color": "#E5ECF6",
              "width": 0.5
             },
             "pattern": {
              "fillmode": "overlay",
              "size": 10,
              "solidity": 0.2
             }
            },
            "type": "bar"
           }
          ],
          "barpolar": [
           {
            "marker": {
             "line": {
              "color": "#E5ECF6",
              "width": 0.5
             },
             "pattern": {
              "fillmode": "overlay",
              "size": 10,
              "solidity": 0.2
             }
            },
            "type": "barpolar"
           }
          ],
          "carpet": [
           {
            "aaxis": {
             "endlinecolor": "#2a3f5f",
             "gridcolor": "white",
             "linecolor": "white",
             "minorgridcolor": "white",
             "startlinecolor": "#2a3f5f"
            },
            "baxis": {
             "endlinecolor": "#2a3f5f",
             "gridcolor": "white",
             "linecolor": "white",
             "minorgridcolor": "white",
             "startlinecolor": "#2a3f5f"
            },
            "type": "carpet"
           }
          ],
          "choropleth": [
           {
            "colorbar": {
             "outlinewidth": 0,
             "ticks": ""
            },
            "type": "choropleth"
           }
          ],
          "contour": [
           {
            "colorbar": {
             "outlinewidth": 0,
             "ticks": ""
            },
            "colorscale": [
             [
              0,
              "#0d0887"
             ],
             [
              0.1111111111111111,
              "#46039f"
             ],
             [
              0.2222222222222222,
              "#7201a8"
             ],
             [
              0.3333333333333333,
              "#9c179e"
             ],
             [
              0.4444444444444444,
              "#bd3786"
             ],
             [
              0.5555555555555556,
              "#d8576b"
             ],
             [
              0.6666666666666666,
              "#ed7953"
             ],
             [
              0.7777777777777778,
              "#fb9f3a"
             ],
             [
              0.8888888888888888,
              "#fdca26"
             ],
             [
              1,
              "#f0f921"
             ]
            ],
            "type": "contour"
           }
          ],
          "contourcarpet": [
           {
            "colorbar": {
             "outlinewidth": 0,
             "ticks": ""
            },
            "type": "contourcarpet"
           }
          ],
          "heatmap": [
           {
            "colorbar": {
             "outlinewidth": 0,
             "ticks": ""
            },
            "colorscale": [
             [
              0,
              "#0d0887"
             ],
             [
              0.1111111111111111,
              "#46039f"
             ],
             [
              0.2222222222222222,
              "#7201a8"
             ],
             [
              0.3333333333333333,
              "#9c179e"
             ],
             [
              0.4444444444444444,
              "#bd3786"
             ],
             [
              0.5555555555555556,
              "#d8576b"
             ],
             [
              0.6666666666666666,
              "#ed7953"
             ],
             [
              0.7777777777777778,
              "#fb9f3a"
             ],
             [
              0.8888888888888888,
              "#fdca26"
             ],
             [
              1,
              "#f0f921"
             ]
            ],
            "type": "heatmap"
           }
          ],
          "heatmapgl": [
           {
            "colorbar": {
             "outlinewidth": 0,
             "ticks": ""
            },
            "colorscale": [
             [
              0,
              "#0d0887"
             ],
             [
              0.1111111111111111,
              "#46039f"
             ],
             [
              0.2222222222222222,
              "#7201a8"
             ],
             [
              0.3333333333333333,
              "#9c179e"
             ],
             [
              0.4444444444444444,
              "#bd3786"
             ],
             [
              0.5555555555555556,
              "#d8576b"
             ],
             [
              0.6666666666666666,
              "#ed7953"
             ],
             [
              0.7777777777777778,
              "#fb9f3a"
             ],
             [
              0.8888888888888888,
              "#fdca26"
             ],
             [
              1,
              "#f0f921"
             ]
            ],
            "type": "heatmapgl"
           }
          ],
          "histogram": [
           {
            "marker": {
             "pattern": {
              "fillmode": "overlay",
              "size": 10,
              "solidity": 0.2
             }
            },
            "type": "histogram"
           }
          ],
          "histogram2d": [
           {
            "colorbar": {
             "outlinewidth": 0,
             "ticks": ""
            },
            "colorscale": [
             [
              0,
              "#0d0887"
             ],
             [
              0.1111111111111111,
              "#46039f"
             ],
             [
              0.2222222222222222,
              "#7201a8"
             ],
             [
              0.3333333333333333,
              "#9c179e"
             ],
             [
              0.4444444444444444,
              "#bd3786"
             ],
             [
              0.5555555555555556,
              "#d8576b"
             ],
             [
              0.6666666666666666,
              "#ed7953"
             ],
             [
              0.7777777777777778,
              "#fb9f3a"
             ],
             [
              0.8888888888888888,
              "#fdca26"
             ],
             [
              1,
              "#f0f921"
             ]
            ],
            "type": "histogram2d"
           }
          ],
          "histogram2dcontour": [
           {
            "colorbar": {
             "outlinewidth": 0,
             "ticks": ""
            },
            "colorscale": [
             [
              0,
              "#0d0887"
             ],
             [
              0.1111111111111111,
              "#46039f"
             ],
             [
              0.2222222222222222,
              "#7201a8"
             ],
             [
              0.3333333333333333,
              "#9c179e"
             ],
             [
              0.4444444444444444,
              "#bd3786"
             ],
             [
              0.5555555555555556,
              "#d8576b"
             ],
             [
              0.6666666666666666,
              "#ed7953"
             ],
             [
              0.7777777777777778,
              "#fb9f3a"
             ],
             [
              0.8888888888888888,
              "#fdca26"
             ],
             [
              1,
              "#f0f921"
             ]
            ],
            "type": "histogram2dcontour"
           }
          ],
          "mesh3d": [
           {
            "colorbar": {
             "outlinewidth": 0,
             "ticks": ""
            },
            "type": "mesh3d"
           }
          ],
          "parcoords": [
           {
            "line": {
             "colorbar": {
              "outlinewidth": 0,
              "ticks": ""
             }
            },
            "type": "parcoords"
           }
          ],
          "pie": [
           {
            "automargin": true,
            "type": "pie"
           }
          ],
          "scatter": [
           {
            "marker": {
             "colorbar": {
              "outlinewidth": 0,
              "ticks": ""
             }
            },
            "type": "scatter"
           }
          ],
          "scatter3d": [
           {
            "line": {
             "colorbar": {
              "outlinewidth": 0,
              "ticks": ""
             }
            },
            "marker": {
             "colorbar": {
              "outlinewidth": 0,
              "ticks": ""
             }
            },
            "type": "scatter3d"
           }
          ],
          "scattercarpet": [
           {
            "marker": {
             "colorbar": {
              "outlinewidth": 0,
              "ticks": ""
             }
            },
            "type": "scattercarpet"
           }
          ],
          "scattergeo": [
           {
            "marker": {
             "colorbar": {
              "outlinewidth": 0,
              "ticks": ""
             }
            },
            "type": "scattergeo"
           }
          ],
          "scattergl": [
           {
            "marker": {
             "colorbar": {
              "outlinewidth": 0,
              "ticks": ""
             }
            },
            "type": "scattergl"
           }
          ],
          "scattermapbox": [
           {
            "marker": {
             "colorbar": {
              "outlinewidth": 0,
              "ticks": ""
             }
            },
            "type": "scattermapbox"
           }
          ],
          "scatterpolar": [
           {
            "marker": {
             "colorbar": {
              "outlinewidth": 0,
              "ticks": ""
             }
            },
            "type": "scatterpolar"
           }
          ],
          "scatterpolargl": [
           {
            "marker": {
             "colorbar": {
              "outlinewidth": 0,
              "ticks": ""
             }
            },
            "type": "scatterpolargl"
           }
          ],
          "scatterternary": [
           {
            "marker": {
             "colorbar": {
              "outlinewidth": 0,
              "ticks": ""
             }
            },
            "type": "scatterternary"
           }
          ],
          "surface": [
           {
            "colorbar": {
             "outlinewidth": 0,
             "ticks": ""
            },
            "colorscale": [
             [
              0,
              "#0d0887"
             ],
             [
              0.1111111111111111,
              "#46039f"
             ],
             [
              0.2222222222222222,
              "#7201a8"
             ],
             [
              0.3333333333333333,
              "#9c179e"
             ],
             [
              0.4444444444444444,
              "#bd3786"
             ],
             [
              0.5555555555555556,
              "#d8576b"
             ],
             [
              0.6666666666666666,
              "#ed7953"
             ],
             [
              0.7777777777777778,
              "#fb9f3a"
             ],
             [
              0.8888888888888888,
              "#fdca26"
             ],
             [
              1,
              "#f0f921"
             ]
            ],
            "type": "surface"
           }
          ],
          "table": [
           {
            "cells": {
             "fill": {
              "color": "#EBF0F8"
             },
             "line": {
              "color": "white"
             }
            },
            "header": {
             "fill": {
              "color": "#C8D4E3"
             },
             "line": {
              "color": "white"
             }
            },
            "type": "table"
           }
          ]
         },
         "layout": {
          "annotationdefaults": {
           "arrowcolor": "#2a3f5f",
           "arrowhead": 0,
           "arrowwidth": 1
          },
          "autotypenumbers": "strict",
          "coloraxis": {
           "colorbar": {
            "outlinewidth": 0,
            "ticks": ""
           }
          },
          "colorscale": {
           "diverging": [
            [
             0,
             "#8e0152"
            ],
            [
             0.1,
             "#c51b7d"
            ],
            [
             0.2,
             "#de77ae"
            ],
            [
             0.3,
             "#f1b6da"
            ],
            [
             0.4,
             "#fde0ef"
            ],
            [
             0.5,
             "#f7f7f7"
            ],
            [
             0.6,
             "#e6f5d0"
            ],
            [
             0.7,
             "#b8e186"
            ],
            [
             0.8,
             "#7fbc41"
            ],
            [
             0.9,
             "#4d9221"
            ],
            [
             1,
             "#276419"
            ]
           ],
           "sequential": [
            [
             0,
             "#0d0887"
            ],
            [
             0.1111111111111111,
             "#46039f"
            ],
            [
             0.2222222222222222,
             "#7201a8"
            ],
            [
             0.3333333333333333,
             "#9c179e"
            ],
            [
             0.4444444444444444,
             "#bd3786"
            ],
            [
             0.5555555555555556,
             "#d8576b"
            ],
            [
             0.6666666666666666,
             "#ed7953"
            ],
            [
             0.7777777777777778,
             "#fb9f3a"
            ],
            [
             0.8888888888888888,
             "#fdca26"
            ],
            [
             1,
             "#f0f921"
            ]
           ],
           "sequentialminus": [
            [
             0,
             "#0d0887"
            ],
            [
             0.1111111111111111,
             "#46039f"
            ],
            [
             0.2222222222222222,
             "#7201a8"
            ],
            [
             0.3333333333333333,
             "#9c179e"
            ],
            [
             0.4444444444444444,
             "#bd3786"
            ],
            [
             0.5555555555555556,
             "#d8576b"
            ],
            [
             0.6666666666666666,
             "#ed7953"
            ],
            [
             0.7777777777777778,
             "#fb9f3a"
            ],
            [
             0.8888888888888888,
             "#fdca26"
            ],
            [
             1,
             "#f0f921"
            ]
           ]
          },
          "colorway": [
           "#636efa",
           "#EF553B",
           "#00cc96",
           "#ab63fa",
           "#FFA15A",
           "#19d3f3",
           "#FF6692",
           "#B6E880",
           "#FF97FF",
           "#FECB52"
          ],
          "font": {
           "color": "#2a3f5f"
          },
          "geo": {
           "bgcolor": "white",
           "lakecolor": "white",
           "landcolor": "#E5ECF6",
           "showlakes": true,
           "showland": true,
           "subunitcolor": "white"
          },
          "hoverlabel": {
           "align": "left"
          },
          "hovermode": "closest",
          "mapbox": {
           "style": "light"
          },
          "paper_bgcolor": "white",
          "plot_bgcolor": "#E5ECF6",
          "polar": {
           "angularaxis": {
            "gridcolor": "white",
            "linecolor": "white",
            "ticks": ""
           },
           "bgcolor": "#E5ECF6",
           "radialaxis": {
            "gridcolor": "white",
            "linecolor": "white",
            "ticks": ""
           }
          },
          "scene": {
           "xaxis": {
            "backgroundcolor": "#E5ECF6",
            "gridcolor": "white",
            "gridwidth": 2,
            "linecolor": "white",
            "showbackground": true,
            "ticks": "",
            "zerolinecolor": "white"
           },
           "yaxis": {
            "backgroundcolor": "#E5ECF6",
            "gridcolor": "white",
            "gridwidth": 2,
            "linecolor": "white",
            "showbackground": true,
            "ticks": "",
            "zerolinecolor": "white"
           },
           "zaxis": {
            "backgroundcolor": "#E5ECF6",
            "gridcolor": "white",
            "gridwidth": 2,
            "linecolor": "white",
            "showbackground": true,
            "ticks": "",
            "zerolinecolor": "white"
           }
          },
          "shapedefaults": {
           "line": {
            "color": "#2a3f5f"
           }
          },
          "ternary": {
           "aaxis": {
            "gridcolor": "white",
            "linecolor": "white",
            "ticks": ""
           },
           "baxis": {
            "gridcolor": "white",
            "linecolor": "white",
            "ticks": ""
           },
           "bgcolor": "#E5ECF6",
           "caxis": {
            "gridcolor": "white",
            "linecolor": "white",
            "ticks": ""
           }
          },
          "title": {
           "x": 0.05
          },
          "xaxis": {
           "automargin": true,
           "gridcolor": "white",
           "linecolor": "white",
           "ticks": "",
           "title": {
            "standoff": 15
           },
           "zerolinecolor": "white",
           "zerolinewidth": 2
          },
          "yaxis": {
           "automargin": true,
           "gridcolor": "white",
           "linecolor": "white",
           "ticks": "",
           "title": {
            "standoff": 15
           },
           "zerolinecolor": "white",
           "zerolinewidth": 2
          }
         }
        },
        "title": {
         "text": "3D Scatter Using PCA Parameters and K-Means Clustering On NFL Injury data"
        },
        "width": 1200
       }
      }
     },
     "metadata": {},
     "output_type": "display_data"
    }
   ],
   "source": [
    "fig = px.scatter_3d(\n",
    "    clustered_play_injuries,\n",
    "    x=\"PC 1\",\n",
    "    y=\"PC 2\",\n",
    "    z=\"PC 3\",\n",
    "    color='Class',\n",
    "    symbol='Class',\n",
    "    width=1200,\n",
    "    height=1000,\n",
    "    title=\"3D Scatter Using PCA Parameters and K-Means Clustering On NFL Injury data\",\n",
    "    hover_name=\"FieldType\",\n",
    "    hover_data=[clustered_play_injuries.Injury_Duration,\n",
    "                clustered_play_injuries.Position,\n",
    "                clustered_play_injuries.Weather,\n",
    "                clustered_play_injuries.PlayType,\n",
    "                clustered_play_injuries.StadiumType,\n",
    "                clustered_play_injuries.BodyPart,\n",
    "                clustered_play_injuries.RosterPosition,\n",
    "                clustered_play_injuries.Temperature]\n",
    ")\n",
    "\n",
    "fig.update_layout(legend=dict(x=0, y=1))\n",
    "fig.show()\n"
   ]
  },
  {
   "cell_type": "code",
   "execution_count": 34,
   "metadata": {},
   "outputs": [],
   "source": [
    "injury_subset_0 = clustered_play_injuries[clustered_play_injuries.Class == 0]\n",
    "injury_subset_1 = clustered_play_injuries[clustered_play_injuries.Class == 1]\n",
    "injury_subset_2 = clustered_play_injuries[clustered_play_injuries.Class == 2]\n",
    "# injury_subset_3 = clustered_play_injuries[clustered_play_injuries.Class == 3]\n",
    "# injury_subset_4 = clustered_play_injuries[clustered_play_injuries.Class == 4]\n",
    "# injury_subset_5 = clustered_play_injuries[clustered_play_injuries.Class == 5]\n"
   ]
  },
  {
   "cell_type": "code",
   "execution_count": 36,
   "metadata": {},
   "outputs": [
    {
     "data": {
      "text/html": [
       "<div>\n",
       "<style scoped>\n",
       "    .dataframe tbody tr th:only-of-type {\n",
       "        vertical-align: middle;\n",
       "    }\n",
       "\n",
       "    .dataframe tbody tr th {\n",
       "        vertical-align: top;\n",
       "    }\n",
       "\n",
       "    .dataframe thead th {\n",
       "        text-align: right;\n",
       "    }\n",
       "</style>\n",
       "<table border=\"1\" class=\"dataframe\">\n",
       "  <thead>\n",
       "    <tr style=\"text-align: right;\">\n",
       "      <th></th>\n",
       "      <th>PlayerGame</th>\n",
       "      <th>FieldType</th>\n",
       "      <th>Temperature</th>\n",
       "      <th>PlayerGamePlay</th>\n",
       "      <th>Injury_Duration</th>\n",
       "      <th>StadiumType</th>\n",
       "      <th>Weather</th>\n",
       "      <th>PlayType</th>\n",
       "      <th>RosterPosition</th>\n",
       "      <th>Position</th>\n",
       "      <th>BodyPart</th>\n",
       "      <th>PC 1</th>\n",
       "      <th>PC 2</th>\n",
       "      <th>PC 3</th>\n",
       "      <th>Class</th>\n",
       "    </tr>\n",
       "  </thead>\n",
       "  <tbody>\n",
       "    <tr>\n",
       "      <th>3</th>\n",
       "      <td>5</td>\n",
       "      <td>Natural</td>\n",
       "      <td>48</td>\n",
       "      <td>9</td>\n",
       "      <td>7</td>\n",
       "      <td>Outdoor</td>\n",
       "      <td>Cloudy</td>\n",
       "      <td>Kickoff</td>\n",
       "      <td>WR</td>\n",
       "      <td>WR</td>\n",
       "      <td>Knee</td>\n",
       "      <td>-19.780885</td>\n",
       "      <td>-11.241868</td>\n",
       "      <td>11.602781</td>\n",
       "      <td>0</td>\n",
       "    </tr>\n",
       "    <tr>\n",
       "      <th>4</th>\n",
       "      <td>15</td>\n",
       "      <td>Natural</td>\n",
       "      <td>79</td>\n",
       "      <td>35</td>\n",
       "      <td>7</td>\n",
       "      <td>Outdoor</td>\n",
       "      <td>Clear</td>\n",
       "      <td>Pass</td>\n",
       "      <td>OL</td>\n",
       "      <td>T</td>\n",
       "      <td>Knee</td>\n",
       "      <td>6.635204</td>\n",
       "      <td>-8.060229</td>\n",
       "      <td>-17.615638</td>\n",
       "      <td>0</td>\n",
       "    </tr>\n",
       "    <tr>\n",
       "      <th>9</th>\n",
       "      <td>8</td>\n",
       "      <td>Natural</td>\n",
       "      <td>61</td>\n",
       "      <td>8</td>\n",
       "      <td>1</td>\n",
       "      <td>Outdoor</td>\n",
       "      <td>Cloudy</td>\n",
       "      <td>Pass</td>\n",
       "      <td>WR</td>\n",
       "      <td>WR</td>\n",
       "      <td>Ankle</td>\n",
       "      <td>-21.941890</td>\n",
       "      <td>-11.000269</td>\n",
       "      <td>-2.067570</td>\n",
       "      <td>0</td>\n",
       "    </tr>\n",
       "    <tr>\n",
       "      <th>10</th>\n",
       "      <td>1</td>\n",
       "      <td>Synthetic</td>\n",
       "      <td>65</td>\n",
       "      <td>4</td>\n",
       "      <td>7</td>\n",
       "      <td>Outdoor</td>\n",
       "      <td>Cloudy</td>\n",
       "      <td>Punt</td>\n",
       "      <td>LB</td>\n",
       "      <td>ILB</td>\n",
       "      <td>Ankle</td>\n",
       "      <td>-23.724507</td>\n",
       "      <td>-1.973313</td>\n",
       "      <td>-3.477359</td>\n",
       "      <td>0</td>\n",
       "    </tr>\n",
       "    <tr>\n",
       "      <th>12</th>\n",
       "      <td>29</td>\n",
       "      <td>Natural</td>\n",
       "      <td>58</td>\n",
       "      <td>14</td>\n",
       "      <td>7</td>\n",
       "      <td>Outdoor</td>\n",
       "      <td>Rain</td>\n",
       "      <td>Punt Returned</td>\n",
       "      <td>WR</td>\n",
       "      <td>WR</td>\n",
       "      <td>Ankle</td>\n",
       "      <td>-13.707656</td>\n",
       "      <td>-12.253558</td>\n",
       "      <td>5.013712</td>\n",
       "      <td>0</td>\n",
       "    </tr>\n",
       "    <tr>\n",
       "      <th>16</th>\n",
       "      <td>2</td>\n",
       "      <td>Natural</td>\n",
       "      <td>68</td>\n",
       "      <td>14</td>\n",
       "      <td>7</td>\n",
       "      <td>Outdoor</td>\n",
       "      <td>Cloudy</td>\n",
       "      <td>Pass</td>\n",
       "      <td>S</td>\n",
       "      <td>FS</td>\n",
       "      <td>Knee</td>\n",
       "      <td>-14.132693</td>\n",
       "      <td>-4.051365</td>\n",
       "      <td>-7.112926</td>\n",
       "      <td>0</td>\n",
       "    </tr>\n",
       "    <tr>\n",
       "      <th>17</th>\n",
       "      <td>1</td>\n",
       "      <td>Synthetic</td>\n",
       "      <td>70</td>\n",
       "      <td>8</td>\n",
       "      <td>1</td>\n",
       "      <td>Indoor</td>\n",
       "      <td>Indoor</td>\n",
       "      <td>Kickoff</td>\n",
       "      <td>LB</td>\n",
       "      <td>OLB</td>\n",
       "      <td>Knee</td>\n",
       "      <td>-21.719554</td>\n",
       "      <td>-6.176156</td>\n",
       "      <td>-10.915383</td>\n",
       "      <td>0</td>\n",
       "    </tr>\n",
       "    <tr>\n",
       "      <th>21</th>\n",
       "      <td>9</td>\n",
       "      <td>Synthetic</td>\n",
       "      <td>42</td>\n",
       "      <td>9</td>\n",
       "      <td>7</td>\n",
       "      <td>Outdoor</td>\n",
       "      <td>Cloudy</td>\n",
       "      <td>Rush</td>\n",
       "      <td>LB</td>\n",
       "      <td>OLB</td>\n",
       "      <td>Ankle</td>\n",
       "      <td>-19.938881</td>\n",
       "      <td>-14.340207</td>\n",
       "      <td>17.440874</td>\n",
       "      <td>0</td>\n",
       "    </tr>\n",
       "    <tr>\n",
       "      <th>22</th>\n",
       "      <td>1</td>\n",
       "      <td>Natural</td>\n",
       "      <td>70</td>\n",
       "      <td>12</td>\n",
       "      <td>7</td>\n",
       "      <td>Outdoor</td>\n",
       "      <td>Clear</td>\n",
       "      <td>Rush</td>\n",
       "      <td>LB</td>\n",
       "      <td>OLB</td>\n",
       "      <td>Ankle</td>\n",
       "      <td>-15.942294</td>\n",
       "      <td>-2.434641</td>\n",
       "      <td>-8.805151</td>\n",
       "      <td>0</td>\n",
       "    </tr>\n",
       "    <tr>\n",
       "      <th>25</th>\n",
       "      <td>6</td>\n",
       "      <td>Synthetic</td>\n",
       "      <td>75</td>\n",
       "      <td>13</td>\n",
       "      <td>1</td>\n",
       "      <td>Outdoor</td>\n",
       "      <td>Cloudy</td>\n",
       "      <td>Pass</td>\n",
       "      <td>OL</td>\n",
       "      <td>C</td>\n",
       "      <td>Ankle</td>\n",
       "      <td>-16.575126</td>\n",
       "      <td>-6.443308</td>\n",
       "      <td>-15.306554</td>\n",
       "      <td>0</td>\n",
       "    </tr>\n",
       "    <tr>\n",
       "      <th>26</th>\n",
       "      <td>19</td>\n",
       "      <td>Synthetic</td>\n",
       "      <td>57</td>\n",
       "      <td>15</td>\n",
       "      <td>1</td>\n",
       "      <td>Closed Dome</td>\n",
       "      <td>Cloudy</td>\n",
       "      <td>Rush</td>\n",
       "      <td>OL</td>\n",
       "      <td>C</td>\n",
       "      <td>Ankle</td>\n",
       "      <td>-15.182725</td>\n",
       "      <td>-16.509549</td>\n",
       "      <td>2.067207</td>\n",
       "      <td>0</td>\n",
       "    </tr>\n",
       "    <tr>\n",
       "      <th>33</th>\n",
       "      <td>3</td>\n",
       "      <td>Natural</td>\n",
       "      <td>89</td>\n",
       "      <td>14</td>\n",
       "      <td>1</td>\n",
       "      <td>Outdoor</td>\n",
       "      <td>Clear</td>\n",
       "      <td>Rush</td>\n",
       "      <td>LB</td>\n",
       "      <td>MLB</td>\n",
       "      <td>Ankle</td>\n",
       "      <td>-15.019992</td>\n",
       "      <td>-0.476011</td>\n",
       "      <td>-28.261491</td>\n",
       "      <td>0</td>\n",
       "    </tr>\n",
       "    <tr>\n",
       "      <th>35</th>\n",
       "      <td>8</td>\n",
       "      <td>Synthetic</td>\n",
       "      <td>62</td>\n",
       "      <td>9</td>\n",
       "      <td>7</td>\n",
       "      <td>Outdoor</td>\n",
       "      <td>Cloudy</td>\n",
       "      <td>Rush</td>\n",
       "      <td>DL</td>\n",
       "      <td>DT</td>\n",
       "      <td>Knee</td>\n",
       "      <td>-18.939001</td>\n",
       "      <td>-5.844236</td>\n",
       "      <td>-0.498379</td>\n",
       "      <td>0</td>\n",
       "    </tr>\n",
       "    <tr>\n",
       "      <th>38</th>\n",
       "      <td>6</td>\n",
       "      <td>Natural</td>\n",
       "      <td>52</td>\n",
       "      <td>13</td>\n",
       "      <td>1</td>\n",
       "      <td>Outdoor</td>\n",
       "      <td>Rain</td>\n",
       "      <td>Pass</td>\n",
       "      <td>WR</td>\n",
       "      <td>WR</td>\n",
       "      <td>Knee</td>\n",
       "      <td>-17.783432</td>\n",
       "      <td>-16.037913</td>\n",
       "      <td>5.187131</td>\n",
       "      <td>0</td>\n",
       "    </tr>\n",
       "    <tr>\n",
       "      <th>39</th>\n",
       "      <td>28</td>\n",
       "      <td>Synthetic</td>\n",
       "      <td>70</td>\n",
       "      <td>35</td>\n",
       "      <td>1</td>\n",
       "      <td>Indoor</td>\n",
       "      <td>Clear</td>\n",
       "      <td>Pass</td>\n",
       "      <td>WR</td>\n",
       "      <td>WR</td>\n",
       "      <td>Ankle</td>\n",
       "      <td>4.616038</td>\n",
       "      <td>-18.778639</td>\n",
       "      <td>-10.582396</td>\n",
       "      <td>0</td>\n",
       "    </tr>\n",
       "    <tr>\n",
       "      <th>44</th>\n",
       "      <td>13</td>\n",
       "      <td>Natural</td>\n",
       "      <td>44</td>\n",
       "      <td>20</td>\n",
       "      <td>7</td>\n",
       "      <td>Outdoor</td>\n",
       "      <td>Clear</td>\n",
       "      <td>Pass</td>\n",
       "      <td>WR</td>\n",
       "      <td>WR</td>\n",
       "      <td>Ankle</td>\n",
       "      <td>-9.352402</td>\n",
       "      <td>-17.607191</td>\n",
       "      <td>14.944254</td>\n",
       "      <td>0</td>\n",
       "    </tr>\n",
       "    <tr>\n",
       "      <th>46</th>\n",
       "      <td>7</td>\n",
       "      <td>Natural</td>\n",
       "      <td>70</td>\n",
       "      <td>10</td>\n",
       "      <td>7</td>\n",
       "      <td>Outdoor</td>\n",
       "      <td>Windy</td>\n",
       "      <td>Kickoff</td>\n",
       "      <td>DL</td>\n",
       "      <td>DE</td>\n",
       "      <td>Knee</td>\n",
       "      <td>-17.621500</td>\n",
       "      <td>-2.682565</td>\n",
       "      <td>-7.872803</td>\n",
       "      <td>0</td>\n",
       "    </tr>\n",
       "    <tr>\n",
       "      <th>47</th>\n",
       "      <td>9</td>\n",
       "      <td>Natural</td>\n",
       "      <td>81</td>\n",
       "      <td>4</td>\n",
       "      <td>1</td>\n",
       "      <td>Outdoor</td>\n",
       "      <td>Cloudy</td>\n",
       "      <td>Rush</td>\n",
       "      <td>WR</td>\n",
       "      <td>WR</td>\n",
       "      <td>Ankle</td>\n",
       "      <td>-24.630954</td>\n",
       "      <td>-1.538571</td>\n",
       "      <td>-19.349399</td>\n",
       "      <td>0</td>\n",
       "    </tr>\n",
       "    <tr>\n",
       "      <th>48</th>\n",
       "      <td>8</td>\n",
       "      <td>Natural</td>\n",
       "      <td>38</td>\n",
       "      <td>18</td>\n",
       "      <td>1</td>\n",
       "      <td>Outdoor</td>\n",
       "      <td>Clear</td>\n",
       "      <td>Punt</td>\n",
       "      <td>S</td>\n",
       "      <td>FS</td>\n",
       "      <td>Ankle</td>\n",
       "      <td>-13.736586</td>\n",
       "      <td>-23.757359</td>\n",
       "      <td>17.373235</td>\n",
       "      <td>0</td>\n",
       "    </tr>\n",
       "    <tr>\n",
       "      <th>50</th>\n",
       "      <td>18</td>\n",
       "      <td>Natural</td>\n",
       "      <td>79</td>\n",
       "      <td>21</td>\n",
       "      <td>7</td>\n",
       "      <td>Outdoor</td>\n",
       "      <td>Clear</td>\n",
       "      <td>Rush</td>\n",
       "      <td>OL</td>\n",
       "      <td>C</td>\n",
       "      <td>Ankle</td>\n",
       "      <td>-6.417382</td>\n",
       "      <td>-4.072007</td>\n",
       "      <td>-15.768675</td>\n",
       "      <td>0</td>\n",
       "    </tr>\n",
       "    <tr>\n",
       "      <th>53</th>\n",
       "      <td>7</td>\n",
       "      <td>Natural</td>\n",
       "      <td>76</td>\n",
       "      <td>26</td>\n",
       "      <td>7</td>\n",
       "      <td>Open Dome</td>\n",
       "      <td>Cloudy</td>\n",
       "      <td>Punt</td>\n",
       "      <td>LB</td>\n",
       "      <td>OLB</td>\n",
       "      <td>Knee</td>\n",
       "      <td>-2.273288</td>\n",
       "      <td>-5.249838</td>\n",
       "      <td>-14.932019</td>\n",
       "      <td>0</td>\n",
       "    </tr>\n",
       "    <tr>\n",
       "      <th>54</th>\n",
       "      <td>17</td>\n",
       "      <td>Synthetic</td>\n",
       "      <td>39</td>\n",
       "      <td>27</td>\n",
       "      <td>1</td>\n",
       "      <td>Outdoor</td>\n",
       "      <td>Rain</td>\n",
       "      <td>Rush</td>\n",
       "      <td>WR</td>\n",
       "      <td>WR</td>\n",
       "      <td>Ankle</td>\n",
       "      <td>-4.913106</td>\n",
       "      <td>-27.534959</td>\n",
       "      <td>16.604224</td>\n",
       "      <td>0</td>\n",
       "    </tr>\n",
       "    <tr>\n",
       "      <th>55</th>\n",
       "      <td>3</td>\n",
       "      <td>Natural</td>\n",
       "      <td>89</td>\n",
       "      <td>16</td>\n",
       "      <td>7</td>\n",
       "      <td>Outdoor</td>\n",
       "      <td>Clear</td>\n",
       "      <td>Punt</td>\n",
       "      <td>LB</td>\n",
       "      <td>OLB</td>\n",
       "      <td>Knee</td>\n",
       "      <td>-11.130746</td>\n",
       "      <td>3.929432</td>\n",
       "      <td>-25.923841</td>\n",
       "      <td>0</td>\n",
       "    </tr>\n",
       "    <tr>\n",
       "      <th>56</th>\n",
       "      <td>5</td>\n",
       "      <td>Natural</td>\n",
       "      <td>75</td>\n",
       "      <td>4</td>\n",
       "      <td>7</td>\n",
       "      <td>Outdoor</td>\n",
       "      <td>Clear</td>\n",
       "      <td>Rush</td>\n",
       "      <td>DL</td>\n",
       "      <td>DE</td>\n",
       "      <td>Ankle</td>\n",
       "      <td>-23.060645</td>\n",
       "      <td>1.592449</td>\n",
       "      <td>-11.929733</td>\n",
       "      <td>0</td>\n",
       "    </tr>\n",
       "    <tr>\n",
       "      <th>58</th>\n",
       "      <td>18</td>\n",
       "      <td>Synthetic</td>\n",
       "      <td>45</td>\n",
       "      <td>3</td>\n",
       "      <td>7</td>\n",
       "      <td>Outdoor</td>\n",
       "      <td>Cloudy</td>\n",
       "      <td>Kickoff Returned</td>\n",
       "      <td>TE</td>\n",
       "      <td>TE</td>\n",
       "      <td>Knee</td>\n",
       "      <td>-25.110241</td>\n",
       "      <td>-12.518872</td>\n",
       "      <td>16.482986</td>\n",
       "      <td>0</td>\n",
       "    </tr>\n",
       "    <tr>\n",
       "      <th>59</th>\n",
       "      <td>8</td>\n",
       "      <td>Natural</td>\n",
       "      <td>38</td>\n",
       "      <td>6</td>\n",
       "      <td>7</td>\n",
       "      <td>Outdoor</td>\n",
       "      <td>Clear</td>\n",
       "      <td>Punt</td>\n",
       "      <td>LB</td>\n",
       "      <td>MLB</td>\n",
       "      <td>Knee</td>\n",
       "      <td>-23.008962</td>\n",
       "      <td>-14.903644</td>\n",
       "      <td>21.196169</td>\n",
       "      <td>0</td>\n",
       "    </tr>\n",
       "    <tr>\n",
       "      <th>61</th>\n",
       "      <td>3</td>\n",
       "      <td>Natural</td>\n",
       "      <td>80</td>\n",
       "      <td>30</td>\n",
       "      <td>1</td>\n",
       "      <td>Outdoor</td>\n",
       "      <td>Cloudy</td>\n",
       "      <td>Punt</td>\n",
       "      <td>LB</td>\n",
       "      <td>LB</td>\n",
       "      <td>Ankle</td>\n",
       "      <td>-0.461041</td>\n",
       "      <td>-9.304844</td>\n",
       "      <td>-21.941530</td>\n",
       "      <td>0</td>\n",
       "    </tr>\n",
       "    <tr>\n",
       "      <th>62</th>\n",
       "      <td>4</td>\n",
       "      <td>Synthetic</td>\n",
       "      <td>55</td>\n",
       "      <td>16</td>\n",
       "      <td>7</td>\n",
       "      <td>Outdoor</td>\n",
       "      <td>Cloudy</td>\n",
       "      <td>Pass</td>\n",
       "      <td>RB</td>\n",
       "      <td>RB</td>\n",
       "      <td>Knee</td>\n",
       "      <td>-12.857906</td>\n",
       "      <td>-10.385112</td>\n",
       "      <td>4.513255</td>\n",
       "      <td>0</td>\n",
       "    </tr>\n",
       "    <tr>\n",
       "      <th>64</th>\n",
       "      <td>4</td>\n",
       "      <td>Natural</td>\n",
       "      <td>71</td>\n",
       "      <td>16</td>\n",
       "      <td>1</td>\n",
       "      <td>Outdoor</td>\n",
       "      <td>Cloudy</td>\n",
       "      <td>Pass</td>\n",
       "      <td>WR</td>\n",
       "      <td>WR</td>\n",
       "      <td>Knee</td>\n",
       "      <td>-14.049355</td>\n",
       "      <td>-8.763802</td>\n",
       "      <td>-12.307833</td>\n",
       "      <td>0</td>\n",
       "    </tr>\n",
       "    <tr>\n",
       "      <th>65</th>\n",
       "      <td>10</td>\n",
       "      <td>Synthetic</td>\n",
       "      <td>68</td>\n",
       "      <td>18</td>\n",
       "      <td>7</td>\n",
       "      <td>Closed Dome</td>\n",
       "      <td>Indoor</td>\n",
       "      <td>Pass</td>\n",
       "      <td>CB</td>\n",
       "      <td>CB</td>\n",
       "      <td>Knee</td>\n",
       "      <td>-10.082251</td>\n",
       "      <td>-6.507923</td>\n",
       "      <td>-6.581740</td>\n",
       "      <td>0</td>\n",
       "    </tr>\n",
       "    <tr>\n",
       "      <th>66</th>\n",
       "      <td>10</td>\n",
       "      <td>Synthetic</td>\n",
       "      <td>68</td>\n",
       "      <td>18</td>\n",
       "      <td>7</td>\n",
       "      <td>Closed Dome</td>\n",
       "      <td>Indoor</td>\n",
       "      <td>Pass</td>\n",
       "      <td>CB</td>\n",
       "      <td>CB</td>\n",
       "      <td>Ankle</td>\n",
       "      <td>-10.077202</td>\n",
       "      <td>-6.517515</td>\n",
       "      <td>-6.584162</td>\n",
       "      <td>0</td>\n",
       "    </tr>\n",
       "    <tr>\n",
       "      <th>67</th>\n",
       "      <td>8</td>\n",
       "      <td>Synthetic</td>\n",
       "      <td>74</td>\n",
       "      <td>1</td>\n",
       "      <td>7</td>\n",
       "      <td>Indoor</td>\n",
       "      <td>Clear</td>\n",
       "      <td>Kickoff Not Returned</td>\n",
       "      <td>S</td>\n",
       "      <td>DB</td>\n",
       "      <td>Knee</td>\n",
       "      <td>-25.819516</td>\n",
       "      <td>1.698743</td>\n",
       "      <td>-10.355365</td>\n",
       "      <td>0</td>\n",
       "    </tr>\n",
       "    <tr>\n",
       "      <th>68</th>\n",
       "      <td>8</td>\n",
       "      <td>Synthetic</td>\n",
       "      <td>44</td>\n",
       "      <td>19</td>\n",
       "      <td>7</td>\n",
       "      <td>Outdoor</td>\n",
       "      <td>Cloudy</td>\n",
       "      <td>Punt Returned</td>\n",
       "      <td>CB</td>\n",
       "      <td>CB</td>\n",
       "      <td>Ankle</td>\n",
       "      <td>-10.465062</td>\n",
       "      <td>-16.538947</td>\n",
       "      <td>14.475938</td>\n",
       "      <td>0</td>\n",
       "    </tr>\n",
       "  </tbody>\n",
       "</table>\n",
       "</div>"
      ],
      "text/plain": [
       "    PlayerGame  FieldType  Temperature  PlayerGamePlay  Injury_Duration  \\\n",
       "3            5    Natural           48               9                7   \n",
       "4           15    Natural           79              35                7   \n",
       "9            8    Natural           61               8                1   \n",
       "10           1  Synthetic           65               4                7   \n",
       "12          29    Natural           58              14                7   \n",
       "16           2    Natural           68              14                7   \n",
       "17           1  Synthetic           70               8                1   \n",
       "21           9  Synthetic           42               9                7   \n",
       "22           1    Natural           70              12                7   \n",
       "25           6  Synthetic           75              13                1   \n",
       "26          19  Synthetic           57              15                1   \n",
       "33           3    Natural           89              14                1   \n",
       "35           8  Synthetic           62               9                7   \n",
       "38           6    Natural           52              13                1   \n",
       "39          28  Synthetic           70              35                1   \n",
       "44          13    Natural           44              20                7   \n",
       "46           7    Natural           70              10                7   \n",
       "47           9    Natural           81               4                1   \n",
       "48           8    Natural           38              18                1   \n",
       "50          18    Natural           79              21                7   \n",
       "53           7    Natural           76              26                7   \n",
       "54          17  Synthetic           39              27                1   \n",
       "55           3    Natural           89              16                7   \n",
       "56           5    Natural           75               4                7   \n",
       "58          18  Synthetic           45               3                7   \n",
       "59           8    Natural           38               6                7   \n",
       "61           3    Natural           80              30                1   \n",
       "62           4  Synthetic           55              16                7   \n",
       "64           4    Natural           71              16                1   \n",
       "65          10  Synthetic           68              18                7   \n",
       "66          10  Synthetic           68              18                7   \n",
       "67           8  Synthetic           74               1                7   \n",
       "68           8  Synthetic           44              19                7   \n",
       "\n",
       "    StadiumType Weather              PlayType RosterPosition Position  \\\n",
       "3       Outdoor  Cloudy               Kickoff             WR       WR   \n",
       "4       Outdoor   Clear                  Pass             OL        T   \n",
       "9       Outdoor  Cloudy                  Pass             WR       WR   \n",
       "10      Outdoor  Cloudy                  Punt             LB      ILB   \n",
       "12      Outdoor    Rain         Punt Returned             WR       WR   \n",
       "16      Outdoor  Cloudy                  Pass              S       FS   \n",
       "17       Indoor  Indoor               Kickoff             LB      OLB   \n",
       "21      Outdoor  Cloudy                  Rush             LB      OLB   \n",
       "22      Outdoor   Clear                  Rush             LB      OLB   \n",
       "25      Outdoor  Cloudy                  Pass             OL        C   \n",
       "26  Closed Dome  Cloudy                  Rush             OL        C   \n",
       "33      Outdoor   Clear                  Rush             LB      MLB   \n",
       "35      Outdoor  Cloudy                  Rush             DL       DT   \n",
       "38      Outdoor    Rain                  Pass             WR       WR   \n",
       "39       Indoor   Clear                  Pass             WR       WR   \n",
       "44      Outdoor   Clear                  Pass             WR       WR   \n",
       "46      Outdoor   Windy               Kickoff             DL       DE   \n",
       "47      Outdoor  Cloudy                  Rush             WR       WR   \n",
       "48      Outdoor   Clear                  Punt              S       FS   \n",
       "50      Outdoor   Clear                  Rush             OL        C   \n",
       "53    Open Dome  Cloudy                  Punt             LB      OLB   \n",
       "54      Outdoor    Rain                  Rush             WR       WR   \n",
       "55      Outdoor   Clear                  Punt             LB      OLB   \n",
       "56      Outdoor   Clear                  Rush             DL       DE   \n",
       "58      Outdoor  Cloudy      Kickoff Returned             TE       TE   \n",
       "59      Outdoor   Clear                  Punt             LB      MLB   \n",
       "61      Outdoor  Cloudy                  Punt             LB       LB   \n",
       "62      Outdoor  Cloudy                  Pass             RB       RB   \n",
       "64      Outdoor  Cloudy                  Pass             WR       WR   \n",
       "65  Closed Dome  Indoor                  Pass             CB       CB   \n",
       "66  Closed Dome  Indoor                  Pass             CB       CB   \n",
       "67       Indoor   Clear  Kickoff Not Returned              S       DB   \n",
       "68      Outdoor  Cloudy         Punt Returned             CB       CB   \n",
       "\n",
       "   BodyPart       PC 1       PC 2       PC 3  Class  \n",
       "3      Knee -19.780885 -11.241868  11.602781      0  \n",
       "4      Knee   6.635204  -8.060229 -17.615638      0  \n",
       "9     Ankle -21.941890 -11.000269  -2.067570      0  \n",
       "10    Ankle -23.724507  -1.973313  -3.477359      0  \n",
       "12    Ankle -13.707656 -12.253558   5.013712      0  \n",
       "16     Knee -14.132693  -4.051365  -7.112926      0  \n",
       "17     Knee -21.719554  -6.176156 -10.915383      0  \n",
       "21    Ankle -19.938881 -14.340207  17.440874      0  \n",
       "22    Ankle -15.942294  -2.434641  -8.805151      0  \n",
       "25    Ankle -16.575126  -6.443308 -15.306554      0  \n",
       "26    Ankle -15.182725 -16.509549   2.067207      0  \n",
       "33    Ankle -15.019992  -0.476011 -28.261491      0  \n",
       "35     Knee -18.939001  -5.844236  -0.498379      0  \n",
       "38     Knee -17.783432 -16.037913   5.187131      0  \n",
       "39    Ankle   4.616038 -18.778639 -10.582396      0  \n",
       "44    Ankle  -9.352402 -17.607191  14.944254      0  \n",
       "46     Knee -17.621500  -2.682565  -7.872803      0  \n",
       "47    Ankle -24.630954  -1.538571 -19.349399      0  \n",
       "48    Ankle -13.736586 -23.757359  17.373235      0  \n",
       "50    Ankle  -6.417382  -4.072007 -15.768675      0  \n",
       "53     Knee  -2.273288  -5.249838 -14.932019      0  \n",
       "54    Ankle  -4.913106 -27.534959  16.604224      0  \n",
       "55     Knee -11.130746   3.929432 -25.923841      0  \n",
       "56    Ankle -23.060645   1.592449 -11.929733      0  \n",
       "58     Knee -25.110241 -12.518872  16.482986      0  \n",
       "59     Knee -23.008962 -14.903644  21.196169      0  \n",
       "61    Ankle  -0.461041  -9.304844 -21.941530      0  \n",
       "62     Knee -12.857906 -10.385112   4.513255      0  \n",
       "64     Knee -14.049355  -8.763802 -12.307833      0  \n",
       "65     Knee -10.082251  -6.507923  -6.581740      0  \n",
       "66    Ankle -10.077202  -6.517515  -6.584162      0  \n",
       "67     Knee -25.819516   1.698743 -10.355365      0  \n",
       "68    Ankle -10.465062 -16.538947  14.475938      0  "
      ]
     },
     "execution_count": 36,
     "metadata": {},
     "output_type": "execute_result"
    }
   ],
   "source": [
    "injury_subset_0"
   ]
  },
  {
   "cell_type": "markdown",
   "metadata": {},
   "source": [
    "- All of the injuries in this group are relatively minor, resulting injuries less than 28 days \n",
    "- The game plays in this group are all under play 35\n",
    "- There is a broad temperature range\n",
    "- All but 4 of them were outdoor conditions\n",
    "- More of these injuries were on Natural Fields\n",
    "- There were no foot injuries in this group"
   ]
  },
  {
   "cell_type": "code",
   "execution_count": 37,
   "metadata": {},
   "outputs": [
    {
     "data": {
      "text/html": [
       "<div>\n",
       "<style scoped>\n",
       "    .dataframe tbody tr th:only-of-type {\n",
       "        vertical-align: middle;\n",
       "    }\n",
       "\n",
       "    .dataframe tbody tr th {\n",
       "        vertical-align: top;\n",
       "    }\n",
       "\n",
       "    .dataframe thead th {\n",
       "        text-align: right;\n",
       "    }\n",
       "</style>\n",
       "<table border=\"1\" class=\"dataframe\">\n",
       "  <thead>\n",
       "    <tr style=\"text-align: right;\">\n",
       "      <th></th>\n",
       "      <th>PlayerGame</th>\n",
       "      <th>FieldType</th>\n",
       "      <th>Temperature</th>\n",
       "      <th>PlayerGamePlay</th>\n",
       "      <th>Injury_Duration</th>\n",
       "      <th>StadiumType</th>\n",
       "      <th>Weather</th>\n",
       "      <th>PlayType</th>\n",
       "      <th>RosterPosition</th>\n",
       "      <th>Position</th>\n",
       "      <th>BodyPart</th>\n",
       "      <th>PC 1</th>\n",
       "      <th>PC 2</th>\n",
       "      <th>PC 3</th>\n",
       "      <th>Class</th>\n",
       "    </tr>\n",
       "  </thead>\n",
       "  <tbody>\n",
       "    <tr>\n",
       "      <th>0</th>\n",
       "      <td>3</td>\n",
       "      <td>Natural</td>\n",
       "      <td>89</td>\n",
       "      <td>7</td>\n",
       "      <td>42</td>\n",
       "      <td>Outdoor</td>\n",
       "      <td>Clear</td>\n",
       "      <td>Rush</td>\n",
       "      <td>RB</td>\n",
       "      <td>RB</td>\n",
       "      <td>Knee</td>\n",
       "      <td>-7.830629</td>\n",
       "      <td>36.138803</td>\n",
       "      <td>-10.131573</td>\n",
       "      <td>1</td>\n",
       "    </tr>\n",
       "    <tr>\n",
       "      <th>1</th>\n",
       "      <td>8</td>\n",
       "      <td>Natural</td>\n",
       "      <td>81</td>\n",
       "      <td>15</td>\n",
       "      <td>28</td>\n",
       "      <td>Outdoor</td>\n",
       "      <td>Cloudy</td>\n",
       "      <td>Pass</td>\n",
       "      <td>TE</td>\n",
       "      <td>TE</td>\n",
       "      <td>Foot</td>\n",
       "      <td>-5.250892</td>\n",
       "      <td>17.770756</td>\n",
       "      <td>-9.189019</td>\n",
       "      <td>1</td>\n",
       "    </tr>\n",
       "    <tr>\n",
       "      <th>2</th>\n",
       "      <td>19</td>\n",
       "      <td>Natural</td>\n",
       "      <td>79</td>\n",
       "      <td>7</td>\n",
       "      <td>28</td>\n",
       "      <td>Outdoor</td>\n",
       "      <td>Cloudy</td>\n",
       "      <td>Rush</td>\n",
       "      <td>S</td>\n",
       "      <td>FS</td>\n",
       "      <td>Knee</td>\n",
       "      <td>-12.493284</td>\n",
       "      <td>17.836980</td>\n",
       "      <td>-5.246369</td>\n",
       "      <td>1</td>\n",
       "    </tr>\n",
       "    <tr>\n",
       "      <th>8</th>\n",
       "      <td>16</td>\n",
       "      <td>Synthetic</td>\n",
       "      <td>74</td>\n",
       "      <td>19</td>\n",
       "      <td>42</td>\n",
       "      <td>Indoor</td>\n",
       "      <td>Clear</td>\n",
       "      <td>Pass</td>\n",
       "      <td>LB</td>\n",
       "      <td>ILB</td>\n",
       "      <td>Knee</td>\n",
       "      <td>3.133926</td>\n",
       "      <td>24.146796</td>\n",
       "      <td>3.512741</td>\n",
       "      <td>1</td>\n",
       "    </tr>\n",
       "    <tr>\n",
       "      <th>11</th>\n",
       "      <td>5</td>\n",
       "      <td>Synthetic</td>\n",
       "      <td>76</td>\n",
       "      <td>23</td>\n",
       "      <td>42</td>\n",
       "      <td>Outdoor</td>\n",
       "      <td>Cloudy</td>\n",
       "      <td>Kickoff</td>\n",
       "      <td>WR</td>\n",
       "      <td>WR</td>\n",
       "      <td>Foot</td>\n",
       "      <td>6.600563</td>\n",
       "      <td>25.345811</td>\n",
       "      <td>0.005677</td>\n",
       "      <td>1</td>\n",
       "    </tr>\n",
       "    <tr>\n",
       "      <th>13</th>\n",
       "      <td>2</td>\n",
       "      <td>Synthetic</td>\n",
       "      <td>78</td>\n",
       "      <td>1</td>\n",
       "      <td>42</td>\n",
       "      <td>Open Dome</td>\n",
       "      <td>Clear</td>\n",
       "      <td>Rush</td>\n",
       "      <td>DL</td>\n",
       "      <td>DE</td>\n",
       "      <td>Ankle</td>\n",
       "      <td>-14.064539</td>\n",
       "      <td>33.605352</td>\n",
       "      <td>0.203705</td>\n",
       "      <td>1</td>\n",
       "    </tr>\n",
       "    <tr>\n",
       "      <th>14</th>\n",
       "      <td>9</td>\n",
       "      <td>Synthetic</td>\n",
       "      <td>47</td>\n",
       "      <td>2</td>\n",
       "      <td>42</td>\n",
       "      <td>Outdoor</td>\n",
       "      <td>Cloudy</td>\n",
       "      <td>Punt</td>\n",
       "      <td>S</td>\n",
       "      <td>SS</td>\n",
       "      <td>Knee</td>\n",
       "      <td>-14.499413</td>\n",
       "      <td>19.322465</td>\n",
       "      <td>28.574102</td>\n",
       "      <td>1</td>\n",
       "    </tr>\n",
       "    <tr>\n",
       "      <th>15</th>\n",
       "      <td>4</td>\n",
       "      <td>Synthetic</td>\n",
       "      <td>84</td>\n",
       "      <td>32</td>\n",
       "      <td>42</td>\n",
       "      <td>Indoor</td>\n",
       "      <td>Cloudy</td>\n",
       "      <td>Punt</td>\n",
       "      <td>LB</td>\n",
       "      <td>OLB</td>\n",
       "      <td>Knee</td>\n",
       "      <td>15.434013</td>\n",
       "      <td>25.981581</td>\n",
       "      <td>-8.209325</td>\n",
       "      <td>1</td>\n",
       "    </tr>\n",
       "    <tr>\n",
       "      <th>24</th>\n",
       "      <td>15</td>\n",
       "      <td>Synthetic</td>\n",
       "      <td>70</td>\n",
       "      <td>33</td>\n",
       "      <td>42</td>\n",
       "      <td>Outdoor</td>\n",
       "      <td>Rain</td>\n",
       "      <td>Punt Returned</td>\n",
       "      <td>WR</td>\n",
       "      <td>WR</td>\n",
       "      <td>Knee</td>\n",
       "      <td>16.035020</td>\n",
       "      <td>18.172262</td>\n",
       "      <td>5.479524</td>\n",
       "      <td>1</td>\n",
       "    </tr>\n",
       "    <tr>\n",
       "      <th>27</th>\n",
       "      <td>14</td>\n",
       "      <td>Synthetic</td>\n",
       "      <td>78</td>\n",
       "      <td>3</td>\n",
       "      <td>28</td>\n",
       "      <td>Open Dome</td>\n",
       "      <td>Cloudy</td>\n",
       "      <td>Pass</td>\n",
       "      <td>WR</td>\n",
       "      <td>WR</td>\n",
       "      <td>Knee</td>\n",
       "      <td>-16.471476</td>\n",
       "      <td>19.444858</td>\n",
       "      <td>-4.518047</td>\n",
       "      <td>1</td>\n",
       "    </tr>\n",
       "    <tr>\n",
       "      <th>29</th>\n",
       "      <td>3</td>\n",
       "      <td>Natural</td>\n",
       "      <td>88</td>\n",
       "      <td>1</td>\n",
       "      <td>42</td>\n",
       "      <td>Outdoor</td>\n",
       "      <td>Clear</td>\n",
       "      <td>Kickoff</td>\n",
       "      <td>LB</td>\n",
       "      <td>OLB</td>\n",
       "      <td>Knee</td>\n",
       "      <td>-13.520897</td>\n",
       "      <td>37.623384</td>\n",
       "      <td>-8.600197</td>\n",
       "      <td>1</td>\n",
       "    </tr>\n",
       "    <tr>\n",
       "      <th>30</th>\n",
       "      <td>3</td>\n",
       "      <td>Natural</td>\n",
       "      <td>33</td>\n",
       "      <td>6</td>\n",
       "      <td>42</td>\n",
       "      <td>Outdoor</td>\n",
       "      <td>Clear</td>\n",
       "      <td>Punt</td>\n",
       "      <td>LB</td>\n",
       "      <td>OLB</td>\n",
       "      <td>Knee</td>\n",
       "      <td>-11.688425</td>\n",
       "      <td>13.104187</td>\n",
       "      <td>39.896326</td>\n",
       "      <td>1</td>\n",
       "    </tr>\n",
       "    <tr>\n",
       "      <th>34</th>\n",
       "      <td>7</td>\n",
       "      <td>Natural</td>\n",
       "      <td>70</td>\n",
       "      <td>2</td>\n",
       "      <td>42</td>\n",
       "      <td>Outdoor</td>\n",
       "      <td>Cloudy</td>\n",
       "      <td>Pass</td>\n",
       "      <td>LB</td>\n",
       "      <td>MLB</td>\n",
       "      <td>Ankle</td>\n",
       "      <td>-13.374829</td>\n",
       "      <td>29.190163</td>\n",
       "      <td>7.810782</td>\n",
       "      <td>1</td>\n",
       "    </tr>\n",
       "    <tr>\n",
       "      <th>37</th>\n",
       "      <td>10</td>\n",
       "      <td>Natural</td>\n",
       "      <td>38</td>\n",
       "      <td>31</td>\n",
       "      <td>42</td>\n",
       "      <td>Outdoor</td>\n",
       "      <td>Clear</td>\n",
       "      <td>Pass</td>\n",
       "      <td>DL</td>\n",
       "      <td>DE</td>\n",
       "      <td>Foot</td>\n",
       "      <td>12.324386</td>\n",
       "      <td>6.212459</td>\n",
       "      <td>33.609273</td>\n",
       "      <td>1</td>\n",
       "    </tr>\n",
       "    <tr>\n",
       "      <th>40</th>\n",
       "      <td>20</td>\n",
       "      <td>Synthetic</td>\n",
       "      <td>39</td>\n",
       "      <td>21</td>\n",
       "      <td>42</td>\n",
       "      <td>Outdoor</td>\n",
       "      <td>Clear</td>\n",
       "      <td>Rush</td>\n",
       "      <td>DL</td>\n",
       "      <td>DT</td>\n",
       "      <td>Knee</td>\n",
       "      <td>3.324470</td>\n",
       "      <td>8.322887</td>\n",
       "      <td>34.988106</td>\n",
       "      <td>1</td>\n",
       "    </tr>\n",
       "    <tr>\n",
       "      <th>41</th>\n",
       "      <td>11</td>\n",
       "      <td>Synthetic</td>\n",
       "      <td>46</td>\n",
       "      <td>32</td>\n",
       "      <td>42</td>\n",
       "      <td>Outdoor</td>\n",
       "      <td>Cloudy</td>\n",
       "      <td>Pass</td>\n",
       "      <td>LB</td>\n",
       "      <td>OLB</td>\n",
       "      <td>Ankle</td>\n",
       "      <td>13.715093</td>\n",
       "      <td>9.078916</td>\n",
       "      <td>26.497836</td>\n",
       "      <td>1</td>\n",
       "    </tr>\n",
       "    <tr>\n",
       "      <th>42</th>\n",
       "      <td>3</td>\n",
       "      <td>Natural</td>\n",
       "      <td>88</td>\n",
       "      <td>23</td>\n",
       "      <td>42</td>\n",
       "      <td>Outdoor</td>\n",
       "      <td>Clear</td>\n",
       "      <td>Rush</td>\n",
       "      <td>RB</td>\n",
       "      <td>RB</td>\n",
       "      <td>Ankle</td>\n",
       "      <td>7.157697</td>\n",
       "      <td>30.637021</td>\n",
       "      <td>-10.948369</td>\n",
       "      <td>1</td>\n",
       "    </tr>\n",
       "    <tr>\n",
       "      <th>51</th>\n",
       "      <td>10</td>\n",
       "      <td>Synthetic</td>\n",
       "      <td>60</td>\n",
       "      <td>22</td>\n",
       "      <td>42</td>\n",
       "      <td>Open Dome</td>\n",
       "      <td>Clear</td>\n",
       "      <td>Rush</td>\n",
       "      <td>RB</td>\n",
       "      <td>RB</td>\n",
       "      <td>Ankle</td>\n",
       "      <td>5.015806</td>\n",
       "      <td>18.253933</td>\n",
       "      <td>14.957835</td>\n",
       "      <td>1</td>\n",
       "    </tr>\n",
       "    <tr>\n",
       "      <th>60</th>\n",
       "      <td>2</td>\n",
       "      <td>Synthetic</td>\n",
       "      <td>68</td>\n",
       "      <td>13</td>\n",
       "      <td>42</td>\n",
       "      <td>Closed Dome</td>\n",
       "      <td>Cloudy</td>\n",
       "      <td>Kickoff</td>\n",
       "      <td>WR</td>\n",
       "      <td>WR</td>\n",
       "      <td>Knee</td>\n",
       "      <td>-3.325645</td>\n",
       "      <td>25.633868</td>\n",
       "      <td>7.838097</td>\n",
       "      <td>1</td>\n",
       "    </tr>\n",
       "  </tbody>\n",
       "</table>\n",
       "</div>"
      ],
      "text/plain": [
       "    PlayerGame  FieldType  Temperature  PlayerGamePlay  Injury_Duration  \\\n",
       "0            3    Natural           89               7               42   \n",
       "1            8    Natural           81              15               28   \n",
       "2           19    Natural           79               7               28   \n",
       "8           16  Synthetic           74              19               42   \n",
       "11           5  Synthetic           76              23               42   \n",
       "13           2  Synthetic           78               1               42   \n",
       "14           9  Synthetic           47               2               42   \n",
       "15           4  Synthetic           84              32               42   \n",
       "24          15  Synthetic           70              33               42   \n",
       "27          14  Synthetic           78               3               28   \n",
       "29           3    Natural           88               1               42   \n",
       "30           3    Natural           33               6               42   \n",
       "34           7    Natural           70               2               42   \n",
       "37          10    Natural           38              31               42   \n",
       "40          20  Synthetic           39              21               42   \n",
       "41          11  Synthetic           46              32               42   \n",
       "42           3    Natural           88              23               42   \n",
       "51          10  Synthetic           60              22               42   \n",
       "60           2  Synthetic           68              13               42   \n",
       "\n",
       "    StadiumType Weather       PlayType RosterPosition Position BodyPart  \\\n",
       "0       Outdoor   Clear           Rush             RB       RB     Knee   \n",
       "1       Outdoor  Cloudy           Pass             TE       TE     Foot   \n",
       "2       Outdoor  Cloudy           Rush              S       FS     Knee   \n",
       "8        Indoor   Clear           Pass             LB      ILB     Knee   \n",
       "11      Outdoor  Cloudy        Kickoff             WR       WR     Foot   \n",
       "13    Open Dome   Clear           Rush             DL       DE    Ankle   \n",
       "14      Outdoor  Cloudy           Punt              S       SS     Knee   \n",
       "15       Indoor  Cloudy           Punt             LB      OLB     Knee   \n",
       "24      Outdoor    Rain  Punt Returned             WR       WR     Knee   \n",
       "27    Open Dome  Cloudy           Pass             WR       WR     Knee   \n",
       "29      Outdoor   Clear        Kickoff             LB      OLB     Knee   \n",
       "30      Outdoor   Clear           Punt             LB      OLB     Knee   \n",
       "34      Outdoor  Cloudy           Pass             LB      MLB    Ankle   \n",
       "37      Outdoor   Clear           Pass             DL       DE     Foot   \n",
       "40      Outdoor   Clear           Rush             DL       DT     Knee   \n",
       "41      Outdoor  Cloudy           Pass             LB      OLB    Ankle   \n",
       "42      Outdoor   Clear           Rush             RB       RB    Ankle   \n",
       "51    Open Dome   Clear           Rush             RB       RB    Ankle   \n",
       "60  Closed Dome  Cloudy        Kickoff             WR       WR     Knee   \n",
       "\n",
       "         PC 1       PC 2       PC 3  Class  \n",
       "0   -7.830629  36.138803 -10.131573      1  \n",
       "1   -5.250892  17.770756  -9.189019      1  \n",
       "2  -12.493284  17.836980  -5.246369      1  \n",
       "8    3.133926  24.146796   3.512741      1  \n",
       "11   6.600563  25.345811   0.005677      1  \n",
       "13 -14.064539  33.605352   0.203705      1  \n",
       "14 -14.499413  19.322465  28.574102      1  \n",
       "15  15.434013  25.981581  -8.209325      1  \n",
       "24  16.035020  18.172262   5.479524      1  \n",
       "27 -16.471476  19.444858  -4.518047      1  \n",
       "29 -13.520897  37.623384  -8.600197      1  \n",
       "30 -11.688425  13.104187  39.896326      1  \n",
       "34 -13.374829  29.190163   7.810782      1  \n",
       "37  12.324386   6.212459  33.609273      1  \n",
       "40   3.324470   8.322887  34.988106      1  \n",
       "41  13.715093   9.078916  26.497836      1  \n",
       "42   7.157697  30.637021 -10.948369      1  \n",
       "51   5.015806  18.253933  14.957835      1  \n",
       "60  -3.325645  25.633868   7.838097      1  "
      ]
     },
     "execution_count": 37,
     "metadata": {},
     "output_type": "execute_result"
    }
   ],
   "source": [
    "injury_subset_1"
   ]
  },
  {
   "cell_type": "markdown",
   "metadata": {},
   "source": [
    "- All of the injuries in this group are longer-term injuries, all exceeding 28 days\n",
    "- Temperature was all over the place\n",
    "- Only 3 were indoor conditions\n",
    "- There seem to be more of these injuries on synthetic fields"
   ]
  },
  {
   "cell_type": "code",
   "execution_count": 38,
   "metadata": {},
   "outputs": [
    {
     "data": {
      "text/html": [
       "<div>\n",
       "<style scoped>\n",
       "    .dataframe tbody tr th:only-of-type {\n",
       "        vertical-align: middle;\n",
       "    }\n",
       "\n",
       "    .dataframe tbody tr th {\n",
       "        vertical-align: top;\n",
       "    }\n",
       "\n",
       "    .dataframe thead th {\n",
       "        text-align: right;\n",
       "    }\n",
       "</style>\n",
       "<table border=\"1\" class=\"dataframe\">\n",
       "  <thead>\n",
       "    <tr style=\"text-align: right;\">\n",
       "      <th></th>\n",
       "      <th>PlayerGame</th>\n",
       "      <th>FieldType</th>\n",
       "      <th>Temperature</th>\n",
       "      <th>PlayerGamePlay</th>\n",
       "      <th>Injury_Duration</th>\n",
       "      <th>StadiumType</th>\n",
       "      <th>Weather</th>\n",
       "      <th>PlayType</th>\n",
       "      <th>RosterPosition</th>\n",
       "      <th>Position</th>\n",
       "      <th>BodyPart</th>\n",
       "      <th>PC 1</th>\n",
       "      <th>PC 2</th>\n",
       "      <th>PC 3</th>\n",
       "      <th>Class</th>\n",
       "    </tr>\n",
       "  </thead>\n",
       "  <tbody>\n",
       "    <tr>\n",
       "      <th>5</th>\n",
       "      <td>7</td>\n",
       "      <td>Synthetic</td>\n",
       "      <td>68</td>\n",
       "      <td>42</td>\n",
       "      <td>7</td>\n",
       "      <td>Indoor</td>\n",
       "      <td>Indoor</td>\n",
       "      <td>Pass</td>\n",
       "      <td>S</td>\n",
       "      <td>FS</td>\n",
       "      <td>Ankle</td>\n",
       "      <td>12.368564</td>\n",
       "      <td>-13.679787</td>\n",
       "      <td>-9.501661</td>\n",
       "      <td>2</td>\n",
       "    </tr>\n",
       "    <tr>\n",
       "      <th>6</th>\n",
       "      <td>1</td>\n",
       "      <td>Synthetic</td>\n",
       "      <td>63</td>\n",
       "      <td>70</td>\n",
       "      <td>42</td>\n",
       "      <td>Outdoor</td>\n",
       "      <td>Clear</td>\n",
       "      <td>Pass</td>\n",
       "      <td>S</td>\n",
       "      <td>SS</td>\n",
       "      <td>Ankle</td>\n",
       "      <td>49.973098</td>\n",
       "      <td>5.600440</td>\n",
       "      <td>6.103493</td>\n",
       "      <td>2</td>\n",
       "    </tr>\n",
       "    <tr>\n",
       "      <th>7</th>\n",
       "      <td>12</td>\n",
       "      <td>Natural</td>\n",
       "      <td>58</td>\n",
       "      <td>65</td>\n",
       "      <td>7</td>\n",
       "      <td>Outdoor</td>\n",
       "      <td>Rain</td>\n",
       "      <td>Pass</td>\n",
       "      <td>CB</td>\n",
       "      <td>CB</td>\n",
       "      <td>Knee</td>\n",
       "      <td>33.630284</td>\n",
       "      <td>-25.896795</td>\n",
       "      <td>-2.446182</td>\n",
       "      <td>2</td>\n",
       "    </tr>\n",
       "    <tr>\n",
       "      <th>18</th>\n",
       "      <td>1</td>\n",
       "      <td>Natural</td>\n",
       "      <td>72</td>\n",
       "      <td>55</td>\n",
       "      <td>42</td>\n",
       "      <td>Outdoor</td>\n",
       "      <td>Clear</td>\n",
       "      <td>Pass</td>\n",
       "      <td>S</td>\n",
       "      <td>SS</td>\n",
       "      <td>Knee</td>\n",
       "      <td>36.335124</td>\n",
       "      <td>14.113155</td>\n",
       "      <td>-0.332115</td>\n",
       "      <td>2</td>\n",
       "    </tr>\n",
       "    <tr>\n",
       "      <th>19</th>\n",
       "      <td>15</td>\n",
       "      <td>Natural</td>\n",
       "      <td>53</td>\n",
       "      <td>63</td>\n",
       "      <td>1</td>\n",
       "      <td>Outdoor</td>\n",
       "      <td>Clear</td>\n",
       "      <td>Rush</td>\n",
       "      <td>LB</td>\n",
       "      <td>OLB</td>\n",
       "      <td>Ankle</td>\n",
       "      <td>29.575222</td>\n",
       "      <td>-32.815079</td>\n",
       "      <td>0.033806</td>\n",
       "      <td>2</td>\n",
       "    </tr>\n",
       "    <tr>\n",
       "      <th>20</th>\n",
       "      <td>2</td>\n",
       "      <td>Natural</td>\n",
       "      <td>89</td>\n",
       "      <td>60</td>\n",
       "      <td>1</td>\n",
       "      <td>Outdoor</td>\n",
       "      <td>Clear</td>\n",
       "      <td>Pass</td>\n",
       "      <td>S</td>\n",
       "      <td>SS</td>\n",
       "      <td>Knee</td>\n",
       "      <td>28.183612</td>\n",
       "      <td>-14.914657</td>\n",
       "      <td>-33.279881</td>\n",
       "      <td>2</td>\n",
       "    </tr>\n",
       "    <tr>\n",
       "      <th>23</th>\n",
       "      <td>23</td>\n",
       "      <td>Synthetic</td>\n",
       "      <td>46</td>\n",
       "      <td>53</td>\n",
       "      <td>28</td>\n",
       "      <td>Outdoor</td>\n",
       "      <td>Cloudy</td>\n",
       "      <td>Rush</td>\n",
       "      <td>LB</td>\n",
       "      <td>OLB</td>\n",
       "      <td>Knee</td>\n",
       "      <td>29.157370</td>\n",
       "      <td>-11.095215</td>\n",
       "      <td>19.755093</td>\n",
       "      <td>2</td>\n",
       "    </tr>\n",
       "    <tr>\n",
       "      <th>28</th>\n",
       "      <td>20</td>\n",
       "      <td>Synthetic</td>\n",
       "      <td>73</td>\n",
       "      <td>76</td>\n",
       "      <td>28</td>\n",
       "      <td>Open Dome</td>\n",
       "      <td>Clear</td>\n",
       "      <td>Rush</td>\n",
       "      <td>CB</td>\n",
       "      <td>CB</td>\n",
       "      <td>Ankle</td>\n",
       "      <td>52.093460</td>\n",
       "      <td>-6.698202</td>\n",
       "      <td>-7.131325</td>\n",
       "      <td>2</td>\n",
       "    </tr>\n",
       "    <tr>\n",
       "      <th>31</th>\n",
       "      <td>2</td>\n",
       "      <td>Natural</td>\n",
       "      <td>68</td>\n",
       "      <td>49</td>\n",
       "      <td>42</td>\n",
       "      <td>Outdoor</td>\n",
       "      <td>Cloudy</td>\n",
       "      <td>Pass</td>\n",
       "      <td>OL</td>\n",
       "      <td>C</td>\n",
       "      <td>Foot</td>\n",
       "      <td>30.515096</td>\n",
       "      <td>14.196792</td>\n",
       "      <td>3.989567</td>\n",
       "      <td>2</td>\n",
       "    </tr>\n",
       "    <tr>\n",
       "      <th>32</th>\n",
       "      <td>5</td>\n",
       "      <td>Synthetic</td>\n",
       "      <td>89</td>\n",
       "      <td>69</td>\n",
       "      <td>42</td>\n",
       "      <td>Open Dome</td>\n",
       "      <td>Cloudy</td>\n",
       "      <td>Kickoff</td>\n",
       "      <td>WR</td>\n",
       "      <td>WR</td>\n",
       "      <td>Ankle</td>\n",
       "      <td>50.506106</td>\n",
       "      <td>16.172861</td>\n",
       "      <td>-16.498020</td>\n",
       "      <td>2</td>\n",
       "    </tr>\n",
       "    <tr>\n",
       "      <th>36</th>\n",
       "      <td>12</td>\n",
       "      <td>Natural</td>\n",
       "      <td>61</td>\n",
       "      <td>41</td>\n",
       "      <td>7</td>\n",
       "      <td>Outdoor</td>\n",
       "      <td>Rain</td>\n",
       "      <td>Pass</td>\n",
       "      <td>DL</td>\n",
       "      <td>DE</td>\n",
       "      <td>Knee</td>\n",
       "      <td>11.224683</td>\n",
       "      <td>-17.024112</td>\n",
       "      <td>-2.558147</td>\n",
       "      <td>2</td>\n",
       "    </tr>\n",
       "    <tr>\n",
       "      <th>43</th>\n",
       "      <td>5</td>\n",
       "      <td>Synthetic</td>\n",
       "      <td>75</td>\n",
       "      <td>41</td>\n",
       "      <td>28</td>\n",
       "      <td>Outdoor</td>\n",
       "      <td>Cloudy</td>\n",
       "      <td>Pass</td>\n",
       "      <td>LB</td>\n",
       "      <td>MLB</td>\n",
       "      <td>Ankle</td>\n",
       "      <td>18.767592</td>\n",
       "      <td>7.468870</td>\n",
       "      <td>-6.961865</td>\n",
       "      <td>2</td>\n",
       "    </tr>\n",
       "    <tr>\n",
       "      <th>45</th>\n",
       "      <td>5</td>\n",
       "      <td>Natural</td>\n",
       "      <td>67</td>\n",
       "      <td>52</td>\n",
       "      <td>7</td>\n",
       "      <td>Outdoor</td>\n",
       "      <td>Cloudy</td>\n",
       "      <td>Rush</td>\n",
       "      <td>LB</td>\n",
       "      <td>OLB</td>\n",
       "      <td>Knee</td>\n",
       "      <td>21.618591</td>\n",
       "      <td>-16.959534</td>\n",
       "      <td>-9.916174</td>\n",
       "      <td>2</td>\n",
       "    </tr>\n",
       "    <tr>\n",
       "      <th>49</th>\n",
       "      <td>8</td>\n",
       "      <td>Synthetic</td>\n",
       "      <td>68</td>\n",
       "      <td>40</td>\n",
       "      <td>7</td>\n",
       "      <td>Outdoor</td>\n",
       "      <td>Clear</td>\n",
       "      <td>Pass</td>\n",
       "      <td>WR</td>\n",
       "      <td>WR</td>\n",
       "      <td>Ankle</td>\n",
       "      <td>10.521354</td>\n",
       "      <td>-13.194314</td>\n",
       "      <td>-9.161306</td>\n",
       "      <td>2</td>\n",
       "    </tr>\n",
       "    <tr>\n",
       "      <th>52</th>\n",
       "      <td>30</td>\n",
       "      <td>Natural</td>\n",
       "      <td>45</td>\n",
       "      <td>58</td>\n",
       "      <td>7</td>\n",
       "      <td>Outdoor</td>\n",
       "      <td>Clear</td>\n",
       "      <td>Pass</td>\n",
       "      <td>S</td>\n",
       "      <td>FS</td>\n",
       "      <td>Ankle</td>\n",
       "      <td>27.014368</td>\n",
       "      <td>-31.775554</td>\n",
       "      <td>12.026868</td>\n",
       "      <td>2</td>\n",
       "    </tr>\n",
       "    <tr>\n",
       "      <th>57</th>\n",
       "      <td>4</td>\n",
       "      <td>Synthetic</td>\n",
       "      <td>61</td>\n",
       "      <td>44</td>\n",
       "      <td>42</td>\n",
       "      <td>Outdoor</td>\n",
       "      <td>Clear</td>\n",
       "      <td>Pass</td>\n",
       "      <td>S</td>\n",
       "      <td>SS</td>\n",
       "      <td>Ankle</td>\n",
       "      <td>25.542103</td>\n",
       "      <td>12.567331</td>\n",
       "      <td>11.015110</td>\n",
       "      <td>2</td>\n",
       "    </tr>\n",
       "    <tr>\n",
       "      <th>63</th>\n",
       "      <td>7</td>\n",
       "      <td>Synthetic</td>\n",
       "      <td>55</td>\n",
       "      <td>55</td>\n",
       "      <td>28</td>\n",
       "      <td>Outdoor</td>\n",
       "      <td>Cloudy</td>\n",
       "      <td>Punt Not Returned</td>\n",
       "      <td>CB</td>\n",
       "      <td>CB</td>\n",
       "      <td>Foot</td>\n",
       "      <td>30.957967</td>\n",
       "      <td>-5.604894</td>\n",
       "      <td>9.619818</td>\n",
       "      <td>2</td>\n",
       "    </tr>\n",
       "  </tbody>\n",
       "</table>\n",
       "</div>"
      ],
      "text/plain": [
       "    PlayerGame  FieldType  Temperature  PlayerGamePlay  Injury_Duration  \\\n",
       "5            7  Synthetic           68              42                7   \n",
       "6            1  Synthetic           63              70               42   \n",
       "7           12    Natural           58              65                7   \n",
       "18           1    Natural           72              55               42   \n",
       "19          15    Natural           53              63                1   \n",
       "20           2    Natural           89              60                1   \n",
       "23          23  Synthetic           46              53               28   \n",
       "28          20  Synthetic           73              76               28   \n",
       "31           2    Natural           68              49               42   \n",
       "32           5  Synthetic           89              69               42   \n",
       "36          12    Natural           61              41                7   \n",
       "43           5  Synthetic           75              41               28   \n",
       "45           5    Natural           67              52                7   \n",
       "49           8  Synthetic           68              40                7   \n",
       "52          30    Natural           45              58                7   \n",
       "57           4  Synthetic           61              44               42   \n",
       "63           7  Synthetic           55              55               28   \n",
       "\n",
       "   StadiumType Weather           PlayType RosterPosition Position BodyPart  \\\n",
       "5       Indoor  Indoor               Pass              S       FS    Ankle   \n",
       "6      Outdoor   Clear               Pass              S       SS    Ankle   \n",
       "7      Outdoor    Rain               Pass             CB       CB     Knee   \n",
       "18     Outdoor   Clear               Pass              S       SS     Knee   \n",
       "19     Outdoor   Clear               Rush             LB      OLB    Ankle   \n",
       "20     Outdoor   Clear               Pass              S       SS     Knee   \n",
       "23     Outdoor  Cloudy               Rush             LB      OLB     Knee   \n",
       "28   Open Dome   Clear               Rush             CB       CB    Ankle   \n",
       "31     Outdoor  Cloudy               Pass             OL        C     Foot   \n",
       "32   Open Dome  Cloudy            Kickoff             WR       WR    Ankle   \n",
       "36     Outdoor    Rain               Pass             DL       DE     Knee   \n",
       "43     Outdoor  Cloudy               Pass             LB      MLB    Ankle   \n",
       "45     Outdoor  Cloudy               Rush             LB      OLB     Knee   \n",
       "49     Outdoor   Clear               Pass             WR       WR    Ankle   \n",
       "52     Outdoor   Clear               Pass              S       FS    Ankle   \n",
       "57     Outdoor   Clear               Pass              S       SS    Ankle   \n",
       "63     Outdoor  Cloudy  Punt Not Returned             CB       CB     Foot   \n",
       "\n",
       "         PC 1       PC 2       PC 3  Class  \n",
       "5   12.368564 -13.679787  -9.501661      2  \n",
       "6   49.973098   5.600440   6.103493      2  \n",
       "7   33.630284 -25.896795  -2.446182      2  \n",
       "18  36.335124  14.113155  -0.332115      2  \n",
       "19  29.575222 -32.815079   0.033806      2  \n",
       "20  28.183612 -14.914657 -33.279881      2  \n",
       "23  29.157370 -11.095215  19.755093      2  \n",
       "28  52.093460  -6.698202  -7.131325      2  \n",
       "31  30.515096  14.196792   3.989567      2  \n",
       "32  50.506106  16.172861 -16.498020      2  \n",
       "36  11.224683 -17.024112  -2.558147      2  \n",
       "43  18.767592   7.468870  -6.961865      2  \n",
       "45  21.618591 -16.959534  -9.916174      2  \n",
       "49  10.521354 -13.194314  -9.161306      2  \n",
       "52  27.014368 -31.775554  12.026868      2  \n",
       "57  25.542103  12.567331  11.015110      2  \n",
       "63  30.957967  -5.604894   9.619818      2  "
      ]
     },
     "execution_count": 38,
     "metadata": {},
     "output_type": "execute_result"
    }
   ],
   "source": [
    "injury_subset_2"
   ]
  },
  {
   "cell_type": "markdown",
   "metadata": {},
   "source": [
    "- There is no pattern to the Injury duration\n",
    "- There is no correlation with the Field Type\n",
    "- Again, all but 1 are outdoor stadiums\n",
    "- It appears that most of these injuries were during passing playes\n",
    "- A large proportion of these injuries were to the Safety \n",
    "- Only 1 of the plays in this group was a Punt play"
   ]
  },
  {
   "cell_type": "markdown",
   "metadata": {},
   "source": [
    "### The 6-Means Model"
   ]
  },
  {
   "cell_type": "code",
   "execution_count": 46,
   "metadata": {},
   "outputs": [],
   "source": [
    "# Initialize the k-means model\n",
    "model = KMeans(n_clusters=6, random_state=5)\n",
    "\n",
    "# Fit the model\n",
    "model.fit(pcs_df)\n",
    "\n",
    "# Predict the clusters\n",
    "predictions = model.predict(pcs_df)\n",
    "\n",
    "# Concatenate the data with the Play_Injuries dataframe\n",
    "clustered_play_injuries = pd.concat([play_injuries, pcs_df], axis=1)\n",
    "\n",
    "# Add new column for the \"Class\", based on the predictions\n",
    "clustered_play_injuries['Class'] = predictions\n"
   ]
  },
  {
   "cell_type": "code",
   "execution_count": 47,
   "metadata": {},
   "outputs": [],
   "source": [
    "injury_subset_0 = clustered_play_injuries[clustered_play_injuries.Class == 0]\n",
    "injury_subset_1 = clustered_play_injuries[clustered_play_injuries.Class == 1]\n",
    "injury_subset_2 = clustered_play_injuries[clustered_play_injuries.Class == 2]\n",
    "injury_subset_3 = clustered_play_injuries[clustered_play_injuries.Class == 3]\n",
    "injury_subset_4 = clustered_play_injuries[clustered_play_injuries.Class == 4]\n",
    "injury_subset_5 = clustered_play_injuries[clustered_play_injuries.Class == 5]\n"
   ]
  },
  {
   "cell_type": "code",
   "execution_count": 48,
   "metadata": {},
   "outputs": [
    {
     "data": {
      "application/vnd.plotly.v1+json": {
       "config": {
        "plotlyServerURL": "https://plot.ly"
       },
       "data": [
        {
         "customdata": [
          [
           42,
           "RB",
           "Clear",
           "Rush",
           "Outdoor",
           "Knee",
           "RB",
           89
          ],
          [
           28,
           "TE",
           "Cloudy",
           "Pass",
           "Outdoor",
           "Foot",
           "TE",
           81
          ],
          [
           28,
           "FS",
           "Cloudy",
           "Rush",
           "Outdoor",
           "Knee",
           "S",
           79
          ],
          [
           42,
           "ILB",
           "Clear",
           "Pass",
           "Indoor",
           "Knee",
           "LB",
           74
          ],
          [
           42,
           "WR",
           "Cloudy",
           "Kickoff",
           "Outdoor",
           "Foot",
           "WR",
           76
          ],
          [
           42,
           "DE",
           "Clear",
           "Rush",
           "Open Dome",
           "Ankle",
           "DL",
           78
          ],
          [
           42,
           "OLB",
           "Cloudy",
           "Punt",
           "Indoor",
           "Knee",
           "LB",
           84
          ],
          [
           28,
           "WR",
           "Cloudy",
           "Pass",
           "Open Dome",
           "Knee",
           "WR",
           78
          ],
          [
           42,
           "OLB",
           "Clear",
           "Kickoff",
           "Outdoor",
           "Knee",
           "LB",
           88
          ],
          [
           42,
           "MLB",
           "Cloudy",
           "Pass",
           "Outdoor",
           "Ankle",
           "LB",
           70
          ],
          [
           42,
           "RB",
           "Clear",
           "Rush",
           "Outdoor",
           "Ankle",
           "RB",
           88
          ],
          [
           42,
           "WR",
           "Cloudy",
           "Kickoff",
           "Closed Dome",
           "Knee",
           "WR",
           68
          ]
         ],
         "hovertemplate": "<b>%{hovertext}</b><br><br>Class=%{marker.color}<br>PC 1=%{x}<br>PC 2=%{y}<br>PC 3=%{z}<br>Injury_Duration=%{customdata[0]}<br>Position=%{customdata[1]}<br>Weather=%{customdata[2]}<br>PlayType=%{customdata[3]}<br>StadiumType=%{customdata[4]}<br>BodyPart=%{customdata[5]}<br>RosterPosition=%{customdata[6]}<br>Temperature=%{customdata[7]}<extra></extra>",
         "hovertext": [
          "Natural",
          "Natural",
          "Natural",
          "Synthetic",
          "Synthetic",
          "Synthetic",
          "Synthetic",
          "Synthetic",
          "Natural",
          "Natural",
          "Natural",
          "Synthetic"
         ],
         "legendgroup": "5",
         "marker": {
          "color": [
           5,
           5,
           5,
           5,
           5,
           5,
           5,
           5,
           5,
           5,
           5,
           5
          ],
          "coloraxis": "coloraxis",
          "symbol": "circle"
         },
         "mode": "markers",
         "name": "5",
         "scene": "scene",
         "showlegend": true,
         "type": "scatter3d",
         "x": [
          -7.830628852586754,
          -5.250891638526665,
          -12.493283554118424,
          3.133926254677844,
          6.600562758410352,
          -14.064539460904447,
          15.434012989341612,
          -16.47147590944882,
          -13.520897146245082,
          -13.37482920991879,
          7.157697063987873,
          -3.3256447108734504
         ],
         "y": [
          36.13880340989634,
          17.770756140871075,
          17.83697981991228,
          24.14679641001593,
          25.345811221490752,
          33.605351659688274,
          25.981581413957723,
          19.44485752983106,
          37.623384157796224,
          29.190162697448493,
          30.637020611824212,
          25.633867852333186
         ],
         "z": [
          -10.131573100531636,
          -9.189019208790649,
          -5.246368734092204,
          3.51274070836789,
          0.0056772562065762365,
          0.20370466341789312,
          -8.209325497709212,
          -4.518047353997805,
          -8.60019696064565,
          7.81078150749052,
          -10.948368805931064,
          7.838097081747022
         ]
        },
        {
         "customdata": [
          [
           7,
           "WR",
           "Cloudy",
           "Kickoff",
           "Outdoor",
           "Knee",
           "WR",
           48
          ],
          [
           7,
           "WR",
           "Rain",
           "Punt Returned",
           "Outdoor",
           "Ankle",
           "WR",
           58
          ],
          [
           7,
           "OLB",
           "Cloudy",
           "Rush",
           "Outdoor",
           "Ankle",
           "LB",
           42
          ],
          [
           1,
           "C",
           "Cloudy",
           "Rush",
           "Closed Dome",
           "Ankle",
           "OL",
           57
          ],
          [
           1,
           "WR",
           "Rain",
           "Pass",
           "Outdoor",
           "Knee",
           "WR",
           52
          ],
          [
           7,
           "WR",
           "Clear",
           "Pass",
           "Outdoor",
           "Ankle",
           "WR",
           44
          ],
          [
           1,
           "FS",
           "Clear",
           "Punt",
           "Outdoor",
           "Ankle",
           "S",
           38
          ],
          [
           1,
           "WR",
           "Rain",
           "Rush",
           "Outdoor",
           "Ankle",
           "WR",
           39
          ],
          [
           7,
           "TE",
           "Cloudy",
           "Kickoff Returned",
           "Outdoor",
           "Knee",
           "TE",
           45
          ],
          [
           7,
           "MLB",
           "Clear",
           "Punt",
           "Outdoor",
           "Knee",
           "LB",
           38
          ],
          [
           7,
           "RB",
           "Cloudy",
           "Pass",
           "Outdoor",
           "Knee",
           "RB",
           55
          ],
          [
           7,
           "CB",
           "Cloudy",
           "Punt Returned",
           "Outdoor",
           "Ankle",
           "CB",
           44
          ]
         ],
         "hovertemplate": "<b>%{hovertext}</b><br><br>Class=%{marker.color}<br>PC 1=%{x}<br>PC 2=%{y}<br>PC 3=%{z}<br>Injury_Duration=%{customdata[0]}<br>Position=%{customdata[1]}<br>Weather=%{customdata[2]}<br>PlayType=%{customdata[3]}<br>StadiumType=%{customdata[4]}<br>BodyPart=%{customdata[5]}<br>RosterPosition=%{customdata[6]}<br>Temperature=%{customdata[7]}<extra></extra>",
         "hovertext": [
          "Natural",
          "Natural",
          "Synthetic",
          "Synthetic",
          "Natural",
          "Natural",
          "Natural",
          "Synthetic",
          "Synthetic",
          "Natural",
          "Synthetic",
          "Synthetic"
         ],
         "legendgroup": "0",
         "marker": {
          "color": [
           0,
           0,
           0,
           0,
           0,
           0,
           0,
           0,
           0,
           0,
           0,
           0
          ],
          "coloraxis": "coloraxis",
          "symbol": "diamond"
         },
         "mode": "markers",
         "name": "0",
         "scene": "scene",
         "showlegend": true,
         "type": "scatter3d",
         "x": [
          -19.78088463241628,
          -13.707656419568938,
          -19.938881118617843,
          -15.18272544877122,
          -17.78343216153803,
          -9.352402119485554,
          -13.736585526085737,
          -4.913105868347103,
          -25.110240551240658,
          -23.008962255591513,
          -12.85790626171669,
          -10.465061540080034
         ],
         "y": [
          -11.241867750139399,
          -12.253558157154453,
          -14.340206988318684,
          -16.509548609567272,
          -16.037913000632123,
          -17.60719092763208,
          -23.757358737276583,
          -27.534959096852887,
          -12.518872250073878,
          -14.90364368658016,
          -10.385111522555214,
          -16.538947061807146
         ],
         "z": [
          11.602781034108135,
          5.013711778933809,
          17.440873621688393,
          2.067207391900178,
          5.187130766779694,
          14.944254132459124,
          17.373234508773756,
          16.604223739904295,
          16.48298632691333,
          21.196169008988722,
          4.513255200549481,
          14.475937741038894
         ]
        },
        {
         "customdata": [
          [
           7,
           "T",
           "Clear",
           "Pass",
           "Outdoor",
           "Knee",
           "OL",
           79
          ],
          [
           7,
           "FS",
           "Indoor",
           "Pass",
           "Indoor",
           "Ankle",
           "S",
           68
          ],
          [
           7,
           "CB",
           "Rain",
           "Pass",
           "Outdoor",
           "Knee",
           "CB",
           58
          ],
          [
           1,
           "OLB",
           "Clear",
           "Rush",
           "Outdoor",
           "Ankle",
           "LB",
           53
          ],
          [
           1,
           "SS",
           "Clear",
           "Pass",
           "Outdoor",
           "Knee",
           "S",
           89
          ],
          [
           7,
           "DE",
           "Rain",
           "Pass",
           "Outdoor",
           "Knee",
           "DL",
           61
          ],
          [
           1,
           "WR",
           "Clear",
           "Pass",
           "Indoor",
           "Ankle",
           "WR",
           70
          ],
          [
           7,
           "OLB",
           "Cloudy",
           "Rush",
           "Outdoor",
           "Knee",
           "LB",
           67
          ],
          [
           7,
           "WR",
           "Clear",
           "Pass",
           "Outdoor",
           "Ankle",
           "WR",
           68
          ],
          [
           7,
           "FS",
           "Clear",
           "Pass",
           "Outdoor",
           "Ankle",
           "S",
           45
          ]
         ],
         "hovertemplate": "<b>%{hovertext}</b><br><br>Class=%{marker.color}<br>PC 1=%{x}<br>PC 2=%{y}<br>PC 3=%{z}<br>Injury_Duration=%{customdata[0]}<br>Position=%{customdata[1]}<br>Weather=%{customdata[2]}<br>PlayType=%{customdata[3]}<br>StadiumType=%{customdata[4]}<br>BodyPart=%{customdata[5]}<br>RosterPosition=%{customdata[6]}<br>Temperature=%{customdata[7]}<extra></extra>",
         "hovertext": [
          "Natural",
          "Synthetic",
          "Natural",
          "Natural",
          "Natural",
          "Natural",
          "Synthetic",
          "Natural",
          "Synthetic",
          "Natural"
         ],
         "legendgroup": "2",
         "marker": {
          "color": [
           2,
           2,
           2,
           2,
           2,
           2,
           2,
           2,
           2,
           2
          ],
          "coloraxis": "coloraxis",
          "symbol": "square"
         },
         "mode": "markers",
         "name": "2",
         "scene": "scene",
         "showlegend": true,
         "type": "scatter3d",
         "x": [
          6.635203752723765,
          12.368563530861595,
          33.630283780588144,
          29.57522189538805,
          28.18361161022699,
          11.224682705591597,
          4.616038351554789,
          21.618591160830753,
          10.521354447577398,
          27.014368134464977
         ],
         "y": [
          -8.06022862912387,
          -13.679787436649367,
          -25.896795182108033,
          -32.81507928032926,
          -14.91465714269368,
          -17.024112057138208,
          -18.77863913984225,
          -16.95953406055078,
          -13.194313909450589,
          -31.77555371711066
         ],
         "z": [
          -17.61563816802181,
          -9.501660545440492,
          -2.446182204532705,
          0.033806382149109894,
          -33.27988144646651,
          -2.5581474967683873,
          -10.58239595660162,
          -9.916174345824448,
          -9.161306400598358,
          12.026868477403733
         ]
        },
        {
         "customdata": [
          [
           42,
           "SS",
           "Clear",
           "Pass",
           "Outdoor",
           "Ankle",
           "S",
           63
          ],
          [
           42,
           "SS",
           "Clear",
           "Pass",
           "Outdoor",
           "Knee",
           "S",
           72
          ],
          [
           28,
           "OLB",
           "Cloudy",
           "Rush",
           "Outdoor",
           "Knee",
           "LB",
           46
          ],
          [
           42,
           "WR",
           "Rain",
           "Punt Returned",
           "Outdoor",
           "Knee",
           "WR",
           70
          ],
          [
           28,
           "CB",
           "Clear",
           "Rush",
           "Open Dome",
           "Ankle",
           "CB",
           73
          ],
          [
           42,
           "C",
           "Cloudy",
           "Pass",
           "Outdoor",
           "Foot",
           "OL",
           68
          ],
          [
           42,
           "WR",
           "Cloudy",
           "Kickoff",
           "Open Dome",
           "Ankle",
           "WR",
           89
          ],
          [
           28,
           "MLB",
           "Cloudy",
           "Pass",
           "Outdoor",
           "Ankle",
           "LB",
           75
          ],
          [
           42,
           "SS",
           "Clear",
           "Pass",
           "Outdoor",
           "Ankle",
           "S",
           61
          ],
          [
           28,
           "CB",
           "Cloudy",
           "Punt Not Returned",
           "Outdoor",
           "Foot",
           "CB",
           55
          ]
         ],
         "hovertemplate": "<b>%{hovertext}</b><br><br>Class=%{marker.color}<br>PC 1=%{x}<br>PC 2=%{y}<br>PC 3=%{z}<br>Injury_Duration=%{customdata[0]}<br>Position=%{customdata[1]}<br>Weather=%{customdata[2]}<br>PlayType=%{customdata[3]}<br>StadiumType=%{customdata[4]}<br>BodyPart=%{customdata[5]}<br>RosterPosition=%{customdata[6]}<br>Temperature=%{customdata[7]}<extra></extra>",
         "hovertext": [
          "Synthetic",
          "Natural",
          "Synthetic",
          "Synthetic",
          "Synthetic",
          "Natural",
          "Synthetic",
          "Synthetic",
          "Synthetic",
          "Synthetic"
         ],
         "legendgroup": "4",
         "marker": {
          "color": [
           4,
           4,
           4,
           4,
           4,
           4,
           4,
           4,
           4,
           4
          ],
          "coloraxis": "coloraxis",
          "symbol": "x"
         },
         "mode": "markers",
         "name": "4",
         "scene": "scene",
         "showlegend": true,
         "type": "scatter3d",
         "x": [
          49.97309787034842,
          36.33512375308228,
          29.157370215420677,
          16.03501968213423,
          52.09345991314648,
          30.51509573971413,
          50.506106357260094,
          18.76759204765576,
          25.542102940243257,
          30.957966967017057
         ],
         "y": [
          5.600439791383602,
          14.113154551273052,
          -11.095215077491561,
          18.17226157844521,
          -6.698202381116013,
          14.196792215904344,
          16.17286142115861,
          7.468869817370841,
          12.56733111786725,
          -5.604894183619525
         ],
         "z": [
          6.103492921181095,
          -0.33211463614350223,
          19.755092553408,
          5.479524184314473,
          -7.131325084729995,
          3.9895674593568224,
          -16.498019748649412,
          -6.961864533787503,
          11.015110208014312,
          9.619818296677934
         ]
        },
        {
         "customdata": [
          [
           1,
           "WR",
           "Cloudy",
           "Pass",
           "Outdoor",
           "Ankle",
           "WR",
           61
          ],
          [
           7,
           "ILB",
           "Cloudy",
           "Punt",
           "Outdoor",
           "Ankle",
           "LB",
           65
          ],
          [
           7,
           "FS",
           "Cloudy",
           "Pass",
           "Outdoor",
           "Knee",
           "S",
           68
          ],
          [
           1,
           "OLB",
           "Indoor",
           "Kickoff",
           "Indoor",
           "Knee",
           "LB",
           70
          ],
          [
           7,
           "OLB",
           "Clear",
           "Rush",
           "Outdoor",
           "Ankle",
           "LB",
           70
          ],
          [
           1,
           "C",
           "Cloudy",
           "Pass",
           "Outdoor",
           "Ankle",
           "OL",
           75
          ],
          [
           1,
           "MLB",
           "Clear",
           "Rush",
           "Outdoor",
           "Ankle",
           "LB",
           89
          ],
          [
           7,
           "DT",
           "Cloudy",
           "Rush",
           "Outdoor",
           "Knee",
           "DL",
           62
          ],
          [
           7,
           "DE",
           "Windy",
           "Kickoff",
           "Outdoor",
           "Knee",
           "DL",
           70
          ],
          [
           1,
           "WR",
           "Cloudy",
           "Rush",
           "Outdoor",
           "Ankle",
           "WR",
           81
          ],
          [
           7,
           "C",
           "Clear",
           "Rush",
           "Outdoor",
           "Ankle",
           "OL",
           79
          ],
          [
           7,
           "OLB",
           "Cloudy",
           "Punt",
           "Open Dome",
           "Knee",
           "LB",
           76
          ],
          [
           7,
           "OLB",
           "Clear",
           "Punt",
           "Outdoor",
           "Knee",
           "LB",
           89
          ],
          [
           7,
           "DE",
           "Clear",
           "Rush",
           "Outdoor",
           "Ankle",
           "DL",
           75
          ],
          [
           1,
           "LB",
           "Cloudy",
           "Punt",
           "Outdoor",
           "Ankle",
           "LB",
           80
          ],
          [
           1,
           "WR",
           "Cloudy",
           "Pass",
           "Outdoor",
           "Knee",
           "WR",
           71
          ],
          [
           7,
           "CB",
           "Indoor",
           "Pass",
           "Closed Dome",
           "Knee",
           "CB",
           68
          ],
          [
           7,
           "CB",
           "Indoor",
           "Pass",
           "Closed Dome",
           "Ankle",
           "CB",
           68
          ],
          [
           7,
           "DB",
           "Clear",
           "Kickoff Not Returned",
           "Indoor",
           "Knee",
           "S",
           74
          ]
         ],
         "hovertemplate": "<b>%{hovertext}</b><br><br>Class=%{marker.color}<br>PC 1=%{x}<br>PC 2=%{y}<br>PC 3=%{z}<br>Injury_Duration=%{customdata[0]}<br>Position=%{customdata[1]}<br>Weather=%{customdata[2]}<br>PlayType=%{customdata[3]}<br>StadiumType=%{customdata[4]}<br>BodyPart=%{customdata[5]}<br>RosterPosition=%{customdata[6]}<br>Temperature=%{customdata[7]}<extra></extra>",
         "hovertext": [
          "Natural",
          "Synthetic",
          "Natural",
          "Synthetic",
          "Natural",
          "Synthetic",
          "Natural",
          "Synthetic",
          "Natural",
          "Natural",
          "Natural",
          "Natural",
          "Natural",
          "Natural",
          "Natural",
          "Natural",
          "Synthetic",
          "Synthetic",
          "Synthetic"
         ],
         "legendgroup": "3",
         "marker": {
          "color": [
           3,
           3,
           3,
           3,
           3,
           3,
           3,
           3,
           3,
           3,
           3,
           3,
           3,
           3,
           3,
           3,
           3,
           3,
           3
          ],
          "coloraxis": "coloraxis",
          "symbol": "cross"
         },
         "mode": "markers",
         "name": "3",
         "scene": "scene",
         "showlegend": true,
         "type": "scatter3d",
         "x": [
          -21.941890094093104,
          -23.724507120529935,
          -14.132692961230415,
          -21.71955419160772,
          -15.942294049650666,
          -16.57512591549209,
          -15.019992026397624,
          -18.93900069627023,
          -17.621500263058287,
          -24.630953941204503,
          -6.417381702751974,
          -2.273288329596982,
          -11.130746002441997,
          -23.060644671947614,
          -0.4610414753764732,
          -14.049354762286303,
          -10.082250884613375,
          -10.07720194819628,
          -25.819515542526677
         ],
         "y": [
          -11.000269406114125,
          -1.9733133810532146,
          -4.051364885554276,
          -6.176156112967889,
          -2.4346409747946822,
          -6.4433081249415975,
          -0.4760110346017572,
          -5.844236286235651,
          -2.682564774069412,
          -1.538570635907241,
          -4.072007345937307,
          -5.249838099062617,
          3.9294317503138325,
          1.5924494194165795,
          -9.304844125373558,
          -8.763801608654406,
          -6.507923018820589,
          -6.51751471049178,
          1.6987430092309943
         ],
         "z": [
          -2.067570044413196,
          -3.4773594198534186,
          -7.112926380386232,
          -10.91538299069538,
          -8.805151400875964,
          -15.306553811980445,
          -28.26149085999148,
          -0.4983793889989413,
          -7.87280309054263,
          -19.349398875538565,
          -15.768675410885738,
          -14.932018719279242,
          -25.923841314628923,
          -11.929733294633138,
          -21.941530317879668,
          -12.307832932059435,
          -6.5817395924885,
          -6.5841620955668025,
          -10.355365050443456
         ]
        },
        {
         "customdata": [
          [
           42,
           "SS",
           "Cloudy",
           "Punt",
           "Outdoor",
           "Knee",
           "S",
           47
          ],
          [
           42,
           "OLB",
           "Clear",
           "Punt",
           "Outdoor",
           "Knee",
           "LB",
           33
          ],
          [
           42,
           "DE",
           "Clear",
           "Pass",
           "Outdoor",
           "Foot",
           "DL",
           38
          ],
          [
           42,
           "DT",
           "Clear",
           "Rush",
           "Outdoor",
           "Knee",
           "DL",
           39
          ],
          [
           42,
           "OLB",
           "Cloudy",
           "Pass",
           "Outdoor",
           "Ankle",
           "LB",
           46
          ],
          [
           42,
           "RB",
           "Clear",
           "Rush",
           "Open Dome",
           "Ankle",
           "RB",
           60
          ]
         ],
         "hovertemplate": "<b>%{hovertext}</b><br><br>Class=%{marker.color}<br>PC 1=%{x}<br>PC 2=%{y}<br>PC 3=%{z}<br>Injury_Duration=%{customdata[0]}<br>Position=%{customdata[1]}<br>Weather=%{customdata[2]}<br>PlayType=%{customdata[3]}<br>StadiumType=%{customdata[4]}<br>BodyPart=%{customdata[5]}<br>RosterPosition=%{customdata[6]}<br>Temperature=%{customdata[7]}<extra></extra>",
         "hovertext": [
          "Synthetic",
          "Natural",
          "Natural",
          "Synthetic",
          "Synthetic",
          "Synthetic"
         ],
         "legendgroup": "1",
         "marker": {
          "color": [
           1,
           1,
           1,
           1,
           1,
           1
          ],
          "coloraxis": "coloraxis",
          "symbol": "circle"
         },
         "mode": "markers",
         "name": "1",
         "scene": "scene",
         "showlegend": true,
         "type": "scatter3d",
         "x": [
          -14.499412896801584,
          -11.688425028358271,
          12.324385960556631,
          3.3244696761387744,
          13.715093118041704,
          5.015806213528721
         ],
         "y": [
          19.32246545249619,
          13.104186538538709,
          6.212459064696203,
          8.322887293043971,
          9.078916041170485,
          18.253932523018438
         ],
         "z": [
          28.574102051367138,
          39.89632649711992,
          33.609272528565796,
          34.98810645001651,
          26.497835915394287,
          14.957834826167423
         ]
        }
       ],
       "layout": {
        "coloraxis": {
         "colorbar": {
          "title": {
           "text": "Class"
          }
         },
         "colorscale": [
          [
           0,
           "#0d0887"
          ],
          [
           0.1111111111111111,
           "#46039f"
          ],
          [
           0.2222222222222222,
           "#7201a8"
          ],
          [
           0.3333333333333333,
           "#9c179e"
          ],
          [
           0.4444444444444444,
           "#bd3786"
          ],
          [
           0.5555555555555556,
           "#d8576b"
          ],
          [
           0.6666666666666666,
           "#ed7953"
          ],
          [
           0.7777777777777778,
           "#fb9f3a"
          ],
          [
           0.8888888888888888,
           "#fdca26"
          ],
          [
           1,
           "#f0f921"
          ]
         ]
        },
        "height": 1000,
        "legend": {
         "title": {
          "text": "Class"
         },
         "tracegroupgap": 0,
         "x": 0,
         "y": 1
        },
        "scene": {
         "domain": {
          "x": [
           0,
           1
          ],
          "y": [
           0,
           1
          ]
         },
         "xaxis": {
          "title": {
           "text": "PC 1"
          }
         },
         "yaxis": {
          "title": {
           "text": "PC 2"
          }
         },
         "zaxis": {
          "title": {
           "text": "PC 3"
          }
         }
        },
        "template": {
         "data": {
          "bar": [
           {
            "error_x": {
             "color": "#2a3f5f"
            },
            "error_y": {
             "color": "#2a3f5f"
            },
            "marker": {
             "line": {
              "color": "#E5ECF6",
              "width": 0.5
             },
             "pattern": {
              "fillmode": "overlay",
              "size": 10,
              "solidity": 0.2
             }
            },
            "type": "bar"
           }
          ],
          "barpolar": [
           {
            "marker": {
             "line": {
              "color": "#E5ECF6",
              "width": 0.5
             },
             "pattern": {
              "fillmode": "overlay",
              "size": 10,
              "solidity": 0.2
             }
            },
            "type": "barpolar"
           }
          ],
          "carpet": [
           {
            "aaxis": {
             "endlinecolor": "#2a3f5f",
             "gridcolor": "white",
             "linecolor": "white",
             "minorgridcolor": "white",
             "startlinecolor": "#2a3f5f"
            },
            "baxis": {
             "endlinecolor": "#2a3f5f",
             "gridcolor": "white",
             "linecolor": "white",
             "minorgridcolor": "white",
             "startlinecolor": "#2a3f5f"
            },
            "type": "carpet"
           }
          ],
          "choropleth": [
           {
            "colorbar": {
             "outlinewidth": 0,
             "ticks": ""
            },
            "type": "choropleth"
           }
          ],
          "contour": [
           {
            "colorbar": {
             "outlinewidth": 0,
             "ticks": ""
            },
            "colorscale": [
             [
              0,
              "#0d0887"
             ],
             [
              0.1111111111111111,
              "#46039f"
             ],
             [
              0.2222222222222222,
              "#7201a8"
             ],
             [
              0.3333333333333333,
              "#9c179e"
             ],
             [
              0.4444444444444444,
              "#bd3786"
             ],
             [
              0.5555555555555556,
              "#d8576b"
             ],
             [
              0.6666666666666666,
              "#ed7953"
             ],
             [
              0.7777777777777778,
              "#fb9f3a"
             ],
             [
              0.8888888888888888,
              "#fdca26"
             ],
             [
              1,
              "#f0f921"
             ]
            ],
            "type": "contour"
           }
          ],
          "contourcarpet": [
           {
            "colorbar": {
             "outlinewidth": 0,
             "ticks": ""
            },
            "type": "contourcarpet"
           }
          ],
          "heatmap": [
           {
            "colorbar": {
             "outlinewidth": 0,
             "ticks": ""
            },
            "colorscale": [
             [
              0,
              "#0d0887"
             ],
             [
              0.1111111111111111,
              "#46039f"
             ],
             [
              0.2222222222222222,
              "#7201a8"
             ],
             [
              0.3333333333333333,
              "#9c179e"
             ],
             [
              0.4444444444444444,
              "#bd3786"
             ],
             [
              0.5555555555555556,
              "#d8576b"
             ],
             [
              0.6666666666666666,
              "#ed7953"
             ],
             [
              0.7777777777777778,
              "#fb9f3a"
             ],
             [
              0.8888888888888888,
              "#fdca26"
             ],
             [
              1,
              "#f0f921"
             ]
            ],
            "type": "heatmap"
           }
          ],
          "heatmapgl": [
           {
            "colorbar": {
             "outlinewidth": 0,
             "ticks": ""
            },
            "colorscale": [
             [
              0,
              "#0d0887"
             ],
             [
              0.1111111111111111,
              "#46039f"
             ],
             [
              0.2222222222222222,
              "#7201a8"
             ],
             [
              0.3333333333333333,
              "#9c179e"
             ],
             [
              0.4444444444444444,
              "#bd3786"
             ],
             [
              0.5555555555555556,
              "#d8576b"
             ],
             [
              0.6666666666666666,
              "#ed7953"
             ],
             [
              0.7777777777777778,
              "#fb9f3a"
             ],
             [
              0.8888888888888888,
              "#fdca26"
             ],
             [
              1,
              "#f0f921"
             ]
            ],
            "type": "heatmapgl"
           }
          ],
          "histogram": [
           {
            "marker": {
             "pattern": {
              "fillmode": "overlay",
              "size": 10,
              "solidity": 0.2
             }
            },
            "type": "histogram"
           }
          ],
          "histogram2d": [
           {
            "colorbar": {
             "outlinewidth": 0,
             "ticks": ""
            },
            "colorscale": [
             [
              0,
              "#0d0887"
             ],
             [
              0.1111111111111111,
              "#46039f"
             ],
             [
              0.2222222222222222,
              "#7201a8"
             ],
             [
              0.3333333333333333,
              "#9c179e"
             ],
             [
              0.4444444444444444,
              "#bd3786"
             ],
             [
              0.5555555555555556,
              "#d8576b"
             ],
             [
              0.6666666666666666,
              "#ed7953"
             ],
             [
              0.7777777777777778,
              "#fb9f3a"
             ],
             [
              0.8888888888888888,
              "#fdca26"
             ],
             [
              1,
              "#f0f921"
             ]
            ],
            "type": "histogram2d"
           }
          ],
          "histogram2dcontour": [
           {
            "colorbar": {
             "outlinewidth": 0,
             "ticks": ""
            },
            "colorscale": [
             [
              0,
              "#0d0887"
             ],
             [
              0.1111111111111111,
              "#46039f"
             ],
             [
              0.2222222222222222,
              "#7201a8"
             ],
             [
              0.3333333333333333,
              "#9c179e"
             ],
             [
              0.4444444444444444,
              "#bd3786"
             ],
             [
              0.5555555555555556,
              "#d8576b"
             ],
             [
              0.6666666666666666,
              "#ed7953"
             ],
             [
              0.7777777777777778,
              "#fb9f3a"
             ],
             [
              0.8888888888888888,
              "#fdca26"
             ],
             [
              1,
              "#f0f921"
             ]
            ],
            "type": "histogram2dcontour"
           }
          ],
          "mesh3d": [
           {
            "colorbar": {
             "outlinewidth": 0,
             "ticks": ""
            },
            "type": "mesh3d"
           }
          ],
          "parcoords": [
           {
            "line": {
             "colorbar": {
              "outlinewidth": 0,
              "ticks": ""
             }
            },
            "type": "parcoords"
           }
          ],
          "pie": [
           {
            "automargin": true,
            "type": "pie"
           }
          ],
          "scatter": [
           {
            "marker": {
             "colorbar": {
              "outlinewidth": 0,
              "ticks": ""
             }
            },
            "type": "scatter"
           }
          ],
          "scatter3d": [
           {
            "line": {
             "colorbar": {
              "outlinewidth": 0,
              "ticks": ""
             }
            },
            "marker": {
             "colorbar": {
              "outlinewidth": 0,
              "ticks": ""
             }
            },
            "type": "scatter3d"
           }
          ],
          "scattercarpet": [
           {
            "marker": {
             "colorbar": {
              "outlinewidth": 0,
              "ticks": ""
             }
            },
            "type": "scattercarpet"
           }
          ],
          "scattergeo": [
           {
            "marker": {
             "colorbar": {
              "outlinewidth": 0,
              "ticks": ""
             }
            },
            "type": "scattergeo"
           }
          ],
          "scattergl": [
           {
            "marker": {
             "colorbar": {
              "outlinewidth": 0,
              "ticks": ""
             }
            },
            "type": "scattergl"
           }
          ],
          "scattermapbox": [
           {
            "marker": {
             "colorbar": {
              "outlinewidth": 0,
              "ticks": ""
             }
            },
            "type": "scattermapbox"
           }
          ],
          "scatterpolar": [
           {
            "marker": {
             "colorbar": {
              "outlinewidth": 0,
              "ticks": ""
             }
            },
            "type": "scatterpolar"
           }
          ],
          "scatterpolargl": [
           {
            "marker": {
             "colorbar": {
              "outlinewidth": 0,
              "ticks": ""
             }
            },
            "type": "scatterpolargl"
           }
          ],
          "scatterternary": [
           {
            "marker": {
             "colorbar": {
              "outlinewidth": 0,
              "ticks": ""
             }
            },
            "type": "scatterternary"
           }
          ],
          "surface": [
           {
            "colorbar": {
             "outlinewidth": 0,
             "ticks": ""
            },
            "colorscale": [
             [
              0,
              "#0d0887"
             ],
             [
              0.1111111111111111,
              "#46039f"
             ],
             [
              0.2222222222222222,
              "#7201a8"
             ],
             [
              0.3333333333333333,
              "#9c179e"
             ],
             [
              0.4444444444444444,
              "#bd3786"
             ],
             [
              0.5555555555555556,
              "#d8576b"
             ],
             [
              0.6666666666666666,
              "#ed7953"
             ],
             [
              0.7777777777777778,
              "#fb9f3a"
             ],
             [
              0.8888888888888888,
              "#fdca26"
             ],
             [
              1,
              "#f0f921"
             ]
            ],
            "type": "surface"
           }
          ],
          "table": [
           {
            "cells": {
             "fill": {
              "color": "#EBF0F8"
             },
             "line": {
              "color": "white"
             }
            },
            "header": {
             "fill": {
              "color": "#C8D4E3"
             },
             "line": {
              "color": "white"
             }
            },
            "type": "table"
           }
          ]
         },
         "layout": {
          "annotationdefaults": {
           "arrowcolor": "#2a3f5f",
           "arrowhead": 0,
           "arrowwidth": 1
          },
          "autotypenumbers": "strict",
          "coloraxis": {
           "colorbar": {
            "outlinewidth": 0,
            "ticks": ""
           }
          },
          "colorscale": {
           "diverging": [
            [
             0,
             "#8e0152"
            ],
            [
             0.1,
             "#c51b7d"
            ],
            [
             0.2,
             "#de77ae"
            ],
            [
             0.3,
             "#f1b6da"
            ],
            [
             0.4,
             "#fde0ef"
            ],
            [
             0.5,
             "#f7f7f7"
            ],
            [
             0.6,
             "#e6f5d0"
            ],
            [
             0.7,
             "#b8e186"
            ],
            [
             0.8,
             "#7fbc41"
            ],
            [
             0.9,
             "#4d9221"
            ],
            [
             1,
             "#276419"
            ]
           ],
           "sequential": [
            [
             0,
             "#0d0887"
            ],
            [
             0.1111111111111111,
             "#46039f"
            ],
            [
             0.2222222222222222,
             "#7201a8"
            ],
            [
             0.3333333333333333,
             "#9c179e"
            ],
            [
             0.4444444444444444,
             "#bd3786"
            ],
            [
             0.5555555555555556,
             "#d8576b"
            ],
            [
             0.6666666666666666,
             "#ed7953"
            ],
            [
             0.7777777777777778,
             "#fb9f3a"
            ],
            [
             0.8888888888888888,
             "#fdca26"
            ],
            [
             1,
             "#f0f921"
            ]
           ],
           "sequentialminus": [
            [
             0,
             "#0d0887"
            ],
            [
             0.1111111111111111,
             "#46039f"
            ],
            [
             0.2222222222222222,
             "#7201a8"
            ],
            [
             0.3333333333333333,
             "#9c179e"
            ],
            [
             0.4444444444444444,
             "#bd3786"
            ],
            [
             0.5555555555555556,
             "#d8576b"
            ],
            [
             0.6666666666666666,
             "#ed7953"
            ],
            [
             0.7777777777777778,
             "#fb9f3a"
            ],
            [
             0.8888888888888888,
             "#fdca26"
            ],
            [
             1,
             "#f0f921"
            ]
           ]
          },
          "colorway": [
           "#636efa",
           "#EF553B",
           "#00cc96",
           "#ab63fa",
           "#FFA15A",
           "#19d3f3",
           "#FF6692",
           "#B6E880",
           "#FF97FF",
           "#FECB52"
          ],
          "font": {
           "color": "#2a3f5f"
          },
          "geo": {
           "bgcolor": "white",
           "lakecolor": "white",
           "landcolor": "#E5ECF6",
           "showlakes": true,
           "showland": true,
           "subunitcolor": "white"
          },
          "hoverlabel": {
           "align": "left"
          },
          "hovermode": "closest",
          "mapbox": {
           "style": "light"
          },
          "paper_bgcolor": "white",
          "plot_bgcolor": "#E5ECF6",
          "polar": {
           "angularaxis": {
            "gridcolor": "white",
            "linecolor": "white",
            "ticks": ""
           },
           "bgcolor": "#E5ECF6",
           "radialaxis": {
            "gridcolor": "white",
            "linecolor": "white",
            "ticks": ""
           }
          },
          "scene": {
           "xaxis": {
            "backgroundcolor": "#E5ECF6",
            "gridcolor": "white",
            "gridwidth": 2,
            "linecolor": "white",
            "showbackground": true,
            "ticks": "",
            "zerolinecolor": "white"
           },
           "yaxis": {
            "backgroundcolor": "#E5ECF6",
            "gridcolor": "white",
            "gridwidth": 2,
            "linecolor": "white",
            "showbackground": true,
            "ticks": "",
            "zerolinecolor": "white"
           },
           "zaxis": {
            "backgroundcolor": "#E5ECF6",
            "gridcolor": "white",
            "gridwidth": 2,
            "linecolor": "white",
            "showbackground": true,
            "ticks": "",
            "zerolinecolor": "white"
           }
          },
          "shapedefaults": {
           "line": {
            "color": "#2a3f5f"
           }
          },
          "ternary": {
           "aaxis": {
            "gridcolor": "white",
            "linecolor": "white",
            "ticks": ""
           },
           "baxis": {
            "gridcolor": "white",
            "linecolor": "white",
            "ticks": ""
           },
           "bgcolor": "#E5ECF6",
           "caxis": {
            "gridcolor": "white",
            "linecolor": "white",
            "ticks": ""
           }
          },
          "title": {
           "x": 0.05
          },
          "xaxis": {
           "automargin": true,
           "gridcolor": "white",
           "linecolor": "white",
           "ticks": "",
           "title": {
            "standoff": 15
           },
           "zerolinecolor": "white",
           "zerolinewidth": 2
          },
          "yaxis": {
           "automargin": true,
           "gridcolor": "white",
           "linecolor": "white",
           "ticks": "",
           "title": {
            "standoff": 15
           },
           "zerolinecolor": "white",
           "zerolinewidth": 2
          }
         }
        },
        "title": {
         "text": "3D Scatter Using PCA Parameters and K-Means Clustering On NFL Injury data"
        },
        "width": 1200
       }
      }
     },
     "metadata": {},
     "output_type": "display_data"
    }
   ],
   "source": [
    "fig = px.scatter_3d(\n",
    "    clustered_play_injuries,\n",
    "    x=\"PC 1\",\n",
    "    y=\"PC 2\",\n",
    "    z=\"PC 3\",\n",
    "    color='Class',\n",
    "    symbol='Class',\n",
    "    width=1200,\n",
    "    height=1000,\n",
    "    title=\"3D Scatter Using PCA Parameters and K-Means Clustering On NFL Injury data\",\n",
    "    hover_name=\"FieldType\",\n",
    "    hover_data=[clustered_play_injuries.Injury_Duration,\n",
    "                clustered_play_injuries.Position,\n",
    "                clustered_play_injuries.Weather,\n",
    "                clustered_play_injuries.PlayType,\n",
    "                clustered_play_injuries.StadiumType,\n",
    "                clustered_play_injuries.BodyPart,\n",
    "                clustered_play_injuries.RosterPosition,\n",
    "                clustered_play_injuries.Temperature]\n",
    ")\n",
    "\n",
    "fig.update_layout(legend=dict(x=0, y=1))\n",
    "fig.show()\n"
   ]
  },
  {
   "cell_type": "code",
   "execution_count": 49,
   "metadata": {},
   "outputs": [
    {
     "data": {
      "text/html": [
       "<div>\n",
       "<style scoped>\n",
       "    .dataframe tbody tr th:only-of-type {\n",
       "        vertical-align: middle;\n",
       "    }\n",
       "\n",
       "    .dataframe tbody tr th {\n",
       "        vertical-align: top;\n",
       "    }\n",
       "\n",
       "    .dataframe thead th {\n",
       "        text-align: right;\n",
       "    }\n",
       "</style>\n",
       "<table border=\"1\" class=\"dataframe\">\n",
       "  <thead>\n",
       "    <tr style=\"text-align: right;\">\n",
       "      <th></th>\n",
       "      <th>PlayerGame</th>\n",
       "      <th>FieldType</th>\n",
       "      <th>Temperature</th>\n",
       "      <th>PlayerGamePlay</th>\n",
       "      <th>Injury_Duration</th>\n",
       "      <th>StadiumType</th>\n",
       "      <th>Weather</th>\n",
       "      <th>PlayType</th>\n",
       "      <th>RosterPosition</th>\n",
       "      <th>Position</th>\n",
       "      <th>BodyPart</th>\n",
       "      <th>PC 1</th>\n",
       "      <th>PC 2</th>\n",
       "      <th>PC 3</th>\n",
       "      <th>Class</th>\n",
       "    </tr>\n",
       "  </thead>\n",
       "  <tbody>\n",
       "    <tr>\n",
       "      <th>3</th>\n",
       "      <td>5</td>\n",
       "      <td>Natural</td>\n",
       "      <td>48</td>\n",
       "      <td>9</td>\n",
       "      <td>7</td>\n",
       "      <td>Outdoor</td>\n",
       "      <td>Cloudy</td>\n",
       "      <td>Kickoff</td>\n",
       "      <td>WR</td>\n",
       "      <td>WR</td>\n",
       "      <td>Knee</td>\n",
       "      <td>-19.780885</td>\n",
       "      <td>-11.241868</td>\n",
       "      <td>11.602781</td>\n",
       "      <td>0</td>\n",
       "    </tr>\n",
       "    <tr>\n",
       "      <th>12</th>\n",
       "      <td>29</td>\n",
       "      <td>Natural</td>\n",
       "      <td>58</td>\n",
       "      <td>14</td>\n",
       "      <td>7</td>\n",
       "      <td>Outdoor</td>\n",
       "      <td>Rain</td>\n",
       "      <td>Punt Returned</td>\n",
       "      <td>WR</td>\n",
       "      <td>WR</td>\n",
       "      <td>Ankle</td>\n",
       "      <td>-13.707656</td>\n",
       "      <td>-12.253558</td>\n",
       "      <td>5.013712</td>\n",
       "      <td>0</td>\n",
       "    </tr>\n",
       "    <tr>\n",
       "      <th>21</th>\n",
       "      <td>9</td>\n",
       "      <td>Synthetic</td>\n",
       "      <td>42</td>\n",
       "      <td>9</td>\n",
       "      <td>7</td>\n",
       "      <td>Outdoor</td>\n",
       "      <td>Cloudy</td>\n",
       "      <td>Rush</td>\n",
       "      <td>LB</td>\n",
       "      <td>OLB</td>\n",
       "      <td>Ankle</td>\n",
       "      <td>-19.938881</td>\n",
       "      <td>-14.340207</td>\n",
       "      <td>17.440874</td>\n",
       "      <td>0</td>\n",
       "    </tr>\n",
       "    <tr>\n",
       "      <th>26</th>\n",
       "      <td>19</td>\n",
       "      <td>Synthetic</td>\n",
       "      <td>57</td>\n",
       "      <td>15</td>\n",
       "      <td>1</td>\n",
       "      <td>Closed Dome</td>\n",
       "      <td>Cloudy</td>\n",
       "      <td>Rush</td>\n",
       "      <td>OL</td>\n",
       "      <td>C</td>\n",
       "      <td>Ankle</td>\n",
       "      <td>-15.182725</td>\n",
       "      <td>-16.509549</td>\n",
       "      <td>2.067207</td>\n",
       "      <td>0</td>\n",
       "    </tr>\n",
       "    <tr>\n",
       "      <th>38</th>\n",
       "      <td>6</td>\n",
       "      <td>Natural</td>\n",
       "      <td>52</td>\n",
       "      <td>13</td>\n",
       "      <td>1</td>\n",
       "      <td>Outdoor</td>\n",
       "      <td>Rain</td>\n",
       "      <td>Pass</td>\n",
       "      <td>WR</td>\n",
       "      <td>WR</td>\n",
       "      <td>Knee</td>\n",
       "      <td>-17.783432</td>\n",
       "      <td>-16.037913</td>\n",
       "      <td>5.187131</td>\n",
       "      <td>0</td>\n",
       "    </tr>\n",
       "    <tr>\n",
       "      <th>44</th>\n",
       "      <td>13</td>\n",
       "      <td>Natural</td>\n",
       "      <td>44</td>\n",
       "      <td>20</td>\n",
       "      <td>7</td>\n",
       "      <td>Outdoor</td>\n",
       "      <td>Clear</td>\n",
       "      <td>Pass</td>\n",
       "      <td>WR</td>\n",
       "      <td>WR</td>\n",
       "      <td>Ankle</td>\n",
       "      <td>-9.352402</td>\n",
       "      <td>-17.607191</td>\n",
       "      <td>14.944254</td>\n",
       "      <td>0</td>\n",
       "    </tr>\n",
       "    <tr>\n",
       "      <th>48</th>\n",
       "      <td>8</td>\n",
       "      <td>Natural</td>\n",
       "      <td>38</td>\n",
       "      <td>18</td>\n",
       "      <td>1</td>\n",
       "      <td>Outdoor</td>\n",
       "      <td>Clear</td>\n",
       "      <td>Punt</td>\n",
       "      <td>S</td>\n",
       "      <td>FS</td>\n",
       "      <td>Ankle</td>\n",
       "      <td>-13.736586</td>\n",
       "      <td>-23.757359</td>\n",
       "      <td>17.373235</td>\n",
       "      <td>0</td>\n",
       "    </tr>\n",
       "    <tr>\n",
       "      <th>54</th>\n",
       "      <td>17</td>\n",
       "      <td>Synthetic</td>\n",
       "      <td>39</td>\n",
       "      <td>27</td>\n",
       "      <td>1</td>\n",
       "      <td>Outdoor</td>\n",
       "      <td>Rain</td>\n",
       "      <td>Rush</td>\n",
       "      <td>WR</td>\n",
       "      <td>WR</td>\n",
       "      <td>Ankle</td>\n",
       "      <td>-4.913106</td>\n",
       "      <td>-27.534959</td>\n",
       "      <td>16.604224</td>\n",
       "      <td>0</td>\n",
       "    </tr>\n",
       "    <tr>\n",
       "      <th>58</th>\n",
       "      <td>18</td>\n",
       "      <td>Synthetic</td>\n",
       "      <td>45</td>\n",
       "      <td>3</td>\n",
       "      <td>7</td>\n",
       "      <td>Outdoor</td>\n",
       "      <td>Cloudy</td>\n",
       "      <td>Kickoff Returned</td>\n",
       "      <td>TE</td>\n",
       "      <td>TE</td>\n",
       "      <td>Knee</td>\n",
       "      <td>-25.110241</td>\n",
       "      <td>-12.518872</td>\n",
       "      <td>16.482986</td>\n",
       "      <td>0</td>\n",
       "    </tr>\n",
       "    <tr>\n",
       "      <th>59</th>\n",
       "      <td>8</td>\n",
       "      <td>Natural</td>\n",
       "      <td>38</td>\n",
       "      <td>6</td>\n",
       "      <td>7</td>\n",
       "      <td>Outdoor</td>\n",
       "      <td>Clear</td>\n",
       "      <td>Punt</td>\n",
       "      <td>LB</td>\n",
       "      <td>MLB</td>\n",
       "      <td>Knee</td>\n",
       "      <td>-23.008962</td>\n",
       "      <td>-14.903644</td>\n",
       "      <td>21.196169</td>\n",
       "      <td>0</td>\n",
       "    </tr>\n",
       "    <tr>\n",
       "      <th>62</th>\n",
       "      <td>4</td>\n",
       "      <td>Synthetic</td>\n",
       "      <td>55</td>\n",
       "      <td>16</td>\n",
       "      <td>7</td>\n",
       "      <td>Outdoor</td>\n",
       "      <td>Cloudy</td>\n",
       "      <td>Pass</td>\n",
       "      <td>RB</td>\n",
       "      <td>RB</td>\n",
       "      <td>Knee</td>\n",
       "      <td>-12.857906</td>\n",
       "      <td>-10.385112</td>\n",
       "      <td>4.513255</td>\n",
       "      <td>0</td>\n",
       "    </tr>\n",
       "    <tr>\n",
       "      <th>68</th>\n",
       "      <td>8</td>\n",
       "      <td>Synthetic</td>\n",
       "      <td>44</td>\n",
       "      <td>19</td>\n",
       "      <td>7</td>\n",
       "      <td>Outdoor</td>\n",
       "      <td>Cloudy</td>\n",
       "      <td>Punt Returned</td>\n",
       "      <td>CB</td>\n",
       "      <td>CB</td>\n",
       "      <td>Ankle</td>\n",
       "      <td>-10.465062</td>\n",
       "      <td>-16.538947</td>\n",
       "      <td>14.475938</td>\n",
       "      <td>0</td>\n",
       "    </tr>\n",
       "  </tbody>\n",
       "</table>\n",
       "</div>"
      ],
      "text/plain": [
       "    PlayerGame  FieldType  Temperature  PlayerGamePlay  Injury_Duration  \\\n",
       "3            5    Natural           48               9                7   \n",
       "12          29    Natural           58              14                7   \n",
       "21           9  Synthetic           42               9                7   \n",
       "26          19  Synthetic           57              15                1   \n",
       "38           6    Natural           52              13                1   \n",
       "44          13    Natural           44              20                7   \n",
       "48           8    Natural           38              18                1   \n",
       "54          17  Synthetic           39              27                1   \n",
       "58          18  Synthetic           45               3                7   \n",
       "59           8    Natural           38               6                7   \n",
       "62           4  Synthetic           55              16                7   \n",
       "68           8  Synthetic           44              19                7   \n",
       "\n",
       "    StadiumType Weather          PlayType RosterPosition Position BodyPart  \\\n",
       "3       Outdoor  Cloudy           Kickoff             WR       WR     Knee   \n",
       "12      Outdoor    Rain     Punt Returned             WR       WR    Ankle   \n",
       "21      Outdoor  Cloudy              Rush             LB      OLB    Ankle   \n",
       "26  Closed Dome  Cloudy              Rush             OL        C    Ankle   \n",
       "38      Outdoor    Rain              Pass             WR       WR     Knee   \n",
       "44      Outdoor   Clear              Pass             WR       WR    Ankle   \n",
       "48      Outdoor   Clear              Punt              S       FS    Ankle   \n",
       "54      Outdoor    Rain              Rush             WR       WR    Ankle   \n",
       "58      Outdoor  Cloudy  Kickoff Returned             TE       TE     Knee   \n",
       "59      Outdoor   Clear              Punt             LB      MLB     Knee   \n",
       "62      Outdoor  Cloudy              Pass             RB       RB     Knee   \n",
       "68      Outdoor  Cloudy     Punt Returned             CB       CB    Ankle   \n",
       "\n",
       "         PC 1       PC 2       PC 3  Class  \n",
       "3  -19.780885 -11.241868  11.602781      0  \n",
       "12 -13.707656 -12.253558   5.013712      0  \n",
       "21 -19.938881 -14.340207  17.440874      0  \n",
       "26 -15.182725 -16.509549   2.067207      0  \n",
       "38 -17.783432 -16.037913   5.187131      0  \n",
       "44  -9.352402 -17.607191  14.944254      0  \n",
       "48 -13.736586 -23.757359  17.373235      0  \n",
       "54  -4.913106 -27.534959  16.604224      0  \n",
       "58 -25.110241 -12.518872  16.482986      0  \n",
       "59 -23.008962 -14.903644  21.196169      0  \n",
       "62 -12.857906 -10.385112   4.513255      0  \n",
       "68 -10.465062 -16.538947  14.475938      0  "
      ]
     },
     "execution_count": 49,
     "metadata": {},
     "output_type": "execute_result"
    }
   ],
   "source": [
    "injury_subset_0"
   ]
  },
  {
   "cell_type": "markdown",
   "metadata": {},
   "source": [
    "- All under 28 days \n",
    "- Only 1 Indoor\n",
    "- All Plays at or under 27\n",
    "- Ankle and Knee only\n",
    "- All temperatures under 60 degrees\n",
    "- Equal Natural:Synthetic\n",
    "- Mix of plays\n"
   ]
  },
  {
   "cell_type": "code",
   "execution_count": 50,
   "metadata": {},
   "outputs": [
    {
     "data": {
      "text/html": [
       "<div>\n",
       "<style scoped>\n",
       "    .dataframe tbody tr th:only-of-type {\n",
       "        vertical-align: middle;\n",
       "    }\n",
       "\n",
       "    .dataframe tbody tr th {\n",
       "        vertical-align: top;\n",
       "    }\n",
       "\n",
       "    .dataframe thead th {\n",
       "        text-align: right;\n",
       "    }\n",
       "</style>\n",
       "<table border=\"1\" class=\"dataframe\">\n",
       "  <thead>\n",
       "    <tr style=\"text-align: right;\">\n",
       "      <th></th>\n",
       "      <th>PlayerGame</th>\n",
       "      <th>FieldType</th>\n",
       "      <th>Temperature</th>\n",
       "      <th>PlayerGamePlay</th>\n",
       "      <th>Injury_Duration</th>\n",
       "      <th>StadiumType</th>\n",
       "      <th>Weather</th>\n",
       "      <th>PlayType</th>\n",
       "      <th>RosterPosition</th>\n",
       "      <th>Position</th>\n",
       "      <th>BodyPart</th>\n",
       "      <th>PC 1</th>\n",
       "      <th>PC 2</th>\n",
       "      <th>PC 3</th>\n",
       "      <th>Class</th>\n",
       "    </tr>\n",
       "  </thead>\n",
       "  <tbody>\n",
       "    <tr>\n",
       "      <th>14</th>\n",
       "      <td>9</td>\n",
       "      <td>Synthetic</td>\n",
       "      <td>47</td>\n",
       "      <td>2</td>\n",
       "      <td>42</td>\n",
       "      <td>Outdoor</td>\n",
       "      <td>Cloudy</td>\n",
       "      <td>Punt</td>\n",
       "      <td>S</td>\n",
       "      <td>SS</td>\n",
       "      <td>Knee</td>\n",
       "      <td>-14.499413</td>\n",
       "      <td>19.322465</td>\n",
       "      <td>28.574102</td>\n",
       "      <td>1</td>\n",
       "    </tr>\n",
       "    <tr>\n",
       "      <th>30</th>\n",
       "      <td>3</td>\n",
       "      <td>Natural</td>\n",
       "      <td>33</td>\n",
       "      <td>6</td>\n",
       "      <td>42</td>\n",
       "      <td>Outdoor</td>\n",
       "      <td>Clear</td>\n",
       "      <td>Punt</td>\n",
       "      <td>LB</td>\n",
       "      <td>OLB</td>\n",
       "      <td>Knee</td>\n",
       "      <td>-11.688425</td>\n",
       "      <td>13.104187</td>\n",
       "      <td>39.896326</td>\n",
       "      <td>1</td>\n",
       "    </tr>\n",
       "    <tr>\n",
       "      <th>37</th>\n",
       "      <td>10</td>\n",
       "      <td>Natural</td>\n",
       "      <td>38</td>\n",
       "      <td>31</td>\n",
       "      <td>42</td>\n",
       "      <td>Outdoor</td>\n",
       "      <td>Clear</td>\n",
       "      <td>Pass</td>\n",
       "      <td>DL</td>\n",
       "      <td>DE</td>\n",
       "      <td>Foot</td>\n",
       "      <td>12.324386</td>\n",
       "      <td>6.212459</td>\n",
       "      <td>33.609273</td>\n",
       "      <td>1</td>\n",
       "    </tr>\n",
       "    <tr>\n",
       "      <th>40</th>\n",
       "      <td>20</td>\n",
       "      <td>Synthetic</td>\n",
       "      <td>39</td>\n",
       "      <td>21</td>\n",
       "      <td>42</td>\n",
       "      <td>Outdoor</td>\n",
       "      <td>Clear</td>\n",
       "      <td>Rush</td>\n",
       "      <td>DL</td>\n",
       "      <td>DT</td>\n",
       "      <td>Knee</td>\n",
       "      <td>3.324470</td>\n",
       "      <td>8.322887</td>\n",
       "      <td>34.988106</td>\n",
       "      <td>1</td>\n",
       "    </tr>\n",
       "    <tr>\n",
       "      <th>41</th>\n",
       "      <td>11</td>\n",
       "      <td>Synthetic</td>\n",
       "      <td>46</td>\n",
       "      <td>32</td>\n",
       "      <td>42</td>\n",
       "      <td>Outdoor</td>\n",
       "      <td>Cloudy</td>\n",
       "      <td>Pass</td>\n",
       "      <td>LB</td>\n",
       "      <td>OLB</td>\n",
       "      <td>Ankle</td>\n",
       "      <td>13.715093</td>\n",
       "      <td>9.078916</td>\n",
       "      <td>26.497836</td>\n",
       "      <td>1</td>\n",
       "    </tr>\n",
       "    <tr>\n",
       "      <th>51</th>\n",
       "      <td>10</td>\n",
       "      <td>Synthetic</td>\n",
       "      <td>60</td>\n",
       "      <td>22</td>\n",
       "      <td>42</td>\n",
       "      <td>Open Dome</td>\n",
       "      <td>Clear</td>\n",
       "      <td>Rush</td>\n",
       "      <td>RB</td>\n",
       "      <td>RB</td>\n",
       "      <td>Ankle</td>\n",
       "      <td>5.015806</td>\n",
       "      <td>18.253933</td>\n",
       "      <td>14.957835</td>\n",
       "      <td>1</td>\n",
       "    </tr>\n",
       "  </tbody>\n",
       "</table>\n",
       "</div>"
      ],
      "text/plain": [
       "    PlayerGame  FieldType  Temperature  PlayerGamePlay  Injury_Duration  \\\n",
       "14           9  Synthetic           47               2               42   \n",
       "30           3    Natural           33               6               42   \n",
       "37          10    Natural           38              31               42   \n",
       "40          20  Synthetic           39              21               42   \n",
       "41          11  Synthetic           46              32               42   \n",
       "51          10  Synthetic           60              22               42   \n",
       "\n",
       "   StadiumType Weather PlayType RosterPosition Position BodyPart       PC 1  \\\n",
       "14     Outdoor  Cloudy     Punt              S       SS     Knee -14.499413   \n",
       "30     Outdoor   Clear     Punt             LB      OLB     Knee -11.688425   \n",
       "37     Outdoor   Clear     Pass             DL       DE     Foot  12.324386   \n",
       "40     Outdoor   Clear     Rush             DL       DT     Knee   3.324470   \n",
       "41     Outdoor  Cloudy     Pass             LB      OLB    Ankle  13.715093   \n",
       "51   Open Dome   Clear     Rush             RB       RB    Ankle   5.015806   \n",
       "\n",
       "         PC 2       PC 3  Class  \n",
       "14  19.322465  28.574102      1  \n",
       "30  13.104187  39.896326      1  \n",
       "37   6.212459  33.609273      1  \n",
       "40   8.322887  34.988106      1  \n",
       "41   9.078916  26.497836      1  \n",
       "51  18.253933  14.957835      1  "
      ]
     },
     "execution_count": 50,
     "metadata": {},
     "output_type": "execute_result"
    }
   ],
   "source": [
    "injury_subset_1"
   ]
  },
  {
   "cell_type": "markdown",
   "metadata": {},
   "source": [
    "- All long-term injuries over 42 days\n",
    "- Temperatures mostly in the 30s and 40s\n",
    "- Play numbers all under 35 - so early game\n",
    "- All Outdoor\n",
    "- Knee, Foot, and Ankle\n",
    "- Mode Synthetic than Natural (2:1)"
   ]
  },
  {
   "cell_type": "code",
   "execution_count": 51,
   "metadata": {},
   "outputs": [
    {
     "data": {
      "text/html": [
       "<div>\n",
       "<style scoped>\n",
       "    .dataframe tbody tr th:only-of-type {\n",
       "        vertical-align: middle;\n",
       "    }\n",
       "\n",
       "    .dataframe tbody tr th {\n",
       "        vertical-align: top;\n",
       "    }\n",
       "\n",
       "    .dataframe thead th {\n",
       "        text-align: right;\n",
       "    }\n",
       "</style>\n",
       "<table border=\"1\" class=\"dataframe\">\n",
       "  <thead>\n",
       "    <tr style=\"text-align: right;\">\n",
       "      <th></th>\n",
       "      <th>PlayerGame</th>\n",
       "      <th>FieldType</th>\n",
       "      <th>Temperature</th>\n",
       "      <th>PlayerGamePlay</th>\n",
       "      <th>Injury_Duration</th>\n",
       "      <th>StadiumType</th>\n",
       "      <th>Weather</th>\n",
       "      <th>PlayType</th>\n",
       "      <th>RosterPosition</th>\n",
       "      <th>Position</th>\n",
       "      <th>BodyPart</th>\n",
       "      <th>PC 1</th>\n",
       "      <th>PC 2</th>\n",
       "      <th>PC 3</th>\n",
       "      <th>Class</th>\n",
       "    </tr>\n",
       "  </thead>\n",
       "  <tbody>\n",
       "    <tr>\n",
       "      <th>4</th>\n",
       "      <td>15</td>\n",
       "      <td>Natural</td>\n",
       "      <td>79</td>\n",
       "      <td>35</td>\n",
       "      <td>7</td>\n",
       "      <td>Outdoor</td>\n",
       "      <td>Clear</td>\n",
       "      <td>Pass</td>\n",
       "      <td>OL</td>\n",
       "      <td>T</td>\n",
       "      <td>Knee</td>\n",
       "      <td>6.635204</td>\n",
       "      <td>-8.060229</td>\n",
       "      <td>-17.615638</td>\n",
       "      <td>2</td>\n",
       "    </tr>\n",
       "    <tr>\n",
       "      <th>5</th>\n",
       "      <td>7</td>\n",
       "      <td>Synthetic</td>\n",
       "      <td>68</td>\n",
       "      <td>42</td>\n",
       "      <td>7</td>\n",
       "      <td>Indoor</td>\n",
       "      <td>Indoor</td>\n",
       "      <td>Pass</td>\n",
       "      <td>S</td>\n",
       "      <td>FS</td>\n",
       "      <td>Ankle</td>\n",
       "      <td>12.368564</td>\n",
       "      <td>-13.679787</td>\n",
       "      <td>-9.501661</td>\n",
       "      <td>2</td>\n",
       "    </tr>\n",
       "    <tr>\n",
       "      <th>7</th>\n",
       "      <td>12</td>\n",
       "      <td>Natural</td>\n",
       "      <td>58</td>\n",
       "      <td>65</td>\n",
       "      <td>7</td>\n",
       "      <td>Outdoor</td>\n",
       "      <td>Rain</td>\n",
       "      <td>Pass</td>\n",
       "      <td>CB</td>\n",
       "      <td>CB</td>\n",
       "      <td>Knee</td>\n",
       "      <td>33.630284</td>\n",
       "      <td>-25.896795</td>\n",
       "      <td>-2.446182</td>\n",
       "      <td>2</td>\n",
       "    </tr>\n",
       "    <tr>\n",
       "      <th>19</th>\n",
       "      <td>15</td>\n",
       "      <td>Natural</td>\n",
       "      <td>53</td>\n",
       "      <td>63</td>\n",
       "      <td>1</td>\n",
       "      <td>Outdoor</td>\n",
       "      <td>Clear</td>\n",
       "      <td>Rush</td>\n",
       "      <td>LB</td>\n",
       "      <td>OLB</td>\n",
       "      <td>Ankle</td>\n",
       "      <td>29.575222</td>\n",
       "      <td>-32.815079</td>\n",
       "      <td>0.033806</td>\n",
       "      <td>2</td>\n",
       "    </tr>\n",
       "    <tr>\n",
       "      <th>20</th>\n",
       "      <td>2</td>\n",
       "      <td>Natural</td>\n",
       "      <td>89</td>\n",
       "      <td>60</td>\n",
       "      <td>1</td>\n",
       "      <td>Outdoor</td>\n",
       "      <td>Clear</td>\n",
       "      <td>Pass</td>\n",
       "      <td>S</td>\n",
       "      <td>SS</td>\n",
       "      <td>Knee</td>\n",
       "      <td>28.183612</td>\n",
       "      <td>-14.914657</td>\n",
       "      <td>-33.279881</td>\n",
       "      <td>2</td>\n",
       "    </tr>\n",
       "    <tr>\n",
       "      <th>36</th>\n",
       "      <td>12</td>\n",
       "      <td>Natural</td>\n",
       "      <td>61</td>\n",
       "      <td>41</td>\n",
       "      <td>7</td>\n",
       "      <td>Outdoor</td>\n",
       "      <td>Rain</td>\n",
       "      <td>Pass</td>\n",
       "      <td>DL</td>\n",
       "      <td>DE</td>\n",
       "      <td>Knee</td>\n",
       "      <td>11.224683</td>\n",
       "      <td>-17.024112</td>\n",
       "      <td>-2.558147</td>\n",
       "      <td>2</td>\n",
       "    </tr>\n",
       "    <tr>\n",
       "      <th>39</th>\n",
       "      <td>28</td>\n",
       "      <td>Synthetic</td>\n",
       "      <td>70</td>\n",
       "      <td>35</td>\n",
       "      <td>1</td>\n",
       "      <td>Indoor</td>\n",
       "      <td>Clear</td>\n",
       "      <td>Pass</td>\n",
       "      <td>WR</td>\n",
       "      <td>WR</td>\n",
       "      <td>Ankle</td>\n",
       "      <td>4.616038</td>\n",
       "      <td>-18.778639</td>\n",
       "      <td>-10.582396</td>\n",
       "      <td>2</td>\n",
       "    </tr>\n",
       "    <tr>\n",
       "      <th>45</th>\n",
       "      <td>5</td>\n",
       "      <td>Natural</td>\n",
       "      <td>67</td>\n",
       "      <td>52</td>\n",
       "      <td>7</td>\n",
       "      <td>Outdoor</td>\n",
       "      <td>Cloudy</td>\n",
       "      <td>Rush</td>\n",
       "      <td>LB</td>\n",
       "      <td>OLB</td>\n",
       "      <td>Knee</td>\n",
       "      <td>21.618591</td>\n",
       "      <td>-16.959534</td>\n",
       "      <td>-9.916174</td>\n",
       "      <td>2</td>\n",
       "    </tr>\n",
       "    <tr>\n",
       "      <th>49</th>\n",
       "      <td>8</td>\n",
       "      <td>Synthetic</td>\n",
       "      <td>68</td>\n",
       "      <td>40</td>\n",
       "      <td>7</td>\n",
       "      <td>Outdoor</td>\n",
       "      <td>Clear</td>\n",
       "      <td>Pass</td>\n",
       "      <td>WR</td>\n",
       "      <td>WR</td>\n",
       "      <td>Ankle</td>\n",
       "      <td>10.521354</td>\n",
       "      <td>-13.194314</td>\n",
       "      <td>-9.161306</td>\n",
       "      <td>2</td>\n",
       "    </tr>\n",
       "    <tr>\n",
       "      <th>52</th>\n",
       "      <td>30</td>\n",
       "      <td>Natural</td>\n",
       "      <td>45</td>\n",
       "      <td>58</td>\n",
       "      <td>7</td>\n",
       "      <td>Outdoor</td>\n",
       "      <td>Clear</td>\n",
       "      <td>Pass</td>\n",
       "      <td>S</td>\n",
       "      <td>FS</td>\n",
       "      <td>Ankle</td>\n",
       "      <td>27.014368</td>\n",
       "      <td>-31.775554</td>\n",
       "      <td>12.026868</td>\n",
       "      <td>2</td>\n",
       "    </tr>\n",
       "  </tbody>\n",
       "</table>\n",
       "</div>"
      ],
      "text/plain": [
       "    PlayerGame  FieldType  Temperature  PlayerGamePlay  Injury_Duration  \\\n",
       "4           15    Natural           79              35                7   \n",
       "5            7  Synthetic           68              42                7   \n",
       "7           12    Natural           58              65                7   \n",
       "19          15    Natural           53              63                1   \n",
       "20           2    Natural           89              60                1   \n",
       "36          12    Natural           61              41                7   \n",
       "39          28  Synthetic           70              35                1   \n",
       "45           5    Natural           67              52                7   \n",
       "49           8  Synthetic           68              40                7   \n",
       "52          30    Natural           45              58                7   \n",
       "\n",
       "   StadiumType Weather PlayType RosterPosition Position BodyPart       PC 1  \\\n",
       "4      Outdoor   Clear     Pass             OL        T     Knee   6.635204   \n",
       "5       Indoor  Indoor     Pass              S       FS    Ankle  12.368564   \n",
       "7      Outdoor    Rain     Pass             CB       CB     Knee  33.630284   \n",
       "19     Outdoor   Clear     Rush             LB      OLB    Ankle  29.575222   \n",
       "20     Outdoor   Clear     Pass              S       SS     Knee  28.183612   \n",
       "36     Outdoor    Rain     Pass             DL       DE     Knee  11.224683   \n",
       "39      Indoor   Clear     Pass             WR       WR    Ankle   4.616038   \n",
       "45     Outdoor  Cloudy     Rush             LB      OLB     Knee  21.618591   \n",
       "49     Outdoor   Clear     Pass             WR       WR    Ankle  10.521354   \n",
       "52     Outdoor   Clear     Pass              S       FS    Ankle  27.014368   \n",
       "\n",
       "         PC 2       PC 3  Class  \n",
       "4   -8.060229 -17.615638      2  \n",
       "5  -13.679787  -9.501661      2  \n",
       "7  -25.896795  -2.446182      2  \n",
       "19 -32.815079   0.033806      2  \n",
       "20 -14.914657 -33.279881      2  \n",
       "36 -17.024112  -2.558147      2  \n",
       "39 -18.778639 -10.582396      2  \n",
       "45 -16.959534  -9.916174      2  \n",
       "49 -13.194314  -9.161306      2  \n",
       "52 -31.775554  12.026868      2  "
      ]
     },
     "execution_count": 51,
     "metadata": {},
     "output_type": "execute_result"
    }
   ],
   "source": [
    "injury_subset_2"
   ]
  },
  {
   "cell_type": "markdown",
   "metadata": {},
   "source": [
    "- All short-term injuries\n",
    "- Mostly moderate temperatures between 60 and 80\n",
    "- Game Plays all 35+, later game\n",
    "- Mostly Outdoor\n",
    "- Almost all were passing plays\n",
    "- No Foot Injuries\n",
    "- Most occurred on Natural fields (7:3)"
   ]
  },
  {
   "cell_type": "code",
   "execution_count": 52,
   "metadata": {},
   "outputs": [
    {
     "data": {
      "text/html": [
       "<div>\n",
       "<style scoped>\n",
       "    .dataframe tbody tr th:only-of-type {\n",
       "        vertical-align: middle;\n",
       "    }\n",
       "\n",
       "    .dataframe tbody tr th {\n",
       "        vertical-align: top;\n",
       "    }\n",
       "\n",
       "    .dataframe thead th {\n",
       "        text-align: right;\n",
       "    }\n",
       "</style>\n",
       "<table border=\"1\" class=\"dataframe\">\n",
       "  <thead>\n",
       "    <tr style=\"text-align: right;\">\n",
       "      <th></th>\n",
       "      <th>PlayerGame</th>\n",
       "      <th>FieldType</th>\n",
       "      <th>Temperature</th>\n",
       "      <th>PlayerGamePlay</th>\n",
       "      <th>Injury_Duration</th>\n",
       "      <th>StadiumType</th>\n",
       "      <th>Weather</th>\n",
       "      <th>PlayType</th>\n",
       "      <th>RosterPosition</th>\n",
       "      <th>Position</th>\n",
       "      <th>BodyPart</th>\n",
       "      <th>PC 1</th>\n",
       "      <th>PC 2</th>\n",
       "      <th>PC 3</th>\n",
       "      <th>Class</th>\n",
       "    </tr>\n",
       "  </thead>\n",
       "  <tbody>\n",
       "    <tr>\n",
       "      <th>9</th>\n",
       "      <td>8</td>\n",
       "      <td>Natural</td>\n",
       "      <td>61</td>\n",
       "      <td>8</td>\n",
       "      <td>1</td>\n",
       "      <td>Outdoor</td>\n",
       "      <td>Cloudy</td>\n",
       "      <td>Pass</td>\n",
       "      <td>WR</td>\n",
       "      <td>WR</td>\n",
       "      <td>Ankle</td>\n",
       "      <td>-21.941890</td>\n",
       "      <td>-11.000269</td>\n",
       "      <td>-2.067570</td>\n",
       "      <td>3</td>\n",
       "    </tr>\n",
       "    <tr>\n",
       "      <th>10</th>\n",
       "      <td>1</td>\n",
       "      <td>Synthetic</td>\n",
       "      <td>65</td>\n",
       "      <td>4</td>\n",
       "      <td>7</td>\n",
       "      <td>Outdoor</td>\n",
       "      <td>Cloudy</td>\n",
       "      <td>Punt</td>\n",
       "      <td>LB</td>\n",
       "      <td>ILB</td>\n",
       "      <td>Ankle</td>\n",
       "      <td>-23.724507</td>\n",
       "      <td>-1.973313</td>\n",
       "      <td>-3.477359</td>\n",
       "      <td>3</td>\n",
       "    </tr>\n",
       "    <tr>\n",
       "      <th>16</th>\n",
       "      <td>2</td>\n",
       "      <td>Natural</td>\n",
       "      <td>68</td>\n",
       "      <td>14</td>\n",
       "      <td>7</td>\n",
       "      <td>Outdoor</td>\n",
       "      <td>Cloudy</td>\n",
       "      <td>Pass</td>\n",
       "      <td>S</td>\n",
       "      <td>FS</td>\n",
       "      <td>Knee</td>\n",
       "      <td>-14.132693</td>\n",
       "      <td>-4.051365</td>\n",
       "      <td>-7.112926</td>\n",
       "      <td>3</td>\n",
       "    </tr>\n",
       "    <tr>\n",
       "      <th>17</th>\n",
       "      <td>1</td>\n",
       "      <td>Synthetic</td>\n",
       "      <td>70</td>\n",
       "      <td>8</td>\n",
       "      <td>1</td>\n",
       "      <td>Indoor</td>\n",
       "      <td>Indoor</td>\n",
       "      <td>Kickoff</td>\n",
       "      <td>LB</td>\n",
       "      <td>OLB</td>\n",
       "      <td>Knee</td>\n",
       "      <td>-21.719554</td>\n",
       "      <td>-6.176156</td>\n",
       "      <td>-10.915383</td>\n",
       "      <td>3</td>\n",
       "    </tr>\n",
       "    <tr>\n",
       "      <th>22</th>\n",
       "      <td>1</td>\n",
       "      <td>Natural</td>\n",
       "      <td>70</td>\n",
       "      <td>12</td>\n",
       "      <td>7</td>\n",
       "      <td>Outdoor</td>\n",
       "      <td>Clear</td>\n",
       "      <td>Rush</td>\n",
       "      <td>LB</td>\n",
       "      <td>OLB</td>\n",
       "      <td>Ankle</td>\n",
       "      <td>-15.942294</td>\n",
       "      <td>-2.434641</td>\n",
       "      <td>-8.805151</td>\n",
       "      <td>3</td>\n",
       "    </tr>\n",
       "    <tr>\n",
       "      <th>25</th>\n",
       "      <td>6</td>\n",
       "      <td>Synthetic</td>\n",
       "      <td>75</td>\n",
       "      <td>13</td>\n",
       "      <td>1</td>\n",
       "      <td>Outdoor</td>\n",
       "      <td>Cloudy</td>\n",
       "      <td>Pass</td>\n",
       "      <td>OL</td>\n",
       "      <td>C</td>\n",
       "      <td>Ankle</td>\n",
       "      <td>-16.575126</td>\n",
       "      <td>-6.443308</td>\n",
       "      <td>-15.306554</td>\n",
       "      <td>3</td>\n",
       "    </tr>\n",
       "    <tr>\n",
       "      <th>33</th>\n",
       "      <td>3</td>\n",
       "      <td>Natural</td>\n",
       "      <td>89</td>\n",
       "      <td>14</td>\n",
       "      <td>1</td>\n",
       "      <td>Outdoor</td>\n",
       "      <td>Clear</td>\n",
       "      <td>Rush</td>\n",
       "      <td>LB</td>\n",
       "      <td>MLB</td>\n",
       "      <td>Ankle</td>\n",
       "      <td>-15.019992</td>\n",
       "      <td>-0.476011</td>\n",
       "      <td>-28.261491</td>\n",
       "      <td>3</td>\n",
       "    </tr>\n",
       "    <tr>\n",
       "      <th>35</th>\n",
       "      <td>8</td>\n",
       "      <td>Synthetic</td>\n",
       "      <td>62</td>\n",
       "      <td>9</td>\n",
       "      <td>7</td>\n",
       "      <td>Outdoor</td>\n",
       "      <td>Cloudy</td>\n",
       "      <td>Rush</td>\n",
       "      <td>DL</td>\n",
       "      <td>DT</td>\n",
       "      <td>Knee</td>\n",
       "      <td>-18.939001</td>\n",
       "      <td>-5.844236</td>\n",
       "      <td>-0.498379</td>\n",
       "      <td>3</td>\n",
       "    </tr>\n",
       "    <tr>\n",
       "      <th>46</th>\n",
       "      <td>7</td>\n",
       "      <td>Natural</td>\n",
       "      <td>70</td>\n",
       "      <td>10</td>\n",
       "      <td>7</td>\n",
       "      <td>Outdoor</td>\n",
       "      <td>Windy</td>\n",
       "      <td>Kickoff</td>\n",
       "      <td>DL</td>\n",
       "      <td>DE</td>\n",
       "      <td>Knee</td>\n",
       "      <td>-17.621500</td>\n",
       "      <td>-2.682565</td>\n",
       "      <td>-7.872803</td>\n",
       "      <td>3</td>\n",
       "    </tr>\n",
       "    <tr>\n",
       "      <th>47</th>\n",
       "      <td>9</td>\n",
       "      <td>Natural</td>\n",
       "      <td>81</td>\n",
       "      <td>4</td>\n",
       "      <td>1</td>\n",
       "      <td>Outdoor</td>\n",
       "      <td>Cloudy</td>\n",
       "      <td>Rush</td>\n",
       "      <td>WR</td>\n",
       "      <td>WR</td>\n",
       "      <td>Ankle</td>\n",
       "      <td>-24.630954</td>\n",
       "      <td>-1.538571</td>\n",
       "      <td>-19.349399</td>\n",
       "      <td>3</td>\n",
       "    </tr>\n",
       "    <tr>\n",
       "      <th>50</th>\n",
       "      <td>18</td>\n",
       "      <td>Natural</td>\n",
       "      <td>79</td>\n",
       "      <td>21</td>\n",
       "      <td>7</td>\n",
       "      <td>Outdoor</td>\n",
       "      <td>Clear</td>\n",
       "      <td>Rush</td>\n",
       "      <td>OL</td>\n",
       "      <td>C</td>\n",
       "      <td>Ankle</td>\n",
       "      <td>-6.417382</td>\n",
       "      <td>-4.072007</td>\n",
       "      <td>-15.768675</td>\n",
       "      <td>3</td>\n",
       "    </tr>\n",
       "    <tr>\n",
       "      <th>53</th>\n",
       "      <td>7</td>\n",
       "      <td>Natural</td>\n",
       "      <td>76</td>\n",
       "      <td>26</td>\n",
       "      <td>7</td>\n",
       "      <td>Open Dome</td>\n",
       "      <td>Cloudy</td>\n",
       "      <td>Punt</td>\n",
       "      <td>LB</td>\n",
       "      <td>OLB</td>\n",
       "      <td>Knee</td>\n",
       "      <td>-2.273288</td>\n",
       "      <td>-5.249838</td>\n",
       "      <td>-14.932019</td>\n",
       "      <td>3</td>\n",
       "    </tr>\n",
       "    <tr>\n",
       "      <th>55</th>\n",
       "      <td>3</td>\n",
       "      <td>Natural</td>\n",
       "      <td>89</td>\n",
       "      <td>16</td>\n",
       "      <td>7</td>\n",
       "      <td>Outdoor</td>\n",
       "      <td>Clear</td>\n",
       "      <td>Punt</td>\n",
       "      <td>LB</td>\n",
       "      <td>OLB</td>\n",
       "      <td>Knee</td>\n",
       "      <td>-11.130746</td>\n",
       "      <td>3.929432</td>\n",
       "      <td>-25.923841</td>\n",
       "      <td>3</td>\n",
       "    </tr>\n",
       "    <tr>\n",
       "      <th>56</th>\n",
       "      <td>5</td>\n",
       "      <td>Natural</td>\n",
       "      <td>75</td>\n",
       "      <td>4</td>\n",
       "      <td>7</td>\n",
       "      <td>Outdoor</td>\n",
       "      <td>Clear</td>\n",
       "      <td>Rush</td>\n",
       "      <td>DL</td>\n",
       "      <td>DE</td>\n",
       "      <td>Ankle</td>\n",
       "      <td>-23.060645</td>\n",
       "      <td>1.592449</td>\n",
       "      <td>-11.929733</td>\n",
       "      <td>3</td>\n",
       "    </tr>\n",
       "    <tr>\n",
       "      <th>61</th>\n",
       "      <td>3</td>\n",
       "      <td>Natural</td>\n",
       "      <td>80</td>\n",
       "      <td>30</td>\n",
       "      <td>1</td>\n",
       "      <td>Outdoor</td>\n",
       "      <td>Cloudy</td>\n",
       "      <td>Punt</td>\n",
       "      <td>LB</td>\n",
       "      <td>LB</td>\n",
       "      <td>Ankle</td>\n",
       "      <td>-0.461041</td>\n",
       "      <td>-9.304844</td>\n",
       "      <td>-21.941530</td>\n",
       "      <td>3</td>\n",
       "    </tr>\n",
       "    <tr>\n",
       "      <th>64</th>\n",
       "      <td>4</td>\n",
       "      <td>Natural</td>\n",
       "      <td>71</td>\n",
       "      <td>16</td>\n",
       "      <td>1</td>\n",
       "      <td>Outdoor</td>\n",
       "      <td>Cloudy</td>\n",
       "      <td>Pass</td>\n",
       "      <td>WR</td>\n",
       "      <td>WR</td>\n",
       "      <td>Knee</td>\n",
       "      <td>-14.049355</td>\n",
       "      <td>-8.763802</td>\n",
       "      <td>-12.307833</td>\n",
       "      <td>3</td>\n",
       "    </tr>\n",
       "    <tr>\n",
       "      <th>65</th>\n",
       "      <td>10</td>\n",
       "      <td>Synthetic</td>\n",
       "      <td>68</td>\n",
       "      <td>18</td>\n",
       "      <td>7</td>\n",
       "      <td>Closed Dome</td>\n",
       "      <td>Indoor</td>\n",
       "      <td>Pass</td>\n",
       "      <td>CB</td>\n",
       "      <td>CB</td>\n",
       "      <td>Knee</td>\n",
       "      <td>-10.082251</td>\n",
       "      <td>-6.507923</td>\n",
       "      <td>-6.581740</td>\n",
       "      <td>3</td>\n",
       "    </tr>\n",
       "    <tr>\n",
       "      <th>66</th>\n",
       "      <td>10</td>\n",
       "      <td>Synthetic</td>\n",
       "      <td>68</td>\n",
       "      <td>18</td>\n",
       "      <td>7</td>\n",
       "      <td>Closed Dome</td>\n",
       "      <td>Indoor</td>\n",
       "      <td>Pass</td>\n",
       "      <td>CB</td>\n",
       "      <td>CB</td>\n",
       "      <td>Ankle</td>\n",
       "      <td>-10.077202</td>\n",
       "      <td>-6.517515</td>\n",
       "      <td>-6.584162</td>\n",
       "      <td>3</td>\n",
       "    </tr>\n",
       "    <tr>\n",
       "      <th>67</th>\n",
       "      <td>8</td>\n",
       "      <td>Synthetic</td>\n",
       "      <td>74</td>\n",
       "      <td>1</td>\n",
       "      <td>7</td>\n",
       "      <td>Indoor</td>\n",
       "      <td>Clear</td>\n",
       "      <td>Kickoff Not Returned</td>\n",
       "      <td>S</td>\n",
       "      <td>DB</td>\n",
       "      <td>Knee</td>\n",
       "      <td>-25.819516</td>\n",
       "      <td>1.698743</td>\n",
       "      <td>-10.355365</td>\n",
       "      <td>3</td>\n",
       "    </tr>\n",
       "  </tbody>\n",
       "</table>\n",
       "</div>"
      ],
      "text/plain": [
       "    PlayerGame  FieldType  Temperature  PlayerGamePlay  Injury_Duration  \\\n",
       "9            8    Natural           61               8                1   \n",
       "10           1  Synthetic           65               4                7   \n",
       "16           2    Natural           68              14                7   \n",
       "17           1  Synthetic           70               8                1   \n",
       "22           1    Natural           70              12                7   \n",
       "25           6  Synthetic           75              13                1   \n",
       "33           3    Natural           89              14                1   \n",
       "35           8  Synthetic           62               9                7   \n",
       "46           7    Natural           70              10                7   \n",
       "47           9    Natural           81               4                1   \n",
       "50          18    Natural           79              21                7   \n",
       "53           7    Natural           76              26                7   \n",
       "55           3    Natural           89              16                7   \n",
       "56           5    Natural           75               4                7   \n",
       "61           3    Natural           80              30                1   \n",
       "64           4    Natural           71              16                1   \n",
       "65          10  Synthetic           68              18                7   \n",
       "66          10  Synthetic           68              18                7   \n",
       "67           8  Synthetic           74               1                7   \n",
       "\n",
       "    StadiumType Weather              PlayType RosterPosition Position  \\\n",
       "9       Outdoor  Cloudy                  Pass             WR       WR   \n",
       "10      Outdoor  Cloudy                  Punt             LB      ILB   \n",
       "16      Outdoor  Cloudy                  Pass              S       FS   \n",
       "17       Indoor  Indoor               Kickoff             LB      OLB   \n",
       "22      Outdoor   Clear                  Rush             LB      OLB   \n",
       "25      Outdoor  Cloudy                  Pass             OL        C   \n",
       "33      Outdoor   Clear                  Rush             LB      MLB   \n",
       "35      Outdoor  Cloudy                  Rush             DL       DT   \n",
       "46      Outdoor   Windy               Kickoff             DL       DE   \n",
       "47      Outdoor  Cloudy                  Rush             WR       WR   \n",
       "50      Outdoor   Clear                  Rush             OL        C   \n",
       "53    Open Dome  Cloudy                  Punt             LB      OLB   \n",
       "55      Outdoor   Clear                  Punt             LB      OLB   \n",
       "56      Outdoor   Clear                  Rush             DL       DE   \n",
       "61      Outdoor  Cloudy                  Punt             LB       LB   \n",
       "64      Outdoor  Cloudy                  Pass             WR       WR   \n",
       "65  Closed Dome  Indoor                  Pass             CB       CB   \n",
       "66  Closed Dome  Indoor                  Pass             CB       CB   \n",
       "67       Indoor   Clear  Kickoff Not Returned              S       DB   \n",
       "\n",
       "   BodyPart       PC 1       PC 2       PC 3  Class  \n",
       "9     Ankle -21.941890 -11.000269  -2.067570      3  \n",
       "10    Ankle -23.724507  -1.973313  -3.477359      3  \n",
       "16     Knee -14.132693  -4.051365  -7.112926      3  \n",
       "17     Knee -21.719554  -6.176156 -10.915383      3  \n",
       "22    Ankle -15.942294  -2.434641  -8.805151      3  \n",
       "25    Ankle -16.575126  -6.443308 -15.306554      3  \n",
       "33    Ankle -15.019992  -0.476011 -28.261491      3  \n",
       "35     Knee -18.939001  -5.844236  -0.498379      3  \n",
       "46     Knee -17.621500  -2.682565  -7.872803      3  \n",
       "47    Ankle -24.630954  -1.538571 -19.349399      3  \n",
       "50    Ankle  -6.417382  -4.072007 -15.768675      3  \n",
       "53     Knee  -2.273288  -5.249838 -14.932019      3  \n",
       "55     Knee -11.130746   3.929432 -25.923841      3  \n",
       "56    Ankle -23.060645   1.592449 -11.929733      3  \n",
       "61    Ankle  -0.461041  -9.304844 -21.941530      3  \n",
       "64     Knee -14.049355  -8.763802 -12.307833      3  \n",
       "65     Knee -10.082251  -6.507923  -6.581740      3  \n",
       "66    Ankle -10.077202  -6.517515  -6.584162      3  \n",
       "67     Knee -25.819516   1.698743 -10.355365      3  "
      ]
     },
     "execution_count": 52,
     "metadata": {},
     "output_type": "execute_result"
    }
   ],
   "source": [
    "injury_subset_3"
   ]
  },
  {
   "cell_type": "markdown",
   "metadata": {},
   "source": [
    "- All short-term injuries\n",
    "- All temperatures over 60 with 5 over 78 degrees\n",
    "- Game Plays all under 35\n",
    "- Mostly outdoor\n",
    "- Mix of plays\n",
    "- No Foot injuries\n",
    "- More Natural than Synthetic "
   ]
  },
  {
   "cell_type": "code",
   "execution_count": 53,
   "metadata": {},
   "outputs": [
    {
     "data": {
      "text/html": [
       "<div>\n",
       "<style scoped>\n",
       "    .dataframe tbody tr th:only-of-type {\n",
       "        vertical-align: middle;\n",
       "    }\n",
       "\n",
       "    .dataframe tbody tr th {\n",
       "        vertical-align: top;\n",
       "    }\n",
       "\n",
       "    .dataframe thead th {\n",
       "        text-align: right;\n",
       "    }\n",
       "</style>\n",
       "<table border=\"1\" class=\"dataframe\">\n",
       "  <thead>\n",
       "    <tr style=\"text-align: right;\">\n",
       "      <th></th>\n",
       "      <th>PlayerGame</th>\n",
       "      <th>FieldType</th>\n",
       "      <th>Temperature</th>\n",
       "      <th>PlayerGamePlay</th>\n",
       "      <th>Injury_Duration</th>\n",
       "      <th>StadiumType</th>\n",
       "      <th>Weather</th>\n",
       "      <th>PlayType</th>\n",
       "      <th>RosterPosition</th>\n",
       "      <th>Position</th>\n",
       "      <th>BodyPart</th>\n",
       "      <th>PC 1</th>\n",
       "      <th>PC 2</th>\n",
       "      <th>PC 3</th>\n",
       "      <th>Class</th>\n",
       "    </tr>\n",
       "  </thead>\n",
       "  <tbody>\n",
       "    <tr>\n",
       "      <th>6</th>\n",
       "      <td>1</td>\n",
       "      <td>Synthetic</td>\n",
       "      <td>63</td>\n",
       "      <td>70</td>\n",
       "      <td>42</td>\n",
       "      <td>Outdoor</td>\n",
       "      <td>Clear</td>\n",
       "      <td>Pass</td>\n",
       "      <td>S</td>\n",
       "      <td>SS</td>\n",
       "      <td>Ankle</td>\n",
       "      <td>49.973098</td>\n",
       "      <td>5.600440</td>\n",
       "      <td>6.103493</td>\n",
       "      <td>4</td>\n",
       "    </tr>\n",
       "    <tr>\n",
       "      <th>18</th>\n",
       "      <td>1</td>\n",
       "      <td>Natural</td>\n",
       "      <td>72</td>\n",
       "      <td>55</td>\n",
       "      <td>42</td>\n",
       "      <td>Outdoor</td>\n",
       "      <td>Clear</td>\n",
       "      <td>Pass</td>\n",
       "      <td>S</td>\n",
       "      <td>SS</td>\n",
       "      <td>Knee</td>\n",
       "      <td>36.335124</td>\n",
       "      <td>14.113155</td>\n",
       "      <td>-0.332115</td>\n",
       "      <td>4</td>\n",
       "    </tr>\n",
       "    <tr>\n",
       "      <th>23</th>\n",
       "      <td>23</td>\n",
       "      <td>Synthetic</td>\n",
       "      <td>46</td>\n",
       "      <td>53</td>\n",
       "      <td>28</td>\n",
       "      <td>Outdoor</td>\n",
       "      <td>Cloudy</td>\n",
       "      <td>Rush</td>\n",
       "      <td>LB</td>\n",
       "      <td>OLB</td>\n",
       "      <td>Knee</td>\n",
       "      <td>29.157370</td>\n",
       "      <td>-11.095215</td>\n",
       "      <td>19.755093</td>\n",
       "      <td>4</td>\n",
       "    </tr>\n",
       "    <tr>\n",
       "      <th>24</th>\n",
       "      <td>15</td>\n",
       "      <td>Synthetic</td>\n",
       "      <td>70</td>\n",
       "      <td>33</td>\n",
       "      <td>42</td>\n",
       "      <td>Outdoor</td>\n",
       "      <td>Rain</td>\n",
       "      <td>Punt Returned</td>\n",
       "      <td>WR</td>\n",
       "      <td>WR</td>\n",
       "      <td>Knee</td>\n",
       "      <td>16.035020</td>\n",
       "      <td>18.172262</td>\n",
       "      <td>5.479524</td>\n",
       "      <td>4</td>\n",
       "    </tr>\n",
       "    <tr>\n",
       "      <th>28</th>\n",
       "      <td>20</td>\n",
       "      <td>Synthetic</td>\n",
       "      <td>73</td>\n",
       "      <td>76</td>\n",
       "      <td>28</td>\n",
       "      <td>Open Dome</td>\n",
       "      <td>Clear</td>\n",
       "      <td>Rush</td>\n",
       "      <td>CB</td>\n",
       "      <td>CB</td>\n",
       "      <td>Ankle</td>\n",
       "      <td>52.093460</td>\n",
       "      <td>-6.698202</td>\n",
       "      <td>-7.131325</td>\n",
       "      <td>4</td>\n",
       "    </tr>\n",
       "    <tr>\n",
       "      <th>31</th>\n",
       "      <td>2</td>\n",
       "      <td>Natural</td>\n",
       "      <td>68</td>\n",
       "      <td>49</td>\n",
       "      <td>42</td>\n",
       "      <td>Outdoor</td>\n",
       "      <td>Cloudy</td>\n",
       "      <td>Pass</td>\n",
       "      <td>OL</td>\n",
       "      <td>C</td>\n",
       "      <td>Foot</td>\n",
       "      <td>30.515096</td>\n",
       "      <td>14.196792</td>\n",
       "      <td>3.989567</td>\n",
       "      <td>4</td>\n",
       "    </tr>\n",
       "    <tr>\n",
       "      <th>32</th>\n",
       "      <td>5</td>\n",
       "      <td>Synthetic</td>\n",
       "      <td>89</td>\n",
       "      <td>69</td>\n",
       "      <td>42</td>\n",
       "      <td>Open Dome</td>\n",
       "      <td>Cloudy</td>\n",
       "      <td>Kickoff</td>\n",
       "      <td>WR</td>\n",
       "      <td>WR</td>\n",
       "      <td>Ankle</td>\n",
       "      <td>50.506106</td>\n",
       "      <td>16.172861</td>\n",
       "      <td>-16.498020</td>\n",
       "      <td>4</td>\n",
       "    </tr>\n",
       "    <tr>\n",
       "      <th>43</th>\n",
       "      <td>5</td>\n",
       "      <td>Synthetic</td>\n",
       "      <td>75</td>\n",
       "      <td>41</td>\n",
       "      <td>28</td>\n",
       "      <td>Outdoor</td>\n",
       "      <td>Cloudy</td>\n",
       "      <td>Pass</td>\n",
       "      <td>LB</td>\n",
       "      <td>MLB</td>\n",
       "      <td>Ankle</td>\n",
       "      <td>18.767592</td>\n",
       "      <td>7.468870</td>\n",
       "      <td>-6.961865</td>\n",
       "      <td>4</td>\n",
       "    </tr>\n",
       "    <tr>\n",
       "      <th>57</th>\n",
       "      <td>4</td>\n",
       "      <td>Synthetic</td>\n",
       "      <td>61</td>\n",
       "      <td>44</td>\n",
       "      <td>42</td>\n",
       "      <td>Outdoor</td>\n",
       "      <td>Clear</td>\n",
       "      <td>Pass</td>\n",
       "      <td>S</td>\n",
       "      <td>SS</td>\n",
       "      <td>Ankle</td>\n",
       "      <td>25.542103</td>\n",
       "      <td>12.567331</td>\n",
       "      <td>11.015110</td>\n",
       "      <td>4</td>\n",
       "    </tr>\n",
       "    <tr>\n",
       "      <th>63</th>\n",
       "      <td>7</td>\n",
       "      <td>Synthetic</td>\n",
       "      <td>55</td>\n",
       "      <td>55</td>\n",
       "      <td>28</td>\n",
       "      <td>Outdoor</td>\n",
       "      <td>Cloudy</td>\n",
       "      <td>Punt Not Returned</td>\n",
       "      <td>CB</td>\n",
       "      <td>CB</td>\n",
       "      <td>Foot</td>\n",
       "      <td>30.957967</td>\n",
       "      <td>-5.604894</td>\n",
       "      <td>9.619818</td>\n",
       "      <td>4</td>\n",
       "    </tr>\n",
       "  </tbody>\n",
       "</table>\n",
       "</div>"
      ],
      "text/plain": [
       "    PlayerGame  FieldType  Temperature  PlayerGamePlay  Injury_Duration  \\\n",
       "6            1  Synthetic           63              70               42   \n",
       "18           1    Natural           72              55               42   \n",
       "23          23  Synthetic           46              53               28   \n",
       "24          15  Synthetic           70              33               42   \n",
       "28          20  Synthetic           73              76               28   \n",
       "31           2    Natural           68              49               42   \n",
       "32           5  Synthetic           89              69               42   \n",
       "43           5  Synthetic           75              41               28   \n",
       "57           4  Synthetic           61              44               42   \n",
       "63           7  Synthetic           55              55               28   \n",
       "\n",
       "   StadiumType Weather           PlayType RosterPosition Position BodyPart  \\\n",
       "6      Outdoor   Clear               Pass              S       SS    Ankle   \n",
       "18     Outdoor   Clear               Pass              S       SS     Knee   \n",
       "23     Outdoor  Cloudy               Rush             LB      OLB     Knee   \n",
       "24     Outdoor    Rain      Punt Returned             WR       WR     Knee   \n",
       "28   Open Dome   Clear               Rush             CB       CB    Ankle   \n",
       "31     Outdoor  Cloudy               Pass             OL        C     Foot   \n",
       "32   Open Dome  Cloudy            Kickoff             WR       WR    Ankle   \n",
       "43     Outdoor  Cloudy               Pass             LB      MLB    Ankle   \n",
       "57     Outdoor   Clear               Pass              S       SS    Ankle   \n",
       "63     Outdoor  Cloudy  Punt Not Returned             CB       CB     Foot   \n",
       "\n",
       "         PC 1       PC 2       PC 3  Class  \n",
       "6   49.973098   5.600440   6.103493      4  \n",
       "18  36.335124  14.113155  -0.332115      4  \n",
       "23  29.157370 -11.095215  19.755093      4  \n",
       "24  16.035020  18.172262   5.479524      4  \n",
       "28  52.093460  -6.698202  -7.131325      4  \n",
       "31  30.515096  14.196792   3.989567      4  \n",
       "32  50.506106  16.172861 -16.498020      4  \n",
       "43  18.767592   7.468870  -6.961865      4  \n",
       "57  25.542103  12.567331  11.015110      4  \n",
       "63  30.957967  -5.604894   9.619818      4  "
      ]
     },
     "execution_count": 53,
     "metadata": {},
     "output_type": "execute_result"
    }
   ],
   "source": [
    "injury_subset_4"
   ]
  },
  {
   "cell_type": "markdown",
   "metadata": {},
   "source": [
    "- All injuries over 28 days\n",
    "- Broad range of temperatures\n",
    "- All but 1 Game play over 40, so late game\n",
    "- All Outdoor\n",
    "- Mostly knee/ankle injuries with some foot\n",
    "- Almost all Synthetic "
   ]
  },
  {
   "cell_type": "code",
   "execution_count": 54,
   "metadata": {},
   "outputs": [
    {
     "data": {
      "text/html": [
       "<div>\n",
       "<style scoped>\n",
       "    .dataframe tbody tr th:only-of-type {\n",
       "        vertical-align: middle;\n",
       "    }\n",
       "\n",
       "    .dataframe tbody tr th {\n",
       "        vertical-align: top;\n",
       "    }\n",
       "\n",
       "    .dataframe thead th {\n",
       "        text-align: right;\n",
       "    }\n",
       "</style>\n",
       "<table border=\"1\" class=\"dataframe\">\n",
       "  <thead>\n",
       "    <tr style=\"text-align: right;\">\n",
       "      <th></th>\n",
       "      <th>PlayerGame</th>\n",
       "      <th>FieldType</th>\n",
       "      <th>Temperature</th>\n",
       "      <th>PlayerGamePlay</th>\n",
       "      <th>Injury_Duration</th>\n",
       "      <th>StadiumType</th>\n",
       "      <th>Weather</th>\n",
       "      <th>PlayType</th>\n",
       "      <th>RosterPosition</th>\n",
       "      <th>Position</th>\n",
       "      <th>BodyPart</th>\n",
       "      <th>PC 1</th>\n",
       "      <th>PC 2</th>\n",
       "      <th>PC 3</th>\n",
       "      <th>Class</th>\n",
       "    </tr>\n",
       "  </thead>\n",
       "  <tbody>\n",
       "    <tr>\n",
       "      <th>0</th>\n",
       "      <td>3</td>\n",
       "      <td>Natural</td>\n",
       "      <td>89</td>\n",
       "      <td>7</td>\n",
       "      <td>42</td>\n",
       "      <td>Outdoor</td>\n",
       "      <td>Clear</td>\n",
       "      <td>Rush</td>\n",
       "      <td>RB</td>\n",
       "      <td>RB</td>\n",
       "      <td>Knee</td>\n",
       "      <td>-7.830629</td>\n",
       "      <td>36.138803</td>\n",
       "      <td>-10.131573</td>\n",
       "      <td>5</td>\n",
       "    </tr>\n",
       "    <tr>\n",
       "      <th>1</th>\n",
       "      <td>8</td>\n",
       "      <td>Natural</td>\n",
       "      <td>81</td>\n",
       "      <td>15</td>\n",
       "      <td>28</td>\n",
       "      <td>Outdoor</td>\n",
       "      <td>Cloudy</td>\n",
       "      <td>Pass</td>\n",
       "      <td>TE</td>\n",
       "      <td>TE</td>\n",
       "      <td>Foot</td>\n",
       "      <td>-5.250892</td>\n",
       "      <td>17.770756</td>\n",
       "      <td>-9.189019</td>\n",
       "      <td>5</td>\n",
       "    </tr>\n",
       "    <tr>\n",
       "      <th>2</th>\n",
       "      <td>19</td>\n",
       "      <td>Natural</td>\n",
       "      <td>79</td>\n",
       "      <td>7</td>\n",
       "      <td>28</td>\n",
       "      <td>Outdoor</td>\n",
       "      <td>Cloudy</td>\n",
       "      <td>Rush</td>\n",
       "      <td>S</td>\n",
       "      <td>FS</td>\n",
       "      <td>Knee</td>\n",
       "      <td>-12.493284</td>\n",
       "      <td>17.836980</td>\n",
       "      <td>-5.246369</td>\n",
       "      <td>5</td>\n",
       "    </tr>\n",
       "    <tr>\n",
       "      <th>8</th>\n",
       "      <td>16</td>\n",
       "      <td>Synthetic</td>\n",
       "      <td>74</td>\n",
       "      <td>19</td>\n",
       "      <td>42</td>\n",
       "      <td>Indoor</td>\n",
       "      <td>Clear</td>\n",
       "      <td>Pass</td>\n",
       "      <td>LB</td>\n",
       "      <td>ILB</td>\n",
       "      <td>Knee</td>\n",
       "      <td>3.133926</td>\n",
       "      <td>24.146796</td>\n",
       "      <td>3.512741</td>\n",
       "      <td>5</td>\n",
       "    </tr>\n",
       "    <tr>\n",
       "      <th>11</th>\n",
       "      <td>5</td>\n",
       "      <td>Synthetic</td>\n",
       "      <td>76</td>\n",
       "      <td>23</td>\n",
       "      <td>42</td>\n",
       "      <td>Outdoor</td>\n",
       "      <td>Cloudy</td>\n",
       "      <td>Kickoff</td>\n",
       "      <td>WR</td>\n",
       "      <td>WR</td>\n",
       "      <td>Foot</td>\n",
       "      <td>6.600563</td>\n",
       "      <td>25.345811</td>\n",
       "      <td>0.005677</td>\n",
       "      <td>5</td>\n",
       "    </tr>\n",
       "    <tr>\n",
       "      <th>13</th>\n",
       "      <td>2</td>\n",
       "      <td>Synthetic</td>\n",
       "      <td>78</td>\n",
       "      <td>1</td>\n",
       "      <td>42</td>\n",
       "      <td>Open Dome</td>\n",
       "      <td>Clear</td>\n",
       "      <td>Rush</td>\n",
       "      <td>DL</td>\n",
       "      <td>DE</td>\n",
       "      <td>Ankle</td>\n",
       "      <td>-14.064539</td>\n",
       "      <td>33.605352</td>\n",
       "      <td>0.203705</td>\n",
       "      <td>5</td>\n",
       "    </tr>\n",
       "    <tr>\n",
       "      <th>15</th>\n",
       "      <td>4</td>\n",
       "      <td>Synthetic</td>\n",
       "      <td>84</td>\n",
       "      <td>32</td>\n",
       "      <td>42</td>\n",
       "      <td>Indoor</td>\n",
       "      <td>Cloudy</td>\n",
       "      <td>Punt</td>\n",
       "      <td>LB</td>\n",
       "      <td>OLB</td>\n",
       "      <td>Knee</td>\n",
       "      <td>15.434013</td>\n",
       "      <td>25.981581</td>\n",
       "      <td>-8.209325</td>\n",
       "      <td>5</td>\n",
       "    </tr>\n",
       "    <tr>\n",
       "      <th>27</th>\n",
       "      <td>14</td>\n",
       "      <td>Synthetic</td>\n",
       "      <td>78</td>\n",
       "      <td>3</td>\n",
       "      <td>28</td>\n",
       "      <td>Open Dome</td>\n",
       "      <td>Cloudy</td>\n",
       "      <td>Pass</td>\n",
       "      <td>WR</td>\n",
       "      <td>WR</td>\n",
       "      <td>Knee</td>\n",
       "      <td>-16.471476</td>\n",
       "      <td>19.444858</td>\n",
       "      <td>-4.518047</td>\n",
       "      <td>5</td>\n",
       "    </tr>\n",
       "    <tr>\n",
       "      <th>29</th>\n",
       "      <td>3</td>\n",
       "      <td>Natural</td>\n",
       "      <td>88</td>\n",
       "      <td>1</td>\n",
       "      <td>42</td>\n",
       "      <td>Outdoor</td>\n",
       "      <td>Clear</td>\n",
       "      <td>Kickoff</td>\n",
       "      <td>LB</td>\n",
       "      <td>OLB</td>\n",
       "      <td>Knee</td>\n",
       "      <td>-13.520897</td>\n",
       "      <td>37.623384</td>\n",
       "      <td>-8.600197</td>\n",
       "      <td>5</td>\n",
       "    </tr>\n",
       "    <tr>\n",
       "      <th>34</th>\n",
       "      <td>7</td>\n",
       "      <td>Natural</td>\n",
       "      <td>70</td>\n",
       "      <td>2</td>\n",
       "      <td>42</td>\n",
       "      <td>Outdoor</td>\n",
       "      <td>Cloudy</td>\n",
       "      <td>Pass</td>\n",
       "      <td>LB</td>\n",
       "      <td>MLB</td>\n",
       "      <td>Ankle</td>\n",
       "      <td>-13.374829</td>\n",
       "      <td>29.190163</td>\n",
       "      <td>7.810782</td>\n",
       "      <td>5</td>\n",
       "    </tr>\n",
       "    <tr>\n",
       "      <th>42</th>\n",
       "      <td>3</td>\n",
       "      <td>Natural</td>\n",
       "      <td>88</td>\n",
       "      <td>23</td>\n",
       "      <td>42</td>\n",
       "      <td>Outdoor</td>\n",
       "      <td>Clear</td>\n",
       "      <td>Rush</td>\n",
       "      <td>RB</td>\n",
       "      <td>RB</td>\n",
       "      <td>Ankle</td>\n",
       "      <td>7.157697</td>\n",
       "      <td>30.637021</td>\n",
       "      <td>-10.948369</td>\n",
       "      <td>5</td>\n",
       "    </tr>\n",
       "    <tr>\n",
       "      <th>60</th>\n",
       "      <td>2</td>\n",
       "      <td>Synthetic</td>\n",
       "      <td>68</td>\n",
       "      <td>13</td>\n",
       "      <td>42</td>\n",
       "      <td>Closed Dome</td>\n",
       "      <td>Cloudy</td>\n",
       "      <td>Kickoff</td>\n",
       "      <td>WR</td>\n",
       "      <td>WR</td>\n",
       "      <td>Knee</td>\n",
       "      <td>-3.325645</td>\n",
       "      <td>25.633868</td>\n",
       "      <td>7.838097</td>\n",
       "      <td>5</td>\n",
       "    </tr>\n",
       "  </tbody>\n",
       "</table>\n",
       "</div>"
      ],
      "text/plain": [
       "    PlayerGame  FieldType  Temperature  PlayerGamePlay  Injury_Duration  \\\n",
       "0            3    Natural           89               7               42   \n",
       "1            8    Natural           81              15               28   \n",
       "2           19    Natural           79               7               28   \n",
       "8           16  Synthetic           74              19               42   \n",
       "11           5  Synthetic           76              23               42   \n",
       "13           2  Synthetic           78               1               42   \n",
       "15           4  Synthetic           84              32               42   \n",
       "27          14  Synthetic           78               3               28   \n",
       "29           3    Natural           88               1               42   \n",
       "34           7    Natural           70               2               42   \n",
       "42           3    Natural           88              23               42   \n",
       "60           2  Synthetic           68              13               42   \n",
       "\n",
       "    StadiumType Weather PlayType RosterPosition Position BodyPart       PC 1  \\\n",
       "0       Outdoor   Clear     Rush             RB       RB     Knee  -7.830629   \n",
       "1       Outdoor  Cloudy     Pass             TE       TE     Foot  -5.250892   \n",
       "2       Outdoor  Cloudy     Rush              S       FS     Knee -12.493284   \n",
       "8        Indoor   Clear     Pass             LB      ILB     Knee   3.133926   \n",
       "11      Outdoor  Cloudy  Kickoff             WR       WR     Foot   6.600563   \n",
       "13    Open Dome   Clear     Rush             DL       DE    Ankle -14.064539   \n",
       "15       Indoor  Cloudy     Punt             LB      OLB     Knee  15.434013   \n",
       "27    Open Dome  Cloudy     Pass             WR       WR     Knee -16.471476   \n",
       "29      Outdoor   Clear  Kickoff             LB      OLB     Knee -13.520897   \n",
       "34      Outdoor  Cloudy     Pass             LB      MLB    Ankle -13.374829   \n",
       "42      Outdoor   Clear     Rush             RB       RB    Ankle   7.157697   \n",
       "60  Closed Dome  Cloudy  Kickoff             WR       WR     Knee  -3.325645   \n",
       "\n",
       "         PC 2       PC 3  Class  \n",
       "0   36.138803 -10.131573      5  \n",
       "1   17.770756  -9.189019      5  \n",
       "2   17.836980  -5.246369      5  \n",
       "8   24.146796   3.512741      5  \n",
       "11  25.345811   0.005677      5  \n",
       "13  33.605352   0.203705      5  \n",
       "15  25.981581  -8.209325      5  \n",
       "27  19.444858  -4.518047      5  \n",
       "29  37.623384  -8.600197      5  \n",
       "34  29.190163   7.810782      5  \n",
       "42  30.637021 -10.948369      5  \n",
       "60  25.633868   7.838097      5  "
      ]
     },
     "execution_count": 54,
     "metadata": {},
     "output_type": "execute_result"
    }
   ],
   "source": [
    "injury_subset_5"
   ]
  },
  {
   "cell_type": "markdown",
   "metadata": {},
   "source": [
    "- All injuries over 28 days\n",
    "- Almost all temperatures 70+\n",
    "- Early game, game plays all under 35\n",
    "- mostly outdoor\n",
    "- Mostly knee/ankle some foot injuries\n",
    "- Equal Synthetic:Natural "
   ]
  },
  {
   "cell_type": "markdown",
   "metadata": {},
   "source": [
    "---\n",
    "\n",
    "# Ideas for Supervised learning:\n",
    " \n",
    " - what are the predictors to classify short-term/long-term injuries?\n",
    " - what are the predictors to classify each duration 1, 7, 28, 42+ day injuries\n",
    " - can we predict body part of injury given the input parameters, (excluding duration)"
   ]
  }
 ],
 "metadata": {
  "kernelspec": {
   "display_name": "Python 3.7.13 ('mlenv')",
   "language": "python",
   "name": "python3"
  },
  "language_info": {
   "codemirror_mode": {
    "name": "ipython",
    "version": 3
   },
   "file_extension": ".py",
   "mimetype": "text/x-python",
   "name": "python",
   "nbconvert_exporter": "python",
   "pygments_lexer": "ipython3",
   "version": "3.7.13"
  },
  "orig_nbformat": 4,
  "vscode": {
   "interpreter": {
    "hash": "55a128abeef29120eb7bd22a6a2e883184ae9f9178564f0df9c7c7d3d676105f"
   }
  }
 },
 "nbformat": 4,
 "nbformat_minor": 2
}
